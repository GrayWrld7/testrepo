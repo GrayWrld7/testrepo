{
  "metadata": {
    "language_info": {
      "codemirror_mode": {
        "name": "python",
        "version": 3
      },
      "file_extension": ".py",
      "mimetype": "text/x-python",
      "name": "python",
      "nbconvert_exporter": "python",
      "pygments_lexer": "ipython3",
      "version": "3.8"
    },
    "kernelspec": {
      "name": "python",
      "display_name": "Python (Pyodide)",
      "language": "python"
    }
  },
  "nbformat_minor": 4,
  "nbformat": 4,
  "cells": [
    {
      "cell_type": "markdown",
      "source": "<p style=\"text-align:center\">\n    <a href=\"https://skills.network/?utm_medium=Exinfluencer&utm_source=Exinfluencer&utm_content=000026UJ&utm_term=10006555&utm_id=NA-SkillsNetwork-Channel-SkillsNetworkCoursesIBMDeveloperSkillsNetworkML0101ENSkillsNetwork1047-2023-01-01\">\n    <img src=\"https://cf-courses-data.s3.us.cloud-object-storage.appdomain.cloud/assets/logos/SN_web_lightmode.png\" width=\"200\" alt=\"Skills Network Logo\"  />\n    </a>\n</p>\n",
      "metadata": {}
    },
    {
      "cell_type": "markdown",
      "source": "#  **Softmax Regression ,One-vs-All & One-vs-One for Multi-class Classification**\n",
      "metadata": {}
    },
    {
      "cell_type": "markdown",
      "source": "Estimated time needed: **1** hour\n",
      "metadata": {}
    },
    {
      "cell_type": "markdown",
      "source": " In this lab, we will study how to convert a linear classifier into a multi-class classifier, including multinomial logistic regression or softmax regression, One vs. All (One-vs-Rest) and One vs. One\n",
      "metadata": {}
    },
    {
      "cell_type": "markdown",
      "source": "## **Objectives**\n",
      "metadata": {}
    },
    {
      "cell_type": "markdown",
      "source": "After completing this lab you will be able to:\n",
      "metadata": {}
    },
    {
      "cell_type": "markdown",
      "source": "*   Understand and apply some theory behind:\n    *  Softmax regression\n    *  One vs. All (One-vs-Rest)\n    * One vs. One\n",
      "metadata": {}
    },
    {
      "cell_type": "markdown",
      "source": "## **Introduction**\n",
      "metadata": {}
    },
    {
      "cell_type": "markdown",
      "source": "In Multi-class classification, we classify data into multiple class labels . Unlike classification trees and k-nearest neighbour, the concept of  Multi-class classification for linear classifiers is not as straightforward. We can convert logistic regression to Multi-class classification using multinomial logistic regression or softmax regression; this is a generalization of logistic regression, this will not work for support vector machines. One vs. All (One-vs-Rest) and One vs. One are two other multi-class classification techniques can covert any two-class classifier to a multi-class classifier.\n",
      "metadata": {}
    },
    {
      "cell_type": "markdown",
      "source": "***\n",
      "metadata": {}
    },
    {
      "cell_type": "markdown",
      "source": "## **Install and Import the required libraries**\n",
      "metadata": {}
    },
    {
      "cell_type": "markdown",
      "source": "For this lab, we are going to be using several Python libraries such as scit-learn, numpy and matplotlib  for visualizations. Some of these libraries might be installed in your lab environment, others may need to be installed by you by removing the hash signs. The cells below will install these libraries when executed.\n",
      "metadata": {}
    },
    {
      "cell_type": "code",
      "source": "import piplite\nawait piplite.install(['pandas'])\nawait piplite.install(['matplotlib'])\nawait piplite.install(['numpy'])\nawait piplite.install(['scikit-learn'])\nawait piplite.install(['scipy'])\nawait piplite.install(['seaborn'])",
      "metadata": {
        "trusted": true
      },
      "execution_count": 2,
      "outputs": []
    },
    {
      "cell_type": "code",
      "source": "from pyodide.http import pyfetch\n\nasync def download(url, filename):\n    response = await pyfetch(url)\n    if response.status == 200:\n        with open(filename, \"wb\") as f:\n            f.write(await response.bytes())",
      "metadata": {
        "trusted": true
      },
      "execution_count": 3,
      "outputs": []
    },
    {
      "cell_type": "code",
      "source": "import numpy as np\nimport matplotlib.pyplot as plt\nfrom sklearn import datasets\nfrom sklearn.svm import SVC\nfrom sklearn.linear_model import LogisticRegression\nfrom sklearn.metrics import accuracy_score\nimport pandas as pd\nimport seaborn as sns",
      "metadata": {
        "trusted": true
      },
      "execution_count": 4,
      "outputs": []
    },
    {
      "cell_type": "markdown",
      "source": "## Utility Function\n",
      "metadata": {}
    },
    {
      "cell_type": "markdown",
      "source": "This functions Plots different decision boundary \n",
      "metadata": {}
    },
    {
      "cell_type": "code",
      "source": "plot_colors = \"ryb\"\nplot_step = 0.02\n\ndef decision_boundary (X,y,model,iris, two=None):\n    x_min, x_max = X[:, 0].min() - 1, X[:, 0].max() + 1\n    y_min, y_max = X[:, 1].min() - 1, X[:, 1].max() + 1\n    xx, yy = np.meshgrid(np.arange(x_min, x_max, plot_step),\n                         np.arange(y_min, y_max, plot_step))\n    plt.tight_layout(h_pad=0.5, w_pad=0.5, pad=2.5)\n    \n    Z = model.predict(np.c_[xx.ravel(), yy.ravel()])\n    Z = Z.reshape(xx.shape)\n    cs = plt.contourf(xx, yy, Z,cmap=plt.cm.RdYlBu)\n    \n    if two:\n        cs = plt.contourf(xx, yy, Z,cmap=plt.cm.RdYlBu)\n        for i, color in zip(np.unique(y), plot_colors):\n            \n            idx = np.where( y== i)\n            plt.scatter(X[idx, 0], X[idx, 1], label=y,cmap=plt.cm.RdYlBu, s=15)\n        plt.show()\n  \n    else:\n        set_={0,1,2}\n        print(set_)\n        for i, color in zip(range(3), plot_colors):\n            idx = np.where( y== i)\n            if np.any(idx):\n\n                set_.remove(i)\n\n                plt.scatter(X[idx, 0], X[idx, 1], label=y,cmap=plt.cm.RdYlBu, edgecolor='black', s=15)\n\n\n        for  i in set_:\n            idx = np.where( iris.target== i)\n            plt.scatter(X[idx, 0], X[idx, 1], marker='x',color='black')\n\n        plt.show()\n",
      "metadata": {
        "trusted": true
      },
      "execution_count": 5,
      "outputs": []
    },
    {
      "cell_type": "markdown",
      "source": "This function will plot the probability of belonging to each class; each column is the probability of belonging to a class the row number is the sample number.\n",
      "metadata": {}
    },
    {
      "cell_type": "code",
      "source": "def plot_probability_array(X,probability_array):\n\n    plot_array=np.zeros((X.shape[0],30))\n    col_start=0\n    ones=np.ones((X.shape[0],30))\n    for class_,col_end in enumerate([10,20,30]):\n        plot_array[:,col_start:col_end]= np.repeat(probability_array[:,class_].reshape(-1,1), 10,axis=1)\n        col_start=col_end\n    plt.imshow(plot_array)\n    plt.xticks([])\n    plt.ylabel(\"samples\")\n    plt.xlabel(\"probability of 3 classes\")\n    plt.colorbar()\n    plt.show()",
      "metadata": {
        "trusted": true
      },
      "execution_count": 6,
      "outputs": []
    },
    {
      "cell_type": "code",
      "source": "for i in enumerate([10,20,30]):\n    print(i)",
      "metadata": {
        "trusted": true
      },
      "execution_count": 7,
      "outputs": [
        {
          "name": "stdout",
          "text": "(0, 10)\n(1, 20)\n(2, 30)\n",
          "output_type": "stream"
        }
      ]
    },
    {
      "cell_type": "code",
      "source": "for i, x in enumerate([10,20,30]):\n    print(i, x)",
      "metadata": {
        "trusted": true
      },
      "execution_count": 8,
      "outputs": [
        {
          "name": "stdout",
          "text": "0 10\n1 20\n2 30\n",
          "output_type": "stream"
        }
      ]
    },
    {
      "cell_type": "code",
      "source": "for i, x in enumerate([10,20,30]):\n    print(i)",
      "metadata": {
        "trusted": true
      },
      "execution_count": 9,
      "outputs": [
        {
          "name": "stdout",
          "text": "0\n1\n2\n",
          "output_type": "stream"
        }
      ]
    },
    {
      "cell_type": "markdown",
      "source": "In ths lab we will use the  iris dataset,  it consists of 3 different types of irises’ (Setosa y=0, Versicolour y=1, and Virginica y=2) petal and sepal length, stored in a 150x4 numpy.ndarray\n\nThe rows being the samples and the columns being: Sepal Length, Sepal Width, Petal Length and Petal Width.\n\nThe below plot uses the secoond two features\n",
      "metadata": {}
    },
    {
      "cell_type": "code",
      "source": "pair=[1, 3]\niris = datasets.load_iris()\nX = iris.data[:, pair]\ny = iris.target\nnp.unique(y)",
      "metadata": {
        "trusted": true
      },
      "execution_count": 10,
      "outputs": [
        {
          "execution_count": 10,
          "output_type": "execute_result",
          "data": {
            "text/plain": "array([0, 1, 2])"
          },
          "metadata": {}
        }
      ]
    },
    {
      "cell_type": "code",
      "source": "# c: array-like or list of colors or color, (optional) -->The marker colors\n# cmapstr or Colormap, default: rcParams[\"image.cmap\"] (default: 'viridis')-->The Colormap instance or registered colormap name used to map scalar data to colors.\nplt.scatter(X[:, 0], X[:, 1], c=y, cmap=plt.cm.RdYlBu)\nplt.xlabel(\"sepal width (cm)\")\nplt.ylabel(\"petal width\")\nplt.show()",
      "metadata": {
        "trusted": true
      },
      "execution_count": 11,
      "outputs": [
        {
          "output_type": "display_data",
          "data": {
            "text/plain": "<Figure size 640x480 with 1 Axes>",
            "image/png": "[encoded data removed]"
          },
          "metadata": {}
        }
      ]
    },
    {
      "cell_type": "code",
      "source": "X[0:5]",
      "metadata": {
        "trusted": true
      },
      "execution_count": 12,
      "outputs": [
        {
          "execution_count": 12,
          "output_type": "execute_result",
          "data": {
            "text/plain": "array([[3.5, 0.2],\n       [3. , 0.2],\n       [3.2, 0.2],\n       [3.1, 0.2],\n       [3.6, 0.2]])"
          },
          "metadata": {}
        }
      ]
    },
    {
      "cell_type": "code",
      "source": "# checking what the point is of: pair=[1, 3] and X = iris.data[:, pair], or what it means rather -- 1\n# Output: merely selects column index 1 and 3 (out of 4 column indexes, selects basically only every second-->here column position 2 and 4)\niris.data[:, pair][0:5]",
      "metadata": {
        "trusted": true
      },
      "execution_count": 13,
      "outputs": [
        {
          "execution_count": 13,
          "output_type": "execute_result",
          "data": {
            "text/plain": "array([[3.5, 0.2],\n       [3. , 0.2],\n       [3.2, 0.2],\n       [3.1, 0.2],\n       [3.6, 0.2]])"
          },
          "metadata": {}
        }
      ]
    },
    {
      "cell_type": "code",
      "source": "# checking what the point is of: pair=[1, 3] and X = iris.data[:, pair], or what it means rather -- 2\n# Output: selects index 1 and 3 of the iris.data array\niris.data[pair]",
      "metadata": {
        "trusted": true
      },
      "execution_count": 14,
      "outputs": [
        {
          "execution_count": 14,
          "output_type": "execute_result",
          "data": {
            "text/plain": "array([[4.9, 3. , 1.4, 0.2],\n       [4.6, 3.1, 1.5, 0.2]])"
          },
          "metadata": {}
        }
      ]
    },
    {
      "cell_type": "code",
      "source": "# checking what the point is of: pair=[1, 3] and X = iris.data[:, pair], or what it means rather -- 3\niris.data[0:5]",
      "metadata": {
        "trusted": true
      },
      "execution_count": 15,
      "outputs": [
        {
          "execution_count": 15,
          "output_type": "execute_result",
          "data": {
            "text/plain": "array([[5.1, 3.5, 1.4, 0.2],\n       [4.9, 3. , 1.4, 0.2],\n       [4.7, 3.2, 1.3, 0.2],\n       [4.6, 3.1, 1.5, 0.2],\n       [5. , 3.6, 1.4, 0.2]])"
          },
          "metadata": {}
        }
      ]
    },
    {
      "cell_type": "code",
      "source": "y",
      "metadata": {
        "trusted": true
      },
      "execution_count": 16,
      "outputs": [
        {
          "execution_count": 16,
          "output_type": "execute_result",
          "data": {
            "text/plain": "array([0, 0, 0, 0, 0, 0, 0, 0, 0, 0, 0, 0, 0, 0, 0, 0, 0, 0, 0, 0, 0, 0,\n       0, 0, 0, 0, 0, 0, 0, 0, 0, 0, 0, 0, 0, 0, 0, 0, 0, 0, 0, 0, 0, 0,\n       0, 0, 0, 0, 0, 0, 1, 1, 1, 1, 1, 1, 1, 1, 1, 1, 1, 1, 1, 1, 1, 1,\n       1, 1, 1, 1, 1, 1, 1, 1, 1, 1, 1, 1, 1, 1, 1, 1, 1, 1, 1, 1, 1, 1,\n       1, 1, 1, 1, 1, 1, 1, 1, 1, 1, 1, 1, 2, 2, 2, 2, 2, 2, 2, 2, 2, 2,\n       2, 2, 2, 2, 2, 2, 2, 2, 2, 2, 2, 2, 2, 2, 2, 2, 2, 2, 2, 2, 2, 2,\n       2, 2, 2, 2, 2, 2, 2, 2, 2, 2, 2, 2, 2, 2, 2, 2, 2, 2])"
          },
          "metadata": {}
        }
      ]
    },
    {
      "cell_type": "code",
      "source": "dir(__builtins__)[-5]",
      "metadata": {
        "trusted": true
      },
      "execution_count": 17,
      "outputs": [
        {
          "execution_count": 17,
          "output_type": "execute_result",
          "data": {
            "text/plain": "'super'"
          },
          "metadata": {}
        }
      ]
    },
    {
      "cell_type": "code",
      "source": "len(dir(__builtins__))",
      "metadata": {
        "trusted": true
      },
      "execution_count": 18,
      "outputs": [
        {
          "execution_count": 18,
          "output_type": "execute_result",
          "data": {
            "text/plain": "160"
          },
          "metadata": {}
        }
      ]
    },
    {
      "cell_type": "code",
      "source": "dir(__builtins__)[:-150]",
      "metadata": {
        "trusted": true
      },
      "execution_count": 19,
      "outputs": [
        {
          "execution_count": 19,
          "output_type": "execute_result",
          "data": {
            "text/plain": "['ArithmeticError',\n 'AssertionError',\n 'AttributeError',\n 'BaseException',\n 'BaseExceptionGroup',\n 'BlockingIOError',\n 'BrokenPipeError',\n 'BufferError',\n 'BytesWarning',\n 'ChildProcessError']"
          },
          "metadata": {}
        }
      ]
    },
    {
      "cell_type": "code",
      "source": "iris.feature_names",
      "metadata": {
        "trusted": true
      },
      "execution_count": 20,
      "outputs": [
        {
          "execution_count": 20,
          "output_type": "execute_result",
          "data": {
            "text/plain": "['sepal length (cm)',\n 'sepal width (cm)',\n 'petal length (cm)',\n 'petal width (cm)']"
          },
          "metadata": {}
        }
      ]
    },
    {
      "cell_type": "code",
      "source": "iris.target_names",
      "metadata": {
        "trusted": true
      },
      "execution_count": 21,
      "outputs": [
        {
          "execution_count": 21,
          "output_type": "execute_result",
          "data": {
            "text/plain": "array(['setosa', 'versicolor', 'virginica'], dtype='<U10')"
          },
          "metadata": {}
        }
      ]
    },
    {
      "cell_type": "code",
      "source": "'sepal length (cm)' in iris.feature_names",
      "metadata": {
        "trusted": true
      },
      "execution_count": 22,
      "outputs": [
        {
          "execution_count": 22,
          "output_type": "execute_result",
          "data": {
            "text/plain": "True"
          },
          "metadata": {}
        }
      ]
    },
    {
      "cell_type": "code",
      "source": "# not included in this notebook; done myself\niris_df = pd.DataFrame(iris.data, columns=iris.feature_names)\niris_df.head()",
      "metadata": {
        "trusted": true
      },
      "execution_count": 23,
      "outputs": [
        {
          "execution_count": 23,
          "output_type": "execute_result",
          "data": {
            "text/plain": "   sepal length (cm)  sepal width (cm)  petal length (cm)  petal width (cm)\n0                5.1               3.5                1.4               0.2\n1                4.9               3.0                1.4               0.2\n2                4.7               3.2                1.3               0.2\n3                4.6               3.1                1.5               0.2\n4                5.0               3.6                1.4               0.2",
            "text/html": "<div>\n<style scoped>\n    .dataframe tbody tr th:only-of-type {\n        vertical-align: middle;\n    }\n\n    .dataframe tbody tr th {\n        vertical-align: top;\n    }\n\n    .dataframe thead th {\n        text-align: right;\n    }\n</style>\n<table border=\"1\" class=\"dataframe\">\n  <thead>\n    <tr style=\"text-align: right;\">\n      <th></th>\n      <th>sepal length (cm)</th>\n      <th>sepal width (cm)</th>\n      <th>petal length (cm)</th>\n      <th>petal width (cm)</th>\n    </tr>\n  </thead>\n  <tbody>\n    <tr>\n      <th>0</th>\n      <td>5.1</td>\n      <td>3.5</td>\n      <td>1.4</td>\n      <td>0.2</td>\n    </tr>\n    <tr>\n      <th>1</th>\n      <td>4.9</td>\n      <td>3.0</td>\n      <td>1.4</td>\n      <td>0.2</td>\n    </tr>\n    <tr>\n      <th>2</th>\n      <td>4.7</td>\n      <td>3.2</td>\n      <td>1.3</td>\n      <td>0.2</td>\n    </tr>\n    <tr>\n      <th>3</th>\n      <td>4.6</td>\n      <td>3.1</td>\n      <td>1.5</td>\n      <td>0.2</td>\n    </tr>\n    <tr>\n      <th>4</th>\n      <td>5.0</td>\n      <td>3.6</td>\n      <td>1.4</td>\n      <td>0.2</td>\n    </tr>\n  </tbody>\n</table>\n</div>"
          },
          "metadata": {}
        }
      ]
    },
    {
      "cell_type": "code",
      "source": "iris_df.sort_values(['petal width (cm)'], ascending=False, inplace=False)",
      "metadata": {
        "trusted": true
      },
      "execution_count": 24,
      "outputs": [
        {
          "execution_count": 24,
          "output_type": "execute_result",
          "data": {
            "text/plain": "     sepal length (cm)  sepal width (cm)  petal length (cm)  petal width (cm)\n100                6.3               3.3                6.0               2.5\n109                7.2               3.6                6.1               2.5\n144                6.7               3.3                5.7               2.5\n114                5.8               2.8                5.1               2.4\n140                6.7               3.1                5.6               2.4\n..                 ...               ...                ...               ...\n12                 4.8               3.0                1.4               0.1\n13                 4.3               3.0                1.1               0.1\n37                 4.9               3.6                1.4               0.1\n32                 5.2               4.1                1.5               0.1\n9                  4.9               3.1                1.5               0.1\n\n[150 rows x 4 columns]",
            "text/html": "<div>\n<style scoped>\n    .dataframe tbody tr th:only-of-type {\n        vertical-align: middle;\n    }\n\n    .dataframe tbody tr th {\n        vertical-align: top;\n    }\n\n    .dataframe thead th {\n        text-align: right;\n    }\n</style>\n<table border=\"1\" class=\"dataframe\">\n  <thead>\n    <tr style=\"text-align: right;\">\n      <th></th>\n      <th>sepal length (cm)</th>\n      <th>sepal width (cm)</th>\n      <th>petal length (cm)</th>\n      <th>petal width (cm)</th>\n    </tr>\n  </thead>\n  <tbody>\n    <tr>\n      <th>100</th>\n      <td>6.3</td>\n      <td>3.3</td>\n      <td>6.0</td>\n      <td>2.5</td>\n    </tr>\n    <tr>\n      <th>109</th>\n      <td>7.2</td>\n      <td>3.6</td>\n      <td>6.1</td>\n      <td>2.5</td>\n    </tr>\n    <tr>\n      <th>144</th>\n      <td>6.7</td>\n      <td>3.3</td>\n      <td>5.7</td>\n      <td>2.5</td>\n    </tr>\n    <tr>\n      <th>114</th>\n      <td>5.8</td>\n      <td>2.8</td>\n      <td>5.1</td>\n      <td>2.4</td>\n    </tr>\n    <tr>\n      <th>140</th>\n      <td>6.7</td>\n      <td>3.1</td>\n      <td>5.6</td>\n      <td>2.4</td>\n    </tr>\n    <tr>\n      <th>...</th>\n      <td>...</td>\n      <td>...</td>\n      <td>...</td>\n      <td>...</td>\n    </tr>\n    <tr>\n      <th>12</th>\n      <td>4.8</td>\n      <td>3.0</td>\n      <td>1.4</td>\n      <td>0.1</td>\n    </tr>\n    <tr>\n      <th>13</th>\n      <td>4.3</td>\n      <td>3.0</td>\n      <td>1.1</td>\n      <td>0.1</td>\n    </tr>\n    <tr>\n      <th>37</th>\n      <td>4.9</td>\n      <td>3.6</td>\n      <td>1.4</td>\n      <td>0.1</td>\n    </tr>\n    <tr>\n      <th>32</th>\n      <td>5.2</td>\n      <td>4.1</td>\n      <td>1.5</td>\n      <td>0.1</td>\n    </tr>\n    <tr>\n      <th>9</th>\n      <td>4.9</td>\n      <td>3.1</td>\n      <td>1.5</td>\n      <td>0.1</td>\n    </tr>\n  </tbody>\n</table>\n<p>150 rows × 4 columns</p>\n</div>"
          },
          "metadata": {}
        }
      ]
    },
    {
      "cell_type": "markdown",
      "source": "## **Softmax Regression**  \n",
      "metadata": {}
    },
    {
      "cell_type": "markdown",
      "source": "SoftMax regression is similar to logistic regression, the softmax function  convernts the actual distances i.e. dot products of $x$ with each of the parameters $\\theta_i$ for the $K$ classes. This is converted to probabilities using the following : \n",
      "metadata": {}
    },
    {
      "cell_type": "markdown",
      "source": "$softmax(x,i) = \\frac{e^{ \\theta_i^T \\bf x}}{\\sum_{j=1}^K e^{\\theta_j^T x}} $\n",
      "metadata": {}
    },
    {
      "cell_type": "markdown",
      "source": "The training procedure is almost identical to logistic regression. Consider the three-class example where $y \\in \\{0,1,2\\}$ we would like to classify $x_1$. We can use the softmax function to generate a probability of how likely the sample belongs to each class:\n",
      "metadata": {}
    },
    {
      "cell_type": "markdown",
      "source": "$[softmax(x_1,0),softmax(x_1,1),softmax(x_1,2)]=[0.97,0.2,0.1]$\n",
      "metadata": {}
    },
    {
      "cell_type": "markdown",
      "source": "The index of each probability is the same as the class. We can make a prediction using the argmax function:\n",
      "metadata": {}
    },
    {
      "cell_type": "markdown",
      "source": "$\\hat{y}=argmax_i  \\{softmax(x,i)\\}$\n",
      "metadata": {}
    },
    {
      "cell_type": "markdown",
      "source": "For the above example, we can make a prediction as follows:\n",
      "metadata": {}
    },
    {
      "cell_type": "markdown",
      "source": "$\\hat{y}=argmax_i  \\{[0.97,0.2,0.1]\\}=0$\n",
      "metadata": {}
    },
    {
      "cell_type": "markdown",
      "source": "<code>sklearn</code> does this automatically, but we can verify the prediction step, we fit the model:\n",
      "metadata": {}
    },
    {
      "cell_type": "code",
      "source": "lr = LogisticRegression(random_state=0).fit(X, y)",
      "metadata": {
        "trusted": true
      },
      "execution_count": 25,
      "outputs": []
    },
    {
      "cell_type": "markdown",
      "source": "We generate the probability using the method <ocde>predict_proba</code>\n",
      "metadata": {}
    },
    {
      "cell_type": "code",
      "source": "probability=lr.predict_proba(X)",
      "metadata": {
        "trusted": true
      },
      "execution_count": 26,
      "outputs": []
    },
    {
      "cell_type": "code",
      "source": "probability[0:5]",
      "metadata": {
        "trusted": true
      },
      "execution_count": 27,
      "outputs": [
        {
          "execution_count": 27,
          "output_type": "execute_result",
          "data": {
            "text/plain": "array([[9.57671606e-01, 4.22321095e-02, 9.62845517e-05],\n       [8.83227089e-01, 1.16528398e-01, 2.44512665e-04],\n       [9.21407872e-01, 7.84220195e-02, 1.70108222e-04],\n       [9.04000900e-01, 9.57947290e-02, 2.04371365e-04],\n       [9.65715771e-01, 3.42049406e-02, 7.92887424e-05]])"
          },
          "metadata": {}
        }
      ]
    },
    {
      "cell_type": "code",
      "source": "9.57671606e-01 > 9.62845517e-05",
      "metadata": {
        "trusted": true
      },
      "execution_count": 28,
      "outputs": [
        {
          "execution_count": 28,
          "output_type": "execute_result",
          "data": {
            "text/plain": "True"
          },
          "metadata": {}
        }
      ]
    },
    {
      "cell_type": "code",
      "source": "3 > 1",
      "metadata": {
        "trusted": true
      },
      "execution_count": 29,
      "outputs": [
        {
          "execution_count": 29,
          "output_type": "execute_result",
          "data": {
            "text/plain": "True"
          },
          "metadata": {}
        }
      ]
    },
    {
      "cell_type": "markdown",
      "source": "We can plot the probability of belonging to each class; each column is the probability of belonging to a class the row number is the sample number.\n",
      "metadata": {}
    },
    {
      "cell_type": "code",
      "source": "plot_probability_array(X,probability)",
      "metadata": {
        "trusted": true
      },
      "execution_count": 30,
      "outputs": [
        {
          "output_type": "display_data",
          "data": {
            "text/plain": "<Figure size 640x480 with 2 Axes>",
            "image/png": "[encoded data removed]"
          },
          "metadata": {}
        }
      ]
    },
    {
      "cell_type": "markdown",
      "source": "Here is the output for the first sample:\n",
      "metadata": {}
    },
    {
      "cell_type": "code",
      "source": "probability[0,:]",
      "metadata": {
        "trusted": true
      },
      "execution_count": 31,
      "outputs": [
        {
          "execution_count": 31,
          "output_type": "execute_result",
          "data": {
            "text/plain": "array([9.57671606e-01, 4.22321095e-02, 9.62845517e-05])"
          },
          "metadata": {}
        }
      ]
    },
    {
      "cell_type": "code",
      "source": "probability[0]",
      "metadata": {
        "trusted": true
      },
      "execution_count": 32,
      "outputs": [
        {
          "execution_count": 32,
          "output_type": "execute_result",
          "data": {
            "text/plain": "array([9.57671606e-01, 4.22321095e-02, 9.62845517e-05])"
          },
          "metadata": {}
        }
      ]
    },
    {
      "cell_type": "markdown",
      "source": "we see it sums to one\n",
      "metadata": {}
    },
    {
      "cell_type": "code",
      "source": "probability[0,:].sum()",
      "metadata": {
        "trusted": true
      },
      "execution_count": 33,
      "outputs": [
        {
          "execution_count": 33,
          "output_type": "execute_result",
          "data": {
            "text/plain": "0.9999999999999999"
          },
          "metadata": {}
        }
      ]
    },
    {
      "cell_type": "code",
      "source": "probability[0].sum()",
      "metadata": {
        "trusted": true
      },
      "execution_count": 34,
      "outputs": [
        {
          "execution_count": 34,
          "output_type": "execute_result",
          "data": {
            "text/plain": "0.9999999999999999"
          },
          "metadata": {}
        }
      ]
    },
    {
      "cell_type": "markdown",
      "source": "we can apply the $argmax$ function \n",
      "metadata": {}
    },
    {
      "cell_type": "code",
      "source": "# making a prediction\nnp.argmax(probability[0,:])",
      "metadata": {
        "trusted": true
      },
      "execution_count": 35,
      "outputs": [
        {
          "execution_count": 35,
          "output_type": "execute_result",
          "data": {
            "text/plain": "0"
          },
          "metadata": {}
        }
      ]
    },
    {
      "cell_type": "code",
      "source": "np.argmax(probability[0])",
      "metadata": {
        "trusted": true
      },
      "execution_count": 36,
      "outputs": [
        {
          "execution_count": 36,
          "output_type": "execute_result",
          "data": {
            "text/plain": "0"
          },
          "metadata": {}
        }
      ]
    },
    {
      "cell_type": "code",
      "source": "np.argmax(probability)",
      "metadata": {
        "trusted": true
      },
      "execution_count": 37,
      "outputs": [
        {
          "execution_count": 37,
          "output_type": "execute_result",
          "data": {
            "text/plain": "96"
          },
          "metadata": {}
        }
      ]
    },
    {
      "cell_type": "code",
      "source": "np.argmax(probability, axis=1)",
      "metadata": {
        "trusted": true
      },
      "execution_count": 38,
      "outputs": [
        {
          "execution_count": 38,
          "output_type": "execute_result",
          "data": {
            "text/plain": "array([0, 0, 0, 0, 0, 0, 0, 0, 0, 0, 0, 0, 0, 0, 0, 0, 0, 0, 0, 0, 0, 0,\n       0, 0, 0, 0, 0, 0, 0, 0, 0, 0, 0, 0, 0, 0, 0, 0, 0, 0, 0, 0, 0, 0,\n       0, 0, 0, 0, 0, 0, 1, 1, 1, 1, 1, 1, 1, 1, 1, 1, 1, 1, 1, 1, 1, 1,\n       1, 1, 1, 1, 2, 1, 1, 1, 1, 1, 1, 2, 1, 1, 1, 1, 1, 1, 1, 1, 1, 1,\n       1, 1, 1, 1, 1, 1, 1, 1, 1, 1, 1, 1, 2, 2, 2, 2, 2, 2, 2, 2, 2, 2,\n       2, 2, 2, 2, 2, 2, 2, 2, 2, 1, 2, 2, 2, 2, 2, 2, 2, 2, 2, 1, 2, 2,\n       2, 1, 1, 2, 2, 2, 2, 2, 2, 2, 2, 2, 2, 2, 2, 2, 2, 2], dtype=int32)"
          },
          "metadata": {}
        }
      ]
    },
    {
      "cell_type": "markdown",
      "source": "We can apply the $argmax$ function to each sample\n",
      "metadata": {}
    },
    {
      "cell_type": "code",
      "source": "softmax_prediction=np.argmax(probability,axis=1)\nsoftmax_prediction",
      "metadata": {
        "trusted": true
      },
      "execution_count": 39,
      "outputs": [
        {
          "execution_count": 39,
          "output_type": "execute_result",
          "data": {
            "text/plain": "array([0, 0, 0, 0, 0, 0, 0, 0, 0, 0, 0, 0, 0, 0, 0, 0, 0, 0, 0, 0, 0, 0,\n       0, 0, 0, 0, 0, 0, 0, 0, 0, 0, 0, 0, 0, 0, 0, 0, 0, 0, 0, 0, 0, 0,\n       0, 0, 0, 0, 0, 0, 1, 1, 1, 1, 1, 1, 1, 1, 1, 1, 1, 1, 1, 1, 1, 1,\n       1, 1, 1, 1, 2, 1, 1, 1, 1, 1, 1, 2, 1, 1, 1, 1, 1, 1, 1, 1, 1, 1,\n       1, 1, 1, 1, 1, 1, 1, 1, 1, 1, 1, 1, 2, 2, 2, 2, 2, 2, 2, 2, 2, 2,\n       2, 2, 2, 2, 2, 2, 2, 2, 2, 1, 2, 2, 2, 2, 2, 2, 2, 2, 2, 1, 2, 2,\n       2, 1, 1, 2, 2, 2, 2, 2, 2, 2, 2, 2, 2, 2, 2, 2, 2, 2], dtype=int32)"
          },
          "metadata": {}
        }
      ]
    },
    {
      "cell_type": "markdown",
      "source": "We can verify that sklearn does this under the hood by comparing it to the output of the method <code> predict  </code>.\n",
      "metadata": {}
    },
    {
      "cell_type": "code",
      "source": "yhat =lr.predict(X)\naccuracy_score(yhat,softmax_prediction)",
      "metadata": {
        "trusted": true
      },
      "execution_count": 40,
      "outputs": [
        {
          "execution_count": 40,
          "output_type": "execute_result",
          "data": {
            "text/plain": "1.0"
          },
          "metadata": {}
        }
      ]
    },
    {
      "cell_type": "code",
      "source": "yhat",
      "metadata": {
        "trusted": true
      },
      "execution_count": 41,
      "outputs": [
        {
          "execution_count": 41,
          "output_type": "execute_result",
          "data": {
            "text/plain": "array([0, 0, 0, 0, 0, 0, 0, 0, 0, 0, 0, 0, 0, 0, 0, 0, 0, 0, 0, 0, 0, 0,\n       0, 0, 0, 0, 0, 0, 0, 0, 0, 0, 0, 0, 0, 0, 0, 0, 0, 0, 0, 0, 0, 0,\n       0, 0, 0, 0, 0, 0, 1, 1, 1, 1, 1, 1, 1, 1, 1, 1, 1, 1, 1, 1, 1, 1,\n       1, 1, 1, 1, 2, 1, 1, 1, 1, 1, 1, 2, 1, 1, 1, 1, 1, 1, 1, 1, 1, 1,\n       1, 1, 1, 1, 1, 1, 1, 1, 1, 1, 1, 1, 2, 2, 2, 2, 2, 2, 2, 2, 2, 2,\n       2, 2, 2, 2, 2, 2, 2, 2, 2, 1, 2, 2, 2, 2, 2, 2, 2, 2, 2, 1, 2, 2,\n       2, 1, 1, 2, 2, 2, 2, 2, 2, 2, 2, 2, 2, 2, 2, 2, 2, 2])"
          },
          "metadata": {}
        }
      ]
    },
    {
      "cell_type": "code",
      "source": "np.isin(softmax_prediction, yhat)",
      "metadata": {
        "trusted": true
      },
      "execution_count": 42,
      "outputs": [
        {
          "execution_count": 42,
          "output_type": "execute_result",
          "data": {
            "text/plain": "array([ True,  True,  True,  True,  True,  True,  True,  True,  True,\n        True,  True,  True,  True,  True,  True,  True,  True,  True,\n        True,  True,  True,  True,  True,  True,  True,  True,  True,\n        True,  True,  True,  True,  True,  True,  True,  True,  True,\n        True,  True,  True,  True,  True,  True,  True,  True,  True,\n        True,  True,  True,  True,  True,  True,  True,  True,  True,\n        True,  True,  True,  True,  True,  True,  True,  True,  True,\n        True,  True,  True,  True,  True,  True,  True,  True,  True,\n        True,  True,  True,  True,  True,  True,  True,  True,  True,\n        True,  True,  True,  True,  True,  True,  True,  True,  True,\n        True,  True,  True,  True,  True,  True,  True,  True,  True,\n        True,  True,  True,  True,  True,  True,  True,  True,  True,\n        True,  True,  True,  True,  True,  True,  True,  True,  True,\n        True,  True,  True,  True,  True,  True,  True,  True,  True,\n        True,  True,  True,  True,  True,  True,  True,  True,  True,\n        True,  True,  True,  True,  True,  True,  True,  True,  True,\n        True,  True,  True,  True,  True,  True])"
          },
          "metadata": {}
        }
      ]
    },
    {
      "cell_type": "code",
      "source": "np.isin(softmax_prediction, yhat).all()",
      "metadata": {
        "trusted": true
      },
      "execution_count": 43,
      "outputs": [
        {
          "execution_count": 43,
          "output_type": "execute_result",
          "data": {
            "text/plain": "True"
          },
          "metadata": {}
        }
      ]
    },
    {
      "cell_type": "markdown",
      "source": "We can't use Softmax regression for SVMs let explore two methods of Multi-class Classification. that we can apply to SVM.\n",
      "metadata": {}
    },
    {
      "cell_type": "markdown",
      "source": "## SVM \n",
      "metadata": {}
    },
    {
      "cell_type": "markdown",
      "source": "Sklean performs Multi-class Classification automatically, we can apply the method and calculate the accuracy. Train a SVM classifier with the `kernel` set to `linear`, `gamma` set to `0.5`, and the `probability` paramter set to `True`, then train the model using the `X` and `y` data.\n",
      "metadata": {}
    },
    {
      "cell_type": "code",
      "source": "#ADD CODE\nsvm = SVC(kernel='linear', gamma=0.5, probability=True)\n#ADD CODE\nsvm.fit(X,y)",
      "metadata": {
        "trusted": true
      },
      "execution_count": 44,
      "outputs": [
        {
          "execution_count": 44,
          "output_type": "execute_result",
          "data": {
            "text/plain": "SVC(gamma=0.5, kernel='linear', probability=True)",
            "text/html": "<style>#sk-container-id-1 {color: black;background-color: white;}#sk-container-id-1 pre{padding: 0;}#sk-container-id-1 div.sk-toggleable {background-color: white;}#sk-container-id-1 label.sk-toggleable__label {cursor: pointer;display: block;width: 100%;margin-bottom: 0;padding: 0.3em;box-sizing: border-box;text-align: center;}#sk-container-id-1 label.sk-toggleable__label-arrow:before {content: \"▸\";float: left;margin-right: 0.25em;color: #696969;}#sk-container-id-1 label.sk-toggleable__label-arrow:hover:before {color: black;}#sk-container-id-1 div.sk-estimator:hover label.sk-toggleable__label-arrow:before {color: black;}#sk-container-id-1 div.sk-toggleable__content {max-height: 0;max-width: 0;overflow: hidden;text-align: left;background-color: #f0f8ff;}#sk-container-id-1 div.sk-toggleable__content pre {margin: 0.2em;color: black;border-radius: 0.25em;background-color: #f0f8ff;}#sk-container-id-1 input.sk-toggleable__control:checked~div.sk-toggleable__content {max-height: 200px;max-width: 100%;overflow: auto;}#sk-container-id-1 input.sk-toggleable__control:checked~label.sk-toggleable__label-arrow:before {content: \"▾\";}#sk-container-id-1 div.sk-estimator input.sk-toggleable__control:checked~label.sk-toggleable__label {background-color: #d4ebff;}#sk-container-id-1 div.sk-label input.sk-toggleable__control:checked~label.sk-toggleable__label {background-color: #d4ebff;}#sk-container-id-1 input.sk-hidden--visually {border: 0;clip: rect(1px 1px 1px 1px);clip: rect(1px, 1px, 1px, 1px);height: 1px;margin: -1px;overflow: hidden;padding: 0;position: absolute;width: 1px;}#sk-container-id-1 div.sk-estimator {font-family: monospace;background-color: #f0f8ff;border: 1px dotted black;border-radius: 0.25em;box-sizing: border-box;margin-bottom: 0.5em;}#sk-container-id-1 div.sk-estimator:hover {background-color: #d4ebff;}#sk-container-id-1 div.sk-parallel-item::after {content: \"\";width: 100%;border-bottom: 1px solid gray;flex-grow: 1;}#sk-container-id-1 div.sk-label:hover label.sk-toggleable__label {background-color: #d4ebff;}#sk-container-id-1 div.sk-serial::before {content: \"\";position: absolute;border-left: 1px solid gray;box-sizing: border-box;top: 0;bottom: 0;left: 50%;z-index: 0;}#sk-container-id-1 div.sk-serial {display: flex;flex-direction: column;align-items: center;background-color: white;padding-right: 0.2em;padding-left: 0.2em;position: relative;}#sk-container-id-1 div.sk-item {position: relative;z-index: 1;}#sk-container-id-1 div.sk-parallel {display: flex;align-items: stretch;justify-content: center;background-color: white;position: relative;}#sk-container-id-1 div.sk-item::before, #sk-container-id-1 div.sk-parallel-item::before {content: \"\";position: absolute;border-left: 1px solid gray;box-sizing: border-box;top: 0;bottom: 0;left: 50%;z-index: -1;}#sk-container-id-1 div.sk-parallel-item {display: flex;flex-direction: column;z-index: 1;position: relative;background-color: white;}#sk-container-id-1 div.sk-parallel-item:first-child::after {align-self: flex-end;width: 50%;}#sk-container-id-1 div.sk-parallel-item:last-child::after {align-self: flex-start;width: 50%;}#sk-container-id-1 div.sk-parallel-item:only-child::after {width: 0;}#sk-container-id-1 div.sk-dashed-wrapped {border: 1px dashed gray;margin: 0 0.4em 0.5em 0.4em;box-sizing: border-box;padding-bottom: 0.4em;background-color: white;}#sk-container-id-1 div.sk-label label {font-family: monospace;font-weight: bold;display: inline-block;line-height: 1.2em;}#sk-container-id-1 div.sk-label-container {text-align: center;}#sk-container-id-1 div.sk-container {/* jupyter's `normalize.less` sets `[hidden] { display: none; }` but bootstrap.min.css set `[hidden] { display: none !important; }` so we also need the `!important` here to be able to override the default hidden behavior on the sphinx rendered scikit-learn.org. See: https://github.com/scikit-learn/scikit-learn/issues/21755 */display: inline-block !important;position: relative;}#sk-container-id-1 div.sk-text-repr-fallback {display: none;}</style><div id=\"sk-container-id-1\" class=\"sk-top-container\"><div class=\"sk-text-repr-fallback\"><pre>SVC(gamma=0.5, kernel=&#x27;linear&#x27;, probability=True)</pre><b>In a Jupyter environment, please rerun this cell to show the HTML representation or trust the notebook. <br />On GitHub, the HTML representation is unable to render, please try loading this page with nbviewer.org.</b></div><div class=\"sk-container\" hidden><div class=\"sk-item\"><div class=\"sk-estimator sk-toggleable\"><input class=\"sk-toggleable__control sk-hidden--visually\" id=\"sk-estimator-id-1\" type=\"checkbox\" checked><label for=\"sk-estimator-id-1\" class=\"sk-toggleable__label sk-toggleable__label-arrow\">SVC</label><div class=\"sk-toggleable__content\"><pre>SVC(gamma=0.5, kernel=&#x27;linear&#x27;, probability=True)</pre></div></div></div></div></div>"
          },
          "metadata": {}
        }
      ]
    },
    {
      "cell_type": "markdown",
      "source": "<details><summary>Click here for the solution</summary>\n\n```python    \nmodel = SVC(kernel='linear', gamma=.5, probability=True)\n\nmodel.fit(X,y)\n\n```\n\n</details>\n",
      "metadata": {}
    },
    {
      "cell_type": "markdown",
      "source": "Find the `accuracy_score` on the training data\n",
      "metadata": {}
    },
    {
      "cell_type": "code",
      "source": "yhat1 = svm.predict(X)\nyhat1[0:5]",
      "metadata": {
        "trusted": true
      },
      "execution_count": 45,
      "outputs": [
        {
          "execution_count": 45,
          "output_type": "execute_result",
          "data": {
            "text/plain": "array([0, 0, 0, 0, 0])"
          },
          "metadata": {}
        }
      ]
    },
    {
      "cell_type": "code",
      "source": "accuracy_score(y, yhat1)",
      "metadata": {
        "trusted": true
      },
      "execution_count": 46,
      "outputs": [
        {
          "execution_count": 46,
          "output_type": "execute_result",
          "data": {
            "text/plain": "0.96"
          },
          "metadata": {}
        }
      ]
    },
    {
      "cell_type": "markdown",
      "source": "<details><summary>Click here for the solution</summary>\n\n```python    \nyhat = model.predict(X)\n\naccuracy_score(y,yhat)\n\n```\n\n</details>\n",
      "metadata": {}
    },
    {
      "cell_type": "markdown",
      "source": "We can plot the decision_boundary.\n",
      "metadata": {}
    },
    {
      "cell_type": "code",
      "source": "decision_boundary",
      "metadata": {
        "trusted": true
      },
      "execution_count": 47,
      "outputs": [
        {
          "execution_count": 47,
          "output_type": "execute_result",
          "data": {
            "text/plain": "<function __main__.decision_boundary(X, y, model, iris, two=None)>"
          },
          "metadata": {}
        }
      ]
    },
    {
      "cell_type": "code",
      "source": "decision_boundary(X,y,svm,iris)",
      "metadata": {
        "trusted": true
      },
      "execution_count": 48,
      "outputs": [
        {
          "name": "stdout",
          "text": "{0, 1, 2}\n",
          "output_type": "stream"
        },
        {
          "output_type": "display_data",
          "data": {
            "text/plain": "<Figure size 640x480 with 1 Axes>",
            "image/png": "[encoded data removed]"
          },
          "metadata": {}
        }
      ]
    },
    {
      "cell_type": "markdown",
      "source": "Let's implement on vs One vs. All and One vs. One our self's.\n",
      "metadata": {}
    },
    {
      "cell_type": "markdown",
      "source": "## One vs. All (One-vs-Rest) \n",
      "metadata": {}
    },
    {
      "cell_type": "markdown",
      "source": "For one-vs-All classification, if we have K classes, we use K  two-class classifier models—the number of class labels present in the dataset is equal to the number of generated classifiers. First, we create an artificial class we will call this \"dummy\" class. For each classifier, we split the data into two classes.  We take the class samples we would like to classify; the rest of the samples will be labelled as a dummy class. We repeat the process for each class. To make a  classification, we use the classifier with the highest probability, disregarding the dummy class.\n",
      "metadata": {}
    },
    {
      "cell_type": "markdown",
      "source": "### Train Each Classifier\n",
      "metadata": {}
    },
    {
      "cell_type": "markdown",
      "source": "\nHere we train three classifiers and place them in the list <code>my_models</code>. For each class we take the class samples we would like to classify, and the rest will be labelled as a dummy class. We repeat the process for each class. For each classifier, we plot the decision regions. The class we are interested in is in red, and the dummy class is in blue. Similarly, the class samples are marked in blue, and the dummy samples are marked with a black x. \n",
      "metadata": {}
    },
    {
      "cell_type": "code",
      "source": "y.max()+1",
      "metadata": {
        "trusted": true
      },
      "execution_count": 49,
      "outputs": [
        {
          "execution_count": 49,
          "output_type": "execute_result",
          "data": {
            "text/plain": "3"
          },
          "metadata": {}
        }
      ]
    },
    {
      "cell_type": "code",
      "source": "y.max()",
      "metadata": {
        "trusted": true
      },
      "execution_count": 50,
      "outputs": [
        {
          "execution_count": 50,
          "output_type": "execute_result",
          "data": {
            "text/plain": "2"
          },
          "metadata": {}
        }
      ]
    },
    {
      "cell_type": "code",
      "source": "np.zeros(y.shape)",
      "metadata": {
        "trusted": true
      },
      "execution_count": 51,
      "outputs": [
        {
          "execution_count": 51,
          "output_type": "execute_result",
          "data": {
            "text/plain": "array([0., 0., 0., 0., 0., 0., 0., 0., 0., 0., 0., 0., 0., 0., 0., 0., 0.,\n       0., 0., 0., 0., 0., 0., 0., 0., 0., 0., 0., 0., 0., 0., 0., 0., 0.,\n       0., 0., 0., 0., 0., 0., 0., 0., 0., 0., 0., 0., 0., 0., 0., 0., 0.,\n       0., 0., 0., 0., 0., 0., 0., 0., 0., 0., 0., 0., 0., 0., 0., 0., 0.,\n       0., 0., 0., 0., 0., 0., 0., 0., 0., 0., 0., 0., 0., 0., 0., 0., 0.,\n       0., 0., 0., 0., 0., 0., 0., 0., 0., 0., 0., 0., 0., 0., 0., 0., 0.,\n       0., 0., 0., 0., 0., 0., 0., 0., 0., 0., 0., 0., 0., 0., 0., 0., 0.,\n       0., 0., 0., 0., 0., 0., 0., 0., 0., 0., 0., 0., 0., 0., 0., 0., 0.,\n       0., 0., 0., 0., 0., 0., 0., 0., 0., 0., 0., 0., 0., 0.])"
          },
          "metadata": {}
        }
      ]
    },
    {
      "cell_type": "code",
      "source": "#dummy class\ndummy_class=y.max()+1\n#list used for classifiers \nmy_models=[]\n#iterate through each class\nfor class_ in np.unique(y):\n    #select the index of our  class\n    select=(y==class_)\n    temp_y=np.zeros(y.shape)\n    #class, we are trying to classify \n    temp_y[y==class_]=class_\n    #set other samples  to a dummy class \n    temp_y[y!=class_]=dummy_class\n    #Train model and add to list \n    model=SVC(kernel='linear', gamma=.5, probability=True)    \n    my_models.append(model.fit(X,temp_y))\n    #plot decision boundary \n    decision_boundary (X,temp_y,model,iris)\n",
      "metadata": {
        "trusted": true
      },
      "execution_count": 52,
      "outputs": [
        {
          "name": "stdout",
          "text": "{0, 1, 2}\n",
          "output_type": "stream"
        },
        {
          "output_type": "display_data",
          "data": {
            "text/plain": "<Figure size 640x480 with 1 Axes>",
            "image/png": "[encoded data removed]"
          },
          "metadata": {}
        },
        {
          "name": "stdout",
          "text": "{0, 1, 2}\n",
          "output_type": "stream"
        },
        {
          "output_type": "display_data",
          "data": {
            "text/plain": "<Figure size 640x480 with 1 Axes>",
            "image/png": "[encoded data removed]"
          },
          "metadata": {}
        },
        {
          "name": "stdout",
          "text": "{0, 1, 2}\n",
          "output_type": "stream"
        },
        {
          "output_type": "display_data",
          "data": {
            "text/plain": "<Figure size 640x480 with 1 Axes>",
            "image/png": "[encoded data removed]"
          },
          "metadata": {}
        }
      ]
    },
    {
      "cell_type": "markdown",
      "source": " For each sample we calculate the  probability of belonging to each class, not including the dummy class.\n",
      "metadata": {}
    },
    {
      "cell_type": "code",
      "source": "probability_array=np.zeros((X.shape[0],3))\nfor j,model in enumerate(my_models):\n\n    real_class=np.where(np.array(model.classes_)!=3)[0]\n\n    probability_array[:,j]=model.predict_proba(X)[:,real_class][:,0]",
      "metadata": {
        "trusted": true
      },
      "execution_count": 60,
      "outputs": []
    },
    {
      "cell_type": "code",
      "source": "X.shape",
      "metadata": {
        "trusted": true
      },
      "execution_count": 53,
      "outputs": [
        {
          "execution_count": 53,
          "output_type": "execute_result",
          "data": {
            "text/plain": "(150, 2)"
          },
          "metadata": {}
        }
      ]
    },
    {
      "cell_type": "code",
      "source": "X.shape[0]",
      "metadata": {
        "trusted": true
      },
      "execution_count": 54,
      "outputs": [
        {
          "execution_count": 54,
          "output_type": "execute_result",
          "data": {
            "text/plain": "150"
          },
          "metadata": {}
        }
      ]
    },
    {
      "cell_type": "code",
      "source": "my_models",
      "metadata": {
        "trusted": true
      },
      "execution_count": 55,
      "outputs": [
        {
          "execution_count": 55,
          "output_type": "execute_result",
          "data": {
            "text/plain": "[SVC(gamma=0.5, kernel='linear', probability=True),\n SVC(gamma=0.5, kernel='linear', probability=True),\n SVC(gamma=0.5, kernel='linear', probability=True)]"
          },
          "metadata": {}
        }
      ]
    },
    {
      "cell_type": "code",
      "source": "for i in my_models:\n    print(i)",
      "metadata": {
        "trusted": true
      },
      "execution_count": 56,
      "outputs": [
        {
          "name": "stdout",
          "text": "SVC(gamma=0.5, kernel='linear', probability=True)\nSVC(gamma=0.5, kernel='linear', probability=True)\nSVC(gamma=0.5, kernel='linear', probability=True)\n",
          "output_type": "stream"
        }
      ]
    },
    {
      "cell_type": "code",
      "source": "for i,x in enumerate(my_models):\n    print(i)",
      "metadata": {
        "trusted": true
      },
      "execution_count": 57,
      "outputs": [
        {
          "name": "stdout",
          "text": "0\n1\n2\n",
          "output_type": "stream"
        }
      ]
    },
    {
      "cell_type": "code",
      "source": "for i,x in enumerate(my_models):\n    print(x)",
      "metadata": {
        "trusted": true
      },
      "execution_count": 58,
      "outputs": [
        {
          "name": "stdout",
          "text": "SVC(gamma=0.5, kernel='linear', probability=True)\nSVC(gamma=0.5, kernel='linear', probability=True)\nSVC(gamma=0.5, kernel='linear', probability=True)\n",
          "output_type": "stream"
        }
      ]
    },
    {
      "cell_type": "code",
      "source": "for i,x in enumerate(my_models):\n    print(i, x)",
      "metadata": {
        "trusted": true
      },
      "execution_count": 59,
      "outputs": [
        {
          "name": "stdout",
          "text": "0 SVC(gamma=0.5, kernel='linear', probability=True)\n1 SVC(gamma=0.5, kernel='linear', probability=True)\n2 SVC(gamma=0.5, kernel='linear', probability=True)\n",
          "output_type": "stream"
        }
      ]
    },
    {
      "cell_type": "code",
      "source": "X.shape",
      "metadata": {
        "trusted": true
      },
      "execution_count": 61,
      "outputs": [
        {
          "execution_count": 61,
          "output_type": "execute_result",
          "data": {
            "text/plain": "(150, 2)"
          },
          "metadata": {}
        }
      ]
    },
    {
      "cell_type": "code",
      "source": "np.zeros((X.shape[0],3))[0:5] # doesn't work with only 1 bracket, has to be ((...)) otherwise --> TypeError: Cannot interpret '3' as a data type",
      "metadata": {
        "trusted": true
      },
      "execution_count": 71,
      "outputs": [
        {
          "execution_count": 71,
          "output_type": "execute_result",
          "data": {
            "text/plain": "array([[0., 0., 0.],\n       [0., 0., 0.],\n       [0., 0., 0.],\n       [0., 0., 0.],\n       [0., 0., 0.]])"
          },
          "metadata": {}
        }
      ]
    },
    {
      "cell_type": "code",
      "source": "np.zeros((X.shape[1],3))[0:5]",
      "metadata": {
        "trusted": true
      },
      "execution_count": 111,
      "outputs": [
        {
          "execution_count": 111,
          "output_type": "execute_result",
          "data": {
            "text/plain": "array([[0., 0., 0.],\n       [0., 0., 0.]])"
          },
          "metadata": {}
        }
      ]
    },
    {
      "cell_type": "code",
      "source": "dir(my_models)",
      "metadata": {
        "trusted": true
      },
      "execution_count": 73,
      "outputs": [
        {
          "execution_count": 73,
          "output_type": "execute_result",
          "data": {
            "text/plain": "['__add__',\n '__class__',\n '__class_getitem__',\n '__contains__',\n '__delattr__',\n '__delitem__',\n '__dir__',\n '__doc__',\n '__eq__',\n '__format__',\n '__ge__',\n '__getattribute__',\n '__getitem__',\n '__getstate__',\n '__gt__',\n '__hash__',\n '__iadd__',\n '__imul__',\n '__init__',\n '__init_subclass__',\n '__iter__',\n '__le__',\n '__len__',\n '__lt__',\n '__mul__',\n '__ne__',\n '__new__',\n '__reduce__',\n '__reduce_ex__',\n '__repr__',\n '__reversed__',\n '__rmul__',\n '__setattr__',\n '__setitem__',\n '__sizeof__',\n '__str__',\n '__subclasshook__',\n 'append',\n 'clear',\n 'copy',\n 'count',\n 'extend',\n 'index',\n 'insert',\n 'pop',\n 'remove',\n 'reverse',\n 'sort']"
          },
          "metadata": {}
        }
      ]
    },
    {
      "cell_type": "code",
      "source": "'__class__' in dir(my_models)",
      "metadata": {
        "trusted": true
      },
      "execution_count": 151,
      "outputs": [
        {
          "execution_count": 151,
          "output_type": "execute_result",
          "data": {
            "text/plain": "True"
          },
          "metadata": {}
        }
      ]
    },
    {
      "cell_type": "code",
      "source": "dir(svm)",
      "metadata": {
        "trusted": true
      },
      "execution_count": 152,
      "outputs": [
        {
          "execution_count": 152,
          "output_type": "execute_result",
          "data": {
            "text/plain": "['C',\n '__abstractmethods__',\n '__annotations__',\n '__class__',\n '__delattr__',\n '__dict__',\n '__dir__',\n '__doc__',\n '__eq__',\n '__format__',\n '__ge__',\n '__getattribute__',\n '__getstate__',\n '__gt__',\n '__hash__',\n '__init__',\n '__init_subclass__',\n '__le__',\n '__lt__',\n '__module__',\n '__ne__',\n '__new__',\n '__reduce__',\n '__reduce_ex__',\n '__repr__',\n '__setattr__',\n '__setstate__',\n '__sizeof__',\n '__str__',\n '__subclasshook__',\n '__weakref__',\n '_abc_impl',\n '_check_feature_names',\n '_check_n_features',\n '_check_proba',\n '_class_weight',\n '_compute_kernel',\n '_decision_function',\n '_dense_decision_function',\n '_dense_fit',\n '_dense_predict',\n '_dense_predict_proba',\n '_dual_coef_',\n '_estimator_type',\n '_gamma',\n '_get_coef',\n '_get_param_names',\n '_get_tags',\n '_impl',\n '_intercept_',\n '_more_tags',\n '_n_support',\n '_num_iter',\n '_parameter_constraints',\n '_probA',\n '_probB',\n '_repr_html_',\n '_repr_html_inner',\n '_repr_mimebundle_',\n '_sparse',\n '_sparse_decision_function',\n '_sparse_fit',\n '_sparse_kernels',\n '_sparse_predict',\n '_sparse_predict_proba',\n '_validate_data',\n '_validate_for_predict',\n '_validate_params',\n '_validate_targets',\n '_warn_from_fit_status',\n 'break_ties',\n 'cache_size',\n 'class_weight',\n 'class_weight_',\n 'classes_',\n 'coef0',\n 'coef_',\n 'decision_function',\n 'decision_function_shape',\n 'degree',\n 'dual_coef_',\n 'epsilon',\n 'fit',\n 'fit_status_',\n 'gamma',\n 'get_params',\n 'intercept_',\n 'kernel',\n 'max_iter',\n 'n_features_in_',\n 'n_iter_',\n 'n_support_',\n 'nu',\n 'predict',\n 'predict_log_proba',\n 'predict_proba',\n 'probA_',\n 'probB_',\n 'probability',\n 'random_state',\n 'score',\n 'set_params',\n 'shape_fit_',\n 'shrinking',\n 'support_',\n 'support_vectors_',\n 'tol',\n 'unused_param',\n 'verbose']"
          },
          "metadata": {}
        }
      ]
    },
    {
      "cell_type": "code",
      "source": "'__class__' and 'classes_' in dir(svm)",
      "metadata": {
        "trusted": true
      },
      "execution_count": 156,
      "outputs": [
        {
          "execution_count": 156,
          "output_type": "execute_result",
          "data": {
            "text/plain": "True"
          },
          "metadata": {}
        }
      ]
    },
    {
      "cell_type": "code",
      "source": "svm.__class__",
      "metadata": {
        "trusted": true
      },
      "execution_count": 148,
      "outputs": [
        {
          "execution_count": 148,
          "output_type": "execute_result",
          "data": {
            "text/plain": "sklearn.svm._classes.SVC"
          },
          "metadata": {}
        }
      ]
    },
    {
      "cell_type": "code",
      "source": "svm.classes_",
      "metadata": {
        "trusted": true
      },
      "execution_count": 81,
      "outputs": [
        {
          "execution_count": 81,
          "output_type": "execute_result",
          "data": {
            "text/plain": "array([0, 1, 2])"
          },
          "metadata": {}
        }
      ]
    },
    {
      "cell_type": "code",
      "source": "np.where(np.array(svm.classes_)!=3)[0]",
      "metadata": {
        "trusted": true
      },
      "execution_count": 83,
      "outputs": [
        {
          "execution_count": 83,
          "output_type": "execute_result",
          "data": {
            "text/plain": "array([0, 1, 2], dtype=int32)"
          },
          "metadata": {}
        }
      ]
    },
    {
      "cell_type": "code",
      "source": "np.where(np.array(svm.classes_)!=3)[1]",
      "metadata": {
        "trusted": true
      },
      "execution_count": 104,
      "outputs": [
        {
          "ename": "<class 'IndexError'>",
          "evalue": "tuple index out of range",
          "traceback": [
            "\u001b[0;31m---------------------------------------------------------------------------\u001b[0m",
            "\u001b[0;31mIndexError\u001b[0m                                Traceback (most recent call last)",
            "Cell \u001b[0;32mIn[104], line 1\u001b[0m\n\u001b[0;32m----> 1\u001b[0m \u001b[43mnp\u001b[49m\u001b[38;5;241;43m.\u001b[39;49m\u001b[43mwhere\u001b[49m\u001b[43m(\u001b[49m\u001b[43mnp\u001b[49m\u001b[38;5;241;43m.\u001b[39;49m\u001b[43marray\u001b[49m\u001b[43m(\u001b[49m\u001b[43msvm\u001b[49m\u001b[38;5;241;43m.\u001b[39;49m\u001b[43mclasses_\u001b[49m\u001b[43m)\u001b[49m\u001b[38;5;241;43m!=\u001b[39;49m\u001b[38;5;241;43m3\u001b[39;49m\u001b[43m)\u001b[49m\u001b[43m[\u001b[49m\u001b[38;5;241;43m1\u001b[39;49m\u001b[43m]\u001b[49m\n",
            "\u001b[0;31mIndexError\u001b[0m: tuple index out of range"
          ],
          "output_type": "error"
        }
      ]
    },
    {
      "cell_type": "code",
      "source": "np.where(np.array(svm.classes_)!=3)[2]",
      "metadata": {
        "trusted": true
      },
      "execution_count": 126,
      "outputs": [
        {
          "ename": "<class 'IndexError'>",
          "evalue": "tuple index out of range",
          "traceback": [
            "\u001b[0;31m---------------------------------------------------------------------------\u001b[0m",
            "\u001b[0;31mIndexError\u001b[0m                                Traceback (most recent call last)",
            "Cell \u001b[0;32mIn[126], line 1\u001b[0m\n\u001b[0;32m----> 1\u001b[0m \u001b[43mnp\u001b[49m\u001b[38;5;241;43m.\u001b[39;49m\u001b[43mwhere\u001b[49m\u001b[43m(\u001b[49m\u001b[43mnp\u001b[49m\u001b[38;5;241;43m.\u001b[39;49m\u001b[43marray\u001b[49m\u001b[43m(\u001b[49m\u001b[43msvm\u001b[49m\u001b[38;5;241;43m.\u001b[39;49m\u001b[43mclasses_\u001b[49m\u001b[43m)\u001b[49m\u001b[38;5;241;43m!=\u001b[39;49m\u001b[38;5;241;43m3\u001b[39;49m\u001b[43m)\u001b[49m\u001b[43m[\u001b[49m\u001b[38;5;241;43m2\u001b[39;49m\u001b[43m]\u001b[49m\n",
            "\u001b[0;31mIndexError\u001b[0m: tuple index out of range"
          ],
          "output_type": "error"
        }
      ]
    },
    {
      "cell_type": "code",
      "source": "# I assume it slices index 0 of the output of np.where(np.array(svm.classes_)!=3)[0]\n# Output: array([0, 1, 2], dtype=int32)\n# here the last slice element [:,0] --> indicates that the probability should be done for the class \"0\" (here also index 0)\n# FOR REAL--># selects and outputs all values of the 1st column or index 0 of svm.predict_proba(X)[:,np.where(np.array(svm.classes_)!=3)[0]]\nsvm.predict_proba(X)[:,np.where(np.array(svm.classes_)!=3)[0]][:,0]",
      "metadata": {
        "trusted": true
      },
      "execution_count": 107,
      "outputs": [
        {
          "execution_count": 107,
          "output_type": "execute_result",
          "data": {
            "text/plain": "array([9.88605805e-01, 9.64509729e-01, 9.77908130e-01, 9.72080137e-01,\n       9.90727869e-01, 9.85225622e-01, 9.75728655e-01, 9.85892983e-01,\n       9.54659631e-01, 9.83947705e-01, 9.92397362e-01, 9.85892983e-01,\n       9.79661137e-01, 9.79661137e-01, 9.95618202e-01, 9.93779954e-01,\n       9.85225622e-01, 9.80485296e-01, 9.89405687e-01, 9.89405687e-01,\n       9.85892983e-01, 9.78076678e-01, 9.90727869e-01, 9.14228937e-01,\n       9.85892983e-01, 9.64509729e-01, 9.58233789e-01, 9.88605805e-01,\n       9.85892983e-01, 9.77908130e-01, 9.72080137e-01, 9.58233789e-01,\n       9.97765421e-01, 9.96859409e-01, 9.72080137e-01, 9.77908130e-01,\n       9.88605805e-01, 9.94540084e-01, 9.64509729e-01, 9.85892983e-01,\n       9.80485296e-01, 7.10205924e-01, 9.77908130e-01, 9.07285561e-01,\n       9.82067822e-01, 9.40436852e-01, 9.93719074e-01, 9.77908130e-01,\n       9.92397362e-01, 9.82407148e-01, 3.28535901e-02, 2.08699616e-02,\n       1.74949326e-02, 7.68667794e-03, 1.31303017e-02, 2.05330471e-02,\n       2.00443492e-02, 3.89124450e-02, 2.66303998e-02, 1.16072568e-02,\n       1.21731780e-02, 1.52663178e-02, 2.15221362e-02, 1.63399550e-02,\n       2.66303998e-02, 2.62154887e-02, 1.52663178e-02, 9.29183096e-02,\n       1.07738598e-02, 2.77001100e-02, 1.49386431e-02, 2.05330471e-02,\n       1.14925187e-02, 3.55452964e-02, 2.66303998e-02, 2.04440104e-02,\n       1.35117302e-02, 1.53781542e-02, 1.38781538e-02, 6.99904762e-02,\n       2.08681452e-02, 3.89124450e-02, 2.69656565e-02, 1.36140964e-02,\n       1.52663178e-02, 2.24358325e-02, 1.74949326e-02, 7.68667794e-03,\n       3.46654223e-02, 1.02985025e-02, 2.06234918e-02, 2.04440104e-02,\n       2.06234918e-02, 2.89096071e-02, 1.59414707e-02, 6.25553231e-02,\n       2.66303998e-02, 2.66303998e-02, 2.77001100e-02, 2.05330471e-02,\n       8.42037975e-04, 7.02645906e-03, 3.80858949e-03, 1.15549015e-02,\n       2.40140917e-03, 3.80858949e-03, 1.08646006e-02, 1.15549015e-02,\n       7.91142473e-03, 1.18889135e-03, 7.66481620e-03, 7.02645906e-03,\n       3.80858949e-03, 3.41928618e-03, 2.86937263e-06, 1.90088646e-03,\n       1.26183316e-02, 5.97945469e-03, 9.54493593e-04, 1.07738598e-02,\n       1.90088646e-03, 4.82500670e-03, 4.82500670e-03, 9.61037695e-03,\n       5.36048850e-03, 1.49386431e-02, 1.05521905e-02, 1.26183316e-02,\n       3.03165794e-03, 1.56584367e-02, 7.92715522e-03, 1.39630811e-02,\n       1.90993096e-03, 1.31303017e-02, 1.03644763e-02, 1.51112635e-03,\n       1.50363332e-03, 1.37442199e-02, 1.26183316e-02, 4.26835700e-03,\n       1.06523667e-03, 1.69488021e-03, 7.02645906e-03, 1.90088646e-03,\n       8.42037975e-04, 1.51112635e-03, 5.53098505e-03, 6.07719743e-03,\n       2.39067657e-03, 1.26183316e-02])"
          },
          "metadata": {}
        }
      ]
    },
    {
      "cell_type": "code",
      "source": "svm.predict_proba(X)[np.where(np.array(svm.classes_)!=3)[0]][:,0]",
      "metadata": {
        "trusted": true
      },
      "execution_count": 108,
      "outputs": [
        {
          "execution_count": 108,
          "output_type": "execute_result",
          "data": {
            "text/plain": "array([0.98860581, 0.96450973, 0.97790813])"
          },
          "metadata": {}
        }
      ]
    },
    {
      "cell_type": "code",
      "source": "svm.predict_proba(X)[0,np.where(np.array(svm.classes_)!=3)[0]][:,0]",
      "metadata": {
        "trusted": true
      },
      "execution_count": 109,
      "outputs": [
        {
          "ename": "<class 'IndexError'>",
          "evalue": "too many indices for array: array is 1-dimensional, but 2 were indexed",
          "traceback": [
            "\u001b[0;31m---------------------------------------------------------------------------\u001b[0m",
            "\u001b[0;31mIndexError\u001b[0m                                Traceback (most recent call last)",
            "Cell \u001b[0;32mIn[109], line 1\u001b[0m\n\u001b[0;32m----> 1\u001b[0m \u001b[43msvm\u001b[49m\u001b[38;5;241;43m.\u001b[39;49m\u001b[43mpredict_proba\u001b[49m\u001b[43m(\u001b[49m\u001b[43mX\u001b[49m\u001b[43m)\u001b[49m\u001b[43m[\u001b[49m\u001b[38;5;241;43m0\u001b[39;49m\u001b[43m,\u001b[49m\u001b[43mnp\u001b[49m\u001b[38;5;241;43m.\u001b[39;49m\u001b[43mwhere\u001b[49m\u001b[43m(\u001b[49m\u001b[43mnp\u001b[49m\u001b[38;5;241;43m.\u001b[39;49m\u001b[43marray\u001b[49m\u001b[43m(\u001b[49m\u001b[43msvm\u001b[49m\u001b[38;5;241;43m.\u001b[39;49m\u001b[43mclasses_\u001b[49m\u001b[43m)\u001b[49m\u001b[38;5;241;43m!=\u001b[39;49m\u001b[38;5;241;43m3\u001b[39;49m\u001b[43m)\u001b[49m\u001b[43m[\u001b[49m\u001b[38;5;241;43m0\u001b[39;49m\u001b[43m]\u001b[49m\u001b[43m]\u001b[49m\u001b[43m[\u001b[49m\u001b[43m:\u001b[49m\u001b[43m,\u001b[49m\u001b[38;5;241;43m0\u001b[39;49m\u001b[43m]\u001b[49m\n",
            "\u001b[0;31mIndexError\u001b[0m: too many indices for array: array is 1-dimensional, but 2 were indexed"
          ],
          "output_type": "error"
        }
      ]
    },
    {
      "cell_type": "code",
      "source": "svm.predict_proba(X)[1,np.where(np.array(svm.classes_)!=3)[0]][:,0]",
      "metadata": {
        "trusted": true
      },
      "execution_count": 110,
      "outputs": [
        {
          "ename": "<class 'IndexError'>",
          "evalue": "too many indices for array: array is 1-dimensional, but 2 were indexed",
          "traceback": [
            "\u001b[0;31m---------------------------------------------------------------------------\u001b[0m",
            "\u001b[0;31mIndexError\u001b[0m                                Traceback (most recent call last)",
            "Cell \u001b[0;32mIn[110], line 1\u001b[0m\n\u001b[0;32m----> 1\u001b[0m \u001b[43msvm\u001b[49m\u001b[38;5;241;43m.\u001b[39;49m\u001b[43mpredict_proba\u001b[49m\u001b[43m(\u001b[49m\u001b[43mX\u001b[49m\u001b[43m)\u001b[49m\u001b[43m[\u001b[49m\u001b[38;5;241;43m1\u001b[39;49m\u001b[43m,\u001b[49m\u001b[43mnp\u001b[49m\u001b[38;5;241;43m.\u001b[39;49m\u001b[43mwhere\u001b[49m\u001b[43m(\u001b[49m\u001b[43mnp\u001b[49m\u001b[38;5;241;43m.\u001b[39;49m\u001b[43marray\u001b[49m\u001b[43m(\u001b[49m\u001b[43msvm\u001b[49m\u001b[38;5;241;43m.\u001b[39;49m\u001b[43mclasses_\u001b[49m\u001b[43m)\u001b[49m\u001b[38;5;241;43m!=\u001b[39;49m\u001b[38;5;241;43m3\u001b[39;49m\u001b[43m)\u001b[49m\u001b[43m[\u001b[49m\u001b[38;5;241;43m0\u001b[39;49m\u001b[43m]\u001b[49m\u001b[43m]\u001b[49m\u001b[43m[\u001b[49m\u001b[43m:\u001b[49m\u001b[43m,\u001b[49m\u001b[38;5;241;43m0\u001b[39;49m\u001b[43m]\u001b[49m\n",
            "\u001b[0;31mIndexError\u001b[0m: too many indices for array: array is 1-dimensional, but 2 were indexed"
          ],
          "output_type": "error"
        }
      ]
    },
    {
      "cell_type": "code",
      "source": "# I assume it slices index 1 of the output of np.where(np.array(svm.classes_)!=3)[0]\n# Output: array([0, 1, 2], dtype=int32)\n# here the last slice element [:,1] --> indicates that the probability should be done for the class \"1\" (here also index 1)\n# FOR REAL-->selects and outputs all values of the 2nd column or index 1 of svm.predict_proba(X)[:,np.where(np.array(svm.classes_)!=3)[0]]\nsvm.predict_proba(X)[:,np.where(np.array(svm.classes_)!=3)[0]][:,1]",
      "metadata": {
        "trusted": true
      },
      "execution_count": 117,
      "outputs": [
        {
          "execution_count": 117,
          "output_type": "execute_result",
          "data": {
            "text/plain": "array([6.23760441e-03, 2.65611137e-02, 1.48914489e-02, 1.98930113e-02,\n       4.66608889e-03, 6.54493416e-03, 1.51811698e-02, 8.33783350e-03,\n       3.54359738e-02, 1.09483302e-02, 3.49038869e-03, 8.33783350e-03,\n       1.46385456e-02, 1.46385456e-02, 1.46098846e-03, 1.54990351e-03,\n       6.54493416e-03, 1.13703237e-02, 4.77284364e-03, 4.77284364e-03,\n       8.33783350e-03, 1.16444808e-02, 4.66608889e-03, 6.21334567e-02,\n       8.33783350e-03, 2.65611137e-02, 2.75759806e-02, 6.23760441e-03,\n       8.33783350e-03, 1.48914489e-02, 1.98930113e-02, 2.75759806e-02,\n       5.97431818e-04, 8.17657075e-04, 1.98930113e-02, 1.48914489e-02,\n       6.23760441e-03, 2.55785507e-03, 2.65611137e-02, 8.33783350e-03,\n       1.13703237e-02, 2.67223941e-01, 1.48914489e-02, 6.32387822e-02,\n       8.73047212e-03, 4.58667421e-02, 2.61090494e-03, 1.48914489e-02,\n       3.49038869e-03, 1.11439026e-02, 9.22009753e-01, 8.67315395e-01,\n       8.52046249e-01, 9.22963662e-01, 7.83241958e-01, 9.47727648e-01,\n       7.47796427e-01, 9.50329453e-01, 9.45075206e-01, 8.92668782e-01,\n       9.80660719e-01, 8.32814190e-01, 9.70702498e-01, 9.14130071e-01,\n       9.45075206e-01, 9.22333535e-01, 8.32814190e-01, 8.85120526e-01,\n       5.63489731e-01, 9.60945920e-01, 2.39270740e-01, 9.47727648e-01,\n       6.84955502e-01, 9.47591715e-01, 9.45075206e-01, 9.20033224e-01,\n       9.04934087e-01, 3.88612077e-01, 8.09834198e-01, 9.12861553e-01,\n       9.68202472e-01, 9.50329453e-01, 9.56234453e-01, 5.18820376e-01,\n       8.32814190e-01, 7.75637268e-01, 8.52046249e-01, 9.22963662e-01,\n       9.39182628e-01, 9.39797898e-01, 9.61646133e-01, 9.20033224e-01,\n       9.61646133e-01, 9.62178086e-01, 9.47599834e-01, 9.16787489e-01,\n       9.45075206e-01, 9.45075206e-01, 9.60945920e-01, 9.47727648e-01,\n       2.23162088e-04, 4.30777718e-02, 9.12281508e-03, 1.56591211e-01,\n       3.17161026e-03, 9.12281508e-03, 2.09152763e-01, 1.56591211e-01,\n       8.39984553e-02, 3.80400969e-04, 3.64158348e-02, 4.30777718e-02,\n       9.12281508e-03, 1.08546795e-02, 3.43770204e-06, 1.56460914e-03,\n       1.81256175e-01, 1.29922657e-02, 5.39580698e-04, 5.63489731e-01,\n       1.56460914e-03, 1.83164553e-02, 1.83164553e-02, 1.15449661e-01,\n       1.54213690e-02, 2.39270740e-01, 1.34708777e-01, 1.81256175e-01,\n       6.41703292e-03, 6.43950722e-01, 5.09313476e-02, 9.85044848e-02,\n       2.22580512e-03, 7.83241958e-01, 8.77431638e-01, 1.09729823e-03,\n       7.71437663e-04, 2.08807164e-01, 1.81256175e-01, 1.08721244e-02,\n       4.52805011e-04, 1.31030092e-03, 4.30777718e-02, 1.56460914e-03,\n       2.23162088e-04, 1.09729823e-03, 3.06832888e-02, 2.58760122e-02,\n       2.23065318e-03, 1.81256175e-01])"
          },
          "metadata": {}
        }
      ]
    },
    {
      "cell_type": "code",
      "source": "# I assume it slices index 2 of the output of np.where(np.array(svm.classes_)!=3)[0]\n# Output: array([0, 1, 2], dtype=int32)\n# here the last slice element [:,2] --> indicates that the probability should be done for the class \"2\" (here also index 2)\n# FOR REAL--># selects and outputs all values of the 3rd column or index 2 of svm.predict_proba(X)[:,np.where(np.array(svm.classes_)!=3)[0]]\nsvm.predict_proba(X)[:,np.where(np.array(svm.classes_)!=3)[0]][:,2]",
      "metadata": {
        "trusted": true
      },
      "execution_count": 118,
      "outputs": [
        {
          "execution_count": 118,
          "output_type": "execute_result",
          "data": {
            "text/plain": "array([0.00515659, 0.00892916, 0.00720042, 0.00802685, 0.00460604,\n       0.00822944, 0.00909018, 0.00576918, 0.0099044 , 0.00510396,\n       0.00411225, 0.00576918, 0.00570032, 0.00570032, 0.00292081,\n       0.00467014, 0.00822944, 0.00814438, 0.00582147, 0.00582147,\n       0.00576918, 0.01027884, 0.00460604, 0.02363761, 0.00576918,\n       0.00892916, 0.01419023, 0.00515659, 0.00576918, 0.00720042,\n       0.00802685, 0.01419023, 0.00163715, 0.00232293, 0.00802685,\n       0.00720042, 0.00515659, 0.00290206, 0.00892916, 0.00576918,\n       0.00814438, 0.02257014, 0.00720042, 0.02947566, 0.00920171,\n       0.01369641, 0.00367002, 0.00720042, 0.00411225, 0.00644895,\n       0.04513666, 0.11181464, 0.13045882, 0.06934966, 0.20362774,\n       0.0317393 , 0.23215922, 0.0107581 , 0.02829439, 0.09572396,\n       0.0071661 , 0.15191949, 0.00777537, 0.06952997, 0.02829439,\n       0.05145098, 0.15191949, 0.02196116, 0.42573641, 0.01135397,\n       0.74579062, 0.0317393 , 0.30355198, 0.01686299, 0.02829439,\n       0.05952277, 0.08155418, 0.59600977, 0.17628765, 0.01714797,\n       0.01092938, 0.0107581 , 0.01679989, 0.46756553, 0.15191949,\n       0.2019269 , 0.13045882, 0.06934966, 0.02615195, 0.0499036 ,\n       0.01773038, 0.05952277, 0.01773038, 0.00891231, 0.0364587 ,\n       0.02065719, 0.02829439, 0.02829439, 0.01135397, 0.0317393 ,\n       0.9989348 , 0.94989577, 0.9870686 , 0.83185389, 0.99442698,\n       0.9870686 , 0.77998264, 0.83185389, 0.90809012, 0.99843071,\n       0.95591935, 0.94989577, 0.9870686 , 0.98572603, 0.99999369,\n       0.9965345 , 0.80612549, 0.98102828, 0.99850593, 0.42573641,\n       0.9965345 , 0.97685854, 0.97685854, 0.87493996, 0.97921814,\n       0.74579062, 0.85473903, 0.80612549, 0.99055131, 0.34039084,\n       0.9411415 , 0.88753243, 0.99586426, 0.20362774, 0.11220389,\n       0.99739158, 0.99772493, 0.77744862, 0.80612549, 0.98485952,\n       0.99848196, 0.99699482, 0.94989577, 0.9965345 , 0.9989348 ,\n       0.99739158, 0.96378573, 0.96804679, 0.99537867, 0.80612549])"
          },
          "metadata": {}
        }
      ]
    },
    {
      "cell_type": "code",
      "source": "svm.predict_proba(X)[:,np.where(np.array(svm.classes_)!=3)[0]][:,3]",
      "metadata": {
        "trusted": true
      },
      "execution_count": 119,
      "outputs": [
        {
          "ename": "<class 'IndexError'>",
          "evalue": "index 3 is out of bounds for axis 1 with size 3",
          "traceback": [
            "\u001b[0;31m---------------------------------------------------------------------------\u001b[0m",
            "\u001b[0;31mIndexError\u001b[0m                                Traceback (most recent call last)",
            "Cell \u001b[0;32mIn[119], line 1\u001b[0m\n\u001b[0;32m----> 1\u001b[0m \u001b[43msvm\u001b[49m\u001b[38;5;241;43m.\u001b[39;49m\u001b[43mpredict_proba\u001b[49m\u001b[43m(\u001b[49m\u001b[43mX\u001b[49m\u001b[43m)\u001b[49m\u001b[43m[\u001b[49m\u001b[43m:\u001b[49m\u001b[43m,\u001b[49m\u001b[43mnp\u001b[49m\u001b[38;5;241;43m.\u001b[39;49m\u001b[43mwhere\u001b[49m\u001b[43m(\u001b[49m\u001b[43mnp\u001b[49m\u001b[38;5;241;43m.\u001b[39;49m\u001b[43marray\u001b[49m\u001b[43m(\u001b[49m\u001b[43msvm\u001b[49m\u001b[38;5;241;43m.\u001b[39;49m\u001b[43mclasses_\u001b[49m\u001b[43m)\u001b[49m\u001b[38;5;241;43m!=\u001b[39;49m\u001b[38;5;241;43m3\u001b[39;49m\u001b[43m)\u001b[49m\u001b[43m[\u001b[49m\u001b[38;5;241;43m0\u001b[39;49m\u001b[43m]\u001b[49m\u001b[43m]\u001b[49m\u001b[43m[\u001b[49m\u001b[43m:\u001b[49m\u001b[43m,\u001b[49m\u001b[38;5;241;43m3\u001b[39;49m\u001b[43m]\u001b[49m\n",
            "\u001b[0;31mIndexError\u001b[0m: index 3 is out of bounds for axis 1 with size 3"
          ],
          "output_type": "error"
        }
      ]
    },
    {
      "cell_type": "code",
      "source": "svm.predict_proba(X)[:,np.where(np.array(svm.classes_)!=3)[0]][0]",
      "metadata": {
        "trusted": true
      },
      "execution_count": 120,
      "outputs": [
        {
          "execution_count": 120,
          "output_type": "execute_result",
          "data": {
            "text/plain": "array([0.98860581, 0.0062376 , 0.00515659])"
          },
          "metadata": {}
        }
      ]
    },
    {
      "cell_type": "code",
      "source": "svm.predict_proba(X)[:,np.where(np.array(svm.classes_)!=3)[0]][0,:]",
      "metadata": {
        "trusted": true
      },
      "execution_count": 123,
      "outputs": [
        {
          "execution_count": 123,
          "output_type": "execute_result",
          "data": {
            "text/plain": "array([0.98860581, 0.0062376 , 0.00515659])"
          },
          "metadata": {}
        }
      ]
    },
    {
      "cell_type": "code",
      "source": "# selects and outputs all values of the 2nd column or index 1 of svm.predict_proba(X)[:,np.where(np.array(svm.classes_)!=3)[0]]\nsvm.predict_proba(X)[:,np.where(np.array(svm.classes_)!=3)[0]][:,1]",
      "metadata": {
        "trusted": true
      },
      "execution_count": 125,
      "outputs": [
        {
          "execution_count": 125,
          "output_type": "execute_result",
          "data": {
            "text/plain": "array([6.23760441e-03, 2.65611137e-02, 1.48914489e-02, 1.98930113e-02,\n       4.66608889e-03, 6.54493416e-03, 1.51811698e-02, 8.33783350e-03,\n       3.54359738e-02, 1.09483302e-02, 3.49038869e-03, 8.33783350e-03,\n       1.46385456e-02, 1.46385456e-02, 1.46098846e-03, 1.54990351e-03,\n       6.54493416e-03, 1.13703237e-02, 4.77284364e-03, 4.77284364e-03,\n       8.33783350e-03, 1.16444808e-02, 4.66608889e-03, 6.21334567e-02,\n       8.33783350e-03, 2.65611137e-02, 2.75759806e-02, 6.23760441e-03,\n       8.33783350e-03, 1.48914489e-02, 1.98930113e-02, 2.75759806e-02,\n       5.97431818e-04, 8.17657075e-04, 1.98930113e-02, 1.48914489e-02,\n       6.23760441e-03, 2.55785507e-03, 2.65611137e-02, 8.33783350e-03,\n       1.13703237e-02, 2.67223941e-01, 1.48914489e-02, 6.32387822e-02,\n       8.73047212e-03, 4.58667421e-02, 2.61090494e-03, 1.48914489e-02,\n       3.49038869e-03, 1.11439026e-02, 9.22009753e-01, 8.67315395e-01,\n       8.52046249e-01, 9.22963662e-01, 7.83241958e-01, 9.47727648e-01,\n       7.47796427e-01, 9.50329453e-01, 9.45075206e-01, 8.92668782e-01,\n       9.80660719e-01, 8.32814190e-01, 9.70702498e-01, 9.14130071e-01,\n       9.45075206e-01, 9.22333535e-01, 8.32814190e-01, 8.85120526e-01,\n       5.63489731e-01, 9.60945920e-01, 2.39270740e-01, 9.47727648e-01,\n       6.84955502e-01, 9.47591715e-01, 9.45075206e-01, 9.20033224e-01,\n       9.04934087e-01, 3.88612077e-01, 8.09834198e-01, 9.12861553e-01,\n       9.68202472e-01, 9.50329453e-01, 9.56234453e-01, 5.18820376e-01,\n       8.32814190e-01, 7.75637268e-01, 8.52046249e-01, 9.22963662e-01,\n       9.39182628e-01, 9.39797898e-01, 9.61646133e-01, 9.20033224e-01,\n       9.61646133e-01, 9.62178086e-01, 9.47599834e-01, 9.16787489e-01,\n       9.45075206e-01, 9.45075206e-01, 9.60945920e-01, 9.47727648e-01,\n       2.23162088e-04, 4.30777718e-02, 9.12281508e-03, 1.56591211e-01,\n       3.17161026e-03, 9.12281508e-03, 2.09152763e-01, 1.56591211e-01,\n       8.39984553e-02, 3.80400969e-04, 3.64158348e-02, 4.30777718e-02,\n       9.12281508e-03, 1.08546795e-02, 3.43770204e-06, 1.56460914e-03,\n       1.81256175e-01, 1.29922657e-02, 5.39580698e-04, 5.63489731e-01,\n       1.56460914e-03, 1.83164553e-02, 1.83164553e-02, 1.15449661e-01,\n       1.54213690e-02, 2.39270740e-01, 1.34708777e-01, 1.81256175e-01,\n       6.41703292e-03, 6.43950722e-01, 5.09313476e-02, 9.85044848e-02,\n       2.22580512e-03, 7.83241958e-01, 8.77431638e-01, 1.09729823e-03,\n       7.71437663e-04, 2.08807164e-01, 1.81256175e-01, 1.08721244e-02,\n       4.52805011e-04, 1.31030092e-03, 4.30777718e-02, 1.56460914e-03,\n       2.23162088e-04, 1.09729823e-03, 3.06832888e-02, 2.58760122e-02,\n       2.23065318e-03, 1.81256175e-01])"
          },
          "metadata": {}
        }
      ]
    },
    {
      "cell_type": "code",
      "source": "svm.predict_proba(X)[:,np.where(np.array(svm.classes_)!=3)[0]]",
      "metadata": {
        "trusted": true
      },
      "execution_count": 121,
      "outputs": [
        {
          "execution_count": 121,
          "output_type": "execute_result",
          "data": {
            "text/plain": "array([[9.88605805e-01, 6.23760441e-03, 5.15659025e-03],\n       [9.64509729e-01, 2.65611137e-02, 8.92915691e-03],\n       [9.77908130e-01, 1.48914489e-02, 7.20042086e-03],\n       [9.72080137e-01, 1.98930113e-02, 8.02685150e-03],\n       [9.90727869e-01, 4.66608889e-03, 4.60604167e-03],\n       [9.85225622e-01, 6.54493416e-03, 8.22944415e-03],\n       [9.75728655e-01, 1.51811698e-02, 9.09017538e-03],\n       [9.85892983e-01, 8.33783350e-03, 5.76918367e-03],\n       [9.54659631e-01, 3.54359738e-02, 9.90439545e-03],\n       [9.83947705e-01, 1.09483302e-02, 5.10396457e-03],\n       [9.92397362e-01, 3.49038869e-03, 4.11224902e-03],\n       [9.85892983e-01, 8.33783350e-03, 5.76918367e-03],\n       [9.79661137e-01, 1.46385456e-02, 5.70031726e-03],\n       [9.79661137e-01, 1.46385456e-02, 5.70031726e-03],\n       [9.95618202e-01, 1.46098846e-03, 2.92080918e-03],\n       [9.93779954e-01, 1.54990351e-03, 4.67014208e-03],\n       [9.85225622e-01, 6.54493416e-03, 8.22944415e-03],\n       [9.80485296e-01, 1.13703237e-02, 8.14438048e-03],\n       [9.89405687e-01, 4.77284364e-03, 5.82146958e-03],\n       [9.89405687e-01, 4.77284364e-03, 5.82146958e-03],\n       [9.85892983e-01, 8.33783350e-03, 5.76918367e-03],\n       [9.78076678e-01, 1.16444808e-02, 1.02788411e-02],\n       [9.90727869e-01, 4.66608889e-03, 4.60604167e-03],\n       [9.14228937e-01, 6.21334567e-02, 2.36376058e-02],\n       [9.85892983e-01, 8.33783350e-03, 5.76918367e-03],\n       [9.64509729e-01, 2.65611137e-02, 8.92915691e-03],\n       [9.58233789e-01, 2.75759806e-02, 1.41902307e-02],\n       [9.88605805e-01, 6.23760441e-03, 5.15659025e-03],\n       [9.85892983e-01, 8.33783350e-03, 5.76918367e-03],\n       [9.77908130e-01, 1.48914489e-02, 7.20042086e-03],\n       [9.72080137e-01, 1.98930113e-02, 8.02685150e-03],\n       [9.58233789e-01, 2.75759806e-02, 1.41902307e-02],\n       [9.97765421e-01, 5.97431818e-04, 1.63714681e-03],\n       [9.96859409e-01, 8.17657075e-04, 2.32293348e-03],\n       [9.72080137e-01, 1.98930113e-02, 8.02685150e-03],\n       [9.77908130e-01, 1.48914489e-02, 7.20042086e-03],\n       [9.88605805e-01, 6.23760441e-03, 5.15659025e-03],\n       [9.94540084e-01, 2.55785507e-03, 2.90206091e-03],\n       [9.64509729e-01, 2.65611137e-02, 8.92915691e-03],\n       [9.85892983e-01, 8.33783350e-03, 5.76918367e-03],\n       [9.80485296e-01, 1.13703237e-02, 8.14438048e-03],\n       [7.10205924e-01, 2.67223941e-01, 2.25701351e-02],\n       [9.77908130e-01, 1.48914489e-02, 7.20042086e-03],\n       [9.07285561e-01, 6.32387822e-02, 2.94756566e-02],\n       [9.82067822e-01, 8.73047212e-03, 9.20170629e-03],\n       [9.40436852e-01, 4.58667421e-02, 1.36964057e-02],\n       [9.93719074e-01, 2.61090494e-03, 3.67002130e-03],\n       [9.77908130e-01, 1.48914489e-02, 7.20042086e-03],\n       [9.92397362e-01, 3.49038869e-03, 4.11224902e-03],\n       [9.82407148e-01, 1.11439026e-02, 6.44894909e-03],\n       [3.28535901e-02, 9.22009753e-01, 4.51366572e-02],\n       [2.08699616e-02, 8.67315395e-01, 1.11814643e-01],\n       [1.74949326e-02, 8.52046249e-01, 1.30458818e-01],\n       [7.68667794e-03, 9.22963662e-01, 6.93496604e-02],\n       [1.31303017e-02, 7.83241958e-01, 2.03627740e-01],\n       [2.05330471e-02, 9.47727648e-01, 3.17393048e-02],\n       [2.00443492e-02, 7.47796427e-01, 2.32159224e-01],\n       [3.89124450e-02, 9.50329453e-01, 1.07581020e-02],\n       [2.66303998e-02, 9.45075206e-01, 2.82943947e-02],\n       [1.16072568e-02, 8.92668782e-01, 9.57239609e-02],\n       [1.21731780e-02, 9.80660719e-01, 7.16610339e-03],\n       [1.52663178e-02, 8.32814190e-01, 1.51919492e-01],\n       [2.15221362e-02, 9.70702498e-01, 7.77536584e-03],\n       [1.63399550e-02, 9.14130071e-01, 6.95299740e-02],\n       [2.66303998e-02, 9.45075206e-01, 2.82943947e-02],\n       [2.62154887e-02, 9.22333535e-01, 5.14509758e-02],\n       [1.52663178e-02, 8.32814190e-01, 1.51919492e-01],\n       [9.29183096e-02, 8.85120526e-01, 2.19611647e-02],\n       [1.07738598e-02, 5.63489731e-01, 4.25736409e-01],\n       [2.77001100e-02, 9.60945920e-01, 1.13539701e-02],\n       [1.49386431e-02, 2.39270740e-01, 7.45790617e-01],\n       [2.05330471e-02, 9.47727648e-01, 3.17393048e-02],\n       [1.14925187e-02, 6.84955502e-01, 3.03551980e-01],\n       [3.55452964e-02, 9.47591715e-01, 1.68629889e-02],\n       [2.66303998e-02, 9.45075206e-01, 2.82943947e-02],\n       [2.04440104e-02, 9.20033224e-01, 5.95227659e-02],\n       [1.35117302e-02, 9.04934087e-01, 8.15541826e-02],\n       [1.53781542e-02, 3.88612077e-01, 5.96009768e-01],\n       [1.38781538e-02, 8.09834198e-01, 1.76287648e-01],\n       [6.99904762e-02, 9.12861553e-01, 1.71479712e-02],\n       [2.08681452e-02, 9.68202472e-01, 1.09293832e-02],\n       [3.89124450e-02, 9.50329453e-01, 1.07581020e-02],\n       [2.69656565e-02, 9.56234453e-01, 1.67998905e-02],\n       [1.36140964e-02, 5.18820376e-01, 4.67565528e-01],\n       [1.52663178e-02, 8.32814190e-01, 1.51919492e-01],\n       [2.24358325e-02, 7.75637268e-01, 2.01926900e-01],\n       [1.74949326e-02, 8.52046249e-01, 1.30458818e-01],\n       [7.68667794e-03, 9.22963662e-01, 6.93496604e-02],\n       [3.46654223e-02, 9.39182628e-01, 2.61519493e-02],\n       [1.02985025e-02, 9.39797898e-01, 4.99035999e-02],\n       [2.06234918e-02, 9.61646133e-01, 1.77303751e-02],\n       [2.04440104e-02, 9.20033224e-01, 5.95227659e-02],\n       [2.06234918e-02, 9.61646133e-01, 1.77303751e-02],\n       [2.89096071e-02, 9.62178086e-01, 8.91230700e-03],\n       [1.59414707e-02, 9.47599834e-01, 3.64586957e-02],\n       [6.25553231e-02, 9.16787489e-01, 2.06571882e-02],\n       [2.66303998e-02, 9.45075206e-01, 2.82943947e-02],\n       [2.66303998e-02, 9.45075206e-01, 2.82943947e-02],\n       [2.77001100e-02, 9.60945920e-01, 1.13539701e-02],\n       [2.05330471e-02, 9.47727648e-01, 3.17393048e-02],\n       [8.42037975e-04, 2.23162088e-04, 9.98934800e-01],\n       [7.02645906e-03, 4.30777718e-02, 9.49895769e-01],\n       [3.80858949e-03, 9.12281508e-03, 9.87068595e-01],\n       [1.15549015e-02, 1.56591211e-01, 8.31853888e-01],\n       [2.40140917e-03, 3.17161026e-03, 9.94426981e-01],\n       [3.80858949e-03, 9.12281508e-03, 9.87068595e-01],\n       [1.08646006e-02, 2.09152763e-01, 7.79982637e-01],\n       [1.15549015e-02, 1.56591211e-01, 8.31853888e-01],\n       [7.91142473e-03, 8.39984553e-02, 9.08090120e-01],\n       [1.18889135e-03, 3.80400969e-04, 9.98430708e-01],\n       [7.66481620e-03, 3.64158348e-02, 9.55919349e-01],\n       [7.02645906e-03, 4.30777718e-02, 9.49895769e-01],\n       [3.80858949e-03, 9.12281508e-03, 9.87068595e-01],\n       [3.41928618e-03, 1.08546795e-02, 9.85726034e-01],\n       [2.86937263e-06, 3.43770204e-06, 9.99993693e-01],\n       [1.90088646e-03, 1.56460914e-03, 9.96534504e-01],\n       [1.26183316e-02, 1.81256175e-01, 8.06125494e-01],\n       [5.97945469e-03, 1.29922657e-02, 9.81028280e-01],\n       [9.54493593e-04, 5.39580698e-04, 9.98505926e-01],\n       [1.07738598e-02, 5.63489731e-01, 4.25736409e-01],\n       [1.90088646e-03, 1.56460914e-03, 9.96534504e-01],\n       [4.82500670e-03, 1.83164553e-02, 9.76858538e-01],\n       [4.82500670e-03, 1.83164553e-02, 9.76858538e-01],\n       [9.61037695e-03, 1.15449661e-01, 8.74939962e-01],\n       [5.36048850e-03, 1.54213690e-02, 9.79218142e-01],\n       [1.49386431e-02, 2.39270740e-01, 7.45790617e-01],\n       [1.05521905e-02, 1.34708777e-01, 8.54739033e-01],\n       [1.26183316e-02, 1.81256175e-01, 8.06125494e-01],\n       [3.03165794e-03, 6.41703292e-03, 9.90551309e-01],\n       [1.56584367e-02, 6.43950722e-01, 3.40390841e-01],\n       [7.92715522e-03, 5.09313476e-02, 9.41141497e-01],\n       [1.39630811e-02, 9.85044848e-02, 8.87532434e-01],\n       [1.90993096e-03, 2.22580512e-03, 9.95864264e-01],\n       [1.31303017e-02, 7.83241958e-01, 2.03627740e-01],\n       [1.03644763e-02, 8.77431638e-01, 1.12203886e-01],\n       [1.51112635e-03, 1.09729823e-03, 9.97391575e-01],\n       [1.50363332e-03, 7.71437663e-04, 9.97724929e-01],\n       [1.37442199e-02, 2.08807164e-01, 7.77448616e-01],\n       [1.26183316e-02, 1.81256175e-01, 8.06125494e-01],\n       [4.26835700e-03, 1.08721244e-02, 9.84859519e-01],\n       [1.06523667e-03, 4.52805011e-04, 9.98481958e-01],\n       [1.69488021e-03, 1.31030092e-03, 9.96994819e-01],\n       [7.02645906e-03, 4.30777718e-02, 9.49895769e-01],\n       [1.90088646e-03, 1.56460914e-03, 9.96534504e-01],\n       [8.42037975e-04, 2.23162088e-04, 9.98934800e-01],\n       [1.51112635e-03, 1.09729823e-03, 9.97391575e-01],\n       [5.53098505e-03, 3.06832888e-02, 9.63785726e-01],\n       [6.07719743e-03, 2.58760122e-02, 9.68046790e-01],\n       [2.39067657e-03, 2.23065318e-03, 9.95378670e-01],\n       [1.26183316e-02, 1.81256175e-01, 8.06125494e-01]])"
          },
          "metadata": {}
        }
      ]
    },
    {
      "cell_type": "markdown",
      "source": "here is the probability of belonging to each class for the first sample.\n",
      "metadata": {}
    },
    {
      "cell_type": "code",
      "source": "# provided by lab, all the other variants are done by me\nprobability_array[0,:]",
      "metadata": {
        "trusted": true
      },
      "execution_count": 312,
      "outputs": [
        {
          "execution_count": 312,
          "output_type": "execute_result",
          "data": {
            "text/plain": "array([9.91396499e-01, 1.10615464e-01, 5.64579410e-12])"
          },
          "metadata": {}
        }
      ]
    },
    {
      "cell_type": "code",
      "source": "probability_array[1,:]",
      "metadata": {
        "trusted": true
      },
      "execution_count": 127,
      "outputs": [
        {
          "execution_count": 127,
          "output_type": "execute_result",
          "data": {
            "text/plain": "array([9.68490013e-01, 3.83908384e-01, 4.11775389e-11])"
          },
          "metadata": {}
        }
      ]
    },
    {
      "cell_type": "code",
      "source": "probability_array[2,:]",
      "metadata": {
        "trusted": true
      },
      "execution_count": 128,
      "outputs": [
        {
          "execution_count": 128,
          "output_type": "execute_result",
          "data": {
            "text/plain": "array([9.81830760e-01, 2.50325263e-01, 2.32325954e-11])"
          },
          "metadata": {}
        }
      ]
    },
    {
      "cell_type": "code",
      "source": "probability_array[5,:]",
      "metadata": {
        "trusted": true
      },
      "execution_count": 130,
      "outputs": [
        {
          "execution_count": 130,
          "output_type": "execute_result",
          "data": {
            "text/plain": "array([9.91858263e-01, 3.34406743e-02, 9.66106632e-11])"
          },
          "metadata": {}
        }
      ]
    },
    {
      "cell_type": "code",
      "source": "probability_array[0]",
      "metadata": {
        "trusted": true
      },
      "execution_count": 131,
      "outputs": [
        {
          "execution_count": 131,
          "output_type": "execute_result",
          "data": {
            "text/plain": "array([9.92070979e-01, 1.14665476e-01, 9.84586599e-12])"
          },
          "metadata": {}
        }
      ]
    },
    {
      "cell_type": "code",
      "source": "probability_array[1]",
      "metadata": {
        "trusted": true
      },
      "execution_count": 133,
      "outputs": [
        {
          "execution_count": 133,
          "output_type": "execute_result",
          "data": {
            "text/plain": "array([9.68490013e-01, 3.83908384e-01, 4.11775389e-11])"
          },
          "metadata": {}
        }
      ]
    },
    {
      "cell_type": "code",
      "source": "probability_array[0:5]",
      "metadata": {
        "trusted": true
      },
      "execution_count": 134,
      "outputs": [
        {
          "execution_count": 134,
          "output_type": "execute_result",
          "data": {
            "text/plain": "array([[9.92070979e-01, 1.14665476e-01, 9.84586599e-12],\n       [9.68490013e-01, 3.83908384e-01, 4.11775389e-11],\n       [9.81830760e-01, 2.50325263e-01, 2.32325954e-11],\n       [9.76063211e-01, 3.13958407e-01, 3.09299375e-11],\n       [9.93987546e-01, 8.63260389e-02, 7.39558762e-12]])"
          },
          "metadata": {}
        }
      ]
    },
    {
      "cell_type": "markdown",
      "source": "As each is the probability of belonging to the actual class and not the dummy class is does not sum to one. \n",
      "metadata": {}
    },
    {
      "cell_type": "code",
      "source": "# provided by lab\nprobability_array[0,:].sum()",
      "metadata": {
        "trusted": true
      },
      "execution_count": 135,
      "outputs": [
        {
          "execution_count": 135,
          "output_type": "execute_result",
          "data": {
            "text/plain": "1.1067364552643584"
          },
          "metadata": {}
        }
      ]
    },
    {
      "cell_type": "markdown",
      "source": "We can plot the probability of belonging to the class. The row number is the sample number.\n",
      "metadata": {}
    },
    {
      "cell_type": "code",
      "source": "plot_probability_array(X,probability_array)",
      "metadata": {
        "trusted": true
      },
      "execution_count": 136,
      "outputs": [
        {
          "output_type": "display_data",
          "data": {
            "text/plain": "<Figure size 640x480 with 2 Axes>",
            "image/png": "[encoded data removed]"
          },
          "metadata": {}
        }
      ]
    },
    {
      "cell_type": "markdown",
      "source": "We can apply the $argmax$ function to each sample to find the class \n",
      "metadata": {}
    },
    {
      "cell_type": "code",
      "source": "one_vs_all=np.argmax(probability_array,axis=1)\none_vs_all",
      "metadata": {
        "trusted": true
      },
      "execution_count": 137,
      "outputs": [
        {
          "execution_count": 137,
          "output_type": "execute_result",
          "data": {
            "text/plain": "array([0, 0, 0, 0, 0, 0, 0, 0, 0, 0, 0, 0, 0, 0, 0, 0, 0, 0, 0, 0, 0, 0,\n       0, 0, 0, 0, 0, 0, 0, 0, 0, 0, 0, 0, 0, 0, 0, 0, 0, 0, 0, 1, 0, 0,\n       0, 0, 0, 0, 0, 0, 1, 1, 1, 1, 1, 1, 2, 1, 1, 1, 1, 1, 1, 1, 1, 1,\n       1, 1, 1, 1, 2, 1, 1, 1, 1, 1, 1, 2, 1, 1, 1, 1, 1, 1, 1, 2, 1, 1,\n       1, 1, 1, 1, 1, 1, 1, 1, 1, 1, 1, 1, 2, 2, 2, 2, 2, 2, 2, 2, 2, 2,\n       2, 2, 2, 2, 2, 2, 2, 2, 2, 1, 2, 2, 2, 2, 2, 2, 2, 2, 2, 2, 2, 2,\n       2, 1, 1, 2, 2, 2, 2, 2, 2, 2, 2, 2, 2, 2, 2, 2, 2, 2], dtype=int32)"
          },
          "metadata": {}
        }
      ]
    },
    {
      "cell_type": "markdown",
      "source": "we can calculate the accuracy \n",
      "metadata": {}
    },
    {
      "cell_type": "code",
      "source": "accuracy_score(y,one_vs_all)",
      "metadata": {
        "trusted": true
      },
      "execution_count": 138,
      "outputs": [
        {
          "execution_count": 138,
          "output_type": "execute_result",
          "data": {
            "text/plain": "0.9466666666666667"
          },
          "metadata": {}
        }
      ]
    },
    {
      "cell_type": "markdown",
      "source": "We see the accuracy is less than the one obtained by sklearn, and this is because for SVM sklearn uses one vs one; let's verify it by comparing the outputs. \n",
      "metadata": {}
    },
    {
      "cell_type": "code",
      "source": "accuracy_score(one_vs_all,yhat)",
      "metadata": {
        "trusted": true
      },
      "execution_count": 139,
      "outputs": [
        {
          "execution_count": 139,
          "output_type": "execute_result",
          "data": {
            "text/plain": "0.9733333333333334"
          },
          "metadata": {}
        }
      ]
    },
    {
      "cell_type": "markdown",
      "source": "we see that the output are different, now lets implement one vs one \n",
      "metadata": {}
    },
    {
      "cell_type": "markdown",
      "source": "## One vs One \n",
      "metadata": {}
    },
    {
      "cell_type": "markdown",
      "source": "\nIn One-vs-One classification, we split up the data into each class; we then train a two-class classifier on each pair of classes. For example, if we have class 0,1,2, we would train one classifier on the samples that are class 0 and class 1,  a second classifier on samples that are of class 0 and class 2 and a final classifier on samples of class 1 and class 2.\n\n  For  $K$ classes, we have to train  $K(K-1)/2$  classifiers. So if $K=3$, we have $(3x2)/2=3 $classes.\n\nTo perform classification on a sample, we perform a majority vote and select the class with the most predictions. \n",
      "metadata": {}
    },
    {
      "cell_type": "markdown",
      "source": "here we list each class.\n",
      "metadata": {}
    },
    {
      "cell_type": "code",
      "source": "classes_=set(np.unique(y))\nclasses_",
      "metadata": {
        "trusted": true
      },
      "execution_count": 140,
      "outputs": [
        {
          "execution_count": 140,
          "output_type": "execute_result",
          "data": {
            "text/plain": "{0, 1, 2}"
          },
          "metadata": {}
        }
      ]
    },
    {
      "cell_type": "code",
      "source": "np.unique(y)",
      "metadata": {
        "trusted": true
      },
      "execution_count": 141,
      "outputs": [
        {
          "execution_count": 141,
          "output_type": "execute_result",
          "data": {
            "text/plain": "array([0, 1, 2])"
          },
          "metadata": {}
        }
      ]
    },
    {
      "cell_type": "code",
      "source": "list(np.unique(y))",
      "metadata": {
        "trusted": true
      },
      "execution_count": 143,
      "outputs": [
        {
          "execution_count": 143,
          "output_type": "execute_result",
          "data": {
            "text/plain": "[0, 1, 2]"
          },
          "metadata": {}
        }
      ]
    },
    {
      "cell_type": "code",
      "source": "tuple(np.unique(y))",
      "metadata": {
        "trusted": true
      },
      "execution_count": 144,
      "outputs": [
        {
          "execution_count": 144,
          "output_type": "execute_result",
          "data": {
            "text/plain": "(0, 1, 2)"
          },
          "metadata": {}
        }
      ]
    },
    {
      "cell_type": "markdown",
      "source": "determine the number of classifiers:\n",
      "metadata": {}
    },
    {
      "cell_type": "code",
      "source": "K=len(classes_)\nK*(K-1)/2",
      "metadata": {
        "trusted": true
      },
      "execution_count": 146,
      "outputs": [
        {
          "execution_count": 146,
          "output_type": "execute_result",
          "data": {
            "text/plain": "3.0"
          },
          "metadata": {}
        }
      ]
    },
    {
      "cell_type": "code",
      "source": "classes_",
      "metadata": {
        "trusted": true
      },
      "execution_count": 145,
      "outputs": [
        {
          "execution_count": 145,
          "output_type": "execute_result",
          "data": {
            "text/plain": "{0, 1, 2}"
          },
          "metadata": {}
        }
      ]
    },
    {
      "cell_type": "code",
      "source": "len(classes_)",
      "metadata": {
        "trusted": true
      },
      "execution_count": 147,
      "outputs": [
        {
          "execution_count": 147,
          "output_type": "execute_result",
          "data": {
            "text/plain": "3"
          },
          "metadata": {}
        }
      ]
    },
    {
      "cell_type": "markdown",
      "source": "We then train a two-class classifier on each pair of classes. We plot the different training points for each of the two classes \n",
      "metadata": {}
    },
    {
      "cell_type": "code",
      "source": "class_",
      "metadata": {
        "trusted": true
      },
      "execution_count": 158,
      "outputs": [
        {
          "execution_count": 158,
          "output_type": "execute_result",
          "data": {
            "text/plain": "2"
          },
          "metadata": {}
        }
      ]
    },
    {
      "cell_type": "code",
      "source": "pairs=[]\nleft_overs=classes_.copy()\n#list used for classifiers \nmy_models=[]\n#iterate through each class\nfor class_ in classes_:\n    #remove class we have seen before \n    left_overs.remove(class_)\n    #the second class in the pair\n    for second_class in left_overs:\n        pairs.append(str(class_)+' and '+str(second_class))\n        print(\"class {} vs class {} \".format(class_,second_class) )\n        temp_y=np.zeros(y.shape)\n        #find classes in pair \n        select=np.logical_or(y==class_ , y==second_class)\n        #train model \n        model=SVC(kernel='linear', gamma=.5, probability=True)  \n        model.fit(X[select,:],y[select])\n        my_models.append(model)\n        #Plot decision boundary for each pair and corresponding Training samples. \n        decision_boundary (X[select,:],y[select],model,iris,two=True)\n   \n        \n    ",
      "metadata": {
        "trusted": true
      },
      "execution_count": 160,
      "outputs": [
        {
          "name": "stdout",
          "text": "class 0 vs class 1 \n",
          "output_type": "stream"
        },
        {
          "output_type": "display_data",
          "data": {
            "text/plain": "<Figure size 640x480 with 1 Axes>",
            "image/png": "[encoded data removed]"
          },
          "metadata": {}
        },
        {
          "name": "stdout",
          "text": "class 0 vs class 2 \n",
          "output_type": "stream"
        },
        {
          "output_type": "display_data",
          "data": {
            "text/plain": "<Figure size 640x480 with 1 Axes>",
            "image/png": "[encoded data removed]"
          },
          "metadata": {}
        },
        {
          "name": "stdout",
          "text": "class 1 vs class 2 \n",
          "output_type": "stream"
        },
        {
          "output_type": "display_data",
          "data": {
            "text/plain": "<Figure size 640x480 with 1 Axes>",
            "image/png": "[encoded data removed]"
          },
          "metadata": {}
        }
      ]
    },
    {
      "cell_type": "code",
      "source": "pairs",
      "metadata": {
        "trusted": true
      },
      "execution_count": 161,
      "outputs": [
        {
          "execution_count": 161,
          "output_type": "execute_result",
          "data": {
            "text/plain": "['0 and 1', '0 and 2', '1 and 2']"
          },
          "metadata": {}
        }
      ]
    },
    {
      "cell_type": "markdown",
      "source": "As we can see, our data is left-skewed, containing greater number of '5' star reviews. \n",
      "metadata": {}
    },
    {
      "cell_type": "markdown",
      "source": "Here, we are plotting the distribution of text length.\n",
      "metadata": {}
    },
    {
      "cell_type": "code",
      "source": "pairs\nmajority_vote_array=np.zeros((X.shape[0],3))\nmajority_vote_dict={}\nfor j,(model,pair) in enumerate(zip(my_models,pairs)):\n\n    majority_vote_dict[pair]=model.predict(X)\n    majority_vote_array[:,j]=model.predict(X)",
      "metadata": {
        "trusted": true
      },
      "execution_count": 162,
      "outputs": []
    },
    {
      "cell_type": "markdown",
      "source": "In the following table, each column is the output of a classifier for each  pair of classes; the output is the prediction:\n",
      "metadata": {}
    },
    {
      "cell_type": "code",
      "source": "pd.DataFrame(majority_vote_dict).head(10)",
      "metadata": {
        "trusted": true
      },
      "execution_count": 163,
      "outputs": [
        {
          "execution_count": 163,
          "output_type": "execute_result",
          "data": {
            "text/plain": "   0 and 1  0 and 2  1 and 2\n0        0        0        1\n1        0        0        1\n2        0        0        1\n3        0        0        1\n4        0        0        1\n5        0        0        1\n6        0        0        1\n7        0        0        1\n8        0        0        1\n9        0        0        1",
            "text/html": "<div>\n<style scoped>\n    .dataframe tbody tr th:only-of-type {\n        vertical-align: middle;\n    }\n\n    .dataframe tbody tr th {\n        vertical-align: top;\n    }\n\n    .dataframe thead th {\n        text-align: right;\n    }\n</style>\n<table border=\"1\" class=\"dataframe\">\n  <thead>\n    <tr style=\"text-align: right;\">\n      <th></th>\n      <th>0 and 1</th>\n      <th>0 and 2</th>\n      <th>1 and 2</th>\n    </tr>\n  </thead>\n  <tbody>\n    <tr>\n      <th>0</th>\n      <td>0</td>\n      <td>0</td>\n      <td>1</td>\n    </tr>\n    <tr>\n      <th>1</th>\n      <td>0</td>\n      <td>0</td>\n      <td>1</td>\n    </tr>\n    <tr>\n      <th>2</th>\n      <td>0</td>\n      <td>0</td>\n      <td>1</td>\n    </tr>\n    <tr>\n      <th>3</th>\n      <td>0</td>\n      <td>0</td>\n      <td>1</td>\n    </tr>\n    <tr>\n      <th>4</th>\n      <td>0</td>\n      <td>0</td>\n      <td>1</td>\n    </tr>\n    <tr>\n      <th>5</th>\n      <td>0</td>\n      <td>0</td>\n      <td>1</td>\n    </tr>\n    <tr>\n      <th>6</th>\n      <td>0</td>\n      <td>0</td>\n      <td>1</td>\n    </tr>\n    <tr>\n      <th>7</th>\n      <td>0</td>\n      <td>0</td>\n      <td>1</td>\n    </tr>\n    <tr>\n      <th>8</th>\n      <td>0</td>\n      <td>0</td>\n      <td>1</td>\n    </tr>\n    <tr>\n      <th>9</th>\n      <td>0</td>\n      <td>0</td>\n      <td>1</td>\n    </tr>\n  </tbody>\n</table>\n</div>"
          },
          "metadata": {}
        }
      ]
    },
    {
      "cell_type": "code",
      "source": "majority_vote_array[:][0:5]",
      "metadata": {
        "trusted": true
      },
      "execution_count": 173,
      "outputs": [
        {
          "execution_count": 173,
          "output_type": "execute_result",
          "data": {
            "text/plain": "array([[0., 0., 1.],\n       [0., 0., 1.],\n       [0., 0., 1.],\n       [0., 0., 1.],\n       [0., 0., 1.]])"
          },
          "metadata": {}
        }
      ]
    },
    {
      "cell_type": "code",
      "source": "majority_vote_array[0:5]",
      "metadata": {
        "trusted": true
      },
      "execution_count": 179,
      "outputs": [
        {
          "execution_count": 179,
          "output_type": "execute_result",
          "data": {
            "text/plain": "array([[0., 0., 1.],\n       [0., 0., 1.],\n       [0., 0., 1.],\n       [0., 0., 1.],\n       [0., 0., 1.]])"
          },
          "metadata": {}
        }
      ]
    },
    {
      "cell_type": "code",
      "source": "majority_vote_array[-5:]",
      "metadata": {
        "trusted": true
      },
      "execution_count": 183,
      "outputs": [
        {
          "execution_count": 183,
          "output_type": "execute_result",
          "data": {
            "text/plain": "array([[1., 2., 2.],\n       [1., 2., 2.],\n       [1., 2., 2.],\n       [1., 2., 2.],\n       [1., 2., 2.]])"
          },
          "metadata": {}
        }
      ]
    },
    {
      "cell_type": "code",
      "source": "majority_vote_array[3]",
      "metadata": {
        "trusted": true
      },
      "execution_count": 186,
      "outputs": [
        {
          "execution_count": 186,
          "output_type": "execute_result",
          "data": {
            "text/plain": "array([0., 0., 1.])"
          },
          "metadata": {}
        }
      ]
    },
    {
      "cell_type": "code",
      "source": "majority_vote_array[0,0]",
      "metadata": {
        "trusted": true
      },
      "execution_count": 190,
      "outputs": [
        {
          "execution_count": 190,
          "output_type": "execute_result",
          "data": {
            "text/plain": "0.0"
          },
          "metadata": {}
        }
      ]
    },
    {
      "cell_type": "code",
      "source": "majority_vote_array[0,1]",
      "metadata": {
        "trusted": true
      },
      "execution_count": 191,
      "outputs": [
        {
          "execution_count": 191,
          "output_type": "execute_result",
          "data": {
            "text/plain": "0.0"
          },
          "metadata": {}
        }
      ]
    },
    {
      "cell_type": "code",
      "source": "majority_vote_array[0,2]",
      "metadata": {
        "trusted": true
      },
      "execution_count": 189,
      "outputs": [
        {
          "execution_count": 189,
          "output_type": "execute_result",
          "data": {
            "text/plain": "1.0"
          },
          "metadata": {}
        }
      ]
    },
    {
      "cell_type": "code",
      "source": "majority_vote_array[0,3]",
      "metadata": {
        "trusted": true
      },
      "execution_count": 192,
      "outputs": [
        {
          "ename": "<class 'IndexError'>",
          "evalue": "index 3 is out of bounds for axis 1 with size 3",
          "traceback": [
            "\u001b[0;31m---------------------------------------------------------------------------\u001b[0m",
            "\u001b[0;31mIndexError\u001b[0m                                Traceback (most recent call last)",
            "Cell \u001b[0;32mIn[192], line 1\u001b[0m\n\u001b[0;32m----> 1\u001b[0m \u001b[43mmajority_vote_array\u001b[49m\u001b[43m[\u001b[49m\u001b[38;5;241;43m0\u001b[39;49m\u001b[43m,\u001b[49m\u001b[38;5;241;43m3\u001b[39;49m\u001b[43m]\u001b[49m\n",
            "\u001b[0;31mIndexError\u001b[0m: index 3 is out of bounds for axis 1 with size 3"
          ],
          "output_type": "error"
        }
      ]
    },
    {
      "cell_type": "code",
      "source": "majority_vote_array[:,0]",
      "metadata": {
        "trusted": true
      },
      "execution_count": 174,
      "outputs": [
        {
          "execution_count": 174,
          "output_type": "execute_result",
          "data": {
            "text/plain": "array([0., 0., 0., 0., 0., 0., 0., 0., 0., 0., 0., 0., 0., 0., 0., 0., 0.,\n       0., 0., 0., 0., 0., 0., 0., 0., 0., 0., 0., 0., 0., 0., 0., 0., 0.,\n       0., 0., 0., 0., 0., 0., 0., 0., 0., 0., 0., 0., 0., 0., 0., 0., 1.,\n       1., 1., 1., 1., 1., 1., 1., 1., 1., 1., 1., 1., 1., 1., 1., 1., 1.,\n       1., 1., 1., 1., 1., 1., 1., 1., 1., 1., 1., 1., 1., 1., 1., 1., 1.,\n       1., 1., 1., 1., 1., 1., 1., 1., 1., 1., 1., 1., 1., 1., 1., 1., 1.,\n       1., 1., 1., 1., 1., 1., 1., 1., 1., 1., 1., 1., 1., 1., 1., 1., 1.,\n       1., 1., 1., 1., 1., 1., 1., 1., 1., 1., 1., 1., 1., 1., 1., 1., 1.,\n       1., 1., 1., 1., 1., 1., 1., 1., 1., 1., 1., 1., 1., 1.])"
          },
          "metadata": {}
        }
      ]
    },
    {
      "cell_type": "code",
      "source": "majority_vote_array[:,1]",
      "metadata": {
        "trusted": true
      },
      "execution_count": 176,
      "outputs": [
        {
          "execution_count": 176,
          "output_type": "execute_result",
          "data": {
            "text/plain": "array([0., 0., 0., 0., 0., 0., 0., 0., 0., 0., 0., 0., 0., 0., 0., 0., 0.,\n       0., 0., 0., 0., 0., 0., 0., 0., 0., 0., 0., 0., 0., 0., 0., 0., 0.,\n       0., 0., 0., 0., 0., 0., 0., 0., 0., 0., 0., 0., 0., 0., 0., 0., 2.,\n       2., 2., 2., 2., 2., 2., 2., 2., 2., 2., 2., 2., 2., 2., 2., 2., 2.,\n       2., 2., 2., 2., 2., 2., 2., 2., 2., 2., 2., 2., 2., 2., 2., 2., 2.,\n       2., 2., 2., 2., 2., 2., 2., 2., 2., 2., 2., 2., 2., 2., 2., 2., 2.,\n       2., 2., 2., 2., 2., 2., 2., 2., 2., 2., 2., 2., 2., 2., 2., 2., 2.,\n       2., 2., 2., 2., 2., 2., 2., 2., 2., 2., 2., 2., 2., 2., 2., 2., 2.,\n       2., 2., 2., 2., 2., 2., 2., 2., 2., 2., 2., 2., 2., 2.])"
          },
          "metadata": {}
        }
      ]
    },
    {
      "cell_type": "code",
      "source": "majority_vote_array[:,2]",
      "metadata": {
        "trusted": true
      },
      "execution_count": 177,
      "outputs": [
        {
          "execution_count": 177,
          "output_type": "execute_result",
          "data": {
            "text/plain": "array([1., 1., 1., 1., 1., 1., 1., 1., 1., 1., 1., 1., 1., 1., 1., 1., 1.,\n       1., 1., 1., 1., 1., 1., 1., 1., 1., 1., 1., 1., 1., 1., 1., 1., 1.,\n       1., 1., 1., 1., 1., 1., 1., 1., 1., 1., 1., 1., 1., 1., 1., 1., 1.,\n       1., 1., 1., 1., 1., 1., 1., 1., 1., 1., 1., 1., 1., 1., 1., 1., 1.,\n       1., 1., 2., 1., 1., 1., 1., 1., 1., 2., 1., 1., 1., 1., 1., 1., 1.,\n       1., 1., 1., 1., 1., 1., 1., 1., 1., 1., 1., 1., 1., 1., 1., 2., 2.,\n       2., 2., 2., 2., 2., 2., 2., 2., 2., 2., 2., 2., 2., 2., 2., 2., 2.,\n       1., 2., 2., 2., 2., 2., 2., 2., 2., 2., 1., 2., 2., 2., 1., 1., 2.,\n       2., 2., 2., 2., 2., 2., 2., 2., 2., 2., 2., 2., 2., 2.])"
          },
          "metadata": {}
        }
      ]
    },
    {
      "cell_type": "code",
      "source": "majority_vote_array[:,3]",
      "metadata": {
        "trusted": true
      },
      "execution_count": 184,
      "outputs": [
        {
          "ename": "<class 'IndexError'>",
          "evalue": "index 3 is out of bounds for axis 1 with size 3",
          "traceback": [
            "\u001b[0;31m---------------------------------------------------------------------------\u001b[0m",
            "\u001b[0;31mIndexError\u001b[0m                                Traceback (most recent call last)",
            "Cell \u001b[0;32mIn[184], line 1\u001b[0m\n\u001b[0;32m----> 1\u001b[0m \u001b[43mmajority_vote_array\u001b[49m\u001b[43m[\u001b[49m\u001b[43m:\u001b[49m\u001b[43m,\u001b[49m\u001b[38;5;241;43m3\u001b[39;49m\u001b[43m]\u001b[49m\n",
            "\u001b[0;31mIndexError\u001b[0m: index 3 is out of bounds for axis 1 with size 3"
          ],
          "output_type": "error"
        }
      ]
    },
    {
      "cell_type": "markdown",
      "source": "To perform classification on a sample, we perform a majority vote i.e. select the class with the most predictions. We repeat the process for each sample. \n",
      "metadata": {}
    },
    {
      "cell_type": "code",
      "source": "# numpy.bincount(x, /, weights=None, minlength=0) --> Count number of occurrences of each value in array of non-negative ints\none_vs_one=np.array([np.bincount(sample.astype(int)).argmax() for sample in majority_vote_array]) \none_vs_one",
      "metadata": {
        "trusted": true
      },
      "execution_count": 194,
      "outputs": [
        {
          "execution_count": 194,
          "output_type": "execute_result",
          "data": {
            "text/plain": "array([0, 0, 0, 0, 0, 0, 0, 0, 0, 0, 0, 0, 0, 0, 0, 0, 0, 0, 0, 0, 0, 0,\n       0, 0, 0, 0, 0, 0, 0, 0, 0, 0, 0, 0, 0, 0, 0, 0, 0, 0, 0, 0, 0, 0,\n       0, 0, 0, 0, 0, 0, 1, 1, 1, 1, 1, 1, 1, 1, 1, 1, 1, 1, 1, 1, 1, 1,\n       1, 1, 1, 1, 2, 1, 1, 1, 1, 1, 1, 2, 1, 1, 1, 1, 1, 1, 1, 1, 1, 1,\n       1, 1, 1, 1, 1, 1, 1, 1, 1, 1, 1, 1, 2, 2, 2, 2, 2, 2, 2, 2, 2, 2,\n       2, 2, 2, 2, 2, 2, 2, 2, 2, 1, 2, 2, 2, 2, 2, 2, 2, 2, 2, 1, 2, 2,\n       2, 1, 1, 2, 2, 2, 2, 2, 2, 2, 2, 2, 2, 2, 2, 2, 2, 2], dtype=int32)"
          },
          "metadata": {}
        }
      ]
    },
    {
      "cell_type": "markdown",
      "source": "We calculate the accuracy:\n",
      "metadata": {}
    },
    {
      "cell_type": "code",
      "source": "accuracy_score(y,one_vs_one)",
      "metadata": {
        "trusted": true
      },
      "execution_count": 195,
      "outputs": [
        {
          "execution_count": 195,
          "output_type": "execute_result",
          "data": {
            "text/plain": "0.96"
          },
          "metadata": {}
        }
      ]
    },
    {
      "cell_type": "markdown",
      "source": "we compare it to sklearn , it's the same! \n",
      "metadata": {}
    },
    {
      "cell_type": "code",
      "source": "accuracy_score(yhat,one_vs_one)",
      "metadata": {
        "trusted": true
      },
      "execution_count": 196,
      "outputs": [
        {
          "execution_count": 196,
          "output_type": "execute_result",
          "data": {
            "text/plain": "1.0"
          },
          "metadata": {}
        }
      ]
    },
    {
      "cell_type": "code",
      "source": "# they are referring to what we did with sklearn earlier with a SVM from the task\n\n# svm = SVC(kernel='linear', gamma=0.5, probability=True)\n# svm.fit(X,y)\n# yhat1 = svm.predict(X)\n# yhat1[0:5]\n# accuracy_score(y, yhat1)\n# >>Output: 0.96\n\n\n# However also the version of the Logistic Regression also has the same result (I think), the one at the beginning\n\n# lr = LogisticRegression(random_state=0).fit(X, y)\n# probability=lr.predict_proba(X)\n# yhat =lr.predict(X)\n# accuracy_score(y, yhat)\n# >>Output: 0.96 -->Have tried it, but deleted it",
      "metadata": {},
      "execution_count": null,
      "outputs": []
    },
    {
      "cell_type": "markdown",
      "source": "***\n",
      "metadata": {}
    },
    {
      "cell_type": "code",
      "source": "## My experiment for making the plotting simpler ##",
      "metadata": {},
      "execution_count": null,
      "outputs": []
    },
    {
      "cell_type": "code",
      "source": "# trying to simply the def decision_boundary() function\n\nimport matplotlib.pyplot as plt\nimport seaborn as sns\nfrom sklearn import neighbors, datasets\nfrom sklearn.inspection import DecisionBoundaryDisplay\n\n# import some data to play with\niris = datasets.load_iris()\nX = iris.data[:, :2] # we only take the first two features\ny = iris.target\n\n# create an instance of Neighbours Classifier and fit the data\nn_neighbors = 15\nclf = neighbors.KNeighborsClassifier(n_neighbors)\nclf.fit(X, y)\n\n# define a function to plot the decision boundary and the data points\ndef decision_boundary(X, y, clf, iris):\n    # plot the decision boundary using DecisionBoundaryDisplay\n    _, ax = plt.subplots()\n    display = DecisionBoundaryDisplay.from_estimator(\n        clf, X, cmap=plt.cm.RdYlBu, ax=ax,\n        xlabel=iris.feature_names[0], ylabel=iris.feature_names[1]\n    )\n\n    # plot the data points using sns.scatterplot\n    sns.scatterplot(\n        x=X[:, 0], y=X[:, 1], hue=iris.target_names[y],\n        color=\"ryb\", edgecolor=\"black\", s=15, ax=ax\n    )\n    plt.show()\n\n# call the function with the given parameters\ndecision_boundary(X, y, clf, iris)",
      "metadata": {
        "trusted": true
      },
      "execution_count": 237,
      "outputs": [
        {
          "output_type": "display_data",
          "data": {
            "text/plain": "<Figure size 640x480 with 1 Axes>",
            "image/png": "[encoded data removed]"
          },
          "metadata": {}
        }
      ]
    },
    {
      "cell_type": "code",
      "source": "# trying to simply the def decision_boundary() function --> SAME AS ABOVE BUT USING SVM INSTEAD AND DIFFERENT VALUES FOR X, JUST LIKE IN THE ACTUAL TASK\n# SUCCESSFUL TEST-->HAS THE SAME OUTCOME AS THE COMPLICATED VERSION CREATED/INCLUDED IN THE LAB --> however, looks less sharp for some reason\n\nimport matplotlib.pyplot as plt\nimport seaborn as sns\nfrom sklearn import datasets\nfrom sklearn.svm import SVC\nfrom sklearn.inspection import DecisionBoundaryDisplay\n\n# import some data to play with\niris = datasets.load_iris()\nX = iris.data[:, [1,3]] # we only take the first two features\ny = iris.target\n\n# create an instance of Support Vector Machine and fit the data\nsvm1 = SVC(kernel='linear', gamma=.5, probability=True)\nsvm1.fit(X, y)\n\n# define a function to plot the decision boundary and the data points\ndef decision_boundary(X, y, svm_model, iris):\n    # plot the decision boundary using DecisionBoundaryDisplay\n    _, ax = plt.subplots()\n    display = DecisionBoundaryDisplay.from_estimator(\n        svm_model, X, cmap=plt.cm.RdYlBu, ax=ax,\n        xlabel=iris.feature_names[0], ylabel=iris.feature_names[1]\n    )\n\n    # plot the data points using sns.scatterplot\n    sns.scatterplot(\n        x=X[:, 0], y=X[:, 1], hue=iris.target_names[y],\n        color=\"ryb\", edgecolor=\"black\", s=15, ax=ax\n    )\n    plt.show()\n\n# call the function with the given parameters\ndecision_boundary(X, y, svm1, iris)",
      "metadata": {
        "trusted": true
      },
      "execution_count": 241,
      "outputs": [
        {
          "output_type": "display_data",
          "data": {
            "text/plain": "<Figure size 640x480 with 1 Axes>",
            "image/png": "[encoded data removed]"
          },
          "metadata": {}
        }
      ]
    },
    {
      "cell_type": "code",
      "source": "# the above callable function PLUS the function above plots the probability of belonging to each each class in a multi-class prediction\n\nimport matplotlib.pyplot as plt\nimport seaborn as sns\nfrom sklearn import neighbors, datasets\nfrom sklearn.inspection import DecisionBoundaryDisplay\n\n# import some data to play with\niris = datasets.load_iris()\nX = iris.data[:, :2] # we only take the first two features\ny = iris.target\n\n# create an instance of Neighbours Classifier and fit the data\nn_neighbors = 15\nclf = neighbors.KNeighborsClassifier(n_neighbors)\nclf.fit(X, y)\n\n# define a function to plot the decision boundary and the data points\ndef decision_boundary(X, y, clf, iris):\n    # plot the decision boundary using DecisionBoundaryDisplay\n    _, ax = plt.subplots()\n    display = DecisionBoundaryDisplay.from_estimator(\n        clf, X, cmap=plt.cm.RdYlBu, ax=ax,\n        xlabel=iris.feature_names[0], ylabel=iris.feature_names[1],\n        response_method='predict_proba', response_levels=[0.25, 0.5, 0.75]\n    )\n\n    # plot the data points using sns.scatterplot\n    sns.scatterplot(\n        x=X[:, 0], y=X[:, 1], hue=iris.target_names[y],\n        color=\"ryb\", edgecolor=\"black\", s=15, ax=ax\n    )\n    plt.show()\n\n# call the function with the given parameters\ndecision_boundary(X, y, clf, iris)\n",
      "metadata": {
        "trusted": true
      },
      "execution_count": 238,
      "outputs": [
        {
          "output_type": "display_data",
          "data": {
            "text/plain": "<Figure size 640x480 with 1 Axes>",
            "image/png": "[encoded data removed]"
          },
          "metadata": {}
        },
        {
          "ename": "<class 'ValueError'>",
          "evalue": "Multiclass classifiers are only supported when response_method is 'predict' or 'auto'",
          "traceback": [
            "\u001b[0;31m---------------------------------------------------------------------------\u001b[0m",
            "\u001b[0;31mValueError\u001b[0m                                Traceback (most recent call last)",
            "Cell \u001b[0;32mIn[238], line 36\u001b[0m\n\u001b[1;32m     33\u001b[0m     plt\u001b[38;5;241m.\u001b[39mshow()\n\u001b[1;32m     35\u001b[0m \u001b[38;5;66;03m# call the function with the given parameters\u001b[39;00m\n\u001b[0;32m---> 36\u001b[0m \u001b[43mdecision_boundary\u001b[49m\u001b[43m(\u001b[49m\u001b[43mX\u001b[49m\u001b[43m,\u001b[49m\u001b[43m \u001b[49m\u001b[43my\u001b[49m\u001b[43m,\u001b[49m\u001b[43m \u001b[49m\u001b[43mclf\u001b[49m\u001b[43m,\u001b[49m\u001b[43m \u001b[49m\u001b[43miris\u001b[49m\u001b[43m)\u001b[49m\n",
            "Cell \u001b[0;32mIn[238], line 22\u001b[0m, in \u001b[0;36mdecision_boundary\u001b[0;34m(X, y, clf, iris)\u001b[0m\n\u001b[1;32m     19\u001b[0m \u001b[38;5;28;01mdef\u001b[39;00m \u001b[38;5;21mdecision_boundary\u001b[39m(X, y, clf, iris):\n\u001b[1;32m     20\u001b[0m     \u001b[38;5;66;03m# plot the decision boundary using DecisionBoundaryDisplay\u001b[39;00m\n\u001b[1;32m     21\u001b[0m     _, ax \u001b[38;5;241m=\u001b[39m plt\u001b[38;5;241m.\u001b[39msubplots()\n\u001b[0;32m---> 22\u001b[0m     display \u001b[38;5;241m=\u001b[39m \u001b[43mDecisionBoundaryDisplay\u001b[49m\u001b[38;5;241;43m.\u001b[39;49m\u001b[43mfrom_estimator\u001b[49m\u001b[43m(\u001b[49m\n\u001b[1;32m     23\u001b[0m \u001b[43m        \u001b[49m\u001b[43mclf\u001b[49m\u001b[43m,\u001b[49m\u001b[43m \u001b[49m\u001b[43mX\u001b[49m\u001b[43m,\u001b[49m\u001b[43m \u001b[49m\u001b[43mcmap\u001b[49m\u001b[38;5;241;43m=\u001b[39;49m\u001b[43mplt\u001b[49m\u001b[38;5;241;43m.\u001b[39;49m\u001b[43mcm\u001b[49m\u001b[38;5;241;43m.\u001b[39;49m\u001b[43mRdYlBu\u001b[49m\u001b[43m,\u001b[49m\u001b[43m \u001b[49m\u001b[43max\u001b[49m\u001b[38;5;241;43m=\u001b[39;49m\u001b[43max\u001b[49m\u001b[43m,\u001b[49m\n\u001b[1;32m     24\u001b[0m \u001b[43m        \u001b[49m\u001b[43mxlabel\u001b[49m\u001b[38;5;241;43m=\u001b[39;49m\u001b[43miris\u001b[49m\u001b[38;5;241;43m.\u001b[39;49m\u001b[43mfeature_names\u001b[49m\u001b[43m[\u001b[49m\u001b[38;5;241;43m0\u001b[39;49m\u001b[43m]\u001b[49m\u001b[43m,\u001b[49m\u001b[43m \u001b[49m\u001b[43mylabel\u001b[49m\u001b[38;5;241;43m=\u001b[39;49m\u001b[43miris\u001b[49m\u001b[38;5;241;43m.\u001b[39;49m\u001b[43mfeature_names\u001b[49m\u001b[43m[\u001b[49m\u001b[38;5;241;43m1\u001b[39;49m\u001b[43m]\u001b[49m\u001b[43m,\u001b[49m\n\u001b[1;32m     25\u001b[0m \u001b[43m        \u001b[49m\u001b[43mresponse_method\u001b[49m\u001b[38;5;241;43m=\u001b[39;49m\u001b[38;5;124;43m'\u001b[39;49m\u001b[38;5;124;43mpredict_proba\u001b[39;49m\u001b[38;5;124;43m'\u001b[39;49m\u001b[43m,\u001b[49m\u001b[43m \u001b[49m\u001b[43mresponse_levels\u001b[49m\u001b[38;5;241;43m=\u001b[39;49m\u001b[43m[\u001b[49m\u001b[38;5;241;43m0.25\u001b[39;49m\u001b[43m,\u001b[49m\u001b[43m \u001b[49m\u001b[38;5;241;43m0.5\u001b[39;49m\u001b[43m,\u001b[49m\u001b[43m \u001b[49m\u001b[38;5;241;43m0.75\u001b[39;49m\u001b[43m]\u001b[49m\n\u001b[1;32m     26\u001b[0m \u001b[43m    \u001b[49m\u001b[43m)\u001b[49m\n\u001b[1;32m     28\u001b[0m     \u001b[38;5;66;03m# plot the data points using sns.scatterplot\u001b[39;00m\n\u001b[1;32m     29\u001b[0m     sns\u001b[38;5;241m.\u001b[39mscatterplot(\n\u001b[1;32m     30\u001b[0m         x\u001b[38;5;241m=\u001b[39mX[:, \u001b[38;5;241m0\u001b[39m], y\u001b[38;5;241m=\u001b[39mX[:, \u001b[38;5;241m1\u001b[39m], hue\u001b[38;5;241m=\u001b[39miris\u001b[38;5;241m.\u001b[39mtarget_names[y],\n\u001b[1;32m     31\u001b[0m         color\u001b[38;5;241m=\u001b[39m\u001b[38;5;124m\"\u001b[39m\u001b[38;5;124mryb\u001b[39m\u001b[38;5;124m\"\u001b[39m, edgecolor\u001b[38;5;241m=\u001b[39m\u001b[38;5;124m\"\u001b[39m\u001b[38;5;124mblack\u001b[39m\u001b[38;5;124m\"\u001b[39m, s\u001b[38;5;241m=\u001b[39m\u001b[38;5;241m15\u001b[39m, ax\u001b[38;5;241m=\u001b[39max\n\u001b[1;32m     32\u001b[0m     )\n",
            "File \u001b[0;32m/lib/python3.11/site-packages/sklearn/inspection/_plot/decision_boundary.py:346\u001b[0m, in \u001b[0;36mDecisionBoundaryDisplay.from_estimator\u001b[0;34m(cls, estimator, X, grid_resolution, eps, plot_method, response_method, xlabel, ylabel, ax, **kwargs)\u001b[0m\n\u001b[1;32m    343\u001b[0m \u001b[38;5;28;01melse\u001b[39;00m:\n\u001b[1;32m    344\u001b[0m     X_grid \u001b[38;5;241m=\u001b[39m np\u001b[38;5;241m.\u001b[39mc_[xx0\u001b[38;5;241m.\u001b[39mravel(), xx1\u001b[38;5;241m.\u001b[39mravel()]\n\u001b[0;32m--> 346\u001b[0m pred_func \u001b[38;5;241m=\u001b[39m \u001b[43m_check_boundary_response_method\u001b[49m\u001b[43m(\u001b[49m\u001b[43mestimator\u001b[49m\u001b[43m,\u001b[49m\u001b[43m \u001b[49m\u001b[43mresponse_method\u001b[49m\u001b[43m)\u001b[49m\n\u001b[1;32m    347\u001b[0m response \u001b[38;5;241m=\u001b[39m pred_func(X_grid)\n\u001b[1;32m    349\u001b[0m \u001b[38;5;66;03m# convert classes predictions into integers\u001b[39;00m\n",
            "File \u001b[0;32m/lib/python3.11/site-packages/sklearn/inspection/_plot/decision_boundary.py:46\u001b[0m, in \u001b[0;36m_check_boundary_response_method\u001b[0;34m(estimator, response_method)\u001b[0m\n\u001b[1;32m     41\u001b[0m     \u001b[38;5;28;01mif\u001b[39;00m response_method \u001b[38;5;129;01mnot\u001b[39;00m \u001b[38;5;129;01min\u001b[39;00m {\u001b[38;5;124m\"\u001b[39m\u001b[38;5;124mauto\u001b[39m\u001b[38;5;124m\"\u001b[39m, \u001b[38;5;124m\"\u001b[39m\u001b[38;5;124mpredict\u001b[39m\u001b[38;5;124m\"\u001b[39m}:\n\u001b[1;32m     42\u001b[0m         msg \u001b[38;5;241m=\u001b[39m (\n\u001b[1;32m     43\u001b[0m             \u001b[38;5;124m\"\u001b[39m\u001b[38;5;124mMulticlass classifiers are only supported when response_method is\u001b[39m\u001b[38;5;124m\"\u001b[39m\n\u001b[1;32m     44\u001b[0m             \u001b[38;5;124m\"\u001b[39m\u001b[38;5;124m \u001b[39m\u001b[38;5;124m'\u001b[39m\u001b[38;5;124mpredict\u001b[39m\u001b[38;5;124m'\u001b[39m\u001b[38;5;124m or \u001b[39m\u001b[38;5;124m'\u001b[39m\u001b[38;5;124mauto\u001b[39m\u001b[38;5;124m'\u001b[39m\u001b[38;5;124m\"\u001b[39m\n\u001b[1;32m     45\u001b[0m         )\n\u001b[0;32m---> 46\u001b[0m         \u001b[38;5;28;01mraise\u001b[39;00m \u001b[38;5;167;01mValueError\u001b[39;00m(msg)\n\u001b[1;32m     47\u001b[0m     methods_list \u001b[38;5;241m=\u001b[39m [\u001b[38;5;124m\"\u001b[39m\u001b[38;5;124mpredict\u001b[39m\u001b[38;5;124m\"\u001b[39m]\n\u001b[1;32m     48\u001b[0m \u001b[38;5;28;01melif\u001b[39;00m response_method \u001b[38;5;241m==\u001b[39m \u001b[38;5;124m\"\u001b[39m\u001b[38;5;124mauto\u001b[39m\u001b[38;5;124m\"\u001b[39m:\n",
            "\u001b[0;31mValueError\u001b[0m: Multiclass classifiers are only supported when response_method is 'predict' or 'auto'"
          ],
          "output_type": "error"
        }
      ]
    },
    {
      "cell_type": "code",
      "source": "# trying to simply the def plot_probabiliy_array() function --> version 1\n# Using the sns.heatmap function from seaborn to plot a matrix of values as a color-coded grid.\n\nimport matplotlib.pyplot as plt\nimport seaborn as sns\nimport numpy as np\n\n# generate some random data for demonstration\nX = np.random.randn(100, 2)\nprobability_array = np.random.rand(100, 3)\n\n# plot the probability array using sns.heatmap\nsns.heatmap(probability_array, cmap=\"RdYlBu\", cbar_kws={\"label\": \"probability\"})\nplt.xticks([0.5, 1.5, 2.5], [\"class 1\", \"class 2\", \"class 3\"])\nplt.ylabel(\"samples\")\nplt.xlabel(\"probability of 3 classes\")\nplt.show()",
      "metadata": {
        "trusted": true
      },
      "execution_count": 123,
      "outputs": [
        {
          "output_type": "display_data",
          "data": {
            "text/plain": "<Figure size 640x480 with 2 Axes>",
            "image/png": "[encoded data removed]"
          },
          "metadata": {}
        }
      ]
    },
    {
      "cell_type": "code",
      "source": "# trying to simply the def plot_probabiliy_array() function --> version 2\n# Using the pd.DataFrame function from pandas to create a data frame from your probability array and use the df.plot.bar function to plot a bar chart of the probabilities for each class.\n\nimport matplotlib.pyplot as plt\nimport pandas as pd\nimport numpy as np\n\n# generate some random data for demonstration\nX = np.random.randn(100, 2)\nprobability_array = np.random.rand(100, 3)\n\n# create a data frame from the probability array\ndf = pd.DataFrame(probability_array, columns=[\"class 1\", \"class 2\", \"class 3\"])\n\n# plot the data frame using df.plot.bar\ndf.plot.bar(stacked=True, colormap=\"RdYlBu\")\nplt.xticks([])\nplt.ylabel(\"probability\")\nplt.xlabel(\"samples\")\nplt.legend(loc=\"upper center\", bbox_to_anchor=(0.5, -0.1), ncol=3)\nplt.show()",
      "metadata": {
        "trusted": true
      },
      "execution_count": 124,
      "outputs": [
        {
          "output_type": "display_data",
          "data": {
            "text/plain": "<Figure size 640x480 with 1 Axes>",
            "image/png": "[encoded data removed]"
          },
          "metadata": {}
        }
      ]
    },
    {
      "cell_type": "markdown",
      "source": "## Author\n",
      "metadata": {}
    },
    {
      "cell_type": "markdown",
      "source": "Joseph Santarcangelo\n",
      "metadata": {}
    },
    {
      "cell_type": "markdown",
      "source": "### Other Contributors\n",
      "metadata": {}
    },
    {
      "cell_type": "markdown",
      "source": "Azim Hirjani\n",
      "metadata": {}
    },
    {
      "cell_type": "markdown",
      "source": "## Change Log\n",
      "metadata": {}
    },
    {
      "cell_type": "markdown",
      "source": "| Date (YYYY-MM-DD) | Version | Changed By | Change Description      |\n| ----------------- | ------- | ---------- | ----------------------- |\n| 2020-07-20        | 0.2     | Azim       | Modified Multiple Areas |\n| 2020-07-17        | 0.1     | Azim       | Created Lab Template    |\n",
      "metadata": {}
    },
    {
      "cell_type": "markdown",
      "source": "Copyright © 2020 IBM Corporation. All rights reserved.\n",
      "metadata": {}
    }
  ]
}