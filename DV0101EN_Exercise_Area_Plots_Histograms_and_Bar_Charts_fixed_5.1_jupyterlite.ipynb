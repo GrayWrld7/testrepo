{
  "metadata": {
    "language_info": {
      "codemirror_mode": {
        "name": "python",
        "version": 3
      },
      "file_extension": ".py",
      "mimetype": "text/x-python",
      "name": "python",
      "nbconvert_exporter": "python",
      "pygments_lexer": "ipython3",
      "version": "3.8"
    },
    "kernelspec": {
      "name": "python",
      "display_name": "Pyolite",
      "language": "python"
    },
    "colab": {
      "provenance": []
    }
  },
  "nbformat_minor": 4,
  "nbformat": 4,
  "cells": [
    {
      "cell_type": "markdown",
      "source": "<center>\n    <img src=\"https://cf-courses-data.s3.us.cloud-object-storage.appdomain.cloud/IBMDeveloperSkillsNetwork-DV0101EN-SkillsNetwork/labs/Module%202/images/IDSNlogo.png\" width=\"300\" alt=\"cognitiveclass.ai logo\">\n</center>\n\n# Area Plots, Histograms, and Bar Plots\n\nEstimated time needed: **30** minutes\n\n## Objectives\n\nAfter completing this lab you will be able to:\n\n*   Create additional labs namely area plots, histogram and bar charts\n",
      "metadata": {
        "button": false,
        "new_sheet": false,
        "run_control": {
          "read_only": false
        },
        "id": "0aUWbJTAkWW_"
      }
    },
    {
      "cell_type": "markdown",
      "source": "## Table of Contents\n\n<div class=\"alert alert-block alert-info\" style=\"margin-top: 20px\">\n\n1.  [Exploring Datasets with *pandas*](#0)<br>\n2.  [Downloading and Prepping Data](#2)<br>\n3.  [Visualizing Data using Matplotlib](#4) <br>\n4.  [Area Plots](#6) <br>\n5.  [Histograms](#8) <br>\n6.  [Bar Charts](#10) <br>\n\n</div>\n",
      "metadata": {
        "button": false,
        "new_sheet": false,
        "run_control": {
          "read_only": false
        },
        "id": "s_-zCLfZkWXD"
      }
    },
    {
      "cell_type": "markdown",
      "source": "# Exploring Datasets with *pandas* and Matplotlib<a id=\"0\"></a>\n\nToolkits: The course heavily relies on [**pandas**](http://pandas.pydata.org/?utm_medium=Exinfluencer&utm_source=Exinfluencer&utm_content=000026UJ&utm_term=10006555&utm_id=NA-SkillsNetwork-Channel-SkillsNetworkCoursesIBMDeveloperSkillsNetworkDV0101ENSkillsNetwork20297740-2021-01-01) and [**Numpy**](http://www.numpy.org/?utm_medium=Exinfluencer&utm_source=Exinfluencer&utm_content=000026UJ&utm_term=10006555&utm_id=NA-SkillsNetwork-Channel-SkillsNetworkCoursesIBMDeveloperSkillsNetworkDV0101ENSkillsNetwork20297740-2021-01-01) for data wrangling, analysis, and visualization. The primary plotting library that we are exploring in the course is [Matplotlib](http://matplotlib.org/?utm_medium=Exinfluencer&utm_source=Exinfluencer&utm_content=000026UJ&utm_term=10006555&utm_id=NA-SkillsNetwork-Channel-SkillsNetworkCoursesIBMDeveloperSkillsNetworkDV0101ENSkillsNetwork20297740-2021-01-01).\n\nDataset: Immigration to Canada from 1980 to 2013 - [International migration flows to and from selected countries - The 2015 revision](http://www.un.org/en/development/desa/population/migration/data/empirical2/migrationflows.shtml?utm_medium=Exinfluencer&utm_source=Exinfluencer&utm_content=000026UJ&utm_term=10006555&utm_id=NA-SkillsNetwork-Channel-SkillsNetworkCoursesIBMDeveloperSkillsNetworkDV0101ENSkillsNetwork20297740-2021-01-01) from United Nation's website.\n\nThe dataset contains annual data on the flows of international migrants as recorded by the countries of destination. The data presents both inflows and outflows according to the place of birth, citizenship or place of previous / next residence both for foreigners and nationals. For this lesson, we will focus on the Canadian Immigration data.\n",
      "metadata": {
        "button": false,
        "new_sheet": false,
        "run_control": {
          "read_only": false
        },
        "id": "HICXF4DakWXH"
      }
    },
    {
      "cell_type": "markdown",
      "source": "# Downloading and Prepping Data <a id=\"2\"></a>\n",
      "metadata": {
        "button": false,
        "new_sheet": false,
        "run_control": {
          "read_only": false
        },
        "id": "yz4y83hjkWXJ"
      }
    },
    {
      "cell_type": "markdown",
      "source": "The first thing we'll do is install **openpyxl** (formerly **xlrd**), a module that *pandas* requires to read Excel files.\n",
      "metadata": {
        "id": "dFjzD7uFkWXL"
      }
    },
    {
      "cell_type": "code",
      "source": "import piplite\nawait piplite.install(['openpyxl==3.0.9'])",
      "metadata": {
        "colab": {
          "base_uri": "https://localhost:8080/",
          "height": 330
        },
        "id": "NkZGpdU6kWXM",
        "outputId": "71c1e5a0-8c0c-4e9b-b375-b41a57b3a869",
        "trusted": true
      },
      "execution_count": 1,
      "outputs": [
        {
          "output_type": "error",
          "ename": "ModuleNotFoundError",
          "evalue": "ignored",
          "traceback": [
            "\u001b[0;31m---------------------------------------------------------------------------\u001b[0m",
            "\u001b[0;31mModuleNotFoundError\u001b[0m                       Traceback (most recent call last)",
            "\u001b[0;32m<ipython-input-1-fd5f5a15c78c>\u001b[0m in \u001b[0;36m<cell line: 1>\u001b[0;34m()\u001b[0m\n\u001b[0;32m----> 1\u001b[0;31m \u001b[0;32mimport\u001b[0m \u001b[0mpiplite\u001b[0m\u001b[0;34m\u001b[0m\u001b[0;34m\u001b[0m\u001b[0m\n\u001b[0m\u001b[1;32m      2\u001b[0m \u001b[0;32mawait\u001b[0m \u001b[0mpiplite\u001b[0m\u001b[0;34m.\u001b[0m\u001b[0minstall\u001b[0m\u001b[0;34m(\u001b[0m\u001b[0;34m[\u001b[0m\u001b[0;34m'openpyxl==3.0.9'\u001b[0m\u001b[0;34m]\u001b[0m\u001b[0;34m)\u001b[0m\u001b[0;34m\u001b[0m\u001b[0;34m\u001b[0m\u001b[0m\n",
            "\u001b[0;31mModuleNotFoundError\u001b[0m: No module named 'piplite'",
            "",
            "\u001b[0;31m---------------------------------------------------------------------------\u001b[0;32m\nNOTE: If your import is failing due to a missing package, you can\nmanually install dependencies using either !pip or !apt.\n\nTo view examples of installing some common dependencies, click the\n\"Open Examples\" button below.\n\u001b[0;31m---------------------------------------------------------------------------\u001b[0m\n"
          ],
          "errorDetails": {
            "actions": [
              {
                "action": "open_url",
                "actionText": "Open Examples",
                "url": "/notebooks/snippets/importing_libraries.ipynb"
              }
            ]
          }
        }
      ]
    },
    {
      "cell_type": "markdown",
      "source": "Import Primary Modules. The first thing we'll do is import two key data analysis modules: `pandas` and `numpy`.\n",
      "metadata": {
        "button": false,
        "new_sheet": false,
        "run_control": {
          "read_only": false
        },
        "id": "ZJMKPY-8kWXN"
      }
    },
    {
      "cell_type": "code",
      "source": "import numpy as np  # useful for many scientific computing in Python\nimport pandas as pd # primary data structure library",
      "metadata": {
        "button": false,
        "new_sheet": false,
        "run_control": {
          "read_only": false
        },
        "id": "nCeBKxsfkWXO",
        "trusted": true
      },
      "execution_count": 2,
      "outputs": []
    },
    {
      "cell_type": "markdown",
      "source": "Download the Canadian Immigration dataset and read it into a *pandas* dataframe.\n",
      "metadata": {
        "button": false,
        "new_sheet": false,
        "run_control": {
          "read_only": false
        },
        "id": "cMt5p3j5kWXP"
      }
    },
    {
      "cell_type": "code",
      "source": "from js import fetch\nimport io\n\nURL = 'https://cf-courses-data.s3.us.cloud-object-storage.appdomain.cloud/IBMDeveloperSkillsNetwork-DV0101EN-SkillsNetwork/Data%20Files/Canada.xlsx'\nresp = await fetch(URL)\ntext = io.BytesIO((await resp.arrayBuffer()).to_py())\n\ndf_can = pd.read_excel(\n    text,\n    sheet_name='Canada by Citizenship',\n    skiprows=range(20),\n    skipfooter=2)\nprint('Data downloaded and read into a dataframe!')",
      "metadata": {
        "button": false,
        "new_sheet": false,
        "run_control": {
          "read_only": false
        },
        "colab": {
          "base_uri": "https://localhost:8080/",
          "height": 384
        },
        "id": "C7Vmc-5ZkWXQ",
        "outputId": "c401c600-12d6-4017-b81a-efcf327ffefc",
        "trusted": true
      },
      "execution_count": 3,
      "outputs": [
        {
          "output_type": "error",
          "ename": "ModuleNotFoundError",
          "evalue": "ignored",
          "traceback": [
            "\u001b[0;31m---------------------------------------------------------------------------\u001b[0m",
            "\u001b[0;31mModuleNotFoundError\u001b[0m                       Traceback (most recent call last)",
            "\u001b[0;32m<ipython-input-3-63ec563377e7>\u001b[0m in \u001b[0;36m<cell line: 1>\u001b[0;34m()\u001b[0m\n\u001b[0;32m----> 1\u001b[0;31m \u001b[0;32mfrom\u001b[0m \u001b[0mjs\u001b[0m \u001b[0;32mimport\u001b[0m \u001b[0mfetch\u001b[0m\u001b[0;34m\u001b[0m\u001b[0;34m\u001b[0m\u001b[0m\n\u001b[0m\u001b[1;32m      2\u001b[0m \u001b[0;32mimport\u001b[0m \u001b[0mio\u001b[0m\u001b[0;34m\u001b[0m\u001b[0;34m\u001b[0m\u001b[0m\n\u001b[1;32m      3\u001b[0m \u001b[0;34m\u001b[0m\u001b[0m\n\u001b[1;32m      4\u001b[0m \u001b[0mURL\u001b[0m \u001b[0;34m=\u001b[0m \u001b[0;34m'https://cf-courses-data.s3.us.cloud-object-storage.appdomain.cloud/IBMDeveloperSkillsNetwork-DV0101EN-SkillsNetwork/Data%20Files/Canada.xlsx'\u001b[0m\u001b[0;34m\u001b[0m\u001b[0;34m\u001b[0m\u001b[0m\n\u001b[1;32m      5\u001b[0m \u001b[0mresp\u001b[0m \u001b[0;34m=\u001b[0m \u001b[0;32mawait\u001b[0m \u001b[0mfetch\u001b[0m\u001b[0;34m(\u001b[0m\u001b[0mURL\u001b[0m\u001b[0;34m)\u001b[0m\u001b[0;34m\u001b[0m\u001b[0;34m\u001b[0m\u001b[0m\n",
            "\u001b[0;31mModuleNotFoundError\u001b[0m: No module named 'js'",
            "",
            "\u001b[0;31m---------------------------------------------------------------------------\u001b[0;32m\nNOTE: If your import is failing due to a missing package, you can\nmanually install dependencies using either !pip or !apt.\n\nTo view examples of installing some common dependencies, click the\n\"Open Examples\" button below.\n\u001b[0;31m---------------------------------------------------------------------------\u001b[0m\n"
          ],
          "errorDetails": {
            "actions": [
              {
                "action": "open_url",
                "actionText": "Open Examples",
                "url": "/notebooks/snippets/importing_libraries.ipynb"
              }
            ]
          }
        }
      ]
    },
    {
      "cell_type": "markdown",
      "source": "Let's take a look at the first five items in our dataset.\n",
      "metadata": {
        "button": false,
        "new_sheet": false,
        "run_control": {
          "read_only": false
        },
        "id": "Q-N--8mAkWXR"
      }
    },
    {
      "cell_type": "code",
      "source": "df_can.head()",
      "metadata": {
        "button": false,
        "new_sheet": false,
        "run_control": {
          "read_only": false
        },
        "colab": {
          "base_uri": "https://localhost:8080/",
          "height": 169
        },
        "id": "Iy29ru0wkWXS",
        "outputId": "c3c0d382-f82d-4756-8a65-66fc2ac8bb48",
        "trusted": true
      },
      "execution_count": 4,
      "outputs": [
        {
          "output_type": "error",
          "ename": "NameError",
          "evalue": "ignored",
          "traceback": [
            "\u001b[0;31m---------------------------------------------------------------------------\u001b[0m",
            "\u001b[0;31mNameError\u001b[0m                                 Traceback (most recent call last)",
            "\u001b[0;32m<ipython-input-4-e4b4d6314b9a>\u001b[0m in \u001b[0;36m<cell line: 1>\u001b[0;34m()\u001b[0m\n\u001b[0;32m----> 1\u001b[0;31m \u001b[0mdf_can\u001b[0m\u001b[0;34m.\u001b[0m\u001b[0mhead\u001b[0m\u001b[0;34m(\u001b[0m\u001b[0;34m)\u001b[0m\u001b[0;34m\u001b[0m\u001b[0;34m\u001b[0m\u001b[0m\n\u001b[0m",
            "\u001b[0;31mNameError\u001b[0m: name 'df_can' is not defined"
          ]
        }
      ]
    },
    {
      "cell_type": "markdown",
      "source": "Let's find out how many entries there are in our dataset.\n",
      "metadata": {
        "button": false,
        "new_sheet": false,
        "run_control": {
          "read_only": false
        },
        "id": "6cIzAInLkWXT"
      }
    },
    {
      "cell_type": "code",
      "source": "# print the dimensions of the dataframe\nprint(df_can.shape)",
      "metadata": {
        "button": false,
        "new_sheet": false,
        "run_control": {
          "read_only": false
        },
        "scrolled": true,
        "id": "dlw1JkYjkWXT",
        "trusted": true
      },
      "execution_count": null,
      "outputs": []
    },
    {
      "cell_type": "markdown",
      "source": "Clean up data. We will make some modifications to the original dataset to make it easier to create our visualizations. Refer to `Introduction to Matplotlib and Line Plots` lab for the rational and detailed description of the changes.\n",
      "metadata": {
        "button": false,
        "new_sheet": false,
        "run_control": {
          "read_only": false
        },
        "id": "OFfgqNkxkWXU"
      }
    },
    {
      "cell_type": "markdown",
      "source": "#### 1. Clean up the dataset to remove columns that are not informative to us for visualization (eg. Type, AREA, REG).\n",
      "metadata": {
        "button": false,
        "new_sheet": false,
        "run_control": {
          "read_only": false
        },
        "id": "2juc5XP9kWXU"
      }
    },
    {
      "cell_type": "code",
      "source": "df_can.drop(['AREA', 'REG', 'DEV', 'Type', 'Coverage'], axis=1, inplace=True)\n\n# let's view the first five elements and see how the dataframe was changed\ndf_can.head()",
      "metadata": {
        "button": false,
        "new_sheet": false,
        "run_control": {
          "read_only": false
        },
        "id": "oA4VT3kjkWXV",
        "trusted": true
      },
      "execution_count": null,
      "outputs": []
    },
    {
      "cell_type": "markdown",
      "source": "Notice how the columns Type, Coverage, AREA, REG, and DEV got removed from the dataframe.\n",
      "metadata": {
        "button": false,
        "new_sheet": false,
        "run_control": {
          "read_only": false
        },
        "id": "IOV3yBAkkWXW"
      }
    },
    {
      "cell_type": "markdown",
      "source": "#### 2. Rename some of the columns so that they make sense.\n",
      "metadata": {
        "button": false,
        "new_sheet": false,
        "run_control": {
          "read_only": false
        },
        "id": "4riAgWOZkWXW"
      }
    },
    {
      "cell_type": "code",
      "source": "df_can.rename(columns={'OdName':'Country', 'AreaName':'Continent','RegName':'Region'}, inplace=True)\n\n# let's view the first five elements and see how the dataframe was changed\ndf_can.head()",
      "metadata": {
        "button": false,
        "new_sheet": false,
        "run_control": {
          "read_only": false
        },
        "id": "xNJJTJkMkWXW",
        "trusted": true
      },
      "execution_count": null,
      "outputs": []
    },
    {
      "cell_type": "markdown",
      "source": "Notice how the column names now make much more sense, even to an outsider.\n",
      "metadata": {
        "button": false,
        "new_sheet": false,
        "run_control": {
          "read_only": false
        },
        "id": "KO0tj-u7kWXW"
      }
    },
    {
      "cell_type": "markdown",
      "source": "#### 3. For consistency, ensure that all column labels of type string.\n",
      "metadata": {
        "button": false,
        "new_sheet": false,
        "run_control": {
          "read_only": false
        },
        "id": "fb19KVkdkWXX"
      }
    },
    {
      "cell_type": "code",
      "source": "# let's examine the types of the column labels\nall(isinstance(column, str) for column in df_can.columns)",
      "metadata": {
        "button": false,
        "new_sheet": false,
        "run_control": {
          "read_only": false
        },
        "scrolled": true,
        "id": "e3iIJjtokWXX",
        "trusted": true
      },
      "execution_count": null,
      "outputs": []
    },
    {
      "cell_type": "markdown",
      "source": "Notice how the above line of code returned *False* when we tested if all the column labels are of type **string**. So let's change them all to **string** type.\n",
      "metadata": {
        "button": false,
        "new_sheet": false,
        "run_control": {
          "read_only": false
        },
        "id": "gyXcFdRVkWXY"
      }
    },
    {
      "cell_type": "code",
      "source": "df_can.columns = list(map(str, df_can.columns))\n\n# let's check the column labels types now\nall(isinstance(column, str) for column in df_can.columns)",
      "metadata": {
        "button": false,
        "new_sheet": false,
        "run_control": {
          "read_only": false
        },
        "id": "FK7NqsT4kWXZ",
        "trusted": true
      },
      "execution_count": null,
      "outputs": []
    },
    {
      "cell_type": "markdown",
      "source": "#### 4. Set the country name as index - useful for quickly looking up countries using .loc method.\n",
      "metadata": {
        "button": false,
        "new_sheet": false,
        "run_control": {
          "read_only": false
        },
        "id": "rf9URZrakWXa"
      }
    },
    {
      "cell_type": "code",
      "source": "df_can.set_index('Country', inplace=True)\n\n# Let's view the first five elements and see how the dataframe was changed\ndf_can.head()",
      "metadata": {
        "button": false,
        "new_sheet": false,
        "run_control": {
          "read_only": false
        },
        "id": "U0jbLnRqkWXa",
        "trusted": true
      },
      "execution_count": null,
      "outputs": []
    },
    {
      "cell_type": "markdown",
      "source": "Notice now the country names now serve as indices.\n",
      "metadata": {
        "button": false,
        "new_sheet": false,
        "run_control": {
          "read_only": false
        },
        "id": "J8dRrs_SkWXb"
      }
    },
    {
      "cell_type": "markdown",
      "source": "#### 5. Add total column.\n",
      "metadata": {
        "button": false,
        "new_sheet": false,
        "run_control": {
          "read_only": false
        },
        "id": "NtcHlE6OkWXb"
      }
    },
    {
      "cell_type": "code",
      "source": "df_can['Total'] = df_can.sum(axis=1)\n\n# let's view the first five elements and see how the dataframe was changed\ndf_can.head()",
      "metadata": {
        "button": false,
        "new_sheet": false,
        "run_control": {
          "read_only": false
        },
        "id": "GrJ3mljGkWXb",
        "trusted": true
      },
      "execution_count": null,
      "outputs": []
    },
    {
      "cell_type": "code",
      "source": "df_can.loc['Pakistan', '2010']",
      "metadata": {
        "id": "5dbUPiBMkWXc",
        "trusted": true
      },
      "execution_count": null,
      "outputs": []
    },
    {
      "cell_type": "markdown",
      "source": "Now the dataframe has an extra column that presents the total number of immigrants from each country in the dataset from 1980 - 2013. So if we print the dimension of the data, we get:\n",
      "metadata": {
        "button": false,
        "new_sheet": false,
        "run_control": {
          "read_only": false
        },
        "id": "2fcP-T06kWXc"
      }
    },
    {
      "cell_type": "code",
      "source": "print('data dimensions:', df_can.shape)",
      "metadata": {
        "button": false,
        "new_sheet": false,
        "run_control": {
          "read_only": false
        },
        "scrolled": true,
        "id": "2zmyd1YCkWXd",
        "trusted": true
      },
      "execution_count": null,
      "outputs": []
    },
    {
      "cell_type": "markdown",
      "source": "So now our dataframe has 38 columns instead of 37 columns that we had before.\n",
      "metadata": {
        "button": false,
        "new_sheet": false,
        "run_control": {
          "read_only": false
        },
        "id": "u1XnE8dukWXd"
      }
    },
    {
      "cell_type": "code",
      "source": "# finally, let's create a list of years from 1980 - 2013\n# this will come in handy when we start plotting the data\nyears = list(map(str, range(1980, 2014)))\n\nyears",
      "metadata": {
        "button": false,
        "new_sheet": false,
        "run_control": {
          "read_only": false
        },
        "id": "-F_Ba7YWkWXe",
        "trusted": true
      },
      "execution_count": null,
      "outputs": []
    },
    {
      "cell_type": "markdown",
      "source": "# Visualizing Data using Matplotlib<a id=\"4\"></a>\n",
      "metadata": {
        "button": false,
        "new_sheet": false,
        "run_control": {
          "read_only": false
        },
        "id": "AmW824nlkWXf"
      }
    },
    {
      "cell_type": "markdown",
      "source": "Import the `matplotlib` library.\n",
      "metadata": {
        "button": false,
        "new_sheet": false,
        "run_control": {
          "read_only": false
        },
        "id": "-0YQ8YWFkWXf"
      }
    },
    {
      "cell_type": "code",
      "source": "# use the inline backend to generate the plots within the browser\n%matplotlib inline\n\nimport matplotlib as mpl\nimport matplotlib.pyplot as plt\n\nmpl.style.use('ggplot')  # optional: for ggplot-like style\n\n# check for latest version of Matplotlib\nprint('Matplotlib version: ', mpl.__version__) # >= 2.0.0",
      "metadata": {
        "button": false,
        "new_sheet": false,
        "run_control": {
          "read_only": false
        },
        "id": "IGGhtot8kWXf",
        "trusted": true
      },
      "execution_count": null,
      "outputs": []
    },
    {
      "cell_type": "markdown",
      "source": "# Area Plots<a id=\"6\"></a>\n",
      "metadata": {
        "button": false,
        "new_sheet": false,
        "run_control": {
          "read_only": false
        },
        "id": "a4FmWPrskWXg"
      }
    },
    {
      "cell_type": "markdown",
      "source": "In the last module, we created a line plot that visualized the top 5 countries that contribued the most immigrants to Canada from 1980 to 2013. With a little modification to the code, we can visualize this plot as a cumulative plot, also knows as a **Stacked Line Plot** or **Area plot**.\n",
      "metadata": {
        "button": false,
        "new_sheet": false,
        "run_control": {
          "read_only": false
        },
        "id": "bScyCeyHkWXg"
      }
    },
    {
      "cell_type": "code",
      "source": "df_can.sort_values(['Total'], ascending=False, axis=0, inplace=True)\n\n# get the top 5 entries\ndf_top5 = df_can.head()\n\n# transpose the dataframe\ndf_top5 = df_top5[years].transpose()\n\ndf_top5.head()",
      "metadata": {
        "button": false,
        "new_sheet": false,
        "run_control": {
          "read_only": false
        },
        "id": "gZZOdJk2kWXh",
        "trusted": true
      },
      "execution_count": null,
      "outputs": []
    },
    {
      "cell_type": "markdown",
      "source": "Area plots are stacked by default. And to produce a stacked area plot, each column must be either all positive or all negative values (any `NaN`, i.e. not a number, values will default to 0). To produce an unstacked plot, set parameter `stacked` to value `False`.\n",
      "metadata": {
        "button": false,
        "new_sheet": false,
        "run_control": {
          "read_only": false
        },
        "id": "-063DsjfkWXh"
      }
    },
    {
      "cell_type": "code",
      "source": "# let's change the index values of df_top5 to type integer for plotting\ndf_top5.index = df_top5.index.map(int)\ndf_top5.plot(kind='area',\n             stacked=False,\n             figsize=(20, 10))  # pass a tuple (x, y) size\n\nplt.title('Immigration Trend of Top 5 Countries')\nplt.ylabel('Number of Immigrants')\nplt.xlabel('Years')\n\nplt.show()",
      "metadata": {
        "button": false,
        "new_sheet": false,
        "run_control": {
          "read_only": false
        },
        "id": "StspUIDNkWXi",
        "trusted": true
      },
      "execution_count": null,
      "outputs": []
    },
    {
      "cell_type": "code",
      "source": "df_top5.loc[1980, 'Pakistan']",
      "metadata": {
        "id": "2Urv2e_OkWXj",
        "trusted": true
      },
      "execution_count": null,
      "outputs": []
    },
    {
      "cell_type": "markdown",
      "source": "The unstacked plot has a default transparency (alpha value) at 0.5. We can modify this value by passing in the `alpha` parameter.\n",
      "metadata": {
        "button": false,
        "new_sheet": false,
        "run_control": {
          "read_only": false
        },
        "id": "8VMjq2GIkWXj"
      }
    },
    {
      "cell_type": "code",
      "source": "df_top5.plot(kind='area', \n             alpha=0.25,  # 0 - 1, default value alpha = 0.5\n             stacked=False,\n             figsize=(20, 10))\n\nplt.title('Immigration Trend of Top 5 Countries')\nplt.ylabel('Number of Immigrants')\nplt.xlabel('Years')\n\nplt.show()",
      "metadata": {
        "button": false,
        "new_sheet": false,
        "run_control": {
          "read_only": false
        },
        "id": "Q-C4fjKakWXj",
        "trusted": true
      },
      "execution_count": null,
      "outputs": []
    },
    {
      "cell_type": "markdown",
      "source": "### Two types of plotting\n\nAs we discussed in the video lectures, there are two styles/options of plotting with `matplotlib`， plotting using the Artist layer and plotting using the scripting layer.\n\n\\*\\*Option 1: Scripting layer (procedural method) - using matplotlib.pyplot as 'plt' \\*\\*\n\nYou can use `plt` i.e. `matplotlib.pyplot` and add more elements by calling different methods procedurally; for example, `plt.title(...)` to add title or `plt.xlabel(...)` to add label to the x-axis.\n\n```python\n    # Option 1: This is what we have been using so far\n    df_top5.plot(kind='area', alpha=0.35, figsize=(20, 10)) \n    plt.title('Immigration trend of top 5 countries')\n    plt.ylabel('Number of immigrants')\n    plt.xlabel('Years')\n```\n",
      "metadata": {
        "button": false,
        "new_sheet": false,
        "run_control": {
          "read_only": false
        },
        "id": "r-DKdt-rkWXj"
      }
    },
    {
      "cell_type": "markdown",
      "source": "\\*\\*Option 2: Artist layer (Object oriented method) - using an `Axes` instance from Matplotlib (preferred) \\*\\*\n\nYou can use an `Axes` instance of your current plot and store it in a variable (eg. `ax`). You can add more elements by calling methods with a little change in syntax (by adding \"`set_`\" to the previous methods). For example, use `ax.set_title()` instead of `plt.title()` to add title,  or `ax.set_xlabel()` instead of `plt.xlabel()` to add label to the x-axis.\n\nThis option sometimes is more transparent and flexible to use for advanced plots (in particular when having multiple plots, as you will see later).\n\nIn this course, we will stick to the **scripting layer**, except for some advanced visualizations where we will need to use the **artist layer** to manipulate advanced aspects of the plots.\n",
      "metadata": {
        "button": false,
        "new_sheet": false,
        "run_control": {
          "read_only": false
        },
        "id": "ybhjQMvJkWXk"
      }
    },
    {
      "cell_type": "code",
      "source": "# option 2: preferred option with more flexibility\nax = df_top5.plot(kind='area', alpha=0.35, figsize=(20, 10))\n\nax.set_title('Immigration Trend of Top 5 Countries')\nax.set_ylabel('Number of Immigrants')\nax.set_xlabel('Years')",
      "metadata": {
        "button": false,
        "new_sheet": false,
        "run_control": {
          "read_only": false
        },
        "id": "NpW43ApLkWXk",
        "trusted": true
      },
      "execution_count": null,
      "outputs": []
    },
    {
      "cell_type": "markdown",
      "source": "**Question**: Use the scripting layer to create a stacked area plot of the 5 countries that contributed the least to immigration to Canada **from** 1980 to 2013. Use a transparency value of 0.45.\n",
      "metadata": {
        "button": false,
        "new_sheet": false,
        "run_control": {
          "read_only": false
        },
        "id": "UWHGli92kWXl"
      }
    },
    {
      "cell_type": "code",
      "source": "### type your answer here\n\n# get the last 5 entries\ndf_can_least = df_can.tail()\n\n# transpose the dataframe\ndf_can_least = df_can_least[years].transpose()\n\ndf_can_least.head()",
      "metadata": {
        "button": false,
        "new_sheet": false,
        "run_control": {
          "read_only": false
        },
        "id": "AsGioSj7kWXl",
        "trusted": true
      },
      "execution_count": null,
      "outputs": []
    },
    {
      "cell_type": "code",
      "source": "# let's change the index values of df_can_least to type integer for plotting\ndf_can_least.index = df_can_least.index.map(int)\n\n#scripting layer\ndf_can_least.plot(kind='area', alpha=0.45, figsize=(20, 10))  # pass a tuple (x, y) size\n\nplt.title('Immigration Trend of Last 5 Countries')\nplt.ylabel('Number of Immigrants')\nplt.xlabel('Years')\n\nplt.show()",
      "metadata": {
        "id": "a3rpj9NVkWXm",
        "trusted": true
      },
      "execution_count": null,
      "outputs": []
    },
    {
      "cell_type": "markdown",
      "source": "<details><summary>Click here for a sample python solution</summary>\n\n```python\n    #The correct answer is:\n    # get the 5 countries with the least contribution\n    df_least5 = df_can.tail(5)\n     \n    # transpose the dataframe\n    df_least5 = df_least5[years].transpose() \n    df_least5.head()\n\n    df_least5.index = df_least5.index.map(int) # let's change the index values of df_least5 to type integer for plotting\n    df_least5.plot(kind='area', alpha=0.45, figsize=(20, 10)) \n\n    plt.title('Immigration Trend of 5 Countries with Least Contribution to Immigration')\n    plt.ylabel('Number of Immigrants')\n    plt.xlabel('Years')\n\n    plt.show()\n```\n\n</details>\n",
      "metadata": {
        "button": false,
        "new_sheet": false,
        "run_control": {
          "read_only": false
        },
        "id": "581WymYdkWXm"
      }
    },
    {
      "cell_type": "code",
      "source": "# given solution --> used in order to check my solution\n# scripting layer\ndf_least5 = df_can.tail(5)\n     \n# transpose the dataframe\ndf_least5 = df_least5[years].transpose() \ndf_least5.head()\n\ndf_least5.index = df_least5.index.map(int) # let's change the index values of df_least5 to type integer for plotting\ndf_least5.plot(kind='area', alpha=0.45, figsize=(20, 10)) \n\nplt.title('Immigration Trend of 5 Countries with Least Contribution to Immigration')\nplt.ylabel('Number of Immigrants')\nplt.xlabel('Years')\n\nplt.show()",
      "metadata": {
        "id": "aPWKCQCekWXm",
        "trusted": true
      },
      "execution_count": null,
      "outputs": []
    },
    {
      "cell_type": "markdown",
      "source": "**Question**: Use the artist layer to create an unstacked area plot of the 5 countries that contributed the least to immigration to Canada **from** 1980 to 2013. Use a transparency value of 0.55.\n",
      "metadata": {
        "button": false,
        "new_sheet": false,
        "run_control": {
          "read_only": false
        },
        "id": "v-NsZp9hkWXn"
      }
    },
    {
      "cell_type": "code",
      "source": "### type your answer here\n\nax = df_least5.plot(kind='area', alpha=0.55, stacked=False, figsize=(20, 10))\n\nax.set_title('Immigration Trend of 5 Countries with Least Contribution to Immigration')\nax.set_ylabel('Number of Immigrants')\nax.set_xlabel('Years')",
      "metadata": {
        "button": false,
        "new_sheet": false,
        "run_control": {
          "read_only": false
        },
        "id": "sFNBneeakWXn",
        "trusted": true
      },
      "execution_count": null,
      "outputs": []
    },
    {
      "cell_type": "markdown",
      "source": "<details><summary>Click here for a sample python solution</summary>\n\n```python\n    #The correct answer is:\n    \n    # get the 5 countries with the least contribution\n    df_least5 = df_can.tail(5)\n\n    # transpose the dataframe\n    df_least5 = df_least5[years].transpose() \n    \n    df_least5.head()\n\n    df_least5.index = df_least5.index.map(int) # let's change the index values of df_least5 to type integer for plotting\n    \n    ax = df_least5.plot(kind='area', alpha=0.55, stacked=False, figsize=(20, 10))\n    \n    ax.set_title('Immigration Trend of 5 Countries with Least Contribution to Immigration')\n    ax.set_ylabel('Number of Immigrants')\n    ax.set_xlabel('Years')\n\n    \n```\n\n</details>\n",
      "metadata": {
        "button": false,
        "new_sheet": false,
        "run_control": {
          "read_only": false
        },
        "id": "QYRBw8lUkWXo"
      }
    },
    {
      "cell_type": "code",
      "source": "# given solution --> used in order to check my solution\n# artist layer\n\n# get the 5 countries with the least contribution\ndf_least5 = df_can.tail(5)\n\n    # transpose the dataframe\ndf_least5 = df_least5[years].transpose() \n    \ndf_least5.head()\n\ndf_least5.index = df_least5.index.map(int) # let's change the index values of df_least5 to type integer for plotting\n    \nax = df_least5.plot(kind='area', alpha=0.55, stacked=False, figsize=(20, 10))\n    \nax.set_title('Immigration Trend of 5 Countries with Least Contribution to Immigration')\nax.set_ylabel('Number of Immigrants')\nax.set_xlabel('Years')",
      "metadata": {
        "id": "BioZxeDukWXo",
        "trusted": true
      },
      "execution_count": null,
      "outputs": []
    },
    {
      "cell_type": "markdown",
      "source": "# Histograms<a id=\"8\"></a>\n\nA histogram is a way of representing the *frequency* distribution of numeric dataset. The way it works is it partitions the x-axis into *bins*, assigns each data point in our dataset to a bin, and then counts the number of data points that have been assigned to each bin. So the y-axis is the frequency or the number of data points in each bin. Note that we can change the bin size and usually one needs to tweak it so that the distribution is displayed nicely.\n",
      "metadata": {
        "button": false,
        "new_sheet": false,
        "run_control": {
          "read_only": false
        },
        "id": "W3jDNxAMkWXo"
      }
    },
    {
      "cell_type": "markdown",
      "source": "**Question:** What is the frequency distribution of the number (population) of new immigrants from the various countries to Canada in 2013?\n",
      "metadata": {
        "button": false,
        "new_sheet": false,
        "run_control": {
          "read_only": false
        },
        "id": "KAaJE2DbkWXp"
      }
    },
    {
      "cell_type": "markdown",
      "source": "Before we proceed with creating the histogram plot, let's first examine the data split into intervals. To do this, we will us **Numpy**'s `histrogram` method to get the bin ranges and frequency counts as follows:\n",
      "metadata": {
        "button": false,
        "new_sheet": false,
        "run_control": {
          "read_only": false
        },
        "id": "-E-gxXSVkWXp"
      }
    },
    {
      "cell_type": "code",
      "source": "# let's quickly view the 2013 data\ndf_can['2013'].head()",
      "metadata": {
        "button": false,
        "new_sheet": false,
        "run_control": {
          "read_only": false
        },
        "id": "EkJ1FGrPkWXp",
        "trusted": true
      },
      "execution_count": null,
      "outputs": []
    },
    {
      "cell_type": "code",
      "source": "# np.histogram returns 2 values\ncount, bin_edges = np.histogram(df_can['2013'])\n\nprint(count) # frequency count\nprint(bin_edges) # bin ranges, default = 10 bins",
      "metadata": {
        "button": false,
        "new_sheet": false,
        "run_control": {
          "read_only": false
        },
        "id": "-GlMekAakWXq",
        "trusted": true
      },
      "execution_count": null,
      "outputs": []
    },
    {
      "cell_type": "markdown",
      "source": "By default, the `histrogram` method breaks up the dataset into 10 bins. The figure below summarizes the bin ranges and the frequency distribution of immigration in 2013. We can see that in 2013:\n\n*   178 countries contributed between 0 to 3412.9 immigrants\n*   11 countries contributed between 3412.9 to 6825.8 immigrants\n*   1 country contributed between 6285.8 to 10238.7 immigrants, and so on..\n\n<img src=\"https://cf-courses-data.s3.us.cloud-object-storage.appdomain.cloud/IBMDeveloperSkillsNetwork-DV0101EN-SkillsNetwork/labs/Module%202/images/Mod2Fig1-Histogram.jpg\" align=\"center\" width=\"800\">\n",
      "metadata": {
        "button": false,
        "new_sheet": false,
        "run_control": {
          "read_only": false
        },
        "id": "WE5MlJkYkWXq"
      }
    },
    {
      "cell_type": "markdown",
      "source": "We can easily graph this distribution by passing `kind=hist` to `plot()`.\n",
      "metadata": {
        "button": false,
        "new_sheet": false,
        "run_control": {
          "read_only": false
        },
        "id": "ooi4j12qkWXq"
      }
    },
    {
      "cell_type": "code",
      "source": "df_can['2013'].plot(kind='hist', figsize=(8, 5))\n\n# add a title to the histogram\nplt.title('Histogram of Immigration from 195 Countries in 2013')\n# add y-label\nplt.ylabel('Number of Countries')\n# add x-label\nplt.xlabel('Number of Immigrants')\n\nplt.show()",
      "metadata": {
        "button": false,
        "new_sheet": false,
        "run_control": {
          "read_only": false
        },
        "id": "Nkfdv2FvkWXr",
        "trusted": true
      },
      "execution_count": null,
      "outputs": []
    },
    {
      "cell_type": "markdown",
      "source": "In the above plot, the x-axis represents the population range of immigrants in intervals of 3412.9. The y-axis represents the number of countries that contributed to the aforementioned population.\n\nNotice that the x-axis labels do not match with the bin size. This can be fixed by passing in a `xticks` keyword that contains the list of the bin sizes, as follows:\n",
      "metadata": {
        "button": false,
        "new_sheet": false,
        "run_control": {
          "read_only": false
        },
        "id": "3Bas7bZKkWXr"
      }
    },
    {
      "cell_type": "code",
      "source": "# 'bin_edges' is a list of bin intervals\ncount, bin_edges = np.histogram(df_can['2013'])\n\ndf_can['2013'].plot(kind='hist', figsize=(8, 5), xticks=bin_edges)\n\nplt.title('Histogram of Immigration from 195 countries in 2013') # add a title to the histogram\nplt.ylabel('Number of Countries') # add y-label\nplt.xlabel('Number of Immigrants') # add x-label\n\nplt.show()",
      "metadata": {
        "button": false,
        "new_sheet": false,
        "run_control": {
          "read_only": false
        },
        "id": "lv3SNFackWXs",
        "trusted": true
      },
      "execution_count": null,
      "outputs": []
    },
    {
      "cell_type": "markdown",
      "source": "*Side Note:* We could use `df_can['2013'].plot.hist()`, instead. In fact, throughout this lesson, using `some_data.plot(kind='type_plot', ...)` is equivalent to `some_data.plot.type_plot(...)`. That is, passing the type of the plot as argument or method behaves the same.\n\nSee the *pandas* documentation for more info  [http://pandas.pydata.org/pandas-docs/stable/generated/pandas.Series.plot.html](http://pandas.pydata.org/pandas-docs/stable/generated/pandas.Series.plot.html?utm_medium=Exinfluencer&utm_source=Exinfluencer&utm_content=000026UJ&utm_term=10006555&utm_id=NA-SkillsNetwork-Channel-SkillsNetworkCoursesIBMDeveloperSkillsNetworkDV0101ENSkillsNetwork20297740-2021-01-01).\n",
      "metadata": {
        "button": false,
        "new_sheet": false,
        "run_control": {
          "read_only": false
        },
        "id": "v4LbyJLokWXs"
      }
    },
    {
      "cell_type": "markdown",
      "source": "We can also plot multiple histograms on the same plot. For example, let's try to answer the following questions using a histogram.\n\n**Question**: What is the immigration distribution for Denmark, Norway, and Sweden for years 1980 - 2013?\n",
      "metadata": {
        "button": false,
        "new_sheet": false,
        "run_control": {
          "read_only": false
        },
        "id": "94XaqojfkWXt"
      }
    },
    {
      "cell_type": "code",
      "source": "# let's quickly view the dataset \ndf_can.loc[['Denmark', 'Norway', 'Sweden'], years]",
      "metadata": {
        "button": false,
        "new_sheet": false,
        "run_control": {
          "read_only": false
        },
        "id": "UPR7z6ECkWXt",
        "trusted": true
      },
      "execution_count": null,
      "outputs": []
    },
    {
      "cell_type": "code",
      "source": "df_can.loc['Iceland',years] #without using brackets it turns into a pandas series",
      "metadata": {
        "id": "blhMmis8Lx7X",
        "trusted": true
      },
      "execution_count": null,
      "outputs": []
    },
    {
      "cell_type": "code",
      "source": "# generate histogram\ndf_can.loc[['Denmark', 'Norway', 'Sweden'], years].plot.hist()",
      "metadata": {
        "button": false,
        "new_sheet": false,
        "run_control": {
          "read_only": false
        },
        "id": "JR3WFt8fkWXu",
        "trusted": true
      },
      "execution_count": null,
      "outputs": []
    },
    {
      "cell_type": "markdown",
      "source": "That does not look right!\n\nDon't worry, you'll often come across situations like this when creating plots. The solution often lies in how the underlying dataset is structured.\n\nInstead of plotting the population frequency distribution of the population for the 3 countries, *pandas* instead plotted the population frequency distribution for the `years`.\n\nThis can be easily fixed by first transposing the dataset, and then plotting as shown below.\n",
      "metadata": {
        "button": false,
        "new_sheet": false,
        "run_control": {
          "read_only": false
        },
        "id": "fTMy8b9FkWXu"
      }
    },
    {
      "cell_type": "code",
      "source": "# transpose dataframe\ndf_t = df_can.loc[['Denmark', 'Norway', 'Sweden'], years].transpose()\ndf_t.head()",
      "metadata": {
        "button": false,
        "new_sheet": false,
        "run_control": {
          "read_only": false
        },
        "id": "fKyTP6nEkWXu",
        "trusted": true
      },
      "execution_count": null,
      "outputs": []
    },
    {
      "cell_type": "code",
      "source": "# generate histogram\ndf_t.plot(kind='hist', figsize=(10, 6))\n\nplt.title('Histogram of Immigration from Denmark, Norway, and Sweden from 1980 - 2013')\nplt.ylabel('Number of Years')\nplt.xlabel('Number of Immigrants')\n\nplt.show()",
      "metadata": {
        "button": false,
        "new_sheet": false,
        "run_control": {
          "read_only": false
        },
        "id": "gGvQIbyZkWXv",
        "trusted": true
      },
      "execution_count": null,
      "outputs": []
    },
    {
      "cell_type": "markdown",
      "source": "Let's make a few modifications to improve the impact and aesthetics of the previous plot:\n\n*   increase the bin size to 15 by passing in `bins` parameter;\n*   set transparency to 60% by passing in `alpha` parameter;\n*   label the x-axis by passing in `x-label` parameter;\n*   change the colors of the plots by passing in `color` parameter.\n",
      "metadata": {
        "button": false,
        "new_sheet": false,
        "run_control": {
          "read_only": false
        },
        "id": "fs7w88AfkWXv"
      }
    },
    {
      "cell_type": "code",
      "source": "# let's get the x-tick values\ncount, bin_edges = np.histogram(df_t, 15)\n\n# un-stacked histogram\ndf_t.plot(kind ='hist', \n          figsize=(10, 6),\n          bins=15,\n          alpha=0.6,\n          xticks=bin_edges,\n          color=['coral', 'darkslateblue', 'mediumseagreen']\n         )\n\nplt.title('Histogram of Immigration from Denmark, Norway, and Sweden from 1980 - 2013')\nplt.ylabel('Number of Years')\nplt.xlabel('Number of Immigrants')\n\nplt.show()",
      "metadata": {
        "button": false,
        "new_sheet": false,
        "run_control": {
          "read_only": false
        },
        "id": "1Awssvo0kWXv",
        "trusted": true
      },
      "execution_count": null,
      "outputs": []
    },
    {
      "cell_type": "markdown",
      "source": "Tip:\nFor a full listing of colors available in Matplotlib, run the following code in your python shell:\n\n```python\nimport matplotlib\nfor name, hex in matplotlib.colors.cnames.items():\n    print(name, hex)\n```\n",
      "metadata": {
        "button": false,
        "new_sheet": false,
        "run_control": {
          "read_only": false
        },
        "id": "dWg3c9yNkWXw"
      }
    },
    {
      "cell_type": "code",
      "source": "import matplotlib\nfor name, hex in matplotlib.colors.cnames.items():\n    print(name, hex)",
      "metadata": {
        "id": "u8AOBHbtLx7g",
        "trusted": true
      },
      "execution_count": null,
      "outputs": []
    },
    {
      "cell_type": "markdown",
      "source": "If we do not want the plots to overlap each other, we can stack them using the `stacked` parameter. Let's also adjust the min and max x-axis labels to remove the extra gap on the edges of the plot. We can pass a tuple (min,max) using the `xlim` paramater, as show below.\n",
      "metadata": {
        "button": false,
        "new_sheet": false,
        "run_control": {
          "read_only": false
        },
        "id": "6MTRbW4QkWXw"
      }
    },
    {
      "cell_type": "code",
      "source": "count, bin_edges = np.histogram(df_t, 15)\nxmin = bin_edges[0] - 10   #  first bin value is 31.0, adding buffer of 10 for aesthetic purposes \nxmax = bin_edges[-1] + 10  #  last bin value is 308.0, adding buffer of 10 for aesthetic purposes\n\n# stacked Histogram\ndf_t.plot(kind='hist',\n          figsize=(10, 6), \n          bins=15,\n          xticks=bin_edges,\n          color=['coral', 'darkslateblue', 'mediumseagreen'],\n          stacked=True,\n          xlim=(xmin, xmax)\n         )\n\nplt.title('Histogram of Immigration from Denmark, Norway, and Sweden from 1980 - 2013')\nplt.ylabel('Number of Years')\nplt.xlabel('Number of Immigrants') \n\nplt.show()",
      "metadata": {
        "button": false,
        "new_sheet": false,
        "run_control": {
          "read_only": false
        },
        "id": "UHi8UayYkWXw",
        "trusted": true
      },
      "execution_count": null,
      "outputs": []
    },
    {
      "cell_type": "markdown",
      "source": "**Question**: Use the scripting layer to display the immigration distribution for Greece, Albania, and Bulgaria for years 1980 - 2013? Use an overlapping plot with 15 bins and a transparency value of 0.35.\n",
      "metadata": {
        "button": false,
        "new_sheet": false,
        "run_control": {
          "read_only": false
        },
        "id": "WrDG-rEIkWXw"
      }
    },
    {
      "cell_type": "code",
      "source": "### type your answer here\n\nprint(df_can.loc[['Greece','Albania','Bulgaria'],'1980':'2013'].columns)\nprint(df_can.loc[['Greece','Albania','Bulgaria'],years].columns)\nprint(type(df_can.loc[['Greece','Albania','Bulgaria'],'1980':'2013'].columns))\nprint(type(df_can.loc[['Greece','Albania','Bulgaria'],years].columns))",
      "metadata": {
        "button": false,
        "new_sheet": false,
        "run_control": {
          "read_only": false
        },
        "id": "lfY7n2d6kWXw",
        "trusted": true
      },
      "execution_count": null,
      "outputs": []
    },
    {
      "cell_type": "code",
      "source": "df_gab = df_can.loc[['Greece','Albania','Bulgaria'],years].transpose()\n\ncount, bin_edges = np.histogram(df_gab, 15)\n\n# histograms are unstacked/overlapping by default unlike Area plots\ndf_gab.plot(kind=\"hist\", figsize=(10,6), bins=15, alpha=0.35, xticks=bin_edges, color=['coral', 'darkslateblue', 'mediumseagreen'])\n\nplt.title('Histogram of Immigration from Greece, Albania and Bulgaria from 1980 - 2013')\nplt.ylabel('Number of Years')\nplt.xlabel('Number of Immigrants') \n\nplt.show()",
      "metadata": {
        "id": "x0tNbvajLx7i",
        "trusted": true
      },
      "execution_count": null,
      "outputs": []
    },
    {
      "cell_type": "markdown",
      "source": "<details><summary>Click here for a sample python solution</summary>\n\n```python\n    #The correct answer is:\n    \n    # create a dataframe of the countries of interest (cof)\n    df_cof = df_can.loc[['Greece', 'Albania', 'Bulgaria'], years]\n\n    # transpose the dataframe\n    df_cof = df_cof.transpose() \n\n    # let's get the x-tick values\n    count, bin_edges = np.histogram(df_cof, 15)\n\n    # Un-stacked Histogram\n    df_cof.plot(kind ='hist',\n                figsize=(10, 6),\n                bins=15,\n                alpha=0.35,\n                xticks=bin_edges,\n                color=['coral', 'darkslateblue', 'mediumseagreen']\n                )\n\n    plt.title('Histogram of Immigration from Greece, Albania, and Bulgaria from 1980 - 2013')\n    plt.ylabel('Number of Years')\n    plt.xlabel('Number of Immigrants')\n\n    plt.show()\n\n    \n```\n\n</details>\n",
      "metadata": {
        "button": false,
        "new_sheet": false,
        "run_control": {
          "read_only": false
        },
        "id": "TkvKSdEwkWXw"
      }
    },
    {
      "cell_type": "markdown",
      "source": "# Bar Charts (Dataframe) <a id=\"10\"></a>\n\nA bar plot is a way of representing data where the *length* of the bars represents the magnitude/size of the feature/variable. Bar graphs usually represent numerical and categorical variables grouped in intervals.\n\nTo create a bar plot, we can pass one of two arguments via `kind` parameter in `plot()`:\n\n*   `kind=bar` creates a *vertical* bar plot\n*   `kind=barh` creates a *horizontal* bar plot\n",
      "metadata": {
        "button": false,
        "new_sheet": false,
        "run_control": {
          "read_only": false
        },
        "id": "3IcXmjElkWXy"
      }
    },
    {
      "cell_type": "markdown",
      "source": "**Vertical bar plot**\n\nIn vertical bar graphs, the x-axis is used for labelling, and the length of bars on the y-axis corresponds to the magnitude of the variable being measured. Vertical bar graphs are particularly useful in analyzing time series data. One disadvantage is that they lack space for text labelling at the foot of each bar.\n\n**Let's start off by analyzing the effect of Iceland's Financial Crisis:**\n\nThe 2008 - 2011 Icelandic Financial Crisis was a major economic and political event in Iceland. Relative to the size of its economy, Iceland's systemic banking collapse was the largest experienced by any country in economic history. The crisis led to a severe economic depression in 2008 - 2011 and significant political unrest.\n\n**Question:** Let's compare the number of Icelandic immigrants (country = 'Iceland') to Canada from year 1980 to 2013.\n",
      "metadata": {
        "button": false,
        "new_sheet": false,
        "run_control": {
          "read_only": false
        },
        "id": "K9ZTbEb5kWXy"
      }
    },
    {
      "cell_type": "code",
      "source": "# step 1: get the data\ndf_iceland = df_can.loc['Iceland', years] #without [] for the argument 'Iceland'-->pandas series\ndf_iceland.head()",
      "metadata": {
        "button": false,
        "new_sheet": false,
        "run_control": {
          "read_only": false
        },
        "id": "379JoQV8kWXy",
        "trusted": true
      },
      "execution_count": null,
      "outputs": []
    },
    {
      "cell_type": "code",
      "source": "df_can.loc[['Iceland'], years]",
      "metadata": {
        "id": "nFjAnYZxLx7j",
        "trusted": true
      },
      "execution_count": null,
      "outputs": []
    },
    {
      "cell_type": "code",
      "source": "# step 2: plot data\ndf_iceland.plot(kind='bar', figsize=(10, 6))\n\nplt.xlabel('Year') # add to x-label to the plot\nplt.ylabel('Number of immigrants') # add y-label to the plot\nplt.title('Icelandic immigrants to Canada from 1980 to 2013') # add title to the plot\n\nplt.show()",
      "metadata": {
        "button": false,
        "new_sheet": false,
        "run_control": {
          "read_only": false
        },
        "id": "owyff013kWXy",
        "trusted": true
      },
      "execution_count": null,
      "outputs": []
    },
    {
      "cell_type": "markdown",
      "source": "The bar plot above shows the total number of immigrants broken down by each year. We can clearly see the impact of the financial crisis; the number of immigrants to Canada started increasing rapidly after 2008.\n\nLet's annotate this on the plot using the `annotate` method of the **scripting layer** or the **pyplot interface**. We will pass in the following parameters:\n\n*   `s`: str, the text of annotation.\n*   `xy`: Tuple specifying the (x,y) point to annotate (in this case, end point of arrow).\n*   `xytext`: Tuple specifying the (x,y) point to place the text (in this case, start point of arrow).\n*   `xycoords`: The coordinate system that xy is given in - 'data' uses the coordinate system of the object being annotated (default).\n*   `arrowprops`: Takes a dictionary of properties to draw the arrow:\n    *   `arrowstyle`: Specifies the arrow style, `'->'` is standard arrow.\n    *   `connectionstyle`: Specifies the connection type. `arc3` is a straight line.\n    *   `color`: Specifies color of arrow.\n    *   `lw`: Specifies the line width.\n\nI encourage you to read the Matplotlib documentation for more details on annotations:\n<http://matplotlib.orsg/api/pyplot_api.html#matplotlib.pyplot.annotate>.\n",
      "metadata": {
        "button": false,
        "new_sheet": false,
        "run_control": {
          "read_only": false
        },
        "id": "-nyBsaGNkWXy"
      }
    },
    {
      "cell_type": "code",
      "source": "df_iceland.plot(kind='bar', figsize=(10, 6), rot=90)  # rotate the xticks(labelled points on x-axis) by 90 degrees -->rot=90 is default value\n\nplt.xlabel('Year')\nplt.ylabel('Number of Immigrants')\nplt.title('Icelandic Immigrants to Canada from 1980 to 2013')\n\n# Annotate arrow\nplt.annotate('',  # s: str. Will leave it blank for no text\n             xy=(32, 70),  # place head of the arrow at point (year 2012 , pop 70)\n             xytext=(28, 20),  # place base of the arrow at point (year 2008 , pop 20)\n             xycoords='data',  # will use the coordinate system of the object being annotated\n             arrowprops=dict(arrowstyle='->', connectionstyle='arc3', color='blue', lw=2)\n             )\n\nplt.show()",
      "metadata": {
        "button": false,
        "new_sheet": false,
        "run_control": {
          "read_only": false
        },
        "id": "aw7KEqEpkWXy",
        "trusted": true
      },
      "execution_count": null,
      "outputs": []
    },
    {
      "cell_type": "markdown",
      "source": "Let's also annotate a text to go over the arrow.  We will pass in the following additional parameters:\n\n*   `rotation`: rotation angle of text in degrees (counter clockwise)\n*   `va`: vertical alignment of text \\[‘center’ | ‘top’ | ‘bottom’ | ‘baseline’]\n*   `ha`: horizontal alignment of text \\[‘center’ | ‘right’ | ‘left’]\n",
      "metadata": {
        "button": false,
        "new_sheet": false,
        "run_control": {
          "read_only": false
        },
        "id": "4UcAQX4UkWX0"
      }
    },
    {
      "cell_type": "code",
      "source": "df_iceland.plot(kind='bar', figsize=(10, 6), rot=90)\n\nplt.xlabel('Year')\nplt.ylabel('Number of Immigrants')\nplt.title('Icelandic Immigrants to Canada from 1980 to 2013')\n\n# Annotate arrow\nplt.annotate('',  # s: str. will leave it blank for no text\n             xy=(32, 70),  # place head of the arrow at point (year 2012 , pop 70)\n             xytext=(28, 20),  # place base of the arrow at point (year 2008 , pop 20)\n             xycoords='data',  # will use the coordinate system of the object being annotated\n             arrowprops=dict(arrowstyle='->', connectionstyle='arc3', color='blue', lw=2)\n             )\n\n# Annotate Text\nplt.annotate('2008 - 2011 Financial Crisis',  # text to display\n             xy=(28, 30),  # start the text at at point (year 2008 , pop 30)\n             rotation=72.5,  # based on trial and error to match the arrow\n             va='bottom',  # want the text to be vertically 'bottom' aligned\n             ha='left',  # want the text to be horizontally 'left' aligned.\n             )\n\nplt.show()",
      "metadata": {
        "button": false,
        "new_sheet": false,
        "run_control": {
          "read_only": false
        },
        "id": "Imqw_VEFkWX0",
        "trusted": true
      },
      "execution_count": null,
      "outputs": []
    },
    {
      "cell_type": "markdown",
      "source": "**Horizontal Bar Plot**\n\nSometimes it is more practical to represent the data horizontally, especially if you need more room for labelling the bars. In horizontal bar graphs, the y-axis is used for labelling, and the length of bars on the x-axis corresponds to the magnitude of the variable being measured. As you will see, there is more room on the y-axis to  label categorical variables.\n\n**Question:** Using the scripting later and the `df_can` dataset, create a *horizontal* bar plot showing the *total* number of immigrants to Canada from the top 15 countries, for the period 1980 - 2013. Label each country with the total immigrant count.\n",
      "metadata": {
        "button": false,
        "new_sheet": false,
        "run_control": {
          "read_only": false
        },
        "id": "sRNbXiI-kWX1"
      }
    },
    {
      "cell_type": "markdown",
      "source": "Step 1: Get the data pertaining to the top 15 countries.\n",
      "metadata": {
        "button": false,
        "new_sheet": false,
        "run_control": {
          "read_only": false
        },
        "id": "RSmi5YmOkWX1"
      }
    },
    {
      "cell_type": "code",
      "source": "### type your answer here\n\n# get the top 15 entries\ndf_top15 = df_can.sort_values(['Total'], ascending=False, axis=0, inplace=False)\n\ndf_top15 = df_top15.head(15)\n\ndf_top15.head(15)",
      "metadata": {
        "button": false,
        "new_sheet": false,
        "run_control": {
          "read_only": false
        },
        "id": "aVM2UQGAkWX1",
        "trusted": true
      },
      "execution_count": null,
      "outputs": []
    },
    {
      "cell_type": "code",
      "source": "#transposing the dataframe\n\ndf_top15_t = df_top15[years].transpose()\n\ndf_top15_t.head()",
      "metadata": {
        "id": "__IU7KPRoclk",
        "trusted": true
      },
      "execution_count": null,
      "outputs": []
    },
    {
      "cell_type": "code",
      "source": "# examining the types of the index values\n\nall(isinstance(index, int) for index in df_top15_t.index)",
      "metadata": {
        "id": "WqXQosTWocll",
        "trusted": true
      },
      "execution_count": null,
      "outputs": []
    },
    {
      "cell_type": "code",
      "source": "# changing the index values of df_top15 to type integer for plotting\n\ndf_top15_t.index = df_top15_t.index.map(int)",
      "metadata": {
        "id": "LsabnznZocln",
        "trusted": true
      },
      "execution_count": null,
      "outputs": []
    },
    {
      "cell_type": "code",
      "source": "# re-examining the types of the index values after remapping them to type integer\n\nall(isinstance(index, int) for index in df_top15_t.index)",
      "metadata": {
        "id": "yED2nVRjoclo",
        "trusted": true
      },
      "execution_count": null,
      "outputs": []
    },
    {
      "cell_type": "code",
      "source": "df_top15.plot(kind='barh', figsize=(10,6))",
      "metadata": {
        "id": "lT254ztxoclo",
        "trusted": true
      },
      "execution_count": null,
      "outputs": []
    },
    {
      "cell_type": "code",
      "source": "df_top15_t.plot(kind='barh', figsize=(10,6))",
      "metadata": {
        "id": "bOhoBmeIoclo",
        "trusted": true
      },
      "execution_count": null,
      "outputs": []
    },
    {
      "cell_type": "code",
      "source": "# new attempt\n\ndf_top15_total = df_top15['Total'].head(15)\n\ndf_top15_total",
      "metadata": {
        "id": "8Ff_Nbcpocls",
        "trusted": true
      },
      "execution_count": null,
      "outputs": []
    },
    {
      "cell_type": "code",
      "source": "df_top15_total.index",
      "metadata": {
        "id": "e2Hi0RWSoclt",
        "trusted": true
      },
      "execution_count": null,
      "outputs": []
    },
    {
      "cell_type": "code",
      "source": "all(isinstance(index, str) for index in df_top15_total.index)",
      "metadata": {
        "id": "YTTEsRdloclt",
        "trusted": true
      },
      "execution_count": null,
      "outputs": []
    },
    {
      "cell_type": "markdown",
      "source": "<details><summary>Click here for a sample python solution</summary>\n\n```python\n    #The correct answer is:\n    \n    # sort dataframe on 'Total' column (descending)\n    df_can.sort_values(by='Total', ascending=True, inplace=True)\n\n    # get top 15 countries\n    df_top15 = df_can['Total'].tail(15)\n    df_top15\n\n```\n\n</details>\n",
      "metadata": {
        "button": false,
        "new_sheet": false,
        "run_control": {
          "read_only": false
        },
        "id": "WwBFt0j7kWX1"
      }
    },
    {
      "cell_type": "markdown",
      "source": "Step 2: Plot data:\n\n1.  Use `kind='barh'` to generate a bar chart with horizontal bars.\n2.  Make sure to choose a good size for the plot and to label your axes and to give the plot a title.\n3.  Loop through the countries and annotate the immigrant population using the anotate function of the scripting interface.\n",
      "metadata": {
        "button": false,
        "new_sheet": false,
        "run_control": {
          "read_only": false
        },
        "id": "t0sLj6BLkWX2"
      }
    },
    {
      "cell_type": "code",
      "source": "for i in df_top15_total.index:\n    print(i)",
      "metadata": {
        "id": "sIGUm1ECoclv",
        "trusted": true
      },
      "execution_count": null,
      "outputs": []
    },
    {
      "cell_type": "code",
      "source": "for i in df_top15_total:\n    print(i)",
      "metadata": {
        "id": "OYb_UmrIoclw",
        "trusted": true
      },
      "execution_count": null,
      "outputs": []
    },
    {
      "cell_type": "code",
      "source": "df_top15_total.head()",
      "metadata": {
        "id": "i_Bzy-fGoclw",
        "trusted": true
      },
      "execution_count": null,
      "outputs": []
    },
    {
      "cell_type": "code",
      "source": "df_top15_total.index",
      "metadata": {
        "id": "9wew7_6yoclx",
        "trusted": true
      },
      "execution_count": null,
      "outputs": []
    },
    {
      "cell_type": "code",
      "source": "for index, value in enumerate(df_top15_total):\n    print(index, value)",
      "metadata": {
        "id": "COYfVRDAoclx",
        "trusted": true
      },
      "execution_count": null,
      "outputs": []
    },
    {
      "cell_type": "code",
      "source": "### type your answer here\n\ndf_top15_total.plot(kind='barh', figsize=(12,12), color='steelblue')\n\nplt.title('Total number of immigrants to Canada from the top 15 countries 1980 - 2013')\nplt.xlabel('Number of Immigrants')\n#plt.ylabel('Countries')\n\n# used the solution for this part\n\n# annotate value labels to each country\nfor index, value in enumerate(df_top15_total):\n    label = format(int(value), ',') # format int with commas\n    \n# place text at the end of bar (subtracting 47000 from x, and 0.1 from y to make it fit within the bar)\n    plt.annotate(label, xy=(value - 47000, index - 0.10), color='white')\n    \nplt.show()",
      "metadata": {
        "id": "PWU6GV6Boclx",
        "trusted": true
      },
      "execution_count": null,
      "outputs": []
    },
    {
      "cell_type": "markdown",
      "source": "<details><summary>Click here for a sample python solution</summary>\n\n```python\n    #The correct answer is:\n    \n    # generate plot\n    df_top15.plot(kind='barh', figsize=(12, 12), color='steelblue')\n    plt.xlabel('Number of Immigrants')\n    plt.title('Top 15 Conuntries Contributing to the Immigration to Canada between 1980 - 2013')\n\n    # annotate value labels to each country\n    for index, value in enumerate(df_top15): \n        label = format(int(value), ',') # format int with commas\n    \n    # place text at the end of bar (subtracting 47000 from x, and 0.1 from y to make it fit within the bar)\n        plt.annotate(label, xy=(value - 47000, index - 0.10), color='white')\n\n    plt.show()\n\n```\n\n</details>\n",
      "metadata": {
        "button": false,
        "new_sheet": false,
        "run_control": {
          "read_only": false
        },
        "id": "slkutNDIkWX2"
      }
    },
    {
      "cell_type": "markdown",
      "source": "### Thank you for completing this lab!\n\n## Author\n\n<a href=\"https://www.linkedin.com/in/aklson/?utm_medium=Exinfluencer&utm_source=Exinfluencer&utm_content=000026UJ&utm_term=10006555&utm_id=NA-SkillsNetwork-Channel-SkillsNetworkCoursesIBMDeveloperSkillsNetworkDV0101ENSkillsNetwork20297740-2021-01-01\">Alex Aklson</a>\n\n### Other Contributors\n\n[Jay Rajasekharan](https://www.linkedin.com/in/jayrajasekharan?utm_medium=Exinfluencer&utm_source=Exinfluencer&utm_content=000026UJ&utm_term=10006555&utm_id=NA-SkillsNetwork-Channel-SkillsNetworkCoursesIBMDeveloperSkillsNetworkDV0101ENSkillsNetwork20297740-2021-01-01),\n[Ehsan M. Kermani](https://www.linkedin.com/in/ehsanmkermani?utm_medium=Exinfluencer&utm_source=Exinfluencer&utm_content=000026UJ&utm_term=10006555&utm_id=NA-SkillsNetwork-Channel-SkillsNetworkCoursesIBMDeveloperSkillsNetworkDV0101ENSkillsNetwork20297740-2021-01-01),\n[Slobodan Markovic](https://www.linkedin.com/in/slobodan-markovic?utm_medium=Exinfluencer&utm_source=Exinfluencer&utm_content=000026UJ&utm_term=10006555&utm_id=NA-SkillsNetwork-Channel-SkillsNetworkCoursesIBMDeveloperSkillsNetworkDV0101ENSkillsNetwork20297740-2021-01-01),\n[Weiqing Wang](https://www.linkedin.com/in/weiqing-wang-641640133/?utm_medium=Exinfluencer&utm_source=Exinfluencer&utm_content=000026UJ&utm_term=10006555&utm_id=NA-SkillsNetwork-Channel-SkillsNetworkCoursesIBMDeveloperSkillsNetworkDV0101ENSkillsNetwork20297740-2021-01-01).\n\n## Change Log\n\n| Date (YYYY-MM-DD) | Version | Changed By    | Change Description                 |\n| ----------------- | ------- | ------------- | ---------------------------------- |\n| 2021-05-29        | 2.4     | Weiqing Wang  | Fixed typos and code smells.       |\n| 2021-01-20        | 2.3     | Lakshmi Holla | Changed TOC cell markdown          |\n| 2021-01-05        | 2.2     | Lakshmi Holla | Changed solution code for annotate |\n| 2020-11-03        | 2.1     | Lakshmi Holla | Changed the URL of excel file      |\n| 2020-08-27        | 2.0     | Lavanya       | Moved lab to course repo in GitLab |\n\n## <h3 align=\"center\"> © IBM Corporation 2020. All rights reserved. <h3/>\n",
      "metadata": {
        "button": false,
        "new_sheet": false,
        "run_control": {
          "read_only": false
        },
        "id": "wLSIoDAckWX4"
      }
    }
  ]
}