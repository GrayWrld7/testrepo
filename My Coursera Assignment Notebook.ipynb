{
    "cells": [
        {
            "metadata": {
                "collapsed": true
            },
            "cell_type": "markdown",
            "source": "# My Jupyter Notebook on IBM Watson Studio"
        },
        {
            "metadata": {},
            "cell_type": "markdown",
            "source": "**Berk Koyuncuoglu**\n\nDesired occupation: Robotics engineer"
        },
        {
            "metadata": {},
            "cell_type": "markdown",
            "source": "*I am interested in data science because I really want to get into deep learning. As an aspiring engineer who wants to work in the robotics field, knowledge in data science is essential, especially since lots of automation is included.*"
        },
        {
            "metadata": {},
            "cell_type": "markdown",
            "source": "### The code below will calculate the circumference a of circle using 2\u03c0r (r = radius)"
        },
        {
            "metadata": {},
            "cell_type": "code",
            "source": "import math\nmath.pi\nr = 3\ncircumference = 2 * math.pi * r\nf\"Circumference of a Circle = 2 * {math.pi:.4} * {r} = {circumference:.4}\"",
            "execution_count": 9,
            "outputs": [
                {
                    "output_type": "execute_result",
                    "execution_count": 9,
                    "data": {
                        "text/plain": "'Circumference of a Circle = 2 * 3.142 * 3 = 18.85'"
                    },
                    "metadata": {}
                }
            ]
        },
        {
            "metadata": {},
            "cell_type": "markdown",
            "source": "---\n\n|  | 1 | 2 |\n| --- | :---: | ---: |\n| A | Yes | No |\n| B | No | Yes |\n\n---\n\n1. This\n2. Is\n3. A\n4. Numbered\n5. List\n\n---\n\n* This\n* Is\n* A\n* Bulleted\n* List\n\n---\n\nThis [Link](https://jupyter.org/ \"Jupyter.org\") is a hyperlink to the Jupyter Notebook website.  \n\n***\n\n![IBM Cloud Logo][Logo]\n\n[Logo]: https://upload.wikimedia.org//wikipedia/commons/thumb/2/24/IBM_Cloud_logo.png/250px-IBM_Cloud_logo.png \"IBM Cloud Logo\"\n\n___\n\n```python\ns = \"Python syntax highlighting\"\nprint s\n```\n\n---\n\n> This is a block quote.\n\n---\n\n~~This is a strike-through example.~~"
        }
    ],
    "metadata": {
        "kernelspec": {
            "name": "python3",
            "display_name": "Python 3.8",
            "language": "python"
        },
        "language_info": {
            "name": "python",
            "version": "3.8.11",
            "mimetype": "text/x-python",
            "codemirror_mode": {
                "name": "ipython",
                "version": 3
            },
            "pygments_lexer": "ipython3",
            "nbconvert_exporter": "python",
            "file_extension": ".py"
        }
    },
    "nbformat": 4,
    "nbformat_minor": 1
}