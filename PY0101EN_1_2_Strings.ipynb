{
  "nbformat": 4,
  "nbformat_minor": 0,
  "metadata": {
    "kernelspec": {
      "display_name": "Python 3",
      "language": "python",
      "name": "python3"
    },
    "language_info": {
      "codemirror_mode": {
        "name": "ipython",
        "version": 3
      },
      "file_extension": ".py",
      "mimetype": "text/x-python",
      "name": "python",
      "nbconvert_exporter": "python",
      "pygments_lexer": "ipython3",
      "version": "3.7.6"
    },
    "colab": {
      "name": "PY0101EN-1-2-Strings.ipynb",
      "provenance": [],
      "include_colab_link": true
    }
  },
  "cells": [
    {
      "cell_type": "markdown",
      "metadata": {
        "id": "view-in-github",
        "colab_type": "text"
      },
      "source": [
        "<a href=\"https://colab.research.google.com/github/GrayWrld7/testrepo/blob/master/PY0101EN_1_2_Strings.ipynb\" target=\"_parent\"><img src=\"https://colab.research.google.com/assets/colab-badge.svg\" alt=\"Open In Colab\"/></a>"
      ]
    },
    {
      "cell_type": "markdown",
      "metadata": {
        "id": "g6kJYGbEI_cl"
      },
      "source": [
        "<center>\n",
        "    <img src=\"https://cf-courses-data.s3.us.cloud-object-storage.appdomain.cloud/IBMDeveloperSkillsNetwork-PY0101EN-SkillsNetwork/IDSNlogo.png\" width=\"300\" alt=\"cognitiveclass.ai logo\"  />\n",
        "</center>\n",
        "\n",
        "# String Operations\n",
        "\n",
        "Estimated time needed: **15** minutes\n",
        "\n",
        "## Objectives\n",
        "\n",
        "After completing this lab you will be able to:\n",
        "\n",
        "*   Work with Strings\n",
        "*   Perform operations on String\n",
        "*   Manipulate Strings using indexing and escape sequences\n"
      ]
    },
    {
      "cell_type": "markdown",
      "metadata": {
        "id": "3s5FTppWI_cp"
      },
      "source": [
        "<h2>Table of Contents</h2>\n",
        "<div class=\"alert alert-block alert-info\" style=\"margin-top: 20px\">\n",
        "    <ul>\n",
        "        <li>\n",
        "            <a href=\"https://#strings\">What are Strings?</a>\n",
        "        </li>\n",
        "        <li>\n",
        "            <a href=\"https://#index\">Indexing</a>\n",
        "            <ul>\n",
        "                <li><a href=\"https://neg/?utm_medium=Exinfluencer&utm_source=Exinfluencer&utm_content=000026UJ&utm_term=10006555&utm_id=NA-SkillsNetwork-Channel-SkillsNetworkCoursesIBMDeveloperSkillsNetworkPY0101ENSkillsNetwork19487395-2021-01-01\">Negative Indexing</a></li>\n",
        "                <li><a href=\"https://slice/?utm_medium=Exinfluencer&utm_source=Exinfluencer&utm_content=000026UJ&utm_term=10006555&utm_id=NA-SkillsNetwork-Channel-SkillsNetworkCoursesIBMDeveloperSkillsNetworkPY0101ENSkillsNetwork19487395-2021-01-01\">Slicing</a></li>\n",
        "                <li><a href=\"https://stride/?utm_medium=Exinfluencer&utm_source=Exinfluencer&utm_content=000026UJ&utm_term=10006555&utm_id=NA-SkillsNetwork-Channel-SkillsNetworkCoursesIBMDeveloperSkillsNetworkPY0101ENSkillsNetwork19487395-2021-01-01\">Stride</a></li>\n",
        "                <li><a href=\"https://concat/?utm_medium=Exinfluencer&utm_source=Exinfluencer&utm_content=000026UJ&utm_term=10006555&utm_id=NA-SkillsNetwork-Channel-SkillsNetworkCoursesIBMDeveloperSkillsNetworkPY0101ENSkillsNetwork19487395-2021-01-01\">Concatenate Strings</a></li>\n",
        "            </ul>\n",
        "        </li>\n",
        "        <li>\n",
        "            <a href=\"https://#escape\">Escape Sequences</a>\n",
        "        </li>\n",
        "        <li>\n",
        "            <a href=\"https://#operations\">String Operations</a>\n",
        "        </li>\n",
        "        <li>\n",
        "            <a href=\"https://#quiz\">Quiz on Strings</a>\n",
        "        </li>\n",
        "    </ul>\n",
        "\n",
        "</div>\n",
        "\n",
        "<hr>\n"
      ]
    },
    {
      "cell_type": "markdown",
      "metadata": {
        "id": "frzogCprI_cs"
      },
      "source": [
        "<h2 id=\"strings\">What are Strings?</h2>\n"
      ]
    },
    {
      "cell_type": "markdown",
      "metadata": {
        "id": "IFiDUIwCI_cu"
      },
      "source": [
        "The following example shows a string contained within 2 quotation marks:\n"
      ]
    },
    {
      "cell_type": "code",
      "metadata": {
        "id": "x5dOtyuUI_cu"
      },
      "source": [
        "# Use quotation marks for defining string\n",
        "\n",
        "\"Michael Jackson\""
      ],
      "execution_count": null,
      "outputs": []
    },
    {
      "cell_type": "code",
      "metadata": {
        "colab": {
          "base_uri": "https://localhost:8080/"
        },
        "id": "V-M77oFBJH_u",
        "outputId": "f478124f-01fc-4d11-868c-64bcb17557ac"
      },
      "source": [
        "import sys\n",
        "print(sys.version)"
      ],
      "execution_count": null,
      "outputs": [
        {
          "output_type": "stream",
          "name": "stdout",
          "text": [
            "3.7.12 (default, Sep 10 2021, 00:21:48) \n",
            "[GCC 7.5.0]\n"
          ]
        }
      ]
    },
    {
      "cell_type": "code",
      "metadata": {
        "colab": {
          "base_uri": "https://localhost:8080/"
        },
        "id": "leoscC88JnpQ",
        "outputId": "5ad682fa-de09-4db8-9f82-89bd9212de7b"
      },
      "source": [
        "type(int(12.3))"
      ],
      "execution_count": null,
      "outputs": [
        {
          "output_type": "execute_result",
          "data": {
            "text/plain": [
              "int"
            ]
          },
          "metadata": {},
          "execution_count": 10
        }
      ]
    },
    {
      "cell_type": "markdown",
      "metadata": {
        "id": "hvHals6TI_cv"
      },
      "source": [
        "We can also use single quotation marks:\n"
      ]
    },
    {
      "cell_type": "code",
      "metadata": {
        "colab": {
          "base_uri": "https://localhost:8080/",
          "height": 36
        },
        "id": "pnPlmbo7JuXs",
        "outputId": "2be179c8-dfcc-474e-c38b-1bd83392a96f"
      },
      "source": [
        "'1' + '2'"
      ],
      "execution_count": null,
      "outputs": [
        {
          "output_type": "execute_result",
          "data": {
            "application/vnd.google.colaboratory.intrinsic+json": {
              "type": "string"
            },
            "text/plain": [
              "'12'"
            ]
          },
          "metadata": {},
          "execution_count": 11
        }
      ]
    },
    {
      "cell_type": "code",
      "metadata": {
        "colab": {
          "base_uri": "https://localhost:8080/"
        },
        "id": "E78cjD45JWUU",
        "outputId": "6622f6e5-b226-44fe-bca8-c282750bd4ae"
      },
      "source": [
        "x=2/2\n",
        "x"
      ],
      "execution_count": null,
      "outputs": [
        {
          "output_type": "execute_result",
          "data": {
            "text/plain": [
              "1.0"
            ]
          },
          "metadata": {},
          "execution_count": 7
        }
      ]
    },
    {
      "cell_type": "code",
      "metadata": {
        "colab": {
          "base_uri": "https://localhost:8080/",
          "height": 36
        },
        "id": "c9RZXddnJdjL",
        "outputId": "2bc0c456-8c38-440e-ec6b-0de4b5c1c68b"
      },
      "source": [
        "str(1+1)"
      ],
      "execution_count": null,
      "outputs": [
        {
          "output_type": "execute_result",
          "data": {
            "application/vnd.google.colaboratory.intrinsic+json": {
              "type": "string"
            },
            "text/plain": [
              "'2'"
            ]
          },
          "metadata": {},
          "execution_count": 8
        }
      ]
    },
    {
      "cell_type": "code",
      "metadata": {
        "id": "q-7o2uutI_cw",
        "colab": {
          "base_uri": "https://localhost:8080/",
          "height": 36
        },
        "outputId": "f3070970-190b-455a-e6c6-2963df19e281"
      },
      "source": [
        "# Use single quotation marks for defining string\n",
        "\n",
        "'Michael Jackson'"
      ],
      "execution_count": 1,
      "outputs": [
        {
          "output_type": "execute_result",
          "data": {
            "application/vnd.google.colaboratory.intrinsic+json": {
              "type": "string"
            },
            "text/plain": [
              "'Michael Jackson'"
            ]
          },
          "metadata": {},
          "execution_count": 1
        }
      ]
    },
    {
      "cell_type": "markdown",
      "metadata": {
        "id": "-ORsXQGvI_cx"
      },
      "source": [
        "A string can be a combination of spaces and digits:\n"
      ]
    },
    {
      "cell_type": "code",
      "metadata": {
        "id": "oYyEMHpvI_cy"
      },
      "source": [
        "# Digitals and spaces in string\n",
        "\n",
        "'1 2 3 4 5 6 '"
      ],
      "execution_count": null,
      "outputs": []
    },
    {
      "cell_type": "markdown",
      "metadata": {
        "id": "u4oy-SPPI_cz"
      },
      "source": [
        "A string can also be a combination of special characters :\n"
      ]
    },
    {
      "cell_type": "code",
      "metadata": {
        "id": "dT4t09klI_c0"
      },
      "source": [
        "# Special characters in string\n",
        "\n",
        "'@#2_#]&*^%$'"
      ],
      "execution_count": null,
      "outputs": []
    },
    {
      "cell_type": "markdown",
      "metadata": {
        "id": "ZTVZblz2I_c1"
      },
      "source": [
        "We can print our string using the print statement:\n"
      ]
    },
    {
      "cell_type": "code",
      "metadata": {
        "id": "tqsGYxIGI_c1",
        "colab": {
          "base_uri": "https://localhost:8080/"
        },
        "outputId": "112f8d24-e6a0-4a20-c2b1-0629432bedb9"
      },
      "source": [
        "# Print the string\n",
        "\n",
        "print(\"hello!\")"
      ],
      "execution_count": 2,
      "outputs": [
        {
          "output_type": "stream",
          "name": "stdout",
          "text": [
            "hello!\n"
          ]
        }
      ]
    },
    {
      "cell_type": "markdown",
      "metadata": {
        "id": "XloQ0i5aI_c1"
      },
      "source": [
        "We can bind or assign a string to another variable:\n"
      ]
    },
    {
      "cell_type": "code",
      "metadata": {
        "id": "Fla5u-t5I_c2",
        "colab": {
          "base_uri": "https://localhost:8080/",
          "height": 36
        },
        "outputId": "2e1358af-b0bb-4aca-eb8f-065450a04b3e"
      },
      "source": [
        "# Assign string to variable\n",
        "\n",
        "name = \"Michael Jackson\"\n",
        "name"
      ],
      "execution_count": 3,
      "outputs": [
        {
          "output_type": "execute_result",
          "data": {
            "application/vnd.google.colaboratory.intrinsic+json": {
              "type": "string"
            },
            "text/plain": [
              "'Michael Jackson'"
            ]
          },
          "metadata": {},
          "execution_count": 3
        }
      ]
    },
    {
      "cell_type": "markdown",
      "metadata": {
        "id": "q1YmFXwrI_c2"
      },
      "source": [
        "<hr>\n"
      ]
    },
    {
      "cell_type": "markdown",
      "metadata": {
        "id": "mz-W8pglI_c3"
      },
      "source": [
        "<h2 id=\"index\">Indexing</h2>\n"
      ]
    },
    {
      "cell_type": "markdown",
      "metadata": {
        "id": "sDXmSk9dI_c3"
      },
      "source": [
        "It is helpful to think of a string as an ordered sequence. Each element in the sequence can be accessed using an index represented by the array of numbers:\n"
      ]
    },
    {
      "cell_type": "markdown",
      "metadata": {
        "id": "hKhMnZQLI_c4"
      },
      "source": [
        "<img src=\"https://cf-courses-data.s3.us.cloud-object-storage.appdomain.cloud/IBMDeveloperSkillsNetwork-PY0101EN-SkillsNetwork/labs/Module%201/images/StringsIndex.png\" width=\"600\" align=\"center\" />\n"
      ]
    },
    {
      "cell_type": "markdown",
      "metadata": {
        "id": "syQM_1cxI_c4"
      },
      "source": [
        "The first index can be accessed as follows:\n"
      ]
    },
    {
      "cell_type": "markdown",
      "metadata": {
        "id": "e9rfC9ABI_c4"
      },
      "source": [
        "<hr/>\n",
        "<div class=\"alert alert-success alertsuccess\" style=\"margin-top: 20px\">\n",
        "[Tip]: Because indexing starts at 0, it means the first index is on the index 0.\n",
        "</div>\n",
        "<hr/>\n"
      ]
    },
    {
      "cell_type": "code",
      "metadata": {
        "id": "cQXl09J_I_c4",
        "colab": {
          "base_uri": "https://localhost:8080/"
        },
        "outputId": "52a4fc7f-cf3b-4b9a-cb9e-8b6a7f2d3624"
      },
      "source": [
        "# Print the first element in the string\n",
        "\n",
        "print(name[0])"
      ],
      "execution_count": 4,
      "outputs": [
        {
          "output_type": "stream",
          "name": "stdout",
          "text": [
            "M\n"
          ]
        }
      ]
    },
    {
      "cell_type": "markdown",
      "metadata": {
        "id": "HUwMs1xEI_c5"
      },
      "source": [
        "We can access index 6:\n"
      ]
    },
    {
      "cell_type": "code",
      "metadata": {
        "id": "cun5SoWjI_c5",
        "colab": {
          "base_uri": "https://localhost:8080/"
        },
        "outputId": "7a519090-bb7f-4062-832f-c7a6f65698ed"
      },
      "source": [
        "# Print the element on index 6 in the string\n",
        "\n",
        "print(name[6])"
      ],
      "execution_count": 5,
      "outputs": [
        {
          "output_type": "stream",
          "name": "stdout",
          "text": [
            "l\n"
          ]
        }
      ]
    },
    {
      "cell_type": "markdown",
      "metadata": {
        "id": "6Lla22TbI_c6"
      },
      "source": [
        "Moreover, we can access the 13th index:\n"
      ]
    },
    {
      "cell_type": "code",
      "metadata": {
        "id": "fpjZ2W64I_c7",
        "colab": {
          "base_uri": "https://localhost:8080/"
        },
        "outputId": "f7b8c398-c19d-4e71-dbb7-4218496ce170"
      },
      "source": [
        "# Print the element on the 13th index in the string\n",
        "\n",
        "print(name[13])"
      ],
      "execution_count": 6,
      "outputs": [
        {
          "output_type": "stream",
          "name": "stdout",
          "text": [
            "o\n"
          ]
        }
      ]
    },
    {
      "cell_type": "markdown",
      "metadata": {
        "id": "KucZ9fnuI_c7"
      },
      "source": [
        "<h3 id=\"neg\">Negative Indexing</h3>\n"
      ]
    },
    {
      "cell_type": "markdown",
      "metadata": {
        "id": "GT6rQqrAI_c8"
      },
      "source": [
        "We can also use negative indexing with strings:\n"
      ]
    },
    {
      "cell_type": "markdown",
      "metadata": {
        "id": "RJf-Ww3oI_c8"
      },
      "source": [
        "<img src=\"https://cf-courses-data.s3.us.cloud-object-storage.appdomain.cloud/IBMDeveloperSkillsNetwork-PY0101EN-SkillsNetwork/labs/Module%201/images/StringsNeg.png\" width=\"600\" align=\"center\" />\n"
      ]
    },
    {
      "cell_type": "markdown",
      "metadata": {
        "id": "GJgKuw14I_c8"
      },
      "source": [
        "Negative index can help us to count the element from the end of the string.\n"
      ]
    },
    {
      "cell_type": "markdown",
      "metadata": {
        "id": "J_wNVdZcI_c8"
      },
      "source": [
        "The last element is given by the index -1:\n"
      ]
    },
    {
      "cell_type": "code",
      "metadata": {
        "id": "GZxPrDw5I_c8",
        "colab": {
          "base_uri": "https://localhost:8080/"
        },
        "outputId": "fa3629e2-fbbe-497d-b2b6-926ab8272918"
      },
      "source": [
        "# Print the last element in the string\n",
        "\n",
        "print(name[-1])"
      ],
      "execution_count": 7,
      "outputs": [
        {
          "output_type": "stream",
          "name": "stdout",
          "text": [
            "n\n"
          ]
        }
      ]
    },
    {
      "cell_type": "markdown",
      "metadata": {
        "id": "z-47BRgII_c8"
      },
      "source": [
        "The first element can be obtained by  index -15:\n"
      ]
    },
    {
      "cell_type": "code",
      "metadata": {
        "id": "WAs0c11bI_c9",
        "colab": {
          "base_uri": "https://localhost:8080/"
        },
        "outputId": "469756b9-6008-417b-f3cb-1954d0ff1e21"
      },
      "source": [
        "# Print the first element in the string\n",
        "\n",
        "print(name[-15])"
      ],
      "execution_count": 8,
      "outputs": [
        {
          "output_type": "stream",
          "name": "stdout",
          "text": [
            "M\n"
          ]
        }
      ]
    },
    {
      "cell_type": "markdown",
      "metadata": {
        "id": "cfAaO8_iI_c-"
      },
      "source": [
        "We can find the number of characters in a string by using <code>len</code>, short for length:\n"
      ]
    },
    {
      "cell_type": "code",
      "metadata": {
        "id": "cBgpyBvXI_c_",
        "colab": {
          "base_uri": "https://localhost:8080/"
        },
        "outputId": "9ea76333-2508-4ce2-9dd2-71d62d0922a8"
      },
      "source": [
        "# Find the length of string\n",
        "\n",
        "len(\"Michael Jackson\")"
      ],
      "execution_count": 9,
      "outputs": [
        {
          "output_type": "execute_result",
          "data": {
            "text/plain": [
              "15"
            ]
          },
          "metadata": {},
          "execution_count": 9
        }
      ]
    },
    {
      "cell_type": "markdown",
      "metadata": {
        "id": "GNi1cverI_dA"
      },
      "source": [
        "<h3 id=\"slice\">Slicing</h3>\n"
      ]
    },
    {
      "cell_type": "markdown",
      "metadata": {
        "id": "WCaUefmZI_dA"
      },
      "source": [
        "We can obtain multiple characters from a string using slicing, we can obtain the 0 to 4th and 8th to the 12th element:\n"
      ]
    },
    {
      "cell_type": "markdown",
      "metadata": {
        "id": "Q6QheBNJI_dA"
      },
      "source": [
        "<img src=\"https://cf-courses-data.s3.us.cloud-object-storage.appdomain.cloud/IBMDeveloperSkillsNetwork-PY0101EN-SkillsNetwork/labs/Module%201/images/StringsSlice.png\" width=\"600\" align=\"center\" />\n"
      ]
    },
    {
      "cell_type": "markdown",
      "metadata": {
        "id": "ZLA4nf1BI_dA"
      },
      "source": [
        "<hr/>\n",
        "<div class=\"alert alert-success alertsuccess\" style=\"margin-top: 20px\">\n",
        "[Tip]: When taking the slice, the first number means the index (start at 0), and the second number means the length from the index to the last element you want (start at 1)\n",
        "</div>\n",
        "<hr/>\n"
      ]
    },
    {
      "cell_type": "code",
      "metadata": {
        "id": "DSngvhVDI_dB",
        "colab": {
          "base_uri": "https://localhost:8080/",
          "height": 36
        },
        "outputId": "3395534f-cd7c-478e-ab3e-baef4568e36c"
      },
      "source": [
        "# Take the slice on variable name with only index 0 to index 3\n",
        "\n",
        "name[0:4]"
      ],
      "execution_count": 10,
      "outputs": [
        {
          "output_type": "execute_result",
          "data": {
            "application/vnd.google.colaboratory.intrinsic+json": {
              "type": "string"
            },
            "text/plain": [
              "'Mich'"
            ]
          },
          "metadata": {},
          "execution_count": 10
        }
      ]
    },
    {
      "cell_type": "code",
      "metadata": {
        "id": "ajm8YUHSI_dB",
        "colab": {
          "base_uri": "https://localhost:8080/",
          "height": 36
        },
        "outputId": "517cbc68-849a-4537-f30d-9767c4ae561f"
      },
      "source": [
        "# Take the slice on variable name with only index 8 to index 11\n",
        "\n",
        "name[8:12]"
      ],
      "execution_count": 11,
      "outputs": [
        {
          "output_type": "execute_result",
          "data": {
            "application/vnd.google.colaboratory.intrinsic+json": {
              "type": "string"
            },
            "text/plain": [
              "'Jack'"
            ]
          },
          "metadata": {},
          "execution_count": 11
        }
      ]
    },
    {
      "cell_type": "markdown",
      "metadata": {
        "id": "0XV80QxWI_dC"
      },
      "source": [
        "<h3 id=\"stride\">Stride</h3>\n"
      ]
    },
    {
      "cell_type": "markdown",
      "metadata": {
        "id": "WvjXdVyaI_dC"
      },
      "source": [
        "We can also  input a stride value as follows, with the '2' indicating that we are selecting every second variable:\n"
      ]
    },
    {
      "cell_type": "markdown",
      "metadata": {
        "id": "vx7AKVuNI_dC"
      },
      "source": [
        "<img src=\"https://cf-courses-data.s3.us.cloud-object-storage.appdomain.cloud/IBMDeveloperSkillsNetwork-PY0101EN-SkillsNetwork/labs/Module%201/images/StringsStride.png\" width=\"600\" align=\"center\" />\n"
      ]
    },
    {
      "cell_type": "code",
      "metadata": {
        "id": "hrjVPQ-CI_dD",
        "colab": {
          "base_uri": "https://localhost:8080/",
          "height": 36
        },
        "outputId": "12b0fdeb-0d58-413d-96e4-b29fe4ec747b"
      },
      "source": [
        "# Get every second element. The elments on index 1, 3, 5 ...\n",
        "\n",
        "name[::2]"
      ],
      "execution_count": 12,
      "outputs": [
        {
          "output_type": "execute_result",
          "data": {
            "application/vnd.google.colaboratory.intrinsic+json": {
              "type": "string"
            },
            "text/plain": [
              "'McalJcsn'"
            ]
          },
          "metadata": {},
          "execution_count": 12
        }
      ]
    },
    {
      "cell_type": "code",
      "metadata": {
        "colab": {
          "base_uri": "https://localhost:8080/",
          "height": 36
        },
        "id": "-jYTvU1jR-OL",
        "outputId": "31cdd47b-f93e-4499-d086-42e4ef141c0a"
      },
      "source": [
        "name[1::2]"
      ],
      "execution_count": 13,
      "outputs": [
        {
          "output_type": "execute_result",
          "data": {
            "application/vnd.google.colaboratory.intrinsic+json": {
              "type": "string"
            },
            "text/plain": [
              "'ihe ako'"
            ]
          },
          "metadata": {},
          "execution_count": 13
        }
      ]
    },
    {
      "cell_type": "markdown",
      "metadata": {
        "id": "ZRLx5cgvI_dD"
      },
      "source": [
        "We can also incorporate slicing  with the stride. In this case, we select the first five elements and then use the stride:\n"
      ]
    },
    {
      "cell_type": "code",
      "metadata": {
        "id": "x3_ZU_UhI_dD",
        "colab": {
          "base_uri": "https://localhost:8080/",
          "height": 36
        },
        "outputId": "57062070-ffbe-497d-8cdc-11b85f193ffb"
      },
      "source": [
        "# Get every second element in the range from index 0 to index 4\n",
        "\n",
        "name[0:5:2]"
      ],
      "execution_count": 14,
      "outputs": [
        {
          "output_type": "execute_result",
          "data": {
            "application/vnd.google.colaboratory.intrinsic+json": {
              "type": "string"
            },
            "text/plain": [
              "'Mca'"
            ]
          },
          "metadata": {},
          "execution_count": 14
        }
      ]
    },
    {
      "cell_type": "markdown",
      "metadata": {
        "id": "GiJxWSZcI_dE"
      },
      "source": [
        "<h3 id=\"concat\">Concatenate Strings</h3>\n"
      ]
    },
    {
      "cell_type": "markdown",
      "metadata": {
        "id": "NqocbL4dI_dF"
      },
      "source": [
        "We can concatenate or combine strings by using the addition symbols, and the result is a new string that is a combination of both:\n"
      ]
    },
    {
      "cell_type": "code",
      "metadata": {
        "id": "FqvZcE4JI_dG",
        "colab": {
          "base_uri": "https://localhost:8080/",
          "height": 36
        },
        "outputId": "195839a9-498a-459f-cdcf-8fe683b8175d"
      },
      "source": [
        "# Concatenate two strings\n",
        "\n",
        "statement = name + \"is the best\"\n",
        "statement"
      ],
      "execution_count": 15,
      "outputs": [
        {
          "output_type": "execute_result",
          "data": {
            "application/vnd.google.colaboratory.intrinsic+json": {
              "type": "string"
            },
            "text/plain": [
              "'Michael Jacksonis the best'"
            ]
          },
          "metadata": {},
          "execution_count": 15
        }
      ]
    },
    {
      "cell_type": "markdown",
      "metadata": {
        "id": "I_z7ERtXI_dG"
      },
      "source": [
        "To replicate values of a string we simply multiply the string by the number of times we would like to replicate it. In this case, the number is three. The result is a new string, and this new string consists of three copies of the original string:\n"
      ]
    },
    {
      "cell_type": "code",
      "metadata": {
        "id": "PLn9Gjg8I_dG",
        "colab": {
          "base_uri": "https://localhost:8080/",
          "height": 36
        },
        "outputId": "5d243e3e-d5d2-4c9c-b9a9-976e7f65a39e"
      },
      "source": [
        "# Print the string for 3 times\n",
        "\n",
        "3 * \"Michael Jackson\""
      ],
      "execution_count": 16,
      "outputs": [
        {
          "output_type": "execute_result",
          "data": {
            "application/vnd.google.colaboratory.intrinsic+json": {
              "type": "string"
            },
            "text/plain": [
              "'Michael JacksonMichael JacksonMichael Jackson'"
            ]
          },
          "metadata": {},
          "execution_count": 16
        }
      ]
    },
    {
      "cell_type": "markdown",
      "metadata": {
        "id": "xhcLKh3BI_dH"
      },
      "source": [
        "You can create a new string by setting it to the original variable. Concatenated  with a new string, the result is a new string that changes from Michael Jackson to “Michael Jackson is the best\".\n"
      ]
    },
    {
      "cell_type": "code",
      "metadata": {
        "id": "Dvd2Q9MmI_dH",
        "colab": {
          "base_uri": "https://localhost:8080/",
          "height": 36
        },
        "outputId": "1af7589c-d986-4dd9-d5fc-17bf3b2f0b74"
      },
      "source": [
        "# Concatenate strings\n",
        "\n",
        "name = \"Michael Jackson\"\n",
        "name = name + \" is the best\"\n",
        "name"
      ],
      "execution_count": 20,
      "outputs": [
        {
          "output_type": "execute_result",
          "data": {
            "application/vnd.google.colaboratory.intrinsic+json": {
              "type": "string"
            },
            "text/plain": [
              "'Michael Jackson is the best'"
            ]
          },
          "metadata": {},
          "execution_count": 20
        }
      ]
    },
    {
      "cell_type": "code",
      "metadata": {
        "colab": {
          "base_uri": "https://localhost:8080/",
          "height": 172
        },
        "id": "UMsEeNJpSmiQ",
        "outputId": "e4f0261e-8aff-454c-9515-33d212da6f33"
      },
      "source": [
        "name[0] = \"J\""
      ],
      "execution_count": 19,
      "outputs": [
        {
          "output_type": "error",
          "ename": "TypeError",
          "evalue": "ignored",
          "traceback": [
            "\u001b[0;31m---------------------------------------------------------------------------\u001b[0m",
            "\u001b[0;31mTypeError\u001b[0m                                 Traceback (most recent call last)",
            "\u001b[0;32m<ipython-input-19-a2c4e4536e75>\u001b[0m in \u001b[0;36m<module>\u001b[0;34m()\u001b[0m\n\u001b[0;32m----> 1\u001b[0;31m \u001b[0mname\u001b[0m\u001b[0;34m[\u001b[0m\u001b[0;36m0\u001b[0m\u001b[0;34m]\u001b[0m \u001b[0;34m=\u001b[0m \u001b[0;34m\"J\"\u001b[0m\u001b[0;34m\u001b[0m\u001b[0;34m\u001b[0m\u001b[0m\n\u001b[0m",
            "\u001b[0;31mTypeError\u001b[0m: 'str' object does not support item assignment"
          ]
        }
      ]
    },
    {
      "cell_type": "markdown",
      "metadata": {
        "id": "bZmgZ4--I_dH"
      },
      "source": [
        "<hr>\n"
      ]
    },
    {
      "cell_type": "markdown",
      "metadata": {
        "id": "FuCjZTy_I_dI"
      },
      "source": [
        "<h2 id=\"escape\">Escape Sequences</h2>\n"
      ]
    },
    {
      "cell_type": "markdown",
      "metadata": {
        "id": "MJGkaQHWI_dI"
      },
      "source": [
        "Back slashes represent the beginning  of escape sequences. Escape sequences represent strings that may be difficult to input. For example, back slash \"n\" represents a new line. The output is given by a new line after the back slash \"n\" is encountered:\n"
      ]
    },
    {
      "cell_type": "code",
      "metadata": {
        "id": "3zOBd0bxI_dI",
        "colab": {
          "base_uri": "https://localhost:8080/"
        },
        "outputId": "4d6a8204-f3c5-4a65-f702-d6f45c1b4f60"
      },
      "source": [
        "# New line escape sequence\n",
        "\n",
        "print(\" Michael Jackson \\n is the best\" )"
      ],
      "execution_count": 21,
      "outputs": [
        {
          "output_type": "stream",
          "name": "stdout",
          "text": [
            " Michael Jackson \n",
            " is the best\n"
          ]
        }
      ]
    },
    {
      "cell_type": "markdown",
      "metadata": {
        "id": "1tbylJyZI_dJ"
      },
      "source": [
        "Similarly, back slash  \"t\" represents a tab:\n"
      ]
    },
    {
      "cell_type": "code",
      "metadata": {
        "id": "KISxRmlWI_dJ",
        "colab": {
          "base_uri": "https://localhost:8080/"
        },
        "outputId": "ed75cb04-c0a1-456b-cfbe-44002fbe9132"
      },
      "source": [
        "# Tab escape sequence\n",
        "\n",
        "print(\" Michael Jackson \\t is the best\" )"
      ],
      "execution_count": 22,
      "outputs": [
        {
          "output_type": "stream",
          "name": "stdout",
          "text": [
            " Michael Jackson \t is the best\n"
          ]
        }
      ]
    },
    {
      "cell_type": "markdown",
      "metadata": {
        "id": "NDHXyNetI_dJ"
      },
      "source": [
        "If you want to place a back slash in your string, use a double back slash:\n"
      ]
    },
    {
      "cell_type": "code",
      "metadata": {
        "id": "1O4tR8z_I_dJ",
        "colab": {
          "base_uri": "https://localhost:8080/"
        },
        "outputId": "891a0066-ea40-4b63-ae20-fa917dcd9aaf"
      },
      "source": [
        "# Include back slash in string\n",
        "\n",
        "print(\" Michael Jackson \\\\ is the best\" )"
      ],
      "execution_count": 23,
      "outputs": [
        {
          "output_type": "stream",
          "name": "stdout",
          "text": [
            " Michael Jackson \\ is the best\n"
          ]
        }
      ]
    },
    {
      "cell_type": "markdown",
      "metadata": {
        "id": "6OPsH_PHI_dK"
      },
      "source": [
        "We can also place an \"r\" before the string to display the backslash:\n"
      ]
    },
    {
      "cell_type": "code",
      "metadata": {
        "id": "EFNzV-RAI_dK",
        "colab": {
          "base_uri": "https://localhost:8080/"
        },
        "outputId": "102fb1c7-cbb3-46ef-f919-aab3be9570e5"
      },
      "source": [
        "# r will tell python that string will be display as raw string\n",
        "\n",
        "print(r\" Michael Jackson \\ is the best\" )"
      ],
      "execution_count": 24,
      "outputs": [
        {
          "output_type": "stream",
          "name": "stdout",
          "text": [
            " Michael Jackson \\ is the best\n"
          ]
        }
      ]
    },
    {
      "cell_type": "markdown",
      "metadata": {
        "id": "xXBGP9-MI_dK"
      },
      "source": [
        "<hr>\n"
      ]
    },
    {
      "cell_type": "markdown",
      "metadata": {
        "id": "JgMz3zsHI_dK"
      },
      "source": [
        "<h2 id=\"operations\">String Operations</h2>\n"
      ]
    },
    {
      "cell_type": "markdown",
      "metadata": {
        "id": "xWJO5xh6I_dL"
      },
      "source": [
        "There are many string operation methods in Python that can be used to manipulate the data. We are going to use some basic string operations on the data.\n"
      ]
    },
    {
      "cell_type": "markdown",
      "metadata": {
        "id": "jy75pDAqI_dL"
      },
      "source": [
        "Let's try with the method <code>upper</code>; this method converts lower case characters to upper case characters:\n"
      ]
    },
    {
      "cell_type": "code",
      "metadata": {
        "id": "4DZkDvLXI_dM",
        "colab": {
          "base_uri": "https://localhost:8080/"
        },
        "outputId": "14639882-4fa5-41d0-f409-9912ce643201"
      },
      "source": [
        "# Convert all the characters in string to upper case\n",
        "\n",
        "a = \"Thriller is the sixth studio album\"\n",
        "print(\"before upper:\", a)\n",
        "b = a.upper()\n",
        "print(\"After upper:\", b)"
      ],
      "execution_count": 25,
      "outputs": [
        {
          "output_type": "stream",
          "name": "stdout",
          "text": [
            "before upper: Thriller is the sixth studio album\n",
            "After upper: THRILLER IS THE SIXTH STUDIO ALBUM\n"
          ]
        }
      ]
    },
    {
      "cell_type": "markdown",
      "metadata": {
        "id": "X97jx06sI_dM"
      },
      "source": [
        "The method <code>replace</code> replaces a segment of the string, i.e. a substring  with a new string. We input the part of the string we would like to change. The second argument is what we would like to exchange the segment with, and the result is a new string with the segment changed:\n"
      ]
    },
    {
      "cell_type": "code",
      "metadata": {
        "id": "V9jgKcsjI_dM",
        "colab": {
          "base_uri": "https://localhost:8080/",
          "height": 36
        },
        "outputId": "33930721-457d-44a7-f25b-402f1235e490"
      },
      "source": [
        "# Replace the old substring with the new target substring is the segment has been found in the string\n",
        "\n",
        "a = \"Michael Jackson is the best\"\n",
        "b = a.replace('Michael', 'Janet')\n",
        "b"
      ],
      "execution_count": 26,
      "outputs": [
        {
          "output_type": "execute_result",
          "data": {
            "application/vnd.google.colaboratory.intrinsic+json": {
              "type": "string"
            },
            "text/plain": [
              "'Janet Jackson is the best'"
            ]
          },
          "metadata": {},
          "execution_count": 26
        }
      ]
    },
    {
      "cell_type": "markdown",
      "metadata": {
        "id": "NQT_rbCuI_dM"
      },
      "source": [
        "The method <code>find</code> finds a sub-string. The argument is the substring you would like to find, and the output is the first index of the sequence. We can find the sub-string <code>jack</code> or <code>el<code>.\n"
      ]
    },
    {
      "cell_type": "markdown",
      "metadata": {
        "id": "g0drdywoI_dN"
      },
      "source": [
        "<img src=\"https://cf-courses-data.s3.us.cloud-object-storage.appdomain.cloud/IBMDeveloperSkillsNetwork-PY0101EN-SkillsNetwork/labs/Module%201/images/StringsFind.png\" width=\"600\" align=\"center\" />\n"
      ]
    },
    {
      "cell_type": "code",
      "metadata": {
        "id": "cIvkSw1KI_dN",
        "colab": {
          "base_uri": "https://localhost:8080/"
        },
        "outputId": "16257916-7584-431d-8552-67435638e7a6"
      },
      "source": [
        "# Find the substring in the string. Only the index of the first elment of substring in string will be the output\n",
        "\n",
        "name = \"Michael Jackson\"\n",
        "name.find('el')"
      ],
      "execution_count": 27,
      "outputs": [
        {
          "output_type": "execute_result",
          "data": {
            "text/plain": [
              "5"
            ]
          },
          "metadata": {},
          "execution_count": 27
        }
      ]
    },
    {
      "cell_type": "code",
      "metadata": {
        "id": "beI39b2II_dO",
        "colab": {
          "base_uri": "https://localhost:8080/"
        },
        "outputId": "4870ca2d-807e-4627-bb3f-fb9e72705d59"
      },
      "source": [
        "# Find the substring in the string.\n",
        "\n",
        "name.find('Jack')"
      ],
      "execution_count": 28,
      "outputs": [
        {
          "output_type": "execute_result",
          "data": {
            "text/plain": [
              "8"
            ]
          },
          "metadata": {},
          "execution_count": 28
        }
      ]
    },
    {
      "cell_type": "markdown",
      "metadata": {
        "id": "OB7Zxq68I_dO"
      },
      "source": [
        "If the  sub-string is not in the string then the output is a negative one. For example, the string 'Jasdfasdasdf' is not a substring:\n"
      ]
    },
    {
      "cell_type": "code",
      "metadata": {
        "id": "JWanKM-oI_dO",
        "colab": {
          "base_uri": "https://localhost:8080/"
        },
        "outputId": "e64b9017-3f22-44e2-ee9c-d508a8ee7aef"
      },
      "source": [
        "# If cannot find the substring in the string\n",
        "\n",
        "name.find('Jasdfasdasdf')"
      ],
      "execution_count": 29,
      "outputs": [
        {
          "output_type": "execute_result",
          "data": {
            "text/plain": [
              "-1"
            ]
          },
          "metadata": {},
          "execution_count": 29
        }
      ]
    },
    {
      "cell_type": "markdown",
      "metadata": {
        "id": "CIHDbVt9I_dO"
      },
      "source": [
        "<hr>\n"
      ]
    },
    {
      "cell_type": "markdown",
      "metadata": {
        "id": "MNI-0rPAI_dP"
      },
      "source": [
        "<h2 id=\"quiz\">Quiz on Strings</h2>\n"
      ]
    },
    {
      "cell_type": "markdown",
      "metadata": {
        "id": "RezwF517I_dP"
      },
      "source": [
        "What is the value of the variable <code>a</code> after the following code is executed?\n"
      ]
    },
    {
      "cell_type": "code",
      "metadata": {
        "id": "lI5kkLlgI_dP",
        "colab": {
          "base_uri": "https://localhost:8080/",
          "height": 36
        },
        "outputId": "8666bcc7-3584-46e2-fd59-387876be5ce0"
      },
      "source": [
        "# Write your code below and press Shift+Enter to execute \n",
        "\n",
        "a = \"1\"\n",
        "a"
      ],
      "execution_count": 31,
      "outputs": [
        {
          "output_type": "execute_result",
          "data": {
            "application/vnd.google.colaboratory.intrinsic+json": {
              "type": "string"
            },
            "text/plain": [
              "'1'"
            ]
          },
          "metadata": {},
          "execution_count": 31
        }
      ]
    },
    {
      "cell_type": "markdown",
      "metadata": {
        "id": "8fnV82bWI_dQ"
      },
      "source": [
        "<details><summary>Click here for the solution</summary>\n",
        "\n",
        "```python\n",
        "\"1\"\n",
        "\n",
        "```\n",
        "\n",
        "</details>\n"
      ]
    },
    {
      "cell_type": "markdown",
      "metadata": {
        "id": "-_J11x7yI_dQ"
      },
      "source": [
        "What is the value of the variable <code>b</code> after the following code is executed?\n"
      ]
    },
    {
      "cell_type": "code",
      "metadata": {
        "id": "aFdIoYSBI_dQ",
        "colab": {
          "base_uri": "https://localhost:8080/",
          "height": 36
        },
        "outputId": "00714025-d1a3-4280-a48e-fe961238b5fa"
      },
      "source": [
        "# Write your code below and press Shift+Enter to execute\n",
        "\n",
        "b = \"2\"\n",
        "b"
      ],
      "execution_count": 32,
      "outputs": [
        {
          "output_type": "execute_result",
          "data": {
            "application/vnd.google.colaboratory.intrinsic+json": {
              "type": "string"
            },
            "text/plain": [
              "'2'"
            ]
          },
          "metadata": {},
          "execution_count": 32
        }
      ]
    },
    {
      "cell_type": "markdown",
      "metadata": {
        "id": "IO9m7Ef8I_dR"
      },
      "source": [
        "<details><summary>Click here for the solution</summary>\n",
        "\n",
        "```python\n",
        "\"2\"\n",
        "\n",
        "```\n",
        "\n",
        "</details>\n"
      ]
    },
    {
      "cell_type": "markdown",
      "metadata": {
        "id": "reqSRB_nI_dR"
      },
      "source": [
        "What is the value of the variable <code>c</code> after the following code is executed?\n"
      ]
    },
    {
      "cell_type": "code",
      "metadata": {
        "id": "E2RyjGAjI_dR",
        "colab": {
          "base_uri": "https://localhost:8080/",
          "height": 36
        },
        "outputId": "fdc2c345-92af-42eb-c74c-0e3d22f155f9"
      },
      "source": [
        "# Write your code below and press Shift+Enter to execute \n",
        "\n",
        "c = a + b\n",
        "c"
      ],
      "execution_count": 33,
      "outputs": [
        {
          "output_type": "execute_result",
          "data": {
            "application/vnd.google.colaboratory.intrinsic+json": {
              "type": "string"
            },
            "text/plain": [
              "'12'"
            ]
          },
          "metadata": {},
          "execution_count": 33
        }
      ]
    },
    {
      "cell_type": "markdown",
      "metadata": {
        "id": "ZIFFFYXAI_dS"
      },
      "source": [
        "<details><summary>Click here for the solution</summary>\n",
        "\n",
        "```python\n",
        "\"12\"\n",
        "\n",
        "```\n",
        "\n",
        "</details>\n"
      ]
    },
    {
      "cell_type": "markdown",
      "metadata": {
        "id": "2KwB4v1QI_dS"
      },
      "source": [
        "<hr>\n"
      ]
    },
    {
      "cell_type": "markdown",
      "metadata": {
        "id": "OpvjrlNtI_dS"
      },
      "source": [
        "Consider the variable <code>d</code> use slicing to print out the first three elements:\n"
      ]
    },
    {
      "cell_type": "code",
      "metadata": {
        "id": "9MPbgw3KI_dT",
        "colab": {
          "base_uri": "https://localhost:8080/",
          "height": 36
        },
        "outputId": "58d35a7d-2b7b-4172-d676-5e28131e72a8"
      },
      "source": [
        "# Write your code below and press Shift+Enter to execute\n",
        "\n",
        "d = \"ABCDEFG\"\n",
        "name[:3]"
      ],
      "execution_count": 39,
      "outputs": [
        {
          "output_type": "execute_result",
          "data": {
            "application/vnd.google.colaboratory.intrinsic+json": {
              "type": "string"
            },
            "text/plain": [
              "'Mic'"
            ]
          },
          "metadata": {},
          "execution_count": 39
        }
      ]
    },
    {
      "cell_type": "code",
      "metadata": {
        "colab": {
          "base_uri": "https://localhost:8080/"
        },
        "id": "WyeIEVGJemgP",
        "outputId": "949fffdf-19ed-4928-e9ce-8a032e5efc37"
      },
      "source": [
        "print(d[:3])"
      ],
      "execution_count": 36,
      "outputs": [
        {
          "output_type": "stream",
          "name": "stdout",
          "text": [
            "ABC\n"
          ]
        }
      ]
    },
    {
      "cell_type": "code",
      "metadata": {
        "colab": {
          "base_uri": "https://localhost:8080/"
        },
        "id": "776Cg4TMe6jM",
        "outputId": "04d9aad0-bd08-4404-b564-bcacb4a2d967"
      },
      "source": [
        "print(d[0:3])"
      ],
      "execution_count": 38,
      "outputs": [
        {
          "output_type": "stream",
          "name": "stdout",
          "text": [
            "ABC\n"
          ]
        }
      ]
    },
    {
      "cell_type": "code",
      "metadata": {
        "colab": {
          "base_uri": "https://localhost:8080/",
          "height": 36
        },
        "id": "gQb-zIm4ezXW",
        "outputId": "e1f69123-42ab-425a-86d6-8329263449ad"
      },
      "source": [
        "d[0:3]"
      ],
      "execution_count": 37,
      "outputs": [
        {
          "output_type": "execute_result",
          "data": {
            "application/vnd.google.colaboratory.intrinsic+json": {
              "type": "string"
            },
            "text/plain": [
              "'ABC'"
            ]
          },
          "metadata": {},
          "execution_count": 37
        }
      ]
    },
    {
      "cell_type": "code",
      "metadata": {
        "colab": {
          "base_uri": "https://localhost:8080/",
          "height": 36
        },
        "id": "XVp7PFzFfI72",
        "outputId": "92b415db-beaf-4162-defd-f31d67dd5226"
      },
      "source": [
        "d[:3]"
      ],
      "execution_count": 40,
      "outputs": [
        {
          "output_type": "execute_result",
          "data": {
            "application/vnd.google.colaboratory.intrinsic+json": {
              "type": "string"
            },
            "text/plain": [
              "'ABC'"
            ]
          },
          "metadata": {},
          "execution_count": 40
        }
      ]
    },
    {
      "cell_type": "markdown",
      "metadata": {
        "id": "YHSrKzo6I_dT"
      },
      "source": [
        "<details><summary>Click here for the solution</summary>\n",
        "\n",
        "```python\n",
        "print(d[:3]) \n",
        "\n",
        "# or \n",
        "\n",
        "print(d[0:3])\n",
        "\n",
        "```\n",
        "\n",
        "</details>\n"
      ]
    },
    {
      "cell_type": "markdown",
      "metadata": {
        "id": "hCvhezVxI_dT"
      },
      "source": [
        "<hr>\n"
      ]
    },
    {
      "cell_type": "markdown",
      "metadata": {
        "id": "_z0EPEHAI_dT"
      },
      "source": [
        "Use a stride value of 2 to print out every second character of the string <code>e</code>:\n"
      ]
    },
    {
      "cell_type": "code",
      "metadata": {
        "id": "FQmyIoipI_dU"
      },
      "source": [
        "# Write your code below and press Shift+Enter to execute\n",
        "\n",
        "e = 'clocrkr1e1c1t'"
      ],
      "execution_count": 42,
      "outputs": []
    },
    {
      "cell_type": "code",
      "metadata": {
        "colab": {
          "base_uri": "https://localhost:8080/"
        },
        "id": "qGKHYIFufPXl",
        "outputId": "713a8309-108a-48e2-9359-0b2e2d8fceb5"
      },
      "source": [
        "print(e[::2])"
      ],
      "execution_count": 43,
      "outputs": [
        {
          "output_type": "stream",
          "name": "stdout",
          "text": [
            "correct\n"
          ]
        }
      ]
    },
    {
      "cell_type": "code",
      "metadata": {
        "colab": {
          "base_uri": "https://localhost:8080/",
          "height": 36
        },
        "id": "y9hlmITRfaK2",
        "outputId": "549eba4e-f73e-4b2d-d577-c1e6067b0755"
      },
      "source": [
        "e[::2]"
      ],
      "execution_count": 44,
      "outputs": [
        {
          "output_type": "execute_result",
          "data": {
            "application/vnd.google.colaboratory.intrinsic+json": {
              "type": "string"
            },
            "text/plain": [
              "'correct'"
            ]
          },
          "metadata": {},
          "execution_count": 44
        }
      ]
    },
    {
      "cell_type": "markdown",
      "metadata": {
        "id": "3mUa5KSDI_dU"
      },
      "source": [
        "<details><summary>Click here for the solution</summary>\n",
        "\n",
        "```python\n",
        "print(e[::2])\n",
        "\n",
        "```\n",
        "\n",
        "</details>\n"
      ]
    },
    {
      "cell_type": "markdown",
      "metadata": {
        "id": "pv5lwffxI_dV"
      },
      "source": [
        "<hr>\n"
      ]
    },
    {
      "cell_type": "markdown",
      "metadata": {
        "id": "J7rwM7SUI_dW"
      },
      "source": [
        "Print out a backslash:\n"
      ]
    },
    {
      "cell_type": "code",
      "metadata": {
        "id": "uxvaUS6ZI_dY",
        "colab": {
          "base_uri": "https://localhost:8080/"
        },
        "outputId": "a2f91f05-2be1-4906-e9ec-6df0b5c71954"
      },
      "source": [
        "# Write your code below and press Shift+Enter to execute\n",
        "print(\"\\\\\")"
      ],
      "execution_count": 45,
      "outputs": [
        {
          "output_type": "stream",
          "name": "stdout",
          "text": [
            "\\\n"
          ]
        }
      ]
    },
    {
      "cell_type": "code",
      "metadata": {
        "colab": {
          "base_uri": "https://localhost:8080/"
        },
        "id": "O85VuMgUgOvl",
        "outputId": "a7dc2603-ebfa-4eca-f9c5-61a76338a3b8"
      },
      "source": [
        "print(\"\\\\\\\\\")"
      ],
      "execution_count": 53,
      "outputs": [
        {
          "output_type": "stream",
          "name": "stdout",
          "text": [
            "\\\\\n"
          ]
        }
      ]
    },
    {
      "cell_type": "code",
      "metadata": {
        "colab": {
          "base_uri": "https://localhost:8080/"
        },
        "id": "ulh0Z33SfiP5",
        "outputId": "5a0322e5-830a-4f45-ab54-8c889e4ecf87"
      },
      "source": [
        "print(r\"\\ \")"
      ],
      "execution_count": 51,
      "outputs": [
        {
          "output_type": "stream",
          "name": "stdout",
          "text": [
            "\\ \n"
          ]
        }
      ]
    },
    {
      "cell_type": "markdown",
      "metadata": {
        "id": "uRGD_A9KI_dZ"
      },
      "source": [
        "<details><summary>Click here for the solution</summary>\n",
        "\n",
        "```python\n",
        "print(\"\\\\\\\\\")\n",
        "\n",
        "or\n",
        "\n",
        "print(r\"\\ \")\n",
        "\n",
        "```\n",
        "\n",
        "</details>\n"
      ]
    },
    {
      "cell_type": "markdown",
      "metadata": {
        "id": "8oIyElTBI_dZ"
      },
      "source": [
        "<hr>\n"
      ]
    },
    {
      "cell_type": "markdown",
      "metadata": {
        "id": "0aYLMkVBI_dZ"
      },
      "source": [
        "Convert the variable <code>f</code> to uppercase:\n"
      ]
    },
    {
      "cell_type": "code",
      "metadata": {
        "id": "qDzwswShI_da",
        "colab": {
          "base_uri": "https://localhost:8080/"
        },
        "outputId": "da50d93e-fb28-41c4-9eba-61e55655a2e1"
      },
      "source": [
        "# Write your code below and press Shift+Enter to execute\n",
        "\n",
        "f = \"You are wrong\"\n",
        "g = f.upper()\n",
        "g\n",
        "print(\"Uppercase example:\", g)"
      ],
      "execution_count": 64,
      "outputs": [
        {
          "output_type": "stream",
          "name": "stdout",
          "text": [
            "Uppercase example: YOU ARE WRONG\n"
          ]
        }
      ]
    },
    {
      "cell_type": "code",
      "metadata": {
        "colab": {
          "base_uri": "https://localhost:8080/",
          "height": 36
        },
        "id": "hEr0CcFbhZdY",
        "outputId": "ed6e2cd0-acb5-4640-bb68-f3a59be3ccc9"
      },
      "source": [
        "f.lower()"
      ],
      "execution_count": 62,
      "outputs": [
        {
          "output_type": "execute_result",
          "data": {
            "application/vnd.google.colaboratory.intrinsic+json": {
              "type": "string"
            },
            "text/plain": [
              "'you are wrong'"
            ]
          },
          "metadata": {},
          "execution_count": 62
        }
      ]
    },
    {
      "cell_type": "markdown",
      "metadata": {
        "id": "VFC2ZOr5I_da"
      },
      "source": [
        "<details><summary>Click here for the solution</summary>\n",
        "\n",
        "```python\n",
        "f.upper()\n",
        "\n",
        "```\n",
        "\n",
        "</details>\n"
      ]
    },
    {
      "cell_type": "markdown",
      "metadata": {
        "id": "QQv8I28QI_da"
      },
      "source": [
        "<hr>\n"
      ]
    },
    {
      "cell_type": "markdown",
      "metadata": {
        "id": "zR7Li68uI_da"
      },
      "source": [
        "Consider the variable <code>g</code>, and find the first index of the sub-string <code>snow</code>:\n"
      ]
    },
    {
      "cell_type": "code",
      "metadata": {
        "id": "jz-cvz8zI_db"
      },
      "source": [
        "# Write your code below and press Shift+Enter to execute\n",
        "\n",
        "g = \"Mary had a little lamb Little lamb, little lamb Mary had a little lamb \\\n",
        "Its fleece was white as snow And everywhere that Mary went Mary went, Mary went \\\n",
        "Everywhere that Mary went The lamb was sure to go\""
      ],
      "execution_count": 65,
      "outputs": []
    },
    {
      "cell_type": "code",
      "metadata": {
        "colab": {
          "base_uri": "https://localhost:8080/"
        },
        "id": "6tXQ72mLhf0n",
        "outputId": "760427da-2baa-4d51-f2bf-177450ff22d5"
      },
      "source": [
        "g.find(\"snow\")"
      ],
      "execution_count": 68,
      "outputs": [
        {
          "output_type": "execute_result",
          "data": {
            "text/plain": [
              "95"
            ]
          },
          "metadata": {},
          "execution_count": 68
        }
      ]
    },
    {
      "cell_type": "markdown",
      "metadata": {
        "id": "DG3aIl-SI_db"
      },
      "source": [
        "<details><summary>Click here for the solution</summary>\n",
        "\n",
        "```python\n",
        "g.find(\"snow\")\n",
        "\n",
        "```\n",
        "\n",
        "</details>\n"
      ]
    },
    {
      "cell_type": "markdown",
      "metadata": {
        "id": "TklYB0GjI_db"
      },
      "source": [
        "In the variable <code>g</code>, replace the sub-string <code>Mary</code> with <code>Bob</code>:\n"
      ]
    },
    {
      "cell_type": "code",
      "metadata": {
        "id": "MKBky-59I_db",
        "colab": {
          "base_uri": "https://localhost:8080/",
          "height": 36
        },
        "outputId": "d387465d-ec6d-4e2b-81ca-fe2cc88ec681"
      },
      "source": [
        "# Write your code below and press Shift+Enter to execute\n",
        "g.replace(\"Mary\", \"Bob\")"
      ],
      "execution_count": 69,
      "outputs": [
        {
          "output_type": "execute_result",
          "data": {
            "application/vnd.google.colaboratory.intrinsic+json": {
              "type": "string"
            },
            "text/plain": [
              "'Bob had a little lamb Little lamb, little lamb Bob had a little lamb Its fleece was white as snow And everywhere that Bob went Bob went, Bob went Everywhere that Bob went The lamb was sure to go'"
            ]
          },
          "metadata": {},
          "execution_count": 69
        }
      ]
    },
    {
      "cell_type": "markdown",
      "metadata": {
        "id": "Vh62vUEfI_db"
      },
      "source": [
        "<details><summary>Click here for the solution</summary>\n",
        "\n",
        "```python\n",
        "g.replace(\"Mary\", \"Bob\")\n",
        "\n",
        "```\n",
        "\n",
        "</details>\n"
      ]
    },
    {
      "cell_type": "markdown",
      "metadata": {
        "id": "IMF01zgUI_dc"
      },
      "source": [
        "<hr>\n",
        "<h2>The last exercise!</h2>\n",
        "<p>Congratulations, you have completed your first lesson and hands-on lab in Python. However, there is one more thing you need to do. The Data Science community encourages sharing work. The best way to share and showcase your work is to share it on GitHub. By sharing your notebook on GitHub you are not only building your reputation with fellow data scientists, but you can also show it off when applying for a job. Even though this was your first piece of work, it is never too early to start building good habits. So, please read and follow <a href=\"https://cognitiveclass.ai/blog/data-scientists-stand-out-by-sharing-your-notebooks/?utm_medium=Exinfluencer&utm_source=Exinfluencer&utm_content=000026UJ&utm_term=10006555&utm_id=NA-SkillsNetwork-Channel-SkillsNetworkCoursesIBMDeveloperSkillsNetworkPY0101ENSkillsNetwork19487395-2021-01-01\" target=\"_blank\">this article</a> to learn how to share your work.\n",
        "<hr>\n"
      ]
    },
    {
      "cell_type": "markdown",
      "metadata": {
        "id": "VLEXS3ZlI_dc"
      },
      "source": [
        "## Author\n",
        "\n",
        "<a href=\"https://www.linkedin.com/in/joseph-s-50398b136/?utm_medium=Exinfluencer&utm_source=Exinfluencer&utm_content=000026UJ&utm_term=10006555&utm_id=NA-SkillsNetwork-Channel-SkillsNetworkCoursesIBMDeveloperSkillsNetworkPY0101ENSkillsNetwork19487395-2021-01-01\" target=\"_blank\">Joseph Santarcangelo</a>\n",
        "\n",
        "## Change Log\n",
        "\n",
        "| Date (YYYY-MM-DD) | Version | Changed By | Change Description                  |\n",
        "| ----------------- | ------- | ---------- | ----------------------------------- |\n",
        "| 2020-11-11        | 2.1     | Aije       | Updated variable names to lowercase |\n",
        "| 2020-08-26        | 2.0     | Lavanya    | Moved lab to course repo in GitLab  |\n",
        "\n",
        "## <h3 align=\"center\"> © IBM Corporation 2020. All rights reserved. <h3/>\n"
      ]
    }
  ]
}