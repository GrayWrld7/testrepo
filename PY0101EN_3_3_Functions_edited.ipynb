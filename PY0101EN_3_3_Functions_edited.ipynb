{
  "nbformat": 4,
  "nbformat_minor": 0,
  "metadata": {
    "kernelspec": {
      "display_name": "Python",
      "language": "python",
      "name": "conda-env-python-py"
    },
    "language_info": {
      "codemirror_mode": {
        "name": "ipython",
        "version": 3
      },
      "file_extension": ".py",
      "mimetype": "text/x-python",
      "name": "python",
      "nbconvert_exporter": "python",
      "pygments_lexer": "ipython3",
      "version": "3.7.10"
    },
    "colab": {
      "name": "PY0101EN-3-3-Functions-edited.ipynb",
      "provenance": [],
      "collapsed_sections": [
        "GfYrMYL_p2bL"
      ],
      "include_colab_link": true
    }
  },
  "cells": [
    {
      "cell_type": "markdown",
      "metadata": {
        "id": "view-in-github",
        "colab_type": "text"
      },
      "source": [
        "<a href=\"https://colab.research.google.com/github/GrayWrld7/testrepo/blob/master/PY0101EN_3_3_Functions_edited.ipynb\" target=\"_parent\"><img src=\"https://colab.research.google.com/assets/colab-badge.svg\" alt=\"Open In Colab\"/></a>"
      ]
    },
    {
      "cell_type": "markdown",
      "metadata": {
        "id": "ZPReA1dZp2aJ"
      },
      "source": [
        "<center>\n",
        "    <img src=\"https://cf-courses-data.s3.us.cloud-object-storage.appdomain.cloud/IBMDeveloperSkillsNetwork-PY0101EN-SkillsNetwork/IDSNlogo.png\" width=\"300\" alt=\"cognitiveclass.ai logo\"  />\n",
        "</center>\n",
        "\n",
        "# Functions in Python\n",
        "\n",
        "Estimated time needed: **40** minutes\n",
        "\n",
        "## Objectives\n",
        "\n",
        "After completing this lab you will be able to:\n",
        "\n",
        "*   Understand functions and variables\n",
        "*   Work with functions and variables\n"
      ]
    },
    {
      "cell_type": "markdown",
      "metadata": {
        "id": "2NOHhWGQp2aR"
      },
      "source": [
        "<h1>Functions in Python</h1>\n"
      ]
    },
    {
      "cell_type": "markdown",
      "metadata": {
        "id": "_sl312j7p2aT"
      },
      "source": [
        "<p><strong>Welcome!</strong> This notebook will teach you about the functions in the Python Programming Language. By the end of this lab, you'll know the basic concepts about function, variables, and how to use functions.</p>\n"
      ]
    },
    {
      "cell_type": "markdown",
      "metadata": {
        "id": "YO1Bckvcp2aU"
      },
      "source": [
        "<h2>Table of Contents</h2>\n",
        "<div class=\"alert alert-block alert-info\" style=\"margin-top: 20px\">\n",
        "    <ul>\n",
        "        <li>\n",
        "            <a href=\"https://#func\">Functions</a>\n",
        "            <ul>\n",
        "                <li><a href=\"https://content/?utm_medium=Exinfluencer&utm_source=Exinfluencer&utm_content=000026UJ&utm_term=10006555&utm_id=NA-SkillsNetwork-Channel-SkillsNetworkCoursesIBMDeveloperSkillsNetworkPY0101ENSkillsNetwork19487395-2021-01-01\">What is a function?</a></li>\n",
        "                <li><a href=\"https://var/?utm_medium=Exinfluencer&utm_source=Exinfluencer&utm_content=000026UJ&utm_term=10006555&utm_id=NA-SkillsNetwork-Channel-SkillsNetworkCoursesIBMDeveloperSkillsNetworkPY0101ENSkillsNetwork19487395-2021-01-01\">Variables</a></li>\n",
        "                <li><a href=\"https://simple/?utm_medium=Exinfluencer&utm_source=Exinfluencer&utm_content=000026UJ&utm_term=10006555&utm_id=NA-SkillsNetwork-Channel-SkillsNetworkCoursesIBMDeveloperSkillsNetworkPY0101ENSkillsNetwork19487395-2021-01-01\">Functions Make Things Simple</a></li>\n",
        "            </ul>\n",
        "        </li>\n",
        "        <li><a href=\"https://pre/?utm_medium=Exinfluencer&utm_source=Exinfluencer&utm_content=000026UJ&utm_term=10006555&utm_id=NA-SkillsNetwork-Channel-SkillsNetworkCoursesIBMDeveloperSkillsNetworkPY0101ENSkillsNetwork19487395-2021-01-01\">Pre-defined functions</a></li>\n",
        "        <li><a href=\"https://if/?utm_medium=Exinfluencer&utm_source=Exinfluencer&utm_content=000026UJ&utm_term=10006555&utm_id=NA-SkillsNetwork-Channel-SkillsNetworkCoursesIBMDeveloperSkillsNetworkPY0101ENSkillsNetwork19487395-2021-01-01\">Using <code>if</code>/<code>else</code> Statements and Loops in Functions</a></li>\n",
        "        <li><a href=\"https://default/?utm_medium=Exinfluencer&utm_source=Exinfluencer&utm_content=000026UJ&utm_term=10006555&utm_id=NA-SkillsNetwork-Channel-SkillsNetworkCoursesIBMDeveloperSkillsNetworkPY0101ENSkillsNetwork19487395-2021-01-01\">Setting default argument values in your custom functions</a></li>\n",
        "        <li><a href=\"https://global/?utm_medium=Exinfluencer&utm_source=Exinfluencer&utm_content=000026UJ&utm_term=10006555&utm_id=NA-SkillsNetwork-Channel-SkillsNetworkCoursesIBMDeveloperSkillsNetworkPY0101ENSkillsNetwork19487395-2021-01-01\">Global variables</a></li>\n",
        "        <li><a href=\"https://scope/?utm_medium=Exinfluencer&utm_source=Exinfluencer&utm_content=000026UJ&utm_term=10006555&utm_id=NA-SkillsNetwork-Channel-SkillsNetworkCoursesIBMDeveloperSkillsNetworkPY0101ENSkillsNetwork19487395-2021-01-01\">Scope of a Variable</a></li>\n",
        "        <li><a href=\"https://collec/?utm_medium=Exinfluencer&utm_source=Exinfluencer&utm_content=000026UJ&utm_term=10006555&utm_id=NA-SkillsNetwork-Channel-SkillsNetworkCoursesIBMDeveloperSkillsNetworkPY0101ENSkillsNetwork19487395-2021-01-01\">Collections and Functions</a></li>\n",
        "        <li>\n",
        "            <a href=\"https://#quiz\">Quiz on Loops</a>\n",
        "        </li>\n",
        "    </ul>\n",
        "\n",
        "</div>\n",
        "\n",
        "<hr>\n"
      ]
    },
    {
      "cell_type": "markdown",
      "metadata": {
        "id": "JV8RLPC5p2aW"
      },
      "source": [
        "<h2 id=\"func\">Functions</h2>\n"
      ]
    },
    {
      "cell_type": "markdown",
      "metadata": {
        "id": "R5r8nLDUp2aW"
      },
      "source": [
        "A function is a reusable block of code which performs operations specified in the function. They let you break down tasks and allow you to reuse your code in different programs.\n",
        "\n",
        "There are two types of functions :\n",
        "\n",
        "*   <b>Pre-defined functions</b>\n",
        "*   <b>User defined functions</b>\n"
      ]
    },
    {
      "cell_type": "markdown",
      "metadata": {
        "id": "yCtyu-lpp2aX"
      },
      "source": [
        "<h3 id=\"content\">What is a Function?</h3>\n"
      ]
    },
    {
      "cell_type": "markdown",
      "metadata": {
        "id": "GLnmwdM_p2aY"
      },
      "source": [
        "You can define functions to provide the required functionality. Here are simple rules to define a function in Python:\n",
        "\n",
        "*   Functions blocks begin <code>def</code> followed by the function <code>name</code> and parentheses <code>()</code>.\n",
        "*   There are input parameters or arguments that should be placed within these parentheses.\n",
        "*   You can also define parameters inside these parentheses.\n",
        "*   There is a body within every function that starts with a colon (<code>:</code>) and is indented.\n",
        "*   You can also place documentation before the body.\n",
        "*   The statement <code>return</code> exits a function, optionally passing back a value.\n",
        "\n",
        "An example of a function that adds on to the parameter <code>a</code> prints and returns the output as <code>b</code>:\n"
      ]
    },
    {
      "cell_type": "code",
      "metadata": {
        "collapsed": true,
        "jupyter": {
          "outputs_hidden": {
            "outputs_hidden": true
          }
        },
        "tags": [],
        "id": "QzhcOZbgp2aY",
        "outputId": "e7d6b6bb-2fef-400d-c34e-1d3bba72ec71"
      },
      "source": [
        "# First function example: Add 1 to a and store as b\n",
        "\n",
        "def add(a):\n",
        "    \"\"\"\n",
        "    add 1 to a\n",
        "    \"\"\"\n",
        "    b = a + 1\n",
        "    print(a, \"if you add one\", b)\n",
        "    return(b)\n",
        "\n",
        "add(5)"
      ],
      "execution_count": null,
      "outputs": [
        {
          "name": "stdout",
          "output_type": "stream",
          "text": [
            "5 if you add one 6\n"
          ]
        },
        {
          "data": {
            "text/plain": [
              "6"
            ]
          },
          "execution_count": 3,
          "metadata": {},
          "output_type": "execute_result"
        }
      ]
    },
    {
      "cell_type": "markdown",
      "metadata": {
        "id": "UCanoWbIp2ab"
      },
      "source": [
        "The figure below illustrates the terminology:\n"
      ]
    },
    {
      "cell_type": "markdown",
      "metadata": {
        "id": "MqpuBbYip2ac"
      },
      "source": [
        "<img src=\"https://cf-courses-data.s3.us.cloud-object-storage.appdomain.cloud/IBMDeveloperSkillsNetwork-PY0101EN-SkillsNetwork/labs/Module%203/images/FuncsDefinition.png\" width=\"500\" /> \n"
      ]
    },
    {
      "cell_type": "markdown",
      "metadata": {
        "id": "nCztASuup2ad"
      },
      "source": [
        "We can obtain help about a function :\n"
      ]
    },
    {
      "cell_type": "code",
      "metadata": {
        "id": "PPtPetwbp2ae",
        "outputId": "e967a489-c45d-41c3-f554-a30febdf8f0b"
      },
      "source": [
        "# Get a help on add function\n",
        "\n",
        "help(add)"
      ],
      "execution_count": null,
      "outputs": [
        {
          "name": "stdout",
          "output_type": "stream",
          "text": [
            "Help on function add in module __main__:\n",
            "\n",
            "add(a)\n",
            "    add 1 to a\n",
            "\n"
          ]
        }
      ]
    },
    {
      "cell_type": "markdown",
      "metadata": {
        "id": "jWCNDxfwp2ae"
      },
      "source": [
        "We can call the function:\n"
      ]
    },
    {
      "cell_type": "code",
      "metadata": {
        "id": "-WGYON7sp2af",
        "outputId": "0eb5458d-4f8a-4a92-c66e-a23672352985"
      },
      "source": [
        "# Call the function add()\n",
        "\n",
        "add(1)"
      ],
      "execution_count": null,
      "outputs": [
        {
          "name": "stdout",
          "output_type": "stream",
          "text": [
            "1 if you add one 2\n"
          ]
        },
        {
          "data": {
            "text/plain": [
              "2"
            ]
          },
          "execution_count": 5,
          "metadata": {},
          "output_type": "execute_result"
        }
      ]
    },
    {
      "cell_type": "markdown",
      "metadata": {
        "id": "u3jhYs8yp2af"
      },
      "source": [
        "If we call the function with a new input we get a new result:\n"
      ]
    },
    {
      "cell_type": "code",
      "metadata": {
        "id": "kmKJus6Ip2ag",
        "outputId": "ead949b6-09d1-4032-b551-6846c23c3b7d"
      },
      "source": [
        "# Call the function add()\n",
        "\n",
        "add(2)"
      ],
      "execution_count": null,
      "outputs": [
        {
          "name": "stdout",
          "output_type": "stream",
          "text": [
            "2 if you add one 3\n"
          ]
        },
        {
          "data": {
            "text/plain": [
              "3"
            ]
          },
          "execution_count": 6,
          "metadata": {},
          "output_type": "execute_result"
        }
      ]
    },
    {
      "cell_type": "markdown",
      "metadata": {
        "id": "_EIy_epFp2ah"
      },
      "source": [
        "We can create different functions. For example, we can create a function that multiplies two numbers. The numbers will be represented by the variables <code>a</code> and <code>b</code>:\n"
      ]
    },
    {
      "cell_type": "code",
      "metadata": {
        "id": "Nzns5ZUfp2ah",
        "outputId": "386d20e4-594a-47bd-e419-dfdab893de28"
      },
      "source": [
        "# Define a function for multiple two numbers\n",
        "\n",
        "def Mult(a, b):\n",
        "    c = a * b\n",
        "    return(c)\n",
        "    print('This is not printed') # return indicates the final output, anything after return is not printed\n",
        "    \n",
        "result = Mult(12,2)\n",
        "print(result)"
      ],
      "execution_count": null,
      "outputs": [
        {
          "name": "stdout",
          "output_type": "stream",
          "text": [
            "24\n"
          ]
        }
      ]
    },
    {
      "cell_type": "code",
      "metadata": {
        "id": "EGbAfQqAp2ah",
        "outputId": "65d60c89-8eb4-4238-c672-44f06318fdeb"
      },
      "source": [
        "Mult(12,3)"
      ],
      "execution_count": null,
      "outputs": [
        {
          "data": {
            "text/plain": [
              "36"
            ]
          },
          "execution_count": 19,
          "metadata": {},
          "output_type": "execute_result"
        }
      ]
    },
    {
      "cell_type": "code",
      "metadata": {
        "id": "fPJuac2ap2ai",
        "outputId": "16eea8a7-1d07-4f66-fab2-9d633e51da00"
      },
      "source": [
        "def Mult(a, b):\n",
        "    c = a * b\n",
        "    print('This is printed')\n",
        "    return(c)\n",
        "    \n",
        "result = Mult(11,5)\n",
        "print(result)"
      ],
      "execution_count": null,
      "outputs": [
        {
          "name": "stdout",
          "output_type": "stream",
          "text": [
            "This is printed\n",
            "55\n"
          ]
        }
      ]
    },
    {
      "cell_type": "markdown",
      "metadata": {
        "id": "RYbERnDcp2ai"
      },
      "source": [
        "The same function can be used for different data types. For example, we can multiply two integers:\n"
      ]
    },
    {
      "cell_type": "code",
      "metadata": {
        "id": "01Ks4Pynp2ai",
        "outputId": "60d38b3a-14cb-4226-bf44-3a5c3b9bdf19"
      },
      "source": [
        "# Use mult() multiply two integers\n",
        "\n",
        "Mult(2, 3)"
      ],
      "execution_count": null,
      "outputs": [
        {
          "data": {
            "text/plain": [
              "6"
            ]
          },
          "execution_count": 20,
          "metadata": {},
          "output_type": "execute_result"
        }
      ]
    },
    {
      "cell_type": "markdown",
      "metadata": {
        "id": "UuSvV856p2aj"
      },
      "source": [
        "Note how the function terminates at the <code> return </code> statement, while passing back a value. This value can be further assigned to a different variable as desired.\n",
        "\n",
        "<hr>\n",
        "The same function can be used for different data types. For example, we can multiply two integers:\n"
      ]
    },
    {
      "cell_type": "markdown",
      "metadata": {
        "id": "vUEGEvHop2aj"
      },
      "source": [
        "Two Floats:\n"
      ]
    },
    {
      "cell_type": "code",
      "metadata": {
        "id": "G2pu_ZU8p2ak",
        "outputId": "f702a900-e5e3-4897-cd4a-5cc3c1d23943"
      },
      "source": [
        "# Use mult() multiply two floats\n",
        "\n",
        "Mult(10.0, 3.14)"
      ],
      "execution_count": null,
      "outputs": [
        {
          "data": {
            "text/plain": [
              "31.400000000000002"
            ]
          },
          "execution_count": 21,
          "metadata": {},
          "output_type": "execute_result"
        }
      ]
    },
    {
      "cell_type": "markdown",
      "metadata": {
        "id": "h6Vndmmhp2ak"
      },
      "source": [
        "We can even replicate a string by multiplying with an integer:\n"
      ]
    },
    {
      "cell_type": "code",
      "metadata": {
        "id": "Keh4unezp2ak",
        "outputId": "fd747e86-5b20-479c-cc60-02214246e440"
      },
      "source": [
        "# Use mult() multiply two different type values together\n",
        "\n",
        "Mult(2, \"Michael Jackson \")"
      ],
      "execution_count": null,
      "outputs": [
        {
          "data": {
            "text/plain": [
              "'Michael Jackson Michael Jackson '"
            ]
          },
          "execution_count": 22,
          "metadata": {},
          "output_type": "execute_result"
        }
      ]
    },
    {
      "cell_type": "code",
      "metadata": {
        "id": "1u-XG1G9p2al",
        "outputId": "02dd0461-21c0-4c9d-dbea-4633a08844ea"
      },
      "source": [
        "Mult(3, \"Michael Jackson \")"
      ],
      "execution_count": null,
      "outputs": [
        {
          "data": {
            "text/plain": [
              "'Michael Jackson Michael Jackson Michael Jackson '"
            ]
          },
          "execution_count": 25,
          "metadata": {},
          "output_type": "execute_result"
        }
      ]
    },
    {
      "cell_type": "code",
      "metadata": {
        "id": "rgmFfVGAp2al",
        "outputId": "04fa4aea-fc03-4d9a-c372-c0e821bffb0d"
      },
      "source": [
        "Mult(3.5,5)"
      ],
      "execution_count": null,
      "outputs": [
        {
          "data": {
            "text/plain": [
              "17.5"
            ]
          },
          "execution_count": 26,
          "metadata": {},
          "output_type": "execute_result"
        }
      ]
    },
    {
      "cell_type": "markdown",
      "metadata": {
        "id": "TdP1UYSJp2al"
      },
      "source": [
        "<h3 id=\"var\">Variables</h3>\n"
      ]
    },
    {
      "cell_type": "markdown",
      "metadata": {
        "id": "8nfEghR-p2am"
      },
      "source": [
        "The input to a function is called a formal parameter.\n",
        "\n",
        "A variable that is declared inside a function is called a  local variable. The parameter only exists within the function (i.e. the point where the function starts and stops).\n",
        "\n",
        "A variable that is declared outside a function definition is a global variable, and its value is accessible and modifiable throughout the program. We will discuss more about global variables at the end of the lab.\n"
      ]
    },
    {
      "cell_type": "code",
      "metadata": {
        "id": "V5SQwfRkp2am"
      },
      "source": [
        "# Function Definition\n",
        "\n",
        "def square(a):\n",
        "    \n",
        "    # Local variable b\n",
        "    b = 1\n",
        "    c = a * a + b\n",
        "    print(a, \"if you square + 1\", c) \n",
        "    return(c)"
      ],
      "execution_count": null,
      "outputs": []
    },
    {
      "cell_type": "markdown",
      "metadata": {
        "id": "W1Jv30Jip2am"
      },
      "source": [
        "The labels are displayed in the figure:\n"
      ]
    },
    {
      "cell_type": "markdown",
      "metadata": {
        "id": "-RJ4bWCep2an"
      },
      "source": [
        "<img src=\"https://cf-courses-data.s3.us.cloud-object-storage.appdomain.cloud/IBMDeveloperSkillsNetwork-PY0101EN-SkillsNetwork/labs/Module%203/images/FuncsVar.png\" width=\"500\" />\n"
      ]
    },
    {
      "cell_type": "markdown",
      "metadata": {
        "id": "GdufYYCjp2an"
      },
      "source": [
        "We can call the function  with an input of <b>3</b>:\n"
      ]
    },
    {
      "cell_type": "code",
      "metadata": {
        "id": "qSngxab5p2an",
        "outputId": "681537fc-1fb6-40a8-bf49-81f9d65c13fe"
      },
      "source": [
        "# Initializes Global variable  \n",
        "\n",
        "x = 3\n",
        "# Makes function call and return function a y\n",
        "y = square(x)\n",
        "y"
      ],
      "execution_count": null,
      "outputs": [
        {
          "name": "stdout",
          "output_type": "stream",
          "text": [
            "3 if you square + 1 10\n"
          ]
        },
        {
          "data": {
            "text/plain": [
              "10"
            ]
          },
          "execution_count": 32,
          "metadata": {},
          "output_type": "execute_result"
        }
      ]
    },
    {
      "cell_type": "markdown",
      "metadata": {
        "id": "EYlRO-ZEp2ao"
      },
      "source": [
        "We can call the function  with an input of <b>2</b> in a different manner:\n"
      ]
    },
    {
      "cell_type": "code",
      "metadata": {
        "id": "bPmPfZ6bp2ao",
        "outputId": "9c8c759d-caf5-466f-ac73-91a3b2b338be"
      },
      "source": [
        "# Directly enter a number as parameter\n",
        "\n",
        "square(2)"
      ],
      "execution_count": null,
      "outputs": [
        {
          "name": "stdout",
          "output_type": "stream",
          "text": [
            "2 if you square + 1 5\n"
          ]
        },
        {
          "data": {
            "text/plain": [
              "5"
            ]
          },
          "execution_count": 33,
          "metadata": {},
          "output_type": "execute_result"
        }
      ]
    },
    {
      "cell_type": "markdown",
      "metadata": {
        "id": "2-1LxAYgp2ap"
      },
      "source": [
        "If there is no <code>return</code> statement, the function returns <code>None</code>. The following two functions are equivalent:\n"
      ]
    },
    {
      "cell_type": "code",
      "metadata": {
        "id": "GE8_-CQJp2ap"
      },
      "source": [
        "# Define functions, one with return value None and other without return value\n",
        "\n",
        "def MJ():\n",
        "    print('Michael Jackson')\n",
        "    \n",
        "def MJ1():\n",
        "    print('Michael Jackson')\n",
        "    return(None)"
      ],
      "execution_count": null,
      "outputs": []
    },
    {
      "cell_type": "code",
      "metadata": {
        "id": "Ul7yrtmqp2ap",
        "outputId": "5aad035d-1a89-4f3d-903b-6d19dc7ca137"
      },
      "source": [
        "# See the output\n",
        "\n",
        "MJ()"
      ],
      "execution_count": null,
      "outputs": [
        {
          "name": "stdout",
          "output_type": "stream",
          "text": [
            "Michael Jackson\n"
          ]
        }
      ]
    },
    {
      "cell_type": "code",
      "metadata": {
        "id": "s-SNew1tp2aq",
        "outputId": "1e425af7-8022-43d4-c4c1-5cbc6282335d"
      },
      "source": [
        "# See the output\n",
        "\n",
        "MJ1()"
      ],
      "execution_count": null,
      "outputs": [
        {
          "name": "stdout",
          "output_type": "stream",
          "text": [
            "Michael Jackson\n"
          ]
        }
      ]
    },
    {
      "cell_type": "markdown",
      "metadata": {
        "id": "A7_9dxytp2aq"
      },
      "source": [
        "Printing the function after a call reveals a **None** is the default return statement:\n"
      ]
    },
    {
      "cell_type": "code",
      "metadata": {
        "id": "Ng2CRFH3p2aq",
        "outputId": "ba791518-fbdf-4a14-bad0-296397e181e3"
      },
      "source": [
        "# See what functions returns are\n",
        "\n",
        "print(MJ())\n",
        "print(MJ1())"
      ],
      "execution_count": null,
      "outputs": [
        {
          "name": "stdout",
          "output_type": "stream",
          "text": [
            "Michael Jackson\n",
            "None\n",
            "Michael Jackson\n",
            "None\n"
          ]
        }
      ]
    },
    {
      "cell_type": "markdown",
      "metadata": {
        "id": "Ip978upTp2ar"
      },
      "source": [
        "Create a function <code>con</code> that  concatenates two strings using the addition operation:\n"
      ]
    },
    {
      "cell_type": "code",
      "metadata": {
        "tags": [],
        "id": "q6FKTehwp2ar"
      },
      "source": [
        "# Define the function for combining strings\n",
        "\n",
        "def con(a, b):\n",
        "    return(a + b)"
      ],
      "execution_count": null,
      "outputs": []
    },
    {
      "cell_type": "code",
      "metadata": {
        "id": "x1OLHKkcp2ar",
        "outputId": "0b449efc-ce78-458c-8c66-20e2f7a8a783"
      },
      "source": [
        "# Test on the con() function\n",
        "\n",
        "con(\"This \", \"is\")"
      ],
      "execution_count": null,
      "outputs": [
        {
          "data": {
            "text/plain": [
              "'This is'"
            ]
          },
          "execution_count": 42,
          "metadata": {},
          "output_type": "execute_result"
        }
      ]
    },
    {
      "cell_type": "markdown",
      "metadata": {
        "id": "3nBxAnpjp2as"
      },
      "source": [
        "<hr/>\n",
        "    <div class=\"alert alert-success alertsuccess\" style=\"margin-top: 20px\">\n",
        "        <h4> [Tip] How do I learn more about the pre-defined functions in Python? </h4>\n",
        "        <p>We will be introducing a variety of pre-defined functions to you as you learn more about Python. There are just too many functions, so there's no way we can teach them all in one sitting. But if you'd like to take a quick peek, here's a short reference card for some of the commonly-used pre-defined functions: <a href=\"https://cf-courses-data.s3.us.cloud-object-storage.appdomain.cloud/IBMDeveloperSkillsNetwork-PY0101EN-SkillsNetwork/labs/Module%203/Python_reference_sheet.pdf?utm_medium=Exinfluencer&utm_source=Exinfluencer&utm_content=000026UJ&utm_term=10006555&utm_id=NA-SkillsNetwork-Channel-SkillsNetworkCoursesIBMDeveloperSkillsNetworkPY0101ENSkillsNetwork19487395-2021-01-01\">Reference</a></p>\n",
        "    </div>\n",
        "<hr/>\n"
      ]
    },
    {
      "cell_type": "markdown",
      "metadata": {
        "id": "gSmaSS_vp2at"
      },
      "source": [
        "<h3 id=\"simple\">Functions Make Things Simple</h3>\n"
      ]
    },
    {
      "cell_type": "markdown",
      "metadata": {
        "id": "m4Nq9u-ap2au"
      },
      "source": [
        "Consider the two lines of code in <b>Block 1</b> and <b>Block 2</b>: the procedure for each block is identical. The only thing that is different is the variable names and values.\n"
      ]
    },
    {
      "cell_type": "markdown",
      "metadata": {
        "id": "ctWknN7tp2au"
      },
      "source": [
        "<h4>Block 1:</h4>\n"
      ]
    },
    {
      "cell_type": "code",
      "metadata": {
        "id": "k9okcBQrp2au",
        "outputId": "c1247c26-b0e9-4f76-8923-3fb32003b548"
      },
      "source": [
        "# a and b calculation block1\n",
        "\n",
        "a1 = 4\n",
        "b1 = 5\n",
        "c1 = a1 + b1 + 2 * a1 * b1 - 1\n",
        "print(c1)\n",
        "if(c1 < 0):\n",
        "    c1 = 0 \n",
        "else:\n",
        "    c1 = 5\n",
        "c1   "
      ],
      "execution_count": null,
      "outputs": [
        {
          "name": "stdout",
          "output_type": "stream",
          "text": [
            "48\n"
          ]
        },
        {
          "data": {
            "text/plain": [
              "5"
            ]
          },
          "execution_count": 44,
          "metadata": {},
          "output_type": "execute_result"
        }
      ]
    },
    {
      "cell_type": "markdown",
      "metadata": {
        "id": "HSn_M305p2av"
      },
      "source": [
        "<h4>Block 2:</h4>\n"
      ]
    },
    {
      "cell_type": "code",
      "metadata": {
        "id": "1zHT5b20p2av",
        "outputId": "fa6f7111-962a-4bfa-9393-c055011cabc4"
      },
      "source": [
        "# a and b calculation block2\n",
        "\n",
        "a2 = 0\n",
        "b2 = 0\n",
        "c2 = a2 + b2 + 2 * a2 * b2 - 1\n",
        "print(c2)\n",
        "if(c2 < 0):\n",
        "    c2 = 0 \n",
        "else:\n",
        "    c2 = 5\n",
        "c2   "
      ],
      "execution_count": null,
      "outputs": [
        {
          "name": "stdout",
          "output_type": "stream",
          "text": [
            "-1\n"
          ]
        },
        {
          "data": {
            "text/plain": [
              "0"
            ]
          },
          "execution_count": 46,
          "metadata": {},
          "output_type": "execute_result"
        }
      ]
    },
    {
      "cell_type": "markdown",
      "metadata": {
        "id": "Su2cJgFyp2aw"
      },
      "source": [
        "We can replace the lines of code with a function. A function combines many instructions into a single line of code. Once a function is defined, it can be used repeatedly. You can invoke the same function many times in your program. You can save your function and use it in another program or use someone else’s function. The lines of code in code <b>Block 1</b> and code <b>Block 2</b> can be replaced by the following function:\n"
      ]
    },
    {
      "cell_type": "code",
      "metadata": {
        "id": "M3P_6k1Rp2ay"
      },
      "source": [
        "# Make a Function for the calculation above\n",
        "\n",
        "def Equation(a,b):\n",
        "    c = a + b + 2 * a * b - 1\n",
        "    print(c)\n",
        "    if(c < 0):\n",
        "        c = 0 \n",
        "    else:\n",
        "        c = 5\n",
        "    return(c) "
      ],
      "execution_count": null,
      "outputs": []
    },
    {
      "cell_type": "markdown",
      "metadata": {
        "id": "8PZAZgcip2ay"
      },
      "source": [
        "This function takes two inputs, a and b, then applies several operations to return c.\n",
        "We simply define the function, replace the instructions with the function, and input the new values of <code>a1</code>, <code>b1</code> and <code>a2</code>, <code>b2</code> as inputs. The entire process is demonstrated in the figure:\n"
      ]
    },
    {
      "cell_type": "markdown",
      "metadata": {
        "id": "7jkdko0mp2ay"
      },
      "source": [
        "<img src=\"https://cf-courses-data.s3.us.cloud-object-storage.appdomain.cloud/IBMDeveloperSkillsNetwork-PY0101EN-SkillsNetwork/labs/Module%203/images/FuncsPros.gif\" width=\"850\" />\n"
      ]
    },
    {
      "cell_type": "markdown",
      "metadata": {
        "id": "7U_d6HQrp2az"
      },
      "source": [
        "Code **Blocks 1** and **Block 2** can now be replaced with code **Block 3** and code **Block 4**.\n"
      ]
    },
    {
      "cell_type": "markdown",
      "metadata": {
        "id": "Wo40XTmSp2az"
      },
      "source": [
        "<h4>Block 3:</h4>\n"
      ]
    },
    {
      "cell_type": "code",
      "metadata": {
        "id": "-F9mxAddp2az",
        "outputId": "6b3d840c-cf00-45cb-f439-736f66225940"
      },
      "source": [
        "a1 = 4\n",
        "b1 = 5\n",
        "c1 = Equation(a1, b1)\n",
        "c1"
      ],
      "execution_count": null,
      "outputs": [
        {
          "name": "stdout",
          "output_type": "stream",
          "text": [
            "48\n"
          ]
        },
        {
          "data": {
            "text/plain": [
              "5"
            ]
          },
          "execution_count": 56,
          "metadata": {},
          "output_type": "execute_result"
        }
      ]
    },
    {
      "cell_type": "markdown",
      "metadata": {
        "id": "908sKpgAp2a0"
      },
      "source": [
        "<h4>Block 4:</h4>\n"
      ]
    },
    {
      "cell_type": "code",
      "metadata": {
        "id": "qlAyZhXyp2a0",
        "outputId": "ccf275f7-2c3b-464f-cbb9-896d8bf31f61"
      },
      "source": [
        "a2 = 0\n",
        "b2 = 0\n",
        "c2 = Equation(a2, b2)\n",
        "c2"
      ],
      "execution_count": null,
      "outputs": [
        {
          "name": "stdout",
          "output_type": "stream",
          "text": [
            "-1\n"
          ]
        },
        {
          "data": {
            "text/plain": [
              "0"
            ]
          },
          "execution_count": 57,
          "metadata": {},
          "output_type": "execute_result"
        }
      ]
    },
    {
      "cell_type": "code",
      "metadata": {
        "id": "0B9bB6mnp2a0",
        "outputId": "869da9fe-4e64-492f-b0b3-6cbc3f4bbc9c"
      },
      "source": [
        "Equation(3,2)"
      ],
      "execution_count": null,
      "outputs": [
        {
          "name": "stdout",
          "output_type": "stream",
          "text": [
            "16\n"
          ]
        },
        {
          "data": {
            "text/plain": [
              "5"
            ]
          },
          "execution_count": 58,
          "metadata": {},
          "output_type": "execute_result"
        }
      ]
    },
    {
      "cell_type": "markdown",
      "metadata": {
        "id": "k3TdwQvcp2a1"
      },
      "source": [
        "<hr>\n"
      ]
    },
    {
      "cell_type": "markdown",
      "metadata": {
        "id": "wwfq7RLWp2a1"
      },
      "source": [
        "<h2 id=\"pre\">Pre-defined functions</h2>\n"
      ]
    },
    {
      "cell_type": "markdown",
      "metadata": {
        "id": "cW8WdL6pp2a1"
      },
      "source": [
        "There are many pre-defined functions in Python, so let's start with the simple ones.\n"
      ]
    },
    {
      "cell_type": "markdown",
      "metadata": {
        "id": "r4y8CNgnp2a1"
      },
      "source": [
        "The <code>print()</code> function:\n"
      ]
    },
    {
      "cell_type": "code",
      "metadata": {
        "id": "Yd9OsHwvp2a1",
        "outputId": "96a33e27-0134-4d3e-9fc5-05f1cb65d432"
      },
      "source": [
        "# Build-in function print()\n",
        "\n",
        "album_ratings = [10.0, 8.5, 9.5, 7.0, 7.0, 9.5, 9.0, 9.5] \n",
        "print(album_ratings)"
      ],
      "execution_count": null,
      "outputs": [
        {
          "name": "stdout",
          "output_type": "stream",
          "text": [
            "[10.0, 8.5, 9.5, 7.0, 7.0, 9.5, 9.0, 9.5]\n"
          ]
        }
      ]
    },
    {
      "cell_type": "markdown",
      "metadata": {
        "id": "M_ye-QGWp2a1"
      },
      "source": [
        "The <code>sum()</code> function adds all the  elements in a list or tuple:\n"
      ]
    },
    {
      "cell_type": "code",
      "metadata": {
        "id": "y58_CXW7p2a1",
        "outputId": "1dcc49ac-e36e-4cca-e1b2-4969b19a553a"
      },
      "source": [
        "# Use sum() to add every element in a list or tuple together\n",
        "\n",
        "sum(album_ratings)"
      ],
      "execution_count": null,
      "outputs": [
        {
          "data": {
            "text/plain": [
              "70.0"
            ]
          },
          "execution_count": 51,
          "metadata": {},
          "output_type": "execute_result"
        }
      ]
    },
    {
      "cell_type": "markdown",
      "metadata": {
        "id": "Wf-w30zhp2a1"
      },
      "source": [
        "The <code>len()</code> function returns the length of a list or tuple:\n"
      ]
    },
    {
      "cell_type": "code",
      "metadata": {
        "id": "qVt-ScwPp2a2",
        "outputId": "b76e1caa-0214-48d0-96fc-1ccf2ef50146"
      },
      "source": [
        "# Show the length of the list or tuple\n",
        "\n",
        "len(album_ratings)"
      ],
      "execution_count": null,
      "outputs": [
        {
          "data": {
            "text/plain": [
              "8"
            ]
          },
          "execution_count": 52,
          "metadata": {},
          "output_type": "execute_result"
        }
      ]
    },
    {
      "cell_type": "markdown",
      "metadata": {
        "id": "zApluAdCp2a2"
      },
      "source": [
        "<h2 id=\"if\">Using <code>if</code>/<code>else</code> Statements and Loops in Functions</h2>\n"
      ]
    },
    {
      "cell_type": "markdown",
      "metadata": {
        "id": "-MvyLGRFp2a2"
      },
      "source": [
        "The <code>return()</code> function is particularly useful if you have any IF statements in the function, when you want your output to be dependent on some condition:\n"
      ]
    },
    {
      "cell_type": "code",
      "metadata": {
        "id": "F8BzyW9mp2a4",
        "outputId": "ee747448-bfcc-4b00-d4db-b6b865b32f25"
      },
      "source": [
        "# Function example\n",
        "\n",
        "def type_of_album(artist, album, year_released):\n",
        "    \n",
        "    print(artist, album, year_released)\n",
        "    if year_released > 1980:\n",
        "        return \"Modern\"\n",
        "    else:\n",
        "        return \"Oldie\"\n",
        "    \n",
        "x = type_of_album(\"Michael Jackson\", \"Thriller\", 1980)\n",
        "print(x)"
      ],
      "execution_count": null,
      "outputs": [
        {
          "name": "stdout",
          "output_type": "stream",
          "text": [
            "Michael Jackson Thriller 2002\n",
            "Modern\n"
          ]
        }
      ]
    },
    {
      "cell_type": "code",
      "metadata": {
        "id": "pwQeF0Rfp2a4",
        "outputId": "5788604b-b7e3-4fd9-f58b-ae2ba53bafb7"
      },
      "source": [
        "type_of_album(\"Eminem\", \"The Eminem Show\", 2002)"
      ],
      "execution_count": null,
      "outputs": [
        {
          "name": "stdout",
          "output_type": "stream",
          "text": [
            "Eminem The Eminem Show 2002\n"
          ]
        },
        {
          "data": {
            "text/plain": [
              "'Modern'"
            ]
          },
          "execution_count": 78,
          "metadata": {},
          "output_type": "execute_result"
        }
      ]
    },
    {
      "cell_type": "markdown",
      "metadata": {
        "id": "Ba6U-fpvp2a4"
      },
      "source": [
        "We can use a loop in a function. For example, we can <code>print</code> out each element in a list:\n"
      ]
    },
    {
      "cell_type": "code",
      "metadata": {
        "id": "6zoBT5Byp2a5"
      },
      "source": [
        "# Print the list using for loop\n",
        "\n",
        "def PrintList(the_list):\n",
        "    for element in the_list:\n",
        "        print(element)"
      ],
      "execution_count": null,
      "outputs": []
    },
    {
      "cell_type": "code",
      "metadata": {
        "id": "xX5dxbQup2a5",
        "outputId": "38097ae3-3589-4dbe-d4d3-d58524780992"
      },
      "source": [
        "# Implement the printlist function\n",
        "\n",
        "PrintList(['1', 1, 'the man', \"abc\"])"
      ],
      "execution_count": null,
      "outputs": [
        {
          "name": "stdout",
          "output_type": "stream",
          "text": [
            "1\n",
            "1\n",
            "the man\n",
            "abc\n"
          ]
        }
      ]
    },
    {
      "cell_type": "code",
      "metadata": {
        "colab": {
          "base_uri": "https://localhost:8080/"
        },
        "id": "ZMGHCT-0tnXG",
        "outputId": "ca05b44e-e514-4468-a54c-71263780cb26"
      },
      "source": [
        "type(['1', 1, 'the man', \"abc\"])"
      ],
      "execution_count": 1,
      "outputs": [
        {
          "output_type": "execute_result",
          "data": {
            "text/plain": [
              "list"
            ]
          },
          "metadata": {},
          "execution_count": 1
        }
      ]
    },
    {
      "cell_type": "code",
      "metadata": {
        "id": "p29coXOup2a5",
        "outputId": "12fd3586-1805-46e0-f970-20245d092499"
      },
      "source": [
        "print(len([sum([4, 1, 2, 1])]))"
      ],
      "execution_count": null,
      "outputs": [
        {
          "name": "stdout",
          "output_type": "stream",
          "text": [
            "1\n"
          ]
        }
      ]
    },
    {
      "cell_type": "code",
      "metadata": {
        "id": "ITdcC80Lp2a6",
        "outputId": "97baeb5d-e673-4798-9c3e-9df3da1d7dca"
      },
      "source": [
        "\"1\" in (['1', 1, 'the man', \"abc\"])"
      ],
      "execution_count": null,
      "outputs": [
        {
          "data": {
            "text/plain": [
              "True"
            ]
          },
          "execution_count": 101,
          "metadata": {},
          "output_type": "execute_result"
        }
      ]
    },
    {
      "cell_type": "code",
      "metadata": {
        "id": "vP3kHRdgp2a6",
        "outputId": "44f95395-a1df-4567-87d0-3e7601d69ede"
      },
      "source": [
        "(['1', 1, 'the man', \"abc\"])[3]"
      ],
      "execution_count": null,
      "outputs": [
        {
          "data": {
            "text/plain": [
              "'abc'"
            ]
          },
          "execution_count": 104,
          "metadata": {},
          "output_type": "execute_result"
        }
      ]
    },
    {
      "cell_type": "code",
      "metadata": {
        "id": "LnRZDZT9p2a6",
        "outputId": "78a94d87-0227-4095-e11c-051c448c42fc"
      },
      "source": [
        "(['1', 1, 'the man', \"abc\"]).index(\"the man\")"
      ],
      "execution_count": null,
      "outputs": [
        {
          "data": {
            "text/plain": [
              "2"
            ]
          },
          "execution_count": 105,
          "metadata": {},
          "output_type": "execute_result"
        }
      ]
    },
    {
      "cell_type": "markdown",
      "metadata": {
        "id": "Mt3W_j1Rp2a7"
      },
      "source": [
        "<hr>\n"
      ]
    },
    {
      "cell_type": "markdown",
      "metadata": {
        "id": "2hwN1_dCp2a7"
      },
      "source": [
        "<h2 id=\"default\">Setting default argument values in your custom functions</h2>\n"
      ]
    },
    {
      "cell_type": "markdown",
      "metadata": {
        "id": "Qlo9Tx_9p2a7"
      },
      "source": [
        "You can set a default value for arguments in your function. For example, in the <code>isGoodRating()</code> function, what if we wanted to create a threshold for what we consider to be a good rating? Perhaps by default, we should have a default rating of 4:\n"
      ]
    },
    {
      "cell_type": "code",
      "metadata": {
        "id": "2CaQt8sWp2a7"
      },
      "source": [
        "# Example for setting param with default value\n",
        "\n",
        "def isGoodRating(rating=4): \n",
        "    if(rating < 7):\n",
        "        print(\"this album sucks it's rating is\",rating)\n",
        "        \n",
        "    else:\n",
        "        print(\"this album is good its rating is\",rating)\n"
      ],
      "execution_count": null,
      "outputs": []
    },
    {
      "cell_type": "code",
      "metadata": {
        "id": "Qtg_KG1Qp2a8",
        "outputId": "895f8356-e35f-4bcb-e4e5-28f68e3cff3d"
      },
      "source": [
        "# Test the value with default value and with input\n",
        "\n",
        "isGoodRating()\n",
        "isGoodRating(10)"
      ],
      "execution_count": null,
      "outputs": [
        {
          "name": "stdout",
          "output_type": "stream",
          "text": [
            "this album sucks it's rating is 4\n",
            "this album is good its rating is 10\n"
          ]
        }
      ]
    },
    {
      "cell_type": "markdown",
      "metadata": {
        "id": "fvop_H7Ap2a9"
      },
      "source": [
        "<hr>\n"
      ]
    },
    {
      "cell_type": "markdown",
      "metadata": {
        "id": "Mxz2hXSYp2a9"
      },
      "source": [
        "<h2 id=\"global\">Global variables</h2>\n"
      ]
    },
    {
      "cell_type": "markdown",
      "metadata": {
        "id": "m-7LLkPLp2a9"
      },
      "source": [
        "So far, we've been creating variables within functions, but we have not discussed variables outside the function. These are called global variables. <br>\n",
        "Let's try to see what <code>printer1</code> returns:\n"
      ]
    },
    {
      "cell_type": "code",
      "metadata": {
        "id": "U1P3ewN8p2a9",
        "outputId": "b549daad-afa7-43c7-ec5b-54932edce6e3"
      },
      "source": [
        "# Example of global variable\n",
        "\n",
        "artist = \"Michael Jackson\"\n",
        "def printer1(artist):\n",
        "    internal_var1 = artist\n",
        "    print(artist, \"is an artist\")\n",
        "    \n",
        "print(printer1(artist))\n",
        "print(printer1(internal_var1))\n",
        "# try runningthe following code\n",
        "#printer1(internal_var1) "
      ],
      "execution_count": null,
      "outputs": [
        {
          "name": "stdout",
          "output_type": "stream",
          "text": [
            "Michael Jackson is an artist\n",
            "None\n"
          ]
        },
        {
          "ename": "NameError",
          "evalue": "name 'internal_var1' is not defined",
          "output_type": "error",
          "traceback": [
            "\u001b[0;31m---------------------------------------------------------------------------\u001b[0m",
            "\u001b[0;31mNameError\u001b[0m                                 Traceback (most recent call last)",
            "\u001b[0;32m/tmp/ipykernel_63/1951654617.py\u001b[0m in \u001b[0;36m<module>\u001b[0;34m\u001b[0m\n\u001b[1;32m      7\u001b[0m \u001b[0;34m\u001b[0m\u001b[0m\n\u001b[1;32m      8\u001b[0m \u001b[0mprint\u001b[0m\u001b[0;34m(\u001b[0m\u001b[0mprinter1\u001b[0m\u001b[0;34m(\u001b[0m\u001b[0martist\u001b[0m\u001b[0;34m)\u001b[0m\u001b[0;34m)\u001b[0m\u001b[0;34m\u001b[0m\u001b[0;34m\u001b[0m\u001b[0m\n\u001b[0;32m----> 9\u001b[0;31m \u001b[0mprint\u001b[0m\u001b[0;34m(\u001b[0m\u001b[0mprinter1\u001b[0m\u001b[0;34m(\u001b[0m\u001b[0minternal_var1\u001b[0m\u001b[0;34m)\u001b[0m\u001b[0;34m)\u001b[0m\u001b[0;34m\u001b[0m\u001b[0;34m\u001b[0m\u001b[0m\n\u001b[0m\u001b[1;32m     10\u001b[0m \u001b[0;31m# try runningthe following code\u001b[0m\u001b[0;34m\u001b[0m\u001b[0;34m\u001b[0m\u001b[0;34m\u001b[0m\u001b[0m\n\u001b[1;32m     11\u001b[0m \u001b[0;31m#printer1(internal_var1)\u001b[0m\u001b[0;34m\u001b[0m\u001b[0;34m\u001b[0m\u001b[0;34m\u001b[0m\u001b[0m\n",
            "\u001b[0;31mNameError\u001b[0m: name 'internal_var1' is not defined"
          ]
        }
      ]
    },
    {
      "cell_type": "markdown",
      "metadata": {
        "id": "i2PeCfAtp2a-"
      },
      "source": [
        "<b>We got a Name Error:  <code>name 'internal_var' is not defined</code>. Why?</b>\n",
        "\n",
        "It's because all the variables we create in the function is a <b>local variable</b>, meaning that the variable assignment does not persist outside the function.\n",
        "\n",
        "But there is a way to create <b>global variables</b> from within a function as follows:\n"
      ]
    },
    {
      "cell_type": "code",
      "metadata": {
        "id": "hS0sFWdop2a-",
        "outputId": "726eb4ac-91fe-489e-822e-dcff8041b867"
      },
      "source": [
        "artist = \"Michael Jackson\"\n",
        "\n",
        "def printer(artist):\n",
        "    global internal_var \n",
        "    internal_var= \"Whitney Houston\"\n",
        "    print(artist,\"is an artist\")\n",
        "\n",
        "printer(artist) \n",
        "printer(internal_var)"
      ],
      "execution_count": null,
      "outputs": [
        {
          "name": "stdout",
          "output_type": "stream",
          "text": [
            "Michael Jackson is an artist\n",
            "Whitney Houston is an artist\n"
          ]
        }
      ]
    },
    {
      "cell_type": "markdown",
      "metadata": {
        "id": "Xg6ujUrYp2a-"
      },
      "source": [
        "<h2 id=\"scope\">Scope of a Variable</h2>"
      ]
    },
    {
      "cell_type": "markdown",
      "metadata": {
        "id": "B7yjhwUNp2a-"
      },
      "source": [
        "The scope of a variable is the part of that program where that variable is accessible. Variables that are declared outside of all function definitions, such as the <code>myFavouriteBand</code> variable in the code shown here, are accessible from anywhere within the program. As a result, such variables are said to have global scope, and are known as global variables. <code>myFavouriteBand</code> is a global variable, so it is accessible from within the <code>getBandRating</code> function, and we can use it to determine a band's rating. We can also use it outside of the function, such as when we pass it to the print function to display it:\n"
      ]
    },
    {
      "cell_type": "code",
      "metadata": {
        "id": "LzLAaY_Fp2a_",
        "outputId": "8007a587-1422-40a9-a748-4b90f02b844d"
      },
      "source": [
        "# Example of global variable\n",
        "\n",
        "myFavouriteBand = \"AC/DC\"\n",
        "\n",
        "def getBandRating(bandname):\n",
        "    if bandname == myFavouriteBand:\n",
        "        return 10.0\n",
        "    else:\n",
        "        return 0.0\n",
        "\n",
        "print(\"AC/DC's rating is:\", getBandRating(\"AC/DC\"))\n",
        "print(\"Deep Purple's rating is:\",getBandRating(\"Deep Purple\"))\n",
        "print(\"My favourite band is:\", myFavouriteBand)"
      ],
      "execution_count": null,
      "outputs": [
        {
          "name": "stdout",
          "output_type": "stream",
          "text": [
            "AC/DC's rating is: 10.0\n",
            "Deep Purple's rating is: 0.0\n",
            "My favourite band is: AC/DC\n"
          ]
        }
      ]
    },
    {
      "cell_type": "markdown",
      "metadata": {
        "id": "IMS8oJH7p2bA"
      },
      "source": [
        "Take a look at this modified version of our code. Now the <code>myFavouriteBand</code> variable is defined within the <code>getBandRating</code> function. A variable that is defined within a function is said to be a local variable of that function. That means that it is only accessible from within the function in which it is defined. Our <code>getBandRating</code> function will still work, because <code>myFavouriteBand</code> is still defined within the function. However, we can no longer print <code>myFavouriteBand</code> outside our function, because it is a local variable of our <code>getBandRating</code> function; it is only defined within the <code>getBandRating</code> function:\n"
      ]
    },
    {
      "cell_type": "code",
      "metadata": {
        "id": "XQOo6v-hp2bB",
        "outputId": "f1a472f6-7838-4299-d3da-fcb9f00dc90d"
      },
      "source": [
        "# Deleting the variable \"myFavouriteBand\" from the previous example to demonstrate an example of a local variable \n",
        "\n",
        "del myFavouriteBand\n",
        "\n",
        "# Example of local variable\n",
        "\n",
        "def getBandRating(bandname):\n",
        "    myFavouriteBand = \"AC/DC\"\n",
        "    if bandname == myFavouriteBand:\n",
        "        return 10.0\n",
        "    else:\n",
        "        return 0.0\n",
        "\n",
        "print(\"AC/DC's rating is: \", getBandRating(\"AC/DC\"))\n",
        "print(\"Deep Purple's rating is: \", getBandRating(\"Deep Purple\"))\n",
        "print(\"My favourite band is\", myFavouriteBand)"
      ],
      "execution_count": null,
      "outputs": [
        {
          "name": "stdout",
          "output_type": "stream",
          "text": [
            "AC/DC's rating is:  10.0\n",
            "Deep Purple's rating is:  0.0\n"
          ]
        },
        {
          "ename": "NameError",
          "evalue": "name 'myFavouriteBand' is not defined",
          "output_type": "error",
          "traceback": [
            "\u001b[0;31m---------------------------------------------------------------------------\u001b[0m",
            "\u001b[0;31mNameError\u001b[0m                                 Traceback (most recent call last)",
            "\u001b[0;32m/tmp/ipykernel_63/1053098295.py\u001b[0m in \u001b[0;36m<module>\u001b[0;34m\u001b[0m\n\u001b[1;32m     14\u001b[0m \u001b[0mprint\u001b[0m\u001b[0;34m(\u001b[0m\u001b[0;34m\"AC/DC's rating is: \"\u001b[0m\u001b[0;34m,\u001b[0m \u001b[0mgetBandRating\u001b[0m\u001b[0;34m(\u001b[0m\u001b[0;34m\"AC/DC\"\u001b[0m\u001b[0;34m)\u001b[0m\u001b[0;34m)\u001b[0m\u001b[0;34m\u001b[0m\u001b[0;34m\u001b[0m\u001b[0m\n\u001b[1;32m     15\u001b[0m \u001b[0mprint\u001b[0m\u001b[0;34m(\u001b[0m\u001b[0;34m\"Deep Purple's rating is: \"\u001b[0m\u001b[0;34m,\u001b[0m \u001b[0mgetBandRating\u001b[0m\u001b[0;34m(\u001b[0m\u001b[0;34m\"Deep Purple\"\u001b[0m\u001b[0;34m)\u001b[0m\u001b[0;34m)\u001b[0m\u001b[0;34m\u001b[0m\u001b[0;34m\u001b[0m\u001b[0m\n\u001b[0;32m---> 16\u001b[0;31m \u001b[0mprint\u001b[0m\u001b[0;34m(\u001b[0m\u001b[0;34m\"My favourite band is\"\u001b[0m\u001b[0;34m,\u001b[0m \u001b[0mmyFavouriteBand\u001b[0m\u001b[0;34m)\u001b[0m\u001b[0;34m\u001b[0m\u001b[0;34m\u001b[0m\u001b[0m\n\u001b[0m",
            "\u001b[0;31mNameError\u001b[0m: name 'myFavouriteBand' is not defined"
          ]
        }
      ]
    },
    {
      "cell_type": "markdown",
      "metadata": {
        "id": "9GILqhXQp2bC"
      },
      "source": [
        "Finally, take a look at this example. We now have two <code>myFavouriteBand</code> variable definitions. The first one of these has a global scope, and the second of them is a local variable within the <code>getBandRating</code> function. Within the <code>getBandRating</code> function, the local variable takes precedence. **Deep Purple** will receive a rating of 10.0 when passed to the <code>getBandRating</code> function. However, outside of the <code>getBandRating</code> function, the <code>getBandRating</code> s local variable is not defined, so the <code>myFavouriteBand</code> variable we print is the global variable, which has a value of **AC/DC**:\n"
      ]
    },
    {
      "cell_type": "code",
      "metadata": {
        "id": "CkLf8GsLp2bC",
        "outputId": "b2c3c22c-417f-488e-da50-637ecd8d9df7"
      },
      "source": [
        "# Example of global variable and local variable with the same name\n",
        "\n",
        "myFavouriteBand = \"AC/DC\"\n",
        "\n",
        "def getBandRating(bandname):\n",
        "    myFavouriteBand = \"Deep Purple\"\n",
        "    if bandname == myFavouriteBand:\n",
        "        return 10.0\n",
        "    else:\n",
        "        return 0.0\n",
        "\n",
        "print(\"AC/DC's rating is:\",getBandRating(\"AC/DC\"))\n",
        "print(\"Deep Purple's rating is: \",getBandRating(\"Deep Purple\"))\n",
        "print(\"My favourite band is:\",myFavouriteBand)"
      ],
      "execution_count": null,
      "outputs": [
        {
          "name": "stdout",
          "output_type": "stream",
          "text": [
            "AC/DC's rating is: 0.0\n",
            "Deep Purple's rating is:  10.0\n",
            "My favourite band is: AC/DC\n"
          ]
        }
      ]
    },
    {
      "cell_type": "markdown",
      "metadata": {
        "id": "HSPh9CJsp2bD"
      },
      "source": [
        "<hr>\n",
        "<h2 id =\"collec\"> Collections and Functions</h2>\n"
      ]
    },
    {
      "cell_type": "markdown",
      "metadata": {
        "id": "HQbEuja9p2bE"
      },
      "source": [
        "When the number of arguments  are unknown for a function, They can all be packed into a tuple as shown:\n"
      ]
    },
    {
      "cell_type": "code",
      "metadata": {
        "id": "cOMpash0p2bE",
        "colab": {
          "base_uri": "https://localhost:8080/"
        },
        "outputId": "50841305-a1a5-4684-f53f-4ab2847d16aa"
      },
      "source": [
        "def printAll(*args): # All the arguments are 'packed' into args which can be treated like a tuple\n",
        "    print(\"No of arguments:\", len(args)) \n",
        "    for argument in args:\n",
        "        print(argument)\n",
        "#printAll with 3 arguments\n",
        "printAll('Horsefeather','Adonis','Bone')\n",
        "#printAll with 4 arguments\n",
        "printAll('Sidecar','Long Island','Mudslide','Carriage')\n",
        "# testing-->*args is only good for direct input of tuple/list/dict arguments\n",
        "printAll(TestingL)"
      ],
      "execution_count": 16,
      "outputs": [
        {
          "output_type": "stream",
          "name": "stdout",
          "text": [
            "No of arguments: 3\n",
            "Horsefeather\n",
            "Adonis\n",
            "Bone\n",
            "No of arguments: 4\n",
            "Sidecar\n",
            "Long Island\n",
            "Mudslide\n",
            "Carriage\n",
            "No of arguments: 1\n",
            "('Sidecar', 'Long Island', 'Mudslide', 'Carriage')\n"
          ]
        }
      ]
    },
    {
      "cell_type": "code",
      "metadata": {
        "colab": {
          "base_uri": "https://localhost:8080/"
        },
        "id": "VP9ZbYBZAQjz",
        "outputId": "3ff3a2bb-9609-43e0-81d9-76ac7163fafd"
      },
      "source": [
        "TestingL = ('Sidecar','Long Island','Mudslide','Carriage')\n",
        "print(TestingL)\n",
        "print(len(TestingL))\n",
        "\n",
        "def printAll2(*args):\n",
        "  print(\"Testing out for practice:\", len(args))\n",
        "  for title in args:\n",
        "    print(title)\n",
        "\n",
        "printAll2(TestingL) # for some reason the tuple is treated as one index length, thats why the print is in the same row\n",
        "printAll2('Sidecar','Long Island','Mudslide','Carriage')"
      ],
      "execution_count": 7,
      "outputs": [
        {
          "output_type": "stream",
          "name": "stdout",
          "text": [
            "('Sidecar', 'Long Island', 'Mudslide', 'Carriage')\n",
            "4\n",
            "Testing out for practice: 1\n",
            "('Sidecar', 'Long Island', 'Mudslide', 'Carriage')\n",
            "Testing out for practice: 4\n",
            "Sidecar\n",
            "Long Island\n",
            "Mudslide\n",
            "Carriage\n"
          ]
        }
      ]
    },
    {
      "cell_type": "code",
      "metadata": {
        "colab": {
          "base_uri": "https://localhost:8080/"
        },
        "id": "QI24SnvluxyC",
        "outputId": "188d31ba-1e2c-4a88-9bae-e4f4bbb5fcc2"
      },
      "source": [
        "def printAll3(TestingL):\n",
        "  print(\"Another test using the Tuple name inside input brackets; index length:\", len(TestingL))\n",
        "  for test1 in TestingL:\n",
        "    print(test1)\n",
        "\n",
        "printAll3(TestingL) # when using *args as input in my test, it treats it as 1 index length, this however works...hmm\n",
        "printAll(TestingL) # ok I think the reason why *args puts my predefined list as index length one is, that *args can be used for not previously defined lists -\n",
        "                  #--> basically when you input all the lists item into the function later on e.g. printAll('Sidecar','Long Island','Mudslide','Carriage')"
      ],
      "execution_count": 15,
      "outputs": [
        {
          "output_type": "stream",
          "name": "stdout",
          "text": [
            "Another test using the Tuple name inside input brackets; index length: 4\n",
            "Sidecar\n",
            "Long Island\n",
            "Mudslide\n",
            "Carriage\n",
            "No of arguments: 1\n",
            "('Sidecar', 'Long Island', 'Mudslide', 'Carriage')\n"
          ]
        }
      ]
    },
    {
      "cell_type": "code",
      "metadata": {
        "colab": {
          "base_uri": "https://localhost:8080/"
        },
        "id": "pPDbr3fSuFwR",
        "outputId": "8e381517-22a9-48d3-f613-4db62c54d04a"
      },
      "source": [
        "type(('Sidecar','Long Island','Mudslide','Carriage'))"
      ],
      "execution_count": 4,
      "outputs": [
        {
          "output_type": "execute_result",
          "data": {
            "text/plain": [
              "tuple"
            ]
          },
          "metadata": {},
          "execution_count": 4
        }
      ]
    },
    {
      "cell_type": "markdown",
      "metadata": {
        "id": "_Lzn05i_p2bE"
      },
      "source": [
        "Similarly, The arguments can also be packed into a dictionary as shown:\n"
      ]
    },
    {
      "cell_type": "code",
      "metadata": {
        "id": "Qqkr4yixp2bF",
        "outputId": "345b751e-ad8e-4ce2-d0af-52690887c245"
      },
      "source": [
        "def printDictionary(**args):\n",
        "    for key in args:\n",
        "        print(key + \" : \" + args[key])\n",
        "\n",
        "printDictionary(Country='Canada',Province='Ontario',City='Toronto')\n",
        "    "
      ],
      "execution_count": null,
      "outputs": [
        {
          "name": "stdout",
          "output_type": "stream",
          "text": [
            "Country : Canada\n",
            "Province : Ontario\n",
            "City : Toronto\n"
          ]
        }
      ]
    },
    {
      "cell_type": "code",
      "metadata": {
        "colab": {
          "base_uri": "https://localhost:8080/"
        },
        "id": "jm4gXprbC6oW",
        "outputId": "864a5efc-1ff6-4b41-ad8f-4a62dfad299e"
      },
      "source": [
        "# Testing out if taking out \"args[key]\" will merely print the key variables instead of including the values\n",
        "def printDictionary2(**args):\n",
        "  for key in args:\n",
        "    print(key)\n",
        "printDictionary2(Country='Canada',Province='Ontario',City='Toronto')"
      ],
      "execution_count": 398,
      "outputs": [
        {
          "output_type": "stream",
          "name": "stdout",
          "text": [
            "Country\n",
            "Province\n",
            "City\n"
          ]
        }
      ]
    },
    {
      "cell_type": "code",
      "metadata": {
        "colab": {
          "base_uri": "https://localhost:8080/"
        },
        "id": "cqLAnrSHDiVr",
        "outputId": "93964f94-1fa2-437c-dbe1-47fc9161b5c8"
      },
      "source": [
        "# Testing out if only using \"args[key]\" in the print statement  will only print the values\n",
        "def printDictionary3(**args):\n",
        "  for key in args:\n",
        "    print(args[key])\n",
        "printDictionary3(Country='Canada',Province='Ontario',City='Toronto')"
      ],
      "execution_count": 400,
      "outputs": [
        {
          "output_type": "stream",
          "name": "stdout",
          "text": [
            "Canada\n",
            "Ontario\n",
            "Toronto\n"
          ]
        }
      ]
    },
    {
      "cell_type": "markdown",
      "metadata": {
        "id": "NHai39BiFO-p"
      },
      "source": [
        "#MY FINDINGS\n",
        "the <code>*</code> or `**` in args stands for the number of input variables. In the first default example above, the tuple is as follows: `('Sidecar','Long Island','Mudslide','Carriage')` --> basically: every index is merely seperated by **one**. In this case you use `*`. \\\n",
        "The other example above, the dictionary(?), has **two** \"variables\" per index:\n",
        "`(Country='Canada',Province='Ontario',City='Toronto')`. For example `Country='Canada'` --> so `Country` and `'Canada'`. In this case you use `**`"
      ]
    },
    {
      "cell_type": "markdown",
      "metadata": {
        "id": "DjlxCg-6p2bF"
      },
      "source": [
        "Functions can be incredibly powerful and versatile. They can accept (and return) data types, objects and even other functions as arguements. Consider the example below:\n"
      ]
    },
    {
      "cell_type": "code",
      "metadata": {
        "id": "D8HU2QUPp2bF",
        "outputId": "d03a631a-80b2-460d-9205-ae1dbe5cfa6f"
      },
      "source": [
        "def addItems(list):\n",
        "    list.append(\"Three\")\n",
        "    list.append(\"Four\")\n",
        "\n",
        "myList = [\"One\",\"Two\"]\n",
        "\n",
        "addItems(myList)\n",
        "\n",
        "myList\n",
        "    "
      ],
      "execution_count": null,
      "outputs": [
        {
          "data": {
            "text/plain": [
              "['One', 'Two', 'Three', 'Four']"
            ]
          },
          "execution_count": 123,
          "metadata": {},
          "output_type": "execute_result"
        }
      ]
    },
    {
      "cell_type": "code",
      "metadata": {
        "id": "o--ArJTzp2bF",
        "outputId": "823bc217-5bb2-4050-845b-7b69c77eb44b"
      },
      "source": [
        "myList = [\"One\",\"Two\"]\n",
        "myListadd = myList[:]\n",
        "addItems(myListadd)\n",
        "print(myList)\n",
        "print(myListadd)"
      ],
      "execution_count": null,
      "outputs": [
        {
          "name": "stdout",
          "output_type": "stream",
          "text": [
            "['One', 'Two']\n",
            "['One', 'Two', 'Three', 'Four']\n"
          ]
        }
      ]
    },
    {
      "cell_type": "markdown",
      "metadata": {
        "id": "g8XlKc5cp2bF"
      },
      "source": [
        "Note how the changes made to the list are not limited to the functions scope. This occurs as it is the lists **reference** that is passed to the function - Any changes made are on the orignal instance of the list. Therefore, one should be cautious when passing mutable objects into functions.\n",
        "\n",
        "<hr>\n"
      ]
    },
    {
      "cell_type": "markdown",
      "metadata": {
        "id": "bhvdzO9yp2bG"
      },
      "source": [
        "<h2>Quiz on Functions</h2>\n"
      ]
    },
    {
      "cell_type": "markdown",
      "metadata": {
        "id": "61ELNPjLp2bG"
      },
      "source": [
        "Come up with a function that divides the first input by the second input:\n"
      ]
    },
    {
      "cell_type": "code",
      "metadata": {
        "id": "n-PAGqsip2bG",
        "colab": {
          "base_uri": "https://localhost:8080/"
        },
        "outputId": "a8201084-ff2c-4e6f-969d-486424e20ca2"
      },
      "source": [
        "# Write your code below and press Shift+Enter to execute\n",
        "def Divi(a,b):\n",
        "    c=a/b\n",
        "    print(c)\n",
        "    return(c)\n",
        "\n",
        "Divi(4,2)"
      ],
      "execution_count": 39,
      "outputs": [
        {
          "output_type": "stream",
          "name": "stdout",
          "text": [
            "2.0\n"
          ]
        },
        {
          "output_type": "execute_result",
          "data": {
            "text/plain": [
              "2.0"
            ]
          },
          "metadata": {},
          "execution_count": 39
        }
      ]
    },
    {
      "cell_type": "code",
      "metadata": {
        "id": "cwtuXlBtp2bG",
        "colab": {
          "base_uri": "https://localhost:8080/"
        },
        "outputId": "6731f98c-d52e-4def-ef11-4c97bc867275"
      },
      "source": [
        "def div(a,b):\n",
        "    return(a/b)\n",
        "\n",
        "div(8,4)"
      ],
      "execution_count": 40,
      "outputs": [
        {
          "output_type": "execute_result",
          "data": {
            "text/plain": [
              "2.0"
            ]
          },
          "metadata": {},
          "execution_count": 40
        }
      ]
    },
    {
      "cell_type": "markdown",
      "metadata": {
        "id": "H97WcPnUp2bI"
      },
      "source": [
        "<details><summary>Click here for the solution</summary>\n",
        "\n",
        "```python\n",
        "def div(a, b):\n",
        "    return(a/b)\n",
        "    \n",
        "```\n",
        "\n",
        "</details>\n"
      ]
    },
    {
      "cell_type": "markdown",
      "metadata": {
        "id": "J_jZL_dop2bI"
      },
      "source": [
        "<hr>\n"
      ]
    },
    {
      "cell_type": "markdown",
      "metadata": {
        "id": "HvMZcSJap2bI"
      },
      "source": [
        "Use the function <code>con</code> for the following question.\n"
      ]
    },
    {
      "cell_type": "code",
      "metadata": {
        "id": "pw5E1Of2p2bJ"
      },
      "source": [
        "# Use the con function for the following question\n",
        "\n",
        "def con(a, b):\n",
        "    return(a + b)"
      ],
      "execution_count": null,
      "outputs": []
    },
    {
      "cell_type": "markdown",
      "metadata": {
        "id": "jbUUr57mp2bJ"
      },
      "source": [
        "Can the <code>con</code> function we defined before be used to add two integers or strings?\n"
      ]
    },
    {
      "cell_type": "code",
      "metadata": {
        "id": "ch4MFq6dp2bJ",
        "outputId": "92450f0f-bd04-4302-e890-413f0937e04a"
      },
      "source": [
        "# Write your code below and press Shift+Enter to execute\n",
        "print(\"yes\")\n",
        "print(con(2,2))\n",
        "print(con(\"Hello \", \"there\"))"
      ],
      "execution_count": null,
      "outputs": [
        {
          "name": "stdout",
          "output_type": "stream",
          "text": [
            "yes\n",
            "4\n",
            "Hello there\n"
          ]
        }
      ]
    },
    {
      "cell_type": "markdown",
      "metadata": {
        "id": "bvWkwu_Cp2bJ"
      },
      "source": [
        "<details><summary>Click here for the solution</summary>\n",
        "\n",
        "```python\n",
        "Yes, for example: \n",
        "con(2, 2)\n",
        "    \n",
        "```\n",
        "\n",
        "</details>\n"
      ]
    },
    {
      "cell_type": "markdown",
      "metadata": {
        "id": "ev0VHOwMp2bJ"
      },
      "source": [
        "<hr>\n"
      ]
    },
    {
      "cell_type": "markdown",
      "metadata": {
        "id": "dlnXTMMep2bK"
      },
      "source": [
        "Can the <code>con</code> function we defined before be used to concatenate lists or tuples?\n"
      ]
    },
    {
      "cell_type": "code",
      "metadata": {
        "id": "gNW-g-OPp2bK",
        "outputId": "ebe2a9b9-8664-451b-acc6-f6a6866f5247"
      },
      "source": [
        "# Write your code below and press Shift+Enter to execute\n",
        "con([\"a\",2],[\"b\",3])"
      ],
      "execution_count": null,
      "outputs": [
        {
          "data": {
            "text/plain": [
              "['a', 2, 'b', 3]"
            ]
          },
          "execution_count": 141,
          "metadata": {},
          "output_type": "execute_result"
        }
      ]
    },
    {
      "cell_type": "markdown",
      "metadata": {
        "id": "py0Xd8Slp2bK"
      },
      "source": [
        "<details><summary>Click here for the solution</summary>\n",
        "\n",
        "```python\n",
        "Yes, for example: \n",
        "con(['a', 1], ['b', 1])\n",
        "    \n",
        "```\n",
        "\n",
        "</details>\n"
      ]
    },
    {
      "cell_type": "markdown",
      "metadata": {
        "id": "5kwFhnSQBfBL"
      },
      "source": [
        "# Own experiments"
      ]
    },
    {
      "cell_type": "code",
      "metadata": {
        "colab": {
          "base_uri": "https://localhost:8080/"
        },
        "id": "Oj1Q0Ye1Bk3F",
        "outputId": "5a924283-1773-4b85-e774-86590c681985"
      },
      "source": [
        "def add2(a):\n",
        "  \"\"\"add 5 to a\"\"\"\n",
        "  b = a + 3\n",
        "  print(a, \"if you add 3\", b)\n",
        "  return(b)\n",
        "  \n",
        "add2(5)"
      ],
      "execution_count": null,
      "outputs": [
        {
          "output_type": "stream",
          "name": "stdout",
          "text": [
            "5 if you add 3 8\n"
          ]
        },
        {
          "output_type": "execute_result",
          "data": {
            "text/plain": [
              "8"
            ]
          },
          "metadata": {},
          "execution_count": 14
        }
      ]
    },
    {
      "cell_type": "code",
      "metadata": {
        "id": "gX7zSobFJKXN"
      },
      "source": [
        "def equation2(x,y):\n",
        "  z = x * 2 + y / 5 - 3\n",
        "  if z <= 0:\n",
        "    z1 = 0\n",
        "    print(\"the result was less than 0:\", z)\n",
        "  else:\n",
        "    z1 = 1\n",
        "    print(\"the result is larger than 0:\", z)\n",
        "  print(\"calculations complete\")\n",
        "  return(z1)\n",
        "\n",
        "  "
      ],
      "execution_count": 36,
      "outputs": []
    },
    {
      "cell_type": "code",
      "metadata": {
        "colab": {
          "base_uri": "https://localhost:8080/"
        },
        "id": "5oe0Ik1TRR4p",
        "outputId": "2b5e9765-992c-4fac-80f8-0e8a4b786292"
      },
      "source": [
        "equation2(5,5)"
      ],
      "execution_count": 37,
      "outputs": [
        {
          "output_type": "stream",
          "name": "stdout",
          "text": [
            "the result is larger than 0: 8.0\n",
            "calculations complete\n"
          ]
        },
        {
          "output_type": "execute_result",
          "data": {
            "text/plain": [
              "1"
            ]
          },
          "metadata": {},
          "execution_count": 37
        }
      ]
    },
    {
      "cell_type": "code",
      "metadata": {
        "colab": {
          "base_uri": "https://localhost:8080/"
        },
        "id": "azXjL9NpQwxJ",
        "outputId": "f449a10f-6d12-422e-ffcd-b57e7c9f9017"
      },
      "source": [
        "w1 = -23\n",
        "v2 = 51\n",
        "equation2(w1,v2)"
      ],
      "execution_count": 38,
      "outputs": [
        {
          "output_type": "stream",
          "name": "stdout",
          "text": [
            "the result was less than 0: -38.8\n",
            "calculations complete\n"
          ]
        },
        {
          "output_type": "execute_result",
          "data": {
            "text/plain": [
              "0"
            ]
          },
          "metadata": {},
          "execution_count": 38
        }
      ]
    },
    {
      "cell_type": "code",
      "metadata": {
        "id": "XeHbOUUNTzyR"
      },
      "source": [
        "def div3(a,b):\n",
        "  try:\n",
        "    a/b\n",
        "  except ZeroDivisionError:\n",
        "    print(\"The number you provided can't divide\", a, \"because it is 0\")\n",
        "  except ValueError:\n",
        "    print(\"You did not provide a number\")\n",
        "  except:\n",
        "    print(\"Something went wrong\")\n",
        "  else:\n",
        "    return(print(\"Quotation of\", a, \"divided by\", b, \"is:\", a/b))\n",
        "  finally:\n",
        "    print(\"Calculation Complete\")\n",
        "  \n",
        "\n"
      ],
      "execution_count": 104,
      "outputs": []
    },
    {
      "cell_type": "code",
      "metadata": {
        "colab": {
          "base_uri": "https://localhost:8080/"
        },
        "id": "CRXwCwUNUDCS",
        "outputId": "793c01f3-f826-4573-98a6-bca66c0791d3"
      },
      "source": [
        "div3(4,8)"
      ],
      "execution_count": 105,
      "outputs": [
        {
          "output_type": "stream",
          "name": "stdout",
          "text": [
            "Quotation of 4 divided by 8 is: 0.5\n",
            "Calculation Complete\n"
          ]
        }
      ]
    },
    {
      "cell_type": "code",
      "metadata": {
        "colab": {
          "base_uri": "https://localhost:8080/"
        },
        "id": "K-3NjVu5bYA6",
        "outputId": "8e0671cf-12f2-409a-d71d-51054f3c89ab"
      },
      "source": [
        "def add3(a,b):\n",
        "  a+b\n",
        "  return(print(\"The sum of\", a, \"and\", b, \"is:\", a+b))\n",
        "\n",
        "add3(5,6)"
      ],
      "execution_count": 107,
      "outputs": [
        {
          "output_type": "stream",
          "name": "stdout",
          "text": [
            "The sum of 5 and 6 is: 11\n"
          ]
        }
      ]
    },
    {
      "cell_type": "code",
      "metadata": {
        "id": "Lz4FIA84c4DN"
      },
      "source": [
        "def mult(a,b):\n",
        "  if isinstance(a, str) or isinstance(b, str):\n",
        "    print(\"No string values please\")\n",
        "  else:\n",
        "    try:\n",
        "      a*b\n",
        "    except ValueError:\n",
        "      print(\"You did not provide a number\")\n",
        "    except NameError:\n",
        "      print(\"The name/s you provided are not defined\")\n",
        "    except:\n",
        "      print(\"Oops, something went wrong\")\n",
        "    else:\n",
        "      return(print(\"The product of\", a, \"and\", b, \"is:\", a*b))\n",
        "    finally:\n",
        "      print(\"Calculation Complete\")"
      ],
      "execution_count": 147,
      "outputs": []
    },
    {
      "cell_type": "code",
      "metadata": {
        "colab": {
          "base_uri": "https://localhost:8080/"
        },
        "id": "UE07EyaKdxpb",
        "outputId": "492960be-78ca-4910-b250-5a0efa3cfc06"
      },
      "source": [
        "mult(3,35)"
      ],
      "execution_count": 142,
      "outputs": [
        {
          "output_type": "stream",
          "name": "stdout",
          "text": [
            "The product of 3 and 35 is: 105\n",
            "Calculation Complete\n"
          ]
        }
      ]
    },
    {
      "cell_type": "code",
      "metadata": {
        "id": "_z3UiIWhfU1F"
      },
      "source": [
        "def mult1(a,b):\n",
        "  if type(a) == str or type(b) == str:\n",
        "    print(\"No string values please\")\n",
        "  elif float(type(a)) == float or float(type(b)):\n",
        "    a*b\n",
        "  else:\n",
        "    try:\n",
        "      a*b\n",
        "    except ValueError:\n",
        "      print(\"You did not provide a number\")\n",
        "    except NameError:\n",
        "      print(\"The name/s you provided are not defined\")\n",
        "    except:\n",
        "      print(\"Oops, something went wrong\")\n",
        "    else:\n",
        "      return(print(\"The product of\", a, \"and\", b, \"is:\", a*b))\n",
        "    finally:\n",
        "      print(\"Calculation Complete\")"
      ],
      "execution_count": 169,
      "outputs": []
    },
    {
      "cell_type": "code",
      "metadata": {
        "colab": {
          "base_uri": "https://localhost:8080/"
        },
        "id": "Hj5Gm1CuhedZ",
        "outputId": "44d10a28-c255-4adf-e713-d7fd9a861897"
      },
      "source": [
        "mult1(2,\"5\")"
      ],
      "execution_count": 170,
      "outputs": [
        {
          "output_type": "stream",
          "name": "stdout",
          "text": [
            "No string values please\n"
          ]
        }
      ]
    },
    {
      "cell_type": "code",
      "metadata": {
        "colab": {
          "base_uri": "https://localhost:8080/"
        },
        "id": "sq4KejmVh1mR",
        "outputId": "ef505324-7e05-429f-ec12-134825ee2c6a"
      },
      "source": [
        "a2=2\n",
        "b2=\"hi\"\n",
        "if type(float(a2)) == float or type(float(b2)) == float:\n",
        "    try:\n",
        "      c2 = float(a2) + float(b2)\n",
        "      print(c2)\n",
        "    except ValueError:\n",
        "      print(\"No string values please or use numerical strings to have them casted to numerical values\")\n",
        "else:\n",
        "  c2 = a2 + b2\n",
        "  print(c2)\n",
        "print(\"done\")\n"
      ],
      "execution_count": 381,
      "outputs": [
        {
          "output_type": "stream",
          "name": "stdout",
          "text": [
            "No string values please or use numerical strings to have them casted to numerical values\n",
            "done\n"
          ]
        }
      ]
    },
    {
      "cell_type": "code",
      "metadata": {
        "colab": {
          "base_uri": "https://localhost:8080/"
        },
        "id": "18709y2gmDgB",
        "outputId": "dfbf544e-7d0d-4df2-caf1-1768461bfe2d"
      },
      "source": [
        "x3 = \"3\"\n",
        "x4 = 1\n",
        "print(\"x3 =\", type(x3), \"\\t\", \"x4 =\", type(x4))\n",
        "print(\"casting x3 with a possible numerical value with a string type to a float type\", type(float(x3)))\n",
        "print(\"Sum of x3 and x4:\", float(x3) + float(x4))"
      ],
      "execution_count": 214,
      "outputs": [
        {
          "output_type": "stream",
          "name": "stdout",
          "text": [
            "x3 = <class 'str'> \t x4 = <class 'int'>\n",
            "casting x3 with a possible numerical value with a string type to a float type <class 'float'>\n",
            "Sum of x3 and x4: 4.0\n"
          ]
        }
      ]
    },
    {
      "cell_type": "code",
      "metadata": {
        "id": "hUvqcLKyp591"
      },
      "source": [
        "# Successfully converting numericals strings into floats if thats the case to continue the calculations. If the string is non-numerical an except-error is displayed\n",
        "\n",
        "def equation4(a,b):\n",
        "  if type(float(a)) == float or type(float(b)) == float:\n",
        "    try:\n",
        "      c = (float(a) * float(b) + 1) / 2\n",
        "    except ValueError:\n",
        "      print(\"No string values please or use numerical strings to have them casted to numerical values\")\n",
        "    except NameError:\n",
        "      print(\"The name/s you provided are not defined\")\n",
        "    except:\n",
        "      print(\"Oops, something went wrong!\")\n",
        "    else:\n",
        "      print(\"If statement result: The result of the equation with the input variables of\", a, \"and\", b,\"is:\", c)\n",
        "    finally:\n",
        "      print(\"Calculations complete!\")      \n",
        "  else:\n",
        "    try:\n",
        "      c = (float(a) * float(b) + 1) / 2\n",
        "    except ValueError:\n",
        "      print(\"You did not provide a number\")\n",
        "    except NameError:\n",
        "      print(\"The name/s you provided are not defined\")\n",
        "    except:\n",
        "      print(\"Oops, something went wrong!\")\n",
        "    else:\n",
        "      print(\"Else statement result: The result of the equation with the input variables of\", a, \"and\", b,\"is:\", c)\n",
        "    finally:\n",
        "      print(\"Calculations complete!\")\n",
        "  print(\"Good bye\")"
      ],
      "execution_count": 375,
      "outputs": []
    },
    {
      "cell_type": "code",
      "metadata": {
        "colab": {
          "base_uri": "https://localhost:8080/"
        },
        "id": "0pIeFL-EsmI9",
        "outputId": "2e76f5c5-6821-4d06-82c2-f380694bba07"
      },
      "source": [
        "# Testing out equation4, which converts numerical strings to floats in order to continue the calculations\n",
        "\n",
        "print(equation4(5,3))\n",
        "print(equation4(3,\"5\"))"
      ],
      "execution_count": 316,
      "outputs": [
        {
          "output_type": "stream",
          "name": "stdout",
          "text": [
            "If statement result: The result of the equation with the input variables of 5 and 3 is: 8.0\n",
            "Calculations complete!\n",
            "Good bye\n",
            "None\n",
            "If statement result: The result of the equation with the input variables of 3 and 5 is: 8.0\n",
            "Calculations complete!\n",
            "Good bye\n",
            "None\n"
          ]
        }
      ]
    },
    {
      "cell_type": "code",
      "metadata": {
        "colab": {
          "base_uri": "https://localhost:8080/"
        },
        "id": "5e1w_Jxvun8i",
        "outputId": "7572fd77-b3ef-4bce-eb52-3720f1bfead6"
      },
      "source": [
        "# the quotation marks \"\" of variables inside the print command do not display the quotation marks\n",
        "\n",
        "a3=\"hi\"\n",
        "print(\"this is\", a3)\n",
        "print(\"this is\", \"'\",a3,\"'\")"
      ],
      "execution_count": 317,
      "outputs": [
        {
          "output_type": "stream",
          "name": "stdout",
          "text": [
            "this is hi\n",
            "this is ' hi '\n"
          ]
        }
      ]
    },
    {
      "cell_type": "code",
      "metadata": {
        "id": "OKy9ZAfNqjdA"
      },
      "source": [
        "# preparing this equation in order to put it into equation5 which is basically the optimized version of equation 4, while replacing the manual equation -\n",
        "#--> that is inside of equation4 with \"equation3\"-->I wonder what happens if equation5 happens to include string values as variables\n",
        "\n",
        "def equation3(a,b):\n",
        "  c = (1 + a * 3 + 2)/2 + (2 + b / 0.5 - 1 * 3)\n",
        "  return(c)"
      ],
      "execution_count": 32,
      "outputs": []
    },
    {
      "cell_type": "code",
      "metadata": {
        "colab": {
          "base_uri": "https://localhost:8080/"
        },
        "id": "8_ZJSP3kqsQw",
        "outputId": "f3058bf3-f73f-4470-f4bf-38617d3933be"
      },
      "source": [
        "print(equation3(2,3))\n",
        "print(type(equation3(2,3)))\n",
        "print(int(equation3(2,3)))\n",
        "print(type(int(equation3(2,3))))\n"
      ],
      "execution_count": 356,
      "outputs": [
        {
          "output_type": "stream",
          "name": "stdout",
          "text": [
            "9.5\n",
            "<class 'float'>\n",
            "9\n",
            "<class 'int'>\n"
          ]
        }
      ]
    },
    {
      "cell_type": "code",
      "metadata": {
        "id": "PLqZ8WpszBF0"
      },
      "source": [
        "# equation5 is like equation4 but instead of using a manual equation it makes use of another predefined equation \"equation3\"\n",
        "\n",
        "def equation5(a,b):\n",
        "  if type(float(a)) == float or type(float(b)) == float:\n",
        "    try:\n",
        "      a = float(a)\n",
        "      b = float(b)\n",
        "      c = equation3(a,b)\n",
        "    except ValueError:\n",
        "      print(\"No string values please or use numerical strings to have them casted to numerical values\")\n",
        "    except NameError:\n",
        "      print(\"The name/s you provided are not defined\")\n",
        "    except:\n",
        "      print(\"Oops, something went wrong!\")\n",
        "    else:\n",
        "      print(\"If statement result: The result of the equation with the input variables of\", a, \"and\", b,\"is:\", c)\n",
        "    finally:\n",
        "      print(\"Calculations complete!\")      \n",
        "  else:\n",
        "    try:\n",
        "      c = equation3(a,b)\n",
        "    except ValueError:\n",
        "      print(\"Else: You did not provide a number\")\n",
        "    except NameError:\n",
        "      print(\"Else: The name/s you provided are not defined\")\n",
        "    except:\n",
        "      print(\"Else: Oops, something went wrong!\")\n",
        "    else:\n",
        "      print(\"Else statement result: The result of the equation with the input variables of\", a, \"and\", b,\"is:\", c)\n",
        "    finally:\n",
        "      print(\"Else: Calculations complete!\")\n",
        "  print(\"Good bye\")"
      ],
      "execution_count": 33,
      "outputs": []
    },
    {
      "cell_type": "code",
      "metadata": {
        "colab": {
          "base_uri": "https://localhost:8080/"
        },
        "id": "KYFZanNrzWMc",
        "outputId": "a663cfa3-b428-4ef8-9656-1d3ff77bd4f8"
      },
      "source": [
        "# Testing out different scenarios for equation5\n",
        "print(equation5(2,3))\n",
        "print(equation5(2,\"hi\"))\n",
        "print(equation5(2,\"3\"))"
      ],
      "execution_count": 34,
      "outputs": [
        {
          "output_type": "stream",
          "name": "stdout",
          "text": [
            "If statement result: The result of the equation with the input variables of 2.0 and 3.0 is: 9.5\n",
            "Calculations complete!\n",
            "Good bye\n",
            "None\n",
            "No string values please or use numerical strings to have them casted to numerical values\n",
            "Calculations complete!\n",
            "Good bye\n",
            "None\n",
            "If statement result: The result of the equation with the input variables of 2.0 and 3.0 is: 9.5\n",
            "Calculations complete!\n",
            "Good bye\n",
            "None\n"
          ]
        }
      ]
    },
    {
      "cell_type": "code",
      "metadata": {
        "id": "brKj40KdzyBz"
      },
      "source": [
        "#trying out massively modified and optimized version of equation5 with input fields and a string converter to floats and an ValueError exception incase non-numeric strings are entered as input-->equation6\n",
        "\n",
        "def equation6():\n",
        "  a = input(\"Enter variable a \")\n",
        "  b = input(\"Enter variable b \")\n",
        "  print(a)\n",
        "  print(b)\n",
        "  print(type(a))\n",
        "  print(type(b))\n",
        "  try:\n",
        "    a = float(str(a).replace('\"',\"\"))\n",
        "    b = float(str(b).replace('\"',\"\"))\n",
        "    print(\" Type of variable a:\", type(a), \"\\n\", \"Type of variable b:\", type(b))\n",
        "    c = equation3(a,b)\n",
        "  except ZeroDivisionError:\n",
        "    print(\"Can't divide by 0. Variable 'b' may not be 0\")\n",
        "  except ValueError:\n",
        "    print(\"No string values please or use numerical strings to have them casted to numerical values\")\n",
        "  except NameError:\n",
        "    print(\"The name/s you provided are not defined\")\n",
        "  except:\n",
        "    print(\"Sorry, it seems like something went wrong\")\n",
        "  else:\n",
        "    print(\"Results of the equation with the input variables a and b =\",c)\n",
        "  finally:\n",
        "    print(\"Calculation complete!\")\n",
        "  print(\"Bye bye\")\n",
        "  "
      ],
      "execution_count": 228,
      "outputs": []
    },
    {
      "cell_type": "code",
      "metadata": {
        "colab": {
          "base_uri": "https://localhost:8080/"
        },
        "id": "bnjTgfHs1dAJ",
        "outputId": "8d28b9aa-03c5-435e-cef4-fc05d003e140"
      },
      "source": [
        "equation6()"
      ],
      "execution_count": 230,
      "outputs": [
        {
          "output_type": "stream",
          "name": "stdout",
          "text": [
            "Enter variable a hi\n",
            "Enter variable b 3\n",
            "hi\n",
            "3\n",
            "<class 'str'>\n",
            "<class 'str'>\n",
            "No string values please or use numerical strings to have them casted to numerical values\n",
            "Calculation complete!\n",
            "Bye bye\n"
          ]
        }
      ]
    },
    {
      "cell_type": "code",
      "metadata": {
        "colab": {
          "base_uri": "https://localhost:8080/"
        },
        "id": "xM7cpOyL-E8H",
        "outputId": "23ec7130-f9e8-4a65-9cd2-f0d87747e585"
      },
      "source": [
        "a = input(\"a\")\n",
        "b = input(\"b\")\n",
        "\n",
        "print(type(a))\n",
        "print(type(b))\n",
        "print(a)\n",
        "print(b)\n",
        "#a1 = float(str(a).replace('\"', \"\"))\n",
        "#b1 = float(str(b).replace('\"', \"\"))\n",
        "\n",
        "#print(type(a1))\n",
        "#print(type(b1))\n",
        "#print(a1)\n",
        "#print(b1)\n",
        "\n",
        "#print(a1 + b1)\n",
        "\n",
        "if type(a) == str or type(b) == str:\n",
        "  try:\n",
        "    a = float(str(a).replace('\"', \"\"))\n",
        "    b = float(str(b).replace('\"', \"\"))\n",
        "    c = a*b\n",
        "  except ZeroDivisionError:\n",
        "    print(\"if: cant divide by 0\")\n",
        "  else:\n",
        "    print(\"if: solution is:\", c)\n",
        "  finally:\n",
        "    print(\"calc complete\")\n",
        "else:\n",
        "  try:\n",
        "    c = a*b\n",
        "  except ZeroDivisionError:\n",
        "    print(\"else: cant divide by 0\")\n",
        "  else:\n",
        "    print(\"else: solution is:\", c)\n",
        "  finally:\n",
        "    print(\"calc complete\")\n",
        "print(\"done\")\n",
        "\n",
        "#if type(a1) == map or type(b1) == map:\n",
        " # a2 = float(a1)\n",
        "  #b2 = float(b1)\n",
        "  #c = a2*b2+1\n",
        "  #print(\"Solution is: \", c)\n",
        "#else:\n",
        "  #print(\"f it\")\n",
        "\n"
      ],
      "execution_count": 172,
      "outputs": [
        {
          "output_type": "stream",
          "name": "stdout",
          "text": [
            "a\"2\"\n",
            "b3\n",
            "<class 'str'>\n",
            "<class 'str'>\n",
            "\"2\"\n",
            "3\n",
            "if: solution is: 6.0\n",
            "calc complete\n",
            "done\n"
          ]
        }
      ]
    },
    {
      "cell_type": "code",
      "metadata": {
        "colab": {
          "base_uri": "https://localhost:8080/"
        },
        "id": "sLS8w0eV6dFk",
        "outputId": "c09e65e3-f63c-46ef-9898-cd72642bd383"
      },
      "source": [
        "\n",
        "int(\"2\")"
      ],
      "execution_count": 118,
      "outputs": [
        {
          "output_type": "execute_result",
          "data": {
            "text/plain": [
              "2"
            ]
          },
          "metadata": {},
          "execution_count": 118
        }
      ]
    },
    {
      "cell_type": "markdown",
      "metadata": {
        "id": "qpoQeh6up2bL"
      },
      "source": [
        "<hr>\n",
        "<h2>The last exercise!</h2>\n",
        "<p>Congratulations, you have completed your first lesson and hands-on lab in Python. However, there is one more thing you need to do. The Data Science community encourages sharing work. The best way to share and showcase your work is to share it on GitHub. By sharing your notebook on GitHub you are not only building your reputation with fellow data scientists, but you can also show it off when applying for a job. Even though this was your first piece of work, it is never too early to start building good habits. So, please read and follow <a href=\"https://cognitiveclass.ai/blog/data-scientists-stand-out-by-sharing-your-notebooks/?utm_medium=Exinfluencer&utm_source=Exinfluencer&utm_content=000026UJ&utm_term=10006555&utm_id=NA-SkillsNetwork-Channel-SkillsNetworkCoursesIBMDeveloperSkillsNetworkPY0101ENSkillsNetwork19487395-2021-01-01\" target=\"_blank\">this article</a> to learn how to share your work.\n",
        "<hr>\n"
      ]
    },
    {
      "cell_type": "markdown",
      "metadata": {
        "id": "GfYrMYL_p2bL"
      },
      "source": [
        "## Author\n",
        "\n",
        "<a href=\"https://www.linkedin.com/in/joseph-s-50398b136/?utm_medium=Exinfluencer&utm_source=Exinfluencer&utm_content=000026UJ&utm_term=10006555&utm_id=NA-SkillsNetwork-Channel-SkillsNetworkCoursesIBMDeveloperSkillsNetworkPY0101ENSkillsNetwork19487395-2021-01-01\" target=\"_blank\">Joseph Santarcangelo</a>\n",
        "\n",
        "## Other contributors\n",
        "\n",
        "<a href=\"https://www.linkedin.com/in/jiahui-mavis-zhou-a4537814a?utm_medium=Exinfluencer&utm_source=Exinfluencer&utm_content=000026UJ&utm_term=10006555&utm_id=NA-SkillsNetwork-Channel-SkillsNetworkCoursesIBMDeveloperSkillsNetworkPY0101ENSkillsNetwork19487395-2021-01-01\">Mavis Zhou</a>\n",
        "\n",
        "## Change Log\n",
        "\n",
        "| Date (YYYY-MM-DD) | Version | Changed By | Change Description                                                                                                     |\n",
        "| ----------------- | ------- | ---------- | ---------------------------------------------------------------------------------------------------------------------- |\n",
        "| 2021-04-13        | 0.3     | Malika     | Deleted exercise \"Probability Bag\"                                                                                     |\n",
        "| 2020-08-26        | 0.2     | Lavanya    | Moved lab to course repo in GitLab                                                                                     |\n",
        "| 2020 -09 -04      | 0.2     | Arjun      | Under What is a function, added code/text to further demonstrate the functionality of the return statement             |\n",
        "| 2020 -09 -04      | 0.2     | Arjun      | Under Global Variables, modify the code block to try and print ‘internal_var’ - So a nameError message can be observed |\n",
        "| 2020 -09 -04      | 0.2     | Arjun      | Added section Collections and Functions                                                                                |\n",
        "| 2020 -09 -04      | 0.2     | Arjun      | Added exercise “Probability Bag”                                                                                       |\n",
        "\n",
        "<hr/>\n",
        "\n",
        "## <h3 align=\"center\"> © IBM Corporation 2020. All rights reserved. <h3/>\n"
      ]
    }
  ]
}