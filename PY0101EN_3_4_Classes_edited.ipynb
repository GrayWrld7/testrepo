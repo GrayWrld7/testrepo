{
  "nbformat": 4,
  "nbformat_minor": 0,
  "metadata": {
    "kernelspec": {
      "display_name": "Python 3",
      "language": "python",
      "name": "python3"
    },
    "language_info": {
      "codemirror_mode": {
        "name": "ipython",
        "version": 3
      },
      "file_extension": ".py",
      "mimetype": "text/x-python",
      "name": "python",
      "nbconvert_exporter": "python",
      "pygments_lexer": "ipython3",
      "version": "3.7.6"
    },
    "colab": {
      "name": "PY0101EN-3-4-Classes-edited.ipynb",
      "provenance": [],
      "collapsed_sections": [
        "Z67LsXiYRkrL"
      ],
      "include_colab_link": true
    }
  },
  "cells": [
    {
      "cell_type": "markdown",
      "metadata": {
        "id": "view-in-github",
        "colab_type": "text"
      },
      "source": [
        "<a href=\"https://colab.research.google.com/github/GrayWrld7/testrepo/blob/master/PY0101EN_3_4_Classes_edited.ipynb\" target=\"_parent\"><img src=\"https://colab.research.google.com/assets/colab-badge.svg\" alt=\"Open In Colab\"/></a>"
      ]
    },
    {
      "cell_type": "markdown",
      "metadata": {
        "id": "LJMqItdJRkqe"
      },
      "source": [
        "<center>\n",
        "    <img src=\"https://cf-courses-data.s3.us.cloud-object-storage.appdomain.cloud/IBMDeveloperSkillsNetwork-PY0101EN-SkillsNetwork/IDSNlogo.png\" width=\"300\" alt=\"cognitiveclass.ai logo\"  />\n",
        "</center>\n",
        "\n",
        "# Classes and Objects in Python\n",
        "\n",
        "Estimated time needed: **40** minutes\n",
        "\n",
        "## Objectives\n",
        "\n",
        "After completing this lab you will be able to:\n",
        "\n",
        "*   Work with classes and objects\n",
        "*   Identify and define attributes and methods\n"
      ]
    },
    {
      "cell_type": "markdown",
      "metadata": {
        "id": "26cAvBbMRkqk"
      },
      "source": [
        "<h2>Table of Contents</h2>\n",
        "<div class=\"alert alert-block alert-info\" style=\"margin-top: 20px\">\n",
        "    <ul>\n",
        "        <li>\n",
        "            <a href=\"https://#intro\">Introduction to Classes and Objects</a>\n",
        "            <ul>\n",
        "                <li><a href=\"https://create/?utm_medium=Exinfluencer&utm_source=Exinfluencer&utm_content=000026UJ&utm_term=10006555&utm_id=NA-SkillsNetwork-Channel-SkillsNetworkCoursesIBMDeveloperSkillsNetworkPY0101ENSkillsNetwork19487395-2021-01-01\">Creating a class</a></li>\n",
        "                <li><a href=\"https://instance/?utm_medium=Exinfluencer&utm_source=Exinfluencer&utm_content=000026UJ&utm_term=10006555&utm_id=NA-SkillsNetwork-Channel-SkillsNetworkCoursesIBMDeveloperSkillsNetworkPY0101ENSkillsNetwork19487395-2021-01-01\">Instances of a Class: Objects and Attributes</a></li>\n",
        "                <li><a href=\"https://method/?utm_medium=Exinfluencer&utm_source=Exinfluencer&utm_content=000026UJ&utm_term=10006555&utm_id=NA-SkillsNetwork-Channel-SkillsNetworkCoursesIBMDeveloperSkillsNetworkPY0101ENSkillsNetwork19487395-2021-01-01\">Methods</a></li>\n",
        "            </ul>\n",
        "        </li>\n",
        "        <li><a href=\"https://creating/?utm_medium=Exinfluencer&utm_source=Exinfluencer&utm_content=000026UJ&utm_term=10006555&utm_id=NA-SkillsNetwork-Channel-SkillsNetworkCoursesIBMDeveloperSkillsNetworkPY0101ENSkillsNetwork19487395-2021-01-01\">Creating a class</a></li>\n",
        "        <li><a href=\"https://circle/?utm_medium=Exinfluencer&utm_source=Exinfluencer&utm_content=000026UJ&utm_term=10006555&utm_id=NA-SkillsNetwork-Channel-SkillsNetworkCoursesIBMDeveloperSkillsNetworkPY0101ENSkillsNetwork19487395-2021-01-01\">Creating an instance of a class Circle</a></li>\n",
        "        <li><a href=\"https://rect/?utm_medium=Exinfluencer&utm_source=Exinfluencer&utm_content=000026UJ&utm_term=10006555&utm_id=NA-SkillsNetwork-Channel-SkillsNetworkCoursesIBMDeveloperSkillsNetworkPY0101ENSkillsNetwork19487395-2021-01-01\">The Rectangle Class</a></li>\n",
        "    </ul>\n",
        "\n",
        "</div>\n",
        "\n",
        "<hr>\n"
      ]
    },
    {
      "cell_type": "markdown",
      "metadata": {
        "id": "Bdb1-tg1Rkqn"
      },
      "source": [
        "<h2 id=\"intro\">Introduction to Classes and Objects</h2>\n"
      ]
    },
    {
      "cell_type": "markdown",
      "metadata": {
        "id": "hGiz2erkRkqn"
      },
      "source": [
        "<h3>Creating a Class</h3>\n"
      ]
    },
    {
      "cell_type": "markdown",
      "metadata": {
        "id": "bxkaHFahRkqo"
      },
      "source": [
        "The first step in creating a class is giving it a name. In this notebook, we will create two classes: Circle and Rectangle. We need to determine all the data that make up that class, which we call <em>attributes</em>. Think about this step as creating a blue print that we will use to create objects. In figure 1 we see two classes, Circle and Rectangle. Each has their attributes, which are variables. The class Circle has the attribute radius and color, while the Rectangle class has the attribute height and width. Let’s use the visual examples of these shapes before we get to the code, as this will help you get accustomed to the vocabulary.\n"
      ]
    },
    {
      "cell_type": "markdown",
      "metadata": {
        "id": "Q2ztXQz3Rkqq"
      },
      "source": [
        "<img src=\"https://cf-courses-data.s3.us.cloud-object-storage.appdomain.cloud/IBMDeveloperSkillsNetwork-PY0101EN-SkillsNetwork/labs/Module%203/images/ClassesClass.png\" width=\"500\" />\n"
      ]
    },
    {
      "cell_type": "markdown",
      "metadata": {
        "id": "b3rjkgiZRkqs"
      },
      "source": [
        "<i>Figure 1: Classes circle and rectangle, and each has their own attributes. The class Circle has the attribute radius and colour, the class Rectangle has the attributes height and width.</i>\n"
      ]
    },
    {
      "cell_type": "markdown",
      "metadata": {
        "id": "PGV2Zt1pRkqs"
      },
      "source": [
        "<h3 id=\"instance\">Instances of a Class: Objects and Attributes</h3>\n"
      ]
    },
    {
      "cell_type": "markdown",
      "metadata": {
        "id": "Gm-cXmTPRkqt"
      },
      "source": [
        "An instance of an object is the realisation of a class, and in Figure 2 we see three instances of the class circle. We give each object a name: red circle, yellow circle, and green circle. Each object has different attributes, so let's focus on the color attribute for each object.\n"
      ]
    },
    {
      "cell_type": "markdown",
      "metadata": {
        "id": "aBy-4kIfRkqu"
      },
      "source": [
        "<img src=\"https://cf-courses-data.s3.us.cloud-object-storage.appdomain.cloud/IBMDeveloperSkillsNetwork-PY0101EN-SkillsNetwork/labs/Module%203/images/ClassesObj.png\" width=\"500\" />\n"
      ]
    },
    {
      "cell_type": "markdown",
      "metadata": {
        "id": "QBnEB6dZRkqv"
      },
      "source": [
        "<i>Figure 2: Three instances of the class Circle, or three objects of type Circle.</i>\n"
      ]
    },
    {
      "cell_type": "markdown",
      "metadata": {
        "id": "JElpHsGARkqv"
      },
      "source": [
        "The colour attribute for the red Circle is the colour red, for the green Circle object the colour attribute is green, and for the yellow Circle the colour attribute is yellow.\n"
      ]
    },
    {
      "cell_type": "markdown",
      "metadata": {
        "id": "gpjvVUfJRkqv"
      },
      "source": [
        "<h3 id=\"method\">Methods</h3>\n"
      ]
    },
    {
      "cell_type": "markdown",
      "metadata": {
        "id": "is7-LnQkRkqv"
      },
      "source": [
        "Methods give you a way to change or interact with the object; they are functions that interact with objects. For example, let’s say we would like to increase the radius of a circle by a specified amount. We can create a method called **add_radius(r)** that increases the radius by **r**. This is shown in figure 3, where after applying the method to the \"orange circle object\", the radius of the object increases accordingly. The “dot” notation means to apply the method to the object, which is essentially applying a function to the information in the object.\n"
      ]
    },
    {
      "cell_type": "markdown",
      "metadata": {
        "id": "YQKXj5HZRkqv"
      },
      "source": [
        "<img src=\"https://cf-courses-data.s3.us.cloud-object-storage.appdomain.cloud/IBMDeveloperSkillsNetwork-PY0101EN-SkillsNetwork/labs/Module%203/images/ClassesMethod.png\" width=\"500\" /> \n"
      ]
    },
    {
      "cell_type": "markdown",
      "metadata": {
        "id": "puOqYmWTRkqw"
      },
      "source": [
        "<i>Figure 3: Applying the method “add_radius” to the object orange circle object.</i>\n"
      ]
    },
    {
      "cell_type": "markdown",
      "metadata": {
        "id": "fU0sFqI5Rkqw"
      },
      "source": [
        "<hr>\n"
      ]
    },
    {
      "cell_type": "markdown",
      "metadata": {
        "id": "xdb3jpMXRkqx"
      },
      "source": [
        "<h2 id=\"creating\">Creating a Class</h2>\n"
      ]
    },
    {
      "cell_type": "markdown",
      "metadata": {
        "id": "qan7XCBQRkqx"
      },
      "source": [
        "Now we are going to create a class Circle, but first, we are going to import a library to draw the objects:\n"
      ]
    },
    {
      "cell_type": "code",
      "metadata": {
        "jupyter": {
          "outputs_hidden": true
        },
        "id": "VrhmLYxxRkqy"
      },
      "source": [
        "# Import the library\n",
        "\n",
        "import matplotlib.pyplot as plt\n",
        "%matplotlib inline  "
      ],
      "execution_count": 1,
      "outputs": []
    },
    {
      "cell_type": "code",
      "metadata": {
        "id": "CckeRKDefYS4"
      },
      "source": [
        "import matplotlib.pyplot as plt\n",
        "%matplotlib inline"
      ],
      "execution_count": null,
      "outputs": []
    },
    {
      "cell_type": "markdown",
      "metadata": {
        "id": "-Qhs6FhHRkq0"
      },
      "source": [
        "The first step in creating your own class is to use the <code>class</code> keyword, then the name of the class as shown in Figure 4. In this course the class parent will always be object:\n"
      ]
    },
    {
      "cell_type": "markdown",
      "metadata": {
        "id": "ayaNeugkRkq0"
      },
      "source": [
        "<img src=\"https://cf-courses-data.s3.us.cloud-object-storage.appdomain.cloud/IBMDeveloperSkillsNetwork-PY0101EN-SkillsNetwork/labs/Module%203/images/ClassesDefine.png\" width=\"400\" />\n"
      ]
    },
    {
      "cell_type": "markdown",
      "metadata": {
        "id": "mNAhk9wcRkq1"
      },
      "source": [
        "<i>Figure 4: Creating a class Circle.</i>\n"
      ]
    },
    {
      "cell_type": "markdown",
      "metadata": {
        "id": "Sk1Hx2W2Rkq1"
      },
      "source": [
        "The next step is a special method called a constructor <code>\\__init\\_\\_</code>, which is used to initialize the object. The inputs are data attributes. The term <code>self</code> contains all the attributes in the set. For example the <code>self.color</code> gives the value of the attribute color and <code>self.radius</code> will give you the radius of the object. We also have the method <code>add_radius()</code> with the parameter <code>r</code>, the method adds the value of <code>r</code> to the attribute radius. To access the radius we use the syntax <code>self.radius</code>. The labeled syntax is summarized in Figure 5:\n"
      ]
    },
    {
      "cell_type": "markdown",
      "metadata": {
        "id": "wflHIKVlRkq1"
      },
      "source": [
        "<img src=\"https://cf-courses-data.s3.us.cloud-object-storage.appdomain.cloud/IBMDeveloperSkillsNetwork-PY0101EN-SkillsNetwork/labs/Module%203/images/ClassesCircle.png\" width=\"600\" />\n"
      ]
    },
    {
      "cell_type": "markdown",
      "metadata": {
        "id": "X_lObXTXRkq2"
      },
      "source": [
        "<i>Figure 5: Labeled syntax of the object circle.</i>\n"
      ]
    },
    {
      "cell_type": "markdown",
      "metadata": {
        "id": "TQM-cKlNRkq2"
      },
      "source": [
        "The actual object is shown below. We include the method <code>drawCircle</code> to display the image of a circle. We set the default radius to 3 and the default colour to blue:\n"
      ]
    },
    {
      "cell_type": "code",
      "metadata": {
        "id": "7l8Uq-W-Rkq3"
      },
      "source": [
        "# Create a class Circle\n",
        "\n",
        "class Circle(object):\n",
        "    \n",
        "    # Constructor\n",
        "    def __init__(self, radius=3, color='blue'):\n",
        "        self.radius = radius\n",
        "        self.color = color \n",
        "    \n",
        "    # Method\n",
        "    def add_radius(self, r):\n",
        "        self.radius = self.radius + r\n",
        "        return(self.radius)\n",
        "    \n",
        "    # Method\n",
        "    def drawCircle(self):\n",
        "        plt.gca().add_patch(plt.Circle((0, 0), radius=self.radius, fc=self.color))\n",
        "        plt.axis('scaled')\n",
        "        plt.show()  "
      ],
      "execution_count": 2,
      "outputs": []
    },
    {
      "cell_type": "code",
      "metadata": {
        "id": "L83xlOv32eKX"
      },
      "source": [
        "class Circle(object):\n",
        "  def __init__(self, radius=3, color='blue'):\n",
        "    self.radius = radius\n",
        "    self.color = color\n",
        "\n",
        "  def add_radius(self, r):\n",
        "    self.radius = self.radius + r\n",
        "    return(self.radius)\n",
        "\n",
        "  def drawCircle(self):\n",
        "    plt.gca().add_patch(plt.Circle((0, 0), radius=self.radius, fc=self.color))\n",
        "    plt.axis('scaled')\n",
        "    plt.show()"
      ],
      "execution_count": 9,
      "outputs": []
    },
    {
      "cell_type": "markdown",
      "metadata": {
        "id": "12kwqalURkq4"
      },
      "source": [
        "<hr>\n"
      ]
    },
    {
      "cell_type": "markdown",
      "metadata": {
        "id": "suV82vDjRkq4"
      },
      "source": [
        "<h2 id=\"circle\">Creating an instance of a class Circle</h2>\n"
      ]
    },
    {
      "cell_type": "markdown",
      "metadata": {
        "id": "fZuUrtgvRkq4"
      },
      "source": [
        "Let’s create the object <code>RedCircle</code> of type Circle to do the following:\n"
      ]
    },
    {
      "cell_type": "code",
      "metadata": {
        "id": "a6kFmW2TRkq5"
      },
      "source": [
        "# Create an object RedCircle\n",
        "\n",
        "RedCircle = Circle(10, 'red')"
      ],
      "execution_count": 3,
      "outputs": []
    },
    {
      "cell_type": "code",
      "metadata": {
        "id": "4zx2PEa33yYK"
      },
      "source": [
        "RedCircle = Circle(10, 'red')"
      ],
      "execution_count": 4,
      "outputs": []
    },
    {
      "cell_type": "code",
      "metadata": {
        "colab": {
          "base_uri": "https://localhost:8080/"
        },
        "id": "_RDfaWN1327e",
        "outputId": "a1f852dd-d9fe-43d7-e816-e631c42abf2e"
      },
      "source": [
        "print(RedCircle)\n",
        "print(type(RedCircle))"
      ],
      "execution_count": 5,
      "outputs": [
        {
          "output_type": "stream",
          "name": "stdout",
          "text": [
            "<__main__.Circle object at 0x7fd791880c50>\n",
            "<class '__main__.Circle'>\n"
          ]
        }
      ]
    },
    {
      "cell_type": "markdown",
      "metadata": {
        "id": "4p2icFpCRkq6"
      },
      "source": [
        "We can use the <code>dir</code> command to get a list of the object's methods. Many of them are default Python methods.\n"
      ]
    },
    {
      "cell_type": "code",
      "metadata": {
        "id": "PXBP4rC_Rkq6",
        "colab": {
          "base_uri": "https://localhost:8080/"
        },
        "outputId": "2b657d53-0dc8-411c-a300-00bb844df6c4"
      },
      "source": [
        "# Find out the methods can be used on the object RedCircle\n",
        "\n",
        "dir(RedCircle)"
      ],
      "execution_count": 6,
      "outputs": [
        {
          "output_type": "execute_result",
          "data": {
            "text/plain": [
              "['__class__',\n",
              " '__delattr__',\n",
              " '__dict__',\n",
              " '__dir__',\n",
              " '__doc__',\n",
              " '__eq__',\n",
              " '__format__',\n",
              " '__ge__',\n",
              " '__getattribute__',\n",
              " '__gt__',\n",
              " '__hash__',\n",
              " '__init__',\n",
              " '__init_subclass__',\n",
              " '__le__',\n",
              " '__lt__',\n",
              " '__module__',\n",
              " '__ne__',\n",
              " '__new__',\n",
              " '__reduce__',\n",
              " '__reduce_ex__',\n",
              " '__repr__',\n",
              " '__setattr__',\n",
              " '__sizeof__',\n",
              " '__str__',\n",
              " '__subclasshook__',\n",
              " '__weakref__',\n",
              " 'add_radius',\n",
              " 'color',\n",
              " 'drawCircle',\n",
              " 'radius']"
            ]
          },
          "metadata": {},
          "execution_count": 6
        }
      ]
    },
    {
      "cell_type": "markdown",
      "metadata": {
        "id": "oOoSG7Z0Rkq7"
      },
      "source": [
        "We can look at the data attributes of the object:\n"
      ]
    },
    {
      "cell_type": "code",
      "metadata": {
        "id": "FlBCT58sRkq8"
      },
      "source": [
        "# Print the object attribute radius\n",
        "\n",
        "RedCircle.radius"
      ],
      "execution_count": null,
      "outputs": []
    },
    {
      "cell_type": "code",
      "metadata": {
        "colab": {
          "base_uri": "https://localhost:8080/"
        },
        "id": "pKKDrgUl4x3e",
        "outputId": "236869dc-bd6f-45f8-8cfb-102eba5db7b0"
      },
      "source": [
        "RedCircle.radius"
      ],
      "execution_count": null,
      "outputs": [
        {
          "output_type": "execute_result",
          "data": {
            "text/plain": [
              "10"
            ]
          },
          "metadata": {},
          "execution_count": 16
        }
      ]
    },
    {
      "cell_type": "code",
      "metadata": {
        "id": "d-6IPWPgRkq8"
      },
      "source": [
        "# Print the object attribute color\n",
        "\n",
        "RedCircle.color"
      ],
      "execution_count": null,
      "outputs": []
    },
    {
      "cell_type": "code",
      "metadata": {
        "colab": {
          "base_uri": "https://localhost:8080/",
          "height": 36
        },
        "id": "Yy3mtrld4zky",
        "outputId": "232e9395-3b49-4eda-a8dc-0d101d0f41fc"
      },
      "source": [
        "RedCircle.color"
      ],
      "execution_count": null,
      "outputs": [
        {
          "output_type": "execute_result",
          "data": {
            "application/vnd.google.colaboratory.intrinsic+json": {
              "type": "string"
            },
            "text/plain": [
              "'red'"
            ]
          },
          "metadata": {},
          "execution_count": 17
        }
      ]
    },
    {
      "cell_type": "markdown",
      "metadata": {
        "id": "pfpRtahgRkq9"
      },
      "source": [
        "We can change the object's data attributes:\n"
      ]
    },
    {
      "cell_type": "code",
      "metadata": {
        "id": "Iuu_t965Rkq9"
      },
      "source": [
        "# Set the object attribute radius\n",
        "\n",
        "RedCircle.radius = 1\n",
        "RedCircle.radius"
      ],
      "execution_count": null,
      "outputs": []
    },
    {
      "cell_type": "code",
      "metadata": {
        "colab": {
          "base_uri": "https://localhost:8080/"
        },
        "id": "djHJpjy8A1tH",
        "outputId": "c6982d87-70a7-407f-d7a8-253a9e98085f"
      },
      "source": [
        "RedCircle.radius = 1\n",
        "RedCircle.radius"
      ],
      "execution_count": null,
      "outputs": [
        {
          "output_type": "execute_result",
          "data": {
            "text/plain": [
              "1"
            ]
          },
          "metadata": {},
          "execution_count": 19
        }
      ]
    },
    {
      "cell_type": "markdown",
      "metadata": {
        "id": "7FbngotFRkq9"
      },
      "source": [
        "We can draw the object by using the method <code>drawCircle()</code>:\n"
      ]
    },
    {
      "cell_type": "code",
      "metadata": {
        "id": "MDqaICG1Rkq-"
      },
      "source": [
        "# Call the method drawCircle\n",
        "\n",
        "RedCircle.drawCircle()"
      ],
      "execution_count": null,
      "outputs": []
    },
    {
      "cell_type": "code",
      "metadata": {
        "id": "1tGUOY2AA8WT",
        "colab": {
          "base_uri": "https://localhost:8080/",
          "height": 265
        },
        "outputId": "efb63dac-0264-4b5e-fcd1-516fb9cabf6c"
      },
      "source": [
        "RedCircle.drawCircle()"
      ],
      "execution_count": 10,
      "outputs": [
        {
          "output_type": "display_data",
          "data": {
            "image/png": "[encoded data removed]",
            "text/plain": [
              "<Figure size 432x288 with 1 Axes>"
            ]
          },
          "metadata": {
            "needs_background": "light"
          }
        }
      ]
    },
    {
      "cell_type": "markdown",
      "metadata": {
        "id": "_f8WnIBTRkq-"
      },
      "source": [
        "We can increase the radius of the circle by applying the method <code>add_radius()</code>. Let's increases the radius by 2 and then by 5:\n"
      ]
    },
    {
      "cell_type": "code",
      "metadata": {
        "id": "3NhYDz-LRkq_"
      },
      "source": [
        "# Use method to change the object attribute radius\n",
        "\n",
        "print('Radius of object:',RedCircle.radius)\n",
        "RedCircle.add_radius(2)\n",
        "print('Radius of object of after applying the method add_radius(2):',RedCircle.radius)\n",
        "RedCircle.add_radius(5)\n",
        "print('Radius of object of after applying the method add_radius(5):',RedCircle.radius)"
      ],
      "execution_count": null,
      "outputs": []
    },
    {
      "cell_type": "code",
      "metadata": {
        "colab": {
          "base_uri": "https://localhost:8080/"
        },
        "id": "B7MkAQiGs3Fn",
        "outputId": "489548d5-3ee8-4f25-d876-37c6a754582f"
      },
      "source": [
        "print('Radius of object:', RedCircle.radius)\n",
        "RedCircle.add_radius(2)\n",
        "print('Radius of object after applying the method add_radius(2):', RedCircle.radius)\n",
        "RedCircle.add_radius(5)\n",
        "print('Radius of object after applying the method add_radius(5):', RedCircle.radius)"
      ],
      "execution_count": 11,
      "outputs": [
        {
          "output_type": "stream",
          "name": "stdout",
          "text": [
            "Radius of object: 10\n",
            "Radius of object after applying the method add_radius(2): 12\n",
            "Radius of object after applying the method add_radius(5): 17\n"
          ]
        }
      ]
    },
    {
      "cell_type": "markdown",
      "metadata": {
        "id": "Jci3Kcw0Rkq_"
      },
      "source": [
        "Let’s create a blue circle. As the default colour is blue, all we have to do is specify what the radius is:\n"
      ]
    },
    {
      "cell_type": "code",
      "metadata": {
        "id": "lxcV8yFvRkq_"
      },
      "source": [
        "# Create a blue circle with a given radius\n",
        "\n",
        "BlueCircle = Circle(radius=100)"
      ],
      "execution_count": null,
      "outputs": []
    },
    {
      "cell_type": "code",
      "metadata": {
        "id": "xmCFE-c7tZTG"
      },
      "source": [
        "# can either enter it as Circle(radius=100) or  Circle(100)\n",
        "BlueCircle = Circle(radius=100) # we set the default color value to blue initially"
      ],
      "execution_count": 19,
      "outputs": []
    },
    {
      "cell_type": "markdown",
      "metadata": {
        "id": "Wjit1Y88RkrA"
      },
      "source": [
        "As before, we can access the attributes of the instance of the class by using the dot notation:\n"
      ]
    },
    {
      "cell_type": "code",
      "metadata": {
        "id": "Vu-RYhJlRkrA"
      },
      "source": [
        "# Print the object attribute radius\n",
        "\n",
        "BlueCircle.radius"
      ],
      "execution_count": null,
      "outputs": []
    },
    {
      "cell_type": "code",
      "metadata": {
        "colab": {
          "base_uri": "https://localhost:8080/"
        },
        "id": "4Du_eICXtyQR",
        "outputId": "f7afa850-9ce8-4f5f-c63f-18888d082e34"
      },
      "source": [
        "BlueCircle.radius"
      ],
      "execution_count": 14,
      "outputs": [
        {
          "output_type": "execute_result",
          "data": {
            "text/plain": [
              "100"
            ]
          },
          "metadata": {},
          "execution_count": 14
        }
      ]
    },
    {
      "cell_type": "code",
      "metadata": {
        "id": "sdBoYhktRkrA"
      },
      "source": [
        "# Print the object attribute color\n",
        "\n",
        "BlueCircle.color"
      ],
      "execution_count": null,
      "outputs": []
    },
    {
      "cell_type": "code",
      "metadata": {
        "colab": {
          "base_uri": "https://localhost:8080/",
          "height": 36
        },
        "id": "cveWIrqMt1SV",
        "outputId": "cb74c39e-d9ab-468d-adb0-d87c7c2f760e"
      },
      "source": [
        "BlueCircle.color # we didn't have to specifically define blue, since we assigned blue as a default value when creating a Circle at the beginning"
      ],
      "execution_count": 16,
      "outputs": [
        {
          "output_type": "execute_result",
          "data": {
            "application/vnd.google.colaboratory.intrinsic+json": {
              "type": "string"
            },
            "text/plain": [
              "'blue'"
            ]
          },
          "metadata": {},
          "execution_count": 16
        }
      ]
    },
    {
      "cell_type": "markdown",
      "metadata": {
        "id": "sMrQHPsNRkrB"
      },
      "source": [
        "We can draw the object by using the method <code>drawCircle()</code>:\n"
      ]
    },
    {
      "cell_type": "code",
      "metadata": {
        "id": "lV3MMfx_RkrB"
      },
      "source": [
        "# Call the method drawCircle\n",
        "\n",
        "BlueCircle.drawCircle()"
      ],
      "execution_count": null,
      "outputs": []
    },
    {
      "cell_type": "code",
      "metadata": {
        "colab": {
          "base_uri": "https://localhost:8080/",
          "height": 265
        },
        "id": "75QoPHCeuAer",
        "outputId": "1d573310-d841-4fef-82ee-da70407e0cce"
      },
      "source": [
        "BlueCircle.drawCircle()"
      ],
      "execution_count": 17,
      "outputs": [
        {
          "output_type": "display_data",
          "data": {
            "image/png": "[encoded data removed]",
            "text/plain": [
              "<Figure size 432x288 with 1 Axes>"
            ]
          },
          "metadata": {
            "needs_background": "light"
          }
        }
      ]
    },
    {
      "cell_type": "markdown",
      "metadata": {
        "id": "n5tUHXNwRkrC"
      },
      "source": [
        "Compare the x and y axis of the figure to the figure for <code>RedCircle</code>; they are different.\n"
      ]
    },
    {
      "cell_type": "code",
      "metadata": {
        "colab": {
          "base_uri": "https://localhost:8080/",
          "height": 302
        },
        "id": "rza8kO2_uK5G",
        "outputId": "00d2aadd-6cde-456b-8ced-76e797065e87"
      },
      "source": [
        "GreenCircle = Circle(50,'green')\n",
        "print(\"Radius of GreenCircle:\", GreenCircle.radius)\n",
        "print(\"Color of GreenCircle:\", GreenCircle.color)\n",
        "GreenCircle.drawCircle()"
      ],
      "execution_count": 27,
      "outputs": [
        {
          "output_type": "stream",
          "name": "stdout",
          "text": [
            "Radius of GreenCircle: 50\n",
            "Color of GreenCircle: green\n"
          ]
        },
        {
          "output_type": "display_data",
          "data": {
            "image/png": "[encoded data removed]",
            "text/plain": [
              "<Figure size 432x288 with 1 Axes>"
            ]
          },
          "metadata": {
            "needs_background": "light"
          }
        }
      ]
    },
    {
      "cell_type": "code",
      "metadata": {
        "colab": {
          "base_uri": "https://localhost:8080/"
        },
        "id": "HqUofdmHvCit",
        "outputId": "b7591351-e9fa-4db8-e98b-358851193be3"
      },
      "source": [
        "GreenCircle.radius"
      ],
      "execution_count": 28,
      "outputs": [
        {
          "output_type": "execute_result",
          "data": {
            "text/plain": [
              "50"
            ]
          },
          "metadata": {},
          "execution_count": 28
        }
      ]
    },
    {
      "cell_type": "code",
      "metadata": {
        "colab": {
          "base_uri": "https://localhost:8080/",
          "height": 283
        },
        "id": "EKYAkjyJvF86",
        "outputId": "749343ca-fe9d-4c73-a7b9-868a002cecd3"
      },
      "source": [
        "print(\"Radius of RedCircle:\", RedCircle.radius)\n",
        "RedCircle.drawCircle()"
      ],
      "execution_count": 32,
      "outputs": [
        {
          "output_type": "stream",
          "name": "stdout",
          "text": [
            "Radius of RedCircle: 17\n"
          ]
        },
        {
          "output_type": "display_data",
          "data": {
            "image/png": "[encoded data removed]",
            "text/plain": [
              "<Figure size 432x288 with 1 Axes>"
            ]
          },
          "metadata": {
            "needs_background": "light"
          }
        }
      ]
    },
    {
      "cell_type": "code",
      "metadata": {
        "colab": {
          "base_uri": "https://localhost:8080/",
          "height": 283
        },
        "id": "nZqx1HbSvQoA",
        "outputId": "14413b9e-998e-4ceb-bba7-e24fc355be05"
      },
      "source": [
        "print(\"Radius of BlueCircle:\", BlueCircle.radius)\n",
        "BlueCircle.drawCircle()"
      ],
      "execution_count": 33,
      "outputs": [
        {
          "output_type": "stream",
          "name": "stdout",
          "text": [
            "Radius of BlueCircle: 100\n"
          ]
        },
        {
          "output_type": "display_data",
          "data": {
            "image/png": "[encoded data removed]",
            "text/plain": [
              "<Figure size 432x288 with 1 Axes>"
            ]
          },
          "metadata": {
            "needs_background": "light"
          }
        }
      ]
    },
    {
      "cell_type": "markdown",
      "metadata": {
        "id": "l331LCXFRkrC"
      },
      "source": [
        "<hr>\n"
      ]
    },
    {
      "cell_type": "markdown",
      "metadata": {
        "id": "H_vhkT32RkrC"
      },
      "source": [
        "<h2 id=\"rect\">The Rectangle Class</h2>\n"
      ]
    },
    {
      "cell_type": "markdown",
      "metadata": {
        "id": "aYFPBs0xRkrD"
      },
      "source": [
        "Let's create a class rectangle with the attributes of height, width, and color. We will only add the method to draw the rectangle object:\n"
      ]
    },
    {
      "cell_type": "code",
      "metadata": {
        "jupyter": {
          "outputs_hidden": true
        },
        "id": "YCTlnr-MRkrD"
      },
      "source": [
        "# Create a new Rectangle class for creating a rectangle object\n",
        "\n",
        "class Rectangle(object):\n",
        "    \n",
        "    # Constructor\n",
        "    def __init__(self, width=2, height=3, color='r'):\n",
        "        self.height = height \n",
        "        self.width = width\n",
        "        self.color = color\n",
        "    \n",
        "    # Method\n",
        "    def drawRectangle(self):\n",
        "        plt.gca().add_patch(plt.Rectangle((0, 0), self.width, self.height ,fc=self.color))\n",
        "        plt.axis('scaled')\n",
        "        plt.show()\n",
        "        "
      ],
      "execution_count": null,
      "outputs": []
    },
    {
      "cell_type": "code",
      "metadata": {
        "id": "gwQPvflovYlw"
      },
      "source": [
        "class Rectangle(object):\n",
        "\n",
        "  def __init__ (self, width=2, height=3, color='r'):\n",
        "    self.width=width\n",
        "    self.height=height\n",
        "    self.color=color\n",
        "\n",
        "  def drawRectangle(self):\n",
        "    plt.gca().add_patch(plt.Rectangle((0, 0), self.width, self.height, fc=self.color))\n",
        "    plt.axis('scaled')\n",
        "    plt.show()"
      ],
      "execution_count": 34,
      "outputs": []
    },
    {
      "cell_type": "markdown",
      "metadata": {
        "id": "hM3OlWQDRkrD"
      },
      "source": [
        "Let’s create the object <code>SkinnyBlueRectangle</code> of type Rectangle. Its width will be 2 and height will be 3, and the color will be blue:\n"
      ]
    },
    {
      "cell_type": "code",
      "metadata": {
        "id": "GuQOci4ERkrE"
      },
      "source": [
        "# Create a new object rectangle\n",
        "\n",
        "SkinnyBlueRectangle = Rectangle(2, 10, 'blue')"
      ],
      "execution_count": null,
      "outputs": []
    },
    {
      "cell_type": "code",
      "metadata": {
        "id": "HpzXYxHHwD1M"
      },
      "source": [
        "SkinnyBlueRectangle = Rectangle(2, 10, 'blue')"
      ],
      "execution_count": 35,
      "outputs": []
    },
    {
      "cell_type": "markdown",
      "metadata": {
        "id": "mKshpC4YRkrE"
      },
      "source": [
        "As before we can access the attributes of the instance of the class by using the dot notation:\n"
      ]
    },
    {
      "cell_type": "code",
      "metadata": {
        "id": "Zw0aisGrRkrE"
      },
      "source": [
        "# Print the object attribute height\n",
        "\n",
        "SkinnyBlueRectangle.height "
      ],
      "execution_count": null,
      "outputs": []
    },
    {
      "cell_type": "code",
      "metadata": {
        "colab": {
          "base_uri": "https://localhost:8080/"
        },
        "id": "9U_O8KfFwLvr",
        "outputId": "47bb2618-f308-4137-8931-0e58a3e42829"
      },
      "source": [
        "SkinnyBlueRectangle.height"
      ],
      "execution_count": 36,
      "outputs": [
        {
          "output_type": "execute_result",
          "data": {
            "text/plain": [
              "10"
            ]
          },
          "metadata": {},
          "execution_count": 36
        }
      ]
    },
    {
      "cell_type": "code",
      "metadata": {
        "id": "a0eV5pTsRkrE"
      },
      "source": [
        "# Print the object attribute width\n",
        "\n",
        "SkinnyBlueRectangle.width"
      ],
      "execution_count": null,
      "outputs": []
    },
    {
      "cell_type": "code",
      "metadata": {
        "colab": {
          "base_uri": "https://localhost:8080/"
        },
        "id": "vNCAVVuhwOzu",
        "outputId": "108381ac-533e-47bb-81d8-0f9a37afe9d1"
      },
      "source": [
        "SkinnyBlueRectangle.width"
      ],
      "execution_count": 37,
      "outputs": [
        {
          "output_type": "execute_result",
          "data": {
            "text/plain": [
              "2"
            ]
          },
          "metadata": {},
          "execution_count": 37
        }
      ]
    },
    {
      "cell_type": "code",
      "metadata": {
        "id": "uJOS8zFcRkrF"
      },
      "source": [
        "# Print the object attribute color\n",
        "\n",
        "SkinnyBlueRectangle.color"
      ],
      "execution_count": null,
      "outputs": []
    },
    {
      "cell_type": "code",
      "metadata": {
        "colab": {
          "base_uri": "https://localhost:8080/",
          "height": 36
        },
        "id": "sXhbtydwwTn1",
        "outputId": "7758150e-d606-476e-eed9-993d3dd37c1b"
      },
      "source": [
        "SkinnyBlueRectangle.color"
      ],
      "execution_count": 38,
      "outputs": [
        {
          "output_type": "execute_result",
          "data": {
            "application/vnd.google.colaboratory.intrinsic+json": {
              "type": "string"
            },
            "text/plain": [
              "'blue'"
            ]
          },
          "metadata": {},
          "execution_count": 38
        }
      ]
    },
    {
      "cell_type": "markdown",
      "metadata": {
        "id": "PKsTCGYLRkrF"
      },
      "source": [
        "We can draw the object:\n"
      ]
    },
    {
      "cell_type": "code",
      "metadata": {
        "scrolled": true,
        "id": "0U2PYV5SRkrF"
      },
      "source": [
        "# Use the drawRectangle method to draw the shape\n",
        "\n",
        "SkinnyBlueRectangle.drawRectangle()"
      ],
      "execution_count": null,
      "outputs": []
    },
    {
      "cell_type": "code",
      "metadata": {
        "colab": {
          "base_uri": "https://localhost:8080/",
          "height": 265
        },
        "id": "Q2O-4q4QwYYt",
        "outputId": "319d3098-1a2a-4232-e87c-ebddc776e3f2"
      },
      "source": [
        "SkinnyBlueRectangle.drawRectangle()"
      ],
      "execution_count": 39,
      "outputs": [
        {
          "output_type": "display_data",
          "data": {
            "image/png": "[encoded data removed]",
            "text/plain": [
              "<Figure size 432x288 with 1 Axes>"
            ]
          },
          "metadata": {
            "needs_background": "light"
          }
        }
      ]
    },
    {
      "cell_type": "markdown",
      "metadata": {
        "id": "ujQHI4dERkrF"
      },
      "source": [
        "Let’s create the object <code>FatYellowRectangle</code> of type Rectangle:\n"
      ]
    },
    {
      "cell_type": "code",
      "metadata": {
        "jupyter": {
          "outputs_hidden": true
        },
        "id": "JAm1HiicRkrG"
      },
      "source": [
        "# Create a new object rectangle\n",
        "\n",
        "FatYellowRectangle = Rectangle(20, 5, 'yellow')"
      ],
      "execution_count": null,
      "outputs": []
    },
    {
      "cell_type": "code",
      "metadata": {
        "id": "JhxnRzE4wmtj"
      },
      "source": [
        "FatYellowRectange = Rectangle(20, 5, 'yellow')"
      ],
      "execution_count": 42,
      "outputs": []
    },
    {
      "cell_type": "markdown",
      "metadata": {
        "id": "5zStD9O4RkrG"
      },
      "source": [
        "We can access the attributes of the instance of the class by using the dot notation:\n"
      ]
    },
    {
      "cell_type": "code",
      "metadata": {
        "id": "TWXpMnf9RkrG"
      },
      "source": [
        "# Print the object attribute height\n",
        "\n",
        "FatYellowRectangle.height "
      ],
      "execution_count": null,
      "outputs": []
    },
    {
      "cell_type": "code",
      "metadata": {
        "colab": {
          "base_uri": "https://localhost:8080/"
        },
        "id": "vIoCNmR0wxSM",
        "outputId": "8dcae78c-c718-4ba7-f79a-389c019005da"
      },
      "source": [
        "FatYellowRectange.height"
      ],
      "execution_count": 43,
      "outputs": [
        {
          "output_type": "execute_result",
          "data": {
            "text/plain": [
              "5"
            ]
          },
          "metadata": {},
          "execution_count": 43
        }
      ]
    },
    {
      "cell_type": "code",
      "metadata": {
        "id": "Pce3QrDpRkrH"
      },
      "source": [
        "# Print the object attribute width\n",
        "\n",
        "FatYellowRectangle.width"
      ],
      "execution_count": null,
      "outputs": []
    },
    {
      "cell_type": "code",
      "metadata": {
        "colab": {
          "base_uri": "https://localhost:8080/"
        },
        "id": "F23Ff83Kwz7o",
        "outputId": "f87ed3d5-5ebc-4de1-d1f5-ebde0b1b9f21"
      },
      "source": [
        "FatYellowRectange.width"
      ],
      "execution_count": 44,
      "outputs": [
        {
          "output_type": "execute_result",
          "data": {
            "text/plain": [
              "20"
            ]
          },
          "metadata": {},
          "execution_count": 44
        }
      ]
    },
    {
      "cell_type": "code",
      "metadata": {
        "id": "tk05iQ4FRkrH"
      },
      "source": [
        "# Print the object attribute color\n",
        "\n",
        "FatYellowRectangle.color"
      ],
      "execution_count": null,
      "outputs": []
    },
    {
      "cell_type": "code",
      "metadata": {
        "colab": {
          "base_uri": "https://localhost:8080/",
          "height": 36
        },
        "id": "AlSYuKfCw2eW",
        "outputId": "7bfa73b5-16f8-4cd3-b065-baade4dbbe52"
      },
      "source": [
        "FatYellowRectange.color"
      ],
      "execution_count": 45,
      "outputs": [
        {
          "output_type": "execute_result",
          "data": {
            "application/vnd.google.colaboratory.intrinsic+json": {
              "type": "string"
            },
            "text/plain": [
              "'yellow'"
            ]
          },
          "metadata": {},
          "execution_count": 45
        }
      ]
    },
    {
      "cell_type": "markdown",
      "metadata": {
        "id": "Rj-2q9BDRkrI"
      },
      "source": [
        "We can draw the object:\n"
      ]
    },
    {
      "cell_type": "code",
      "metadata": {
        "id": "-sV9AFQ-RkrI"
      },
      "source": [
        "# Use the drawRectangle method to draw the shape\n",
        "\n",
        "FatYellowRectangle.drawRectangle()"
      ],
      "execution_count": null,
      "outputs": []
    },
    {
      "cell_type": "code",
      "metadata": {
        "colab": {
          "base_uri": "https://localhost:8080/",
          "height": 132
        },
        "id": "OvzmaSDcw4gb",
        "outputId": "23d9b737-23b0-4824-bcbd-51f4fcaf7a0d"
      },
      "source": [
        "FatYellowRectange.drawRectangle()"
      ],
      "execution_count": 46,
      "outputs": [
        {
          "output_type": "display_data",
          "data": {
            "image/png": "[encoded data removed]",
            "text/plain": [
              "<Figure size 432x288 with 1 Axes>"
            ]
          },
          "metadata": {
            "needs_background": "light"
          }
        }
      ]
    },
    {
      "cell_type": "code",
      "metadata": {
        "colab": {
          "base_uri": "https://localhost:8080/"
        },
        "id": "OPP9t-VC0kKh",
        "outputId": "c9b873ac-36fb-4522-8d89-92bc8de399f3"
      },
      "source": [
        "dir(FatYellowRectange)"
      ],
      "execution_count": 49,
      "outputs": [
        {
          "output_type": "execute_result",
          "data": {
            "text/plain": [
              "['__class__',\n",
              " '__delattr__',\n",
              " '__dict__',\n",
              " '__dir__',\n",
              " '__doc__',\n",
              " '__eq__',\n",
              " '__format__',\n",
              " '__ge__',\n",
              " '__getattribute__',\n",
              " '__gt__',\n",
              " '__hash__',\n",
              " '__init__',\n",
              " '__init_subclass__',\n",
              " '__le__',\n",
              " '__lt__',\n",
              " '__module__',\n",
              " '__ne__',\n",
              " '__new__',\n",
              " '__reduce__',\n",
              " '__reduce_ex__',\n",
              " '__repr__',\n",
              " '__setattr__',\n",
              " '__sizeof__',\n",
              " '__str__',\n",
              " '__subclasshook__',\n",
              " '__weakref__',\n",
              " 'color',\n",
              " 'drawRectangle',\n",
              " 'height',\n",
              " 'width']"
            ]
          },
          "metadata": {},
          "execution_count": 49
        }
      ]
    },
    {
      "cell_type": "markdown",
      "metadata": {
        "id": "S2PqLHZkRkrI"
      },
      "source": [
        "<hr>\n"
      ]
    },
    {
      "cell_type": "markdown",
      "metadata": {
        "id": "ZwOOxF95RkrJ"
      },
      "source": [
        "<h2 id=\"rect\">Exercises</h2>\n"
      ]
    },
    {
      "cell_type": "markdown",
      "metadata": {
        "id": "tBCWgDuqRkrJ"
      },
      "source": [
        "<h4> Text Analysis </h4>\n"
      ]
    },
    {
      "cell_type": "markdown",
      "metadata": {
        "id": "YP6-pr11RkrJ"
      },
      "source": [
        "You have been recruited by your friend, a linguistics enthusiast, to create a utility tool that can perform analysis on a given piece of text. Complete the class\n",
        "'analysedText' with the following methods -\n",
        "\n",
        "<ul>\n",
        "    <li> Constructor - Takes argument 'text',makes it lower case and removes all punctuation. Assume only the following punctuation is used - period (.), exclamation mark (!), comma (,) and question mark (?). Store the argument in \"fmtText\"      \n",
        "    <li> freqAll - returns a dictionary of all unique words in the text along with the number of their occurences.\n",
        "    <li> freqOf - returns the frequency of the word passed in argument.\n",
        "</ul>\n",
        " The skeleton code has been given to you. Docstrings can be ignored for the purpose of the exercise. <br>\n",
        " <i> Hint: Some useful functions are <code>replace()</code>, <code>lower()</code>, <code>split()</code>, <code>count()</code> </i><br>\n"
      ]
    },
    {
      "cell_type": "code",
      "metadata": {
        "id": "Mz918XF4RkrJ"
      },
      "source": [
        "class analysedText(object):\n",
        "    \n",
        "    def __init__ (self, text):\n",
        "        pass\n",
        "    \n",
        "    def freqAll(self):        \n",
        "        pass\n",
        "    \n",
        "    def freqOf(self,word):\n",
        "        pass\n",
        "        "
      ],
      "execution_count": 58,
      "outputs": []
    },
    {
      "cell_type": "markdown",
      "metadata": {
        "id": "5q0l9LcjRkrJ"
      },
      "source": [
        "Execute the block below to check your progress.\n"
      ]
    },
    {
      "cell_type": "code",
      "metadata": {
        "id": "oWhB13IvRkrK",
        "colab": {
          "base_uri": "https://localhost:8080/"
        },
        "outputId": "08df5c25-eb3b-43d6-c95f-c998b101e180"
      },
      "source": [
        "import sys\n",
        "\n",
        "sampleMap = {'eirmod': 1,'sed': 1, 'amet': 2, 'diam': 5, 'consetetur': 1, 'labore': 1, 'tempor': 1, 'dolor': 1, 'magna': 2, 'et': 3, 'nonumy': 1, 'ipsum': 1, 'lorem': 2}\n",
        "\n",
        "def testMsg(passed):\n",
        "    if passed:\n",
        "       return 'Test Passed'\n",
        "    else :\n",
        "       return 'Test Failed'\n",
        "\n",
        "print(\"Constructor: \")\n",
        "try:\n",
        "    samplePassage = analysedText(\"Lorem ipsum dolor! diam amet, consetetur Lorem magna. sed diam nonumy eirmod tempor. diam et labore? et diam magna. et diam amet.\")\n",
        "    print(testMsg(samplePassage.fmtText == \"lorem ipsum dolor diam amet consetetur lorem magna sed diam nonumy eirmod tempor diam et labore et diam magna et diam amet\"))\n",
        "except:\n",
        "    print(\"Error detected. Recheck your function \" )\n",
        "print(\"freqAll: \")\n",
        "try:\n",
        "    wordMap = samplePassage.freqAll()\n",
        "    print(testMsg(wordMap==sampleMap))\n",
        "except:\n",
        "    print(\"Error detected. Recheck your function \" )\n",
        "print(\"freqOf: \")\n",
        "try:\n",
        "    passed = True\n",
        "    for word in sampleMap:\n",
        "        if samplePassage.freqOf(word) != sampleMap[word]:\n",
        "            passed = False\n",
        "            break\n",
        "    print(testMsg(passed))\n",
        "    \n",
        "except:\n",
        "    print(\"Error detected. Recheck your function  \" )\n",
        "    "
      ],
      "execution_count": 61,
      "outputs": [
        {
          "output_type": "stream",
          "name": "stdout",
          "text": [
            "Constructor: \n",
            "Test Passed\n",
            "freqAll: \n",
            "Test Passed\n",
            "freqOf: \n",
            "Test Passed\n"
          ]
        }
      ]
    },
    {
      "cell_type": "markdown",
      "metadata": {
        "id": "mlqjUFpJRkrK"
      },
      "source": [
        "<details><summary>Click here for the solution</summary>\n",
        "\n",
        "```python\n",
        "class analysedText(object):\n",
        "    \n",
        "    def __init__ (self, text):\n",
        "        # remove punctuation\n",
        "        formattedText = text.replace('.','').replace('!','').replace('?','').replace(',','')\n",
        "        \n",
        "        # make text lowercase\n",
        "        formattedText = formattedText.lower()\n",
        "        \n",
        "        self.fmtText = formattedText\n",
        "        \n",
        "    def freqAll(self):        \n",
        "        # split text into words\n",
        "        wordList = self.fmtText.split(' ')\n",
        "        \n",
        "        # Create dictionary\n",
        "        freqMap = {}\n",
        "        for word in set(wordList): # use set to remove duplicates in list\n",
        "            freqMap[word] = wordList.count(word)\n",
        "        \n",
        "        return freqMap\n",
        "    \n",
        "    def freqOf(self,word):\n",
        "        # get frequency map\n",
        "        freqDict = self.freqAll()\n",
        "        \n",
        "        if word in freqDict:\n",
        "            return freqDict[word]\n",
        "        else:\n",
        "            return 0\n",
        "    \n",
        "```\n",
        "\n",
        "</details>\n"
      ]
    },
    {
      "cell_type": "code",
      "metadata": {
        "id": "6xEoT7_r3FoT"
      },
      "source": [
        "class analysedText(object):\n",
        "\n",
        "    def __init__ (self, text):\n",
        "        # remove punctuation\n",
        "        formattedText = text.replace('.','').replace('!','').replace('?','').replace(',','')\n",
        "\n",
        "        # make text lowercase\n",
        "        formattedText = formattedText.lower()\n",
        "\n",
        "        self.fmtText = formattedText\n",
        "\n",
        "    def freqAll(self):        \n",
        "        # split text into words\n",
        "        wordList = self.fmtText.split(' ')\n",
        "\n",
        "        # Create dictionary\n",
        "        freqMap = {}\n",
        "        for word in set(wordList): # use set to remove duplicates in list\n",
        "            freqMap[word] = wordList.count(word)\n",
        "\n",
        "        return freqMap\n",
        "\n",
        "    def freqOf(self,word):\n",
        "        # get frequency map\n",
        "        freqDict = self.freqAll()\n",
        "\n",
        "        if word in freqDict:\n",
        "            return freqDict[word]\n",
        "        else:\n",
        "            return 0"
      ],
      "execution_count": 60,
      "outputs": []
    },
    {
      "cell_type": "markdown",
      "metadata": {
        "id": "o3LF8c7PRkrK"
      },
      "source": [
        "<hr>\n",
        "<h2>The last exercise!</h2>\n",
        "<p>Congratulations, you have completed your first lesson and hands-on lab in Python. However, there is one more thing you need to do. The Data Science community encourages sharing work. The best way to share and showcase your work is to share it on GitHub. By sharing your notebook on GitHub you are not only building your reputation with fellow data scientists, but you can also show it off when applying for a job. Even though this was your first piece of work, it is never too early to start building good habits. So, please read and follow <a href=\"https://cognitiveclass.ai/blog/data-scientists-stand-out-by-sharing-your-notebooks/?utm_medium=Exinfluencer&utm_source=Exinfluencer&utm_content=000026UJ&utm_term=10006555&utm_id=NA-SkillsNetwork-Channel-SkillsNetworkCoursesIBMDeveloperSkillsNetworkPY0101ENSkillsNetwork19487395-2021-01-01\" target=\"_blank\">this article</a> to learn how to share your work.\n",
        "<hr>\n"
      ]
    },
    {
      "cell_type": "markdown",
      "metadata": {
        "id": "Z67LsXiYRkrL"
      },
      "source": [
        "## Author\n",
        "\n",
        "<a href=\"https://www.linkedin.com/in/joseph-s-50398b136/?utm_medium=Exinfluencer&utm_source=Exinfluencer&utm_content=000026UJ&utm_term=10006555&utm_id=NA-SkillsNetwork-Channel-SkillsNetworkCoursesIBMDeveloperSkillsNetworkPY0101ENSkillsNetwork19487395-2021-01-01\" target=\"_blank\">Joseph Santarcangelo</a>\n",
        "\n",
        "## Other contributors\n",
        "\n",
        "<a href=\"https://www.linkedin.com/in/jiahui-mavis-zhou-a4537814a?utm_medium=Exinfluencer&utm_source=Exinfluencer&utm_content=000026UJ&utm_term=10006555&utm_id=NA-SkillsNetwork-Channel-SkillsNetworkCoursesIBMDeveloperSkillsNetworkPY0101ENSkillsNetwork19487395-2021-01-01\">Mavis Zhou</a>\n",
        "\n",
        "## Change Log\n",
        "\n",
        "| Date (YYYY-MM-DD) | Version | Changed By | Change Description                 |\n",
        "| ----------------- | ------- | ---------- | ---------------------------------- |\n",
        "| 2020-08-26        | 2.0     | Lavanya    | Moved lab to course repo in GitLab |\n",
        "|                   |         |            |                                    |\n",
        "|                   |         |            |                                    |\n",
        "\n",
        "<hr/>\n",
        "\n",
        "## <h3 align=\"center\"> © IBM Corporation 2020. All rights reserved. <h3/>\n"
      ]
    }
  ]
}