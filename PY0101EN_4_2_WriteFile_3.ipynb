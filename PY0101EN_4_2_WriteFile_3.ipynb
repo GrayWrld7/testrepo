{
  "nbformat": 4,
  "nbformat_minor": 0,
  "metadata": {
    "kernelspec": {
      "display_name": "Python 3",
      "language": "python",
      "name": "python3"
    },
    "language_info": {
      "codemirror_mode": {
        "name": "ipython",
        "version": 3
      },
      "file_extension": ".py",
      "mimetype": "text/x-python",
      "name": "python",
      "nbconvert_exporter": "python",
      "pygments_lexer": "ipython3",
      "version": "3.8.5"
    },
    "colab": {
      "name": "PY0101EN-4-2-WriteFile-3.ipynb",
      "provenance": [],
      "collapsed_sections": [],
      "include_colab_link": true
    }
  },
  "cells": [
    {
      "cell_type": "markdown",
      "metadata": {
        "id": "view-in-github",
        "colab_type": "text"
      },
      "source": [
        "<a href=\"https://colab.research.google.com/github/GrayWrld7/testrepo/blob/master/PY0101EN_4_2_WriteFile_3.ipynb\" target=\"_parent\"><img src=\"https://colab.research.google.com/assets/colab-badge.svg\" alt=\"Open In Colab\"/></a>"
      ]
    },
    {
      "cell_type": "markdown",
      "metadata": {
        "id": "-41C_FNJWMq3"
      },
      "source": [
        "<center>\n",
        "    <img src=\"https://cf-courses-data.s3.us.cloud-object-storage.appdomain.cloud/IBMDeveloperSkillsNetwork-PY0101EN-SkillsNetwork/IDSNlogo.png\" width=\"300\" alt=\"cognitiveclass.ai logo\"  />\n",
        "</center>\n",
        "\n",
        "# Write and Save Files in Python\n",
        "\n",
        "Estimated time needed: **25** minutes\n",
        "\n",
        "## Objectives\n",
        "\n",
        "After completing this lab you will be able to:\n",
        "\n",
        "*   Write to files using Python libraries\n"
      ]
    },
    {
      "cell_type": "markdown",
      "metadata": {
        "id": "4UkYBVmaWMrA"
      },
      "source": [
        "<h2>Table of Contents</h2>\n",
        "<div class=\"alert alert-block alert-info\" style=\"margin-top: 20px\">\n",
        "    <ul>\n",
        "        <li><a href=\"https://write/?utm_medium=Exinfluencer&utm_source=Exinfluencer&utm_content=000026UJ&utm_term=10006555&utm_id=NA-SkillsNetwork-Channel-SkillsNetworkCoursesIBMDeveloperSkillsNetworkPY0101ENSkillsNetwork19487395-2021-01-01\">Writing Files</a></li>\n",
        "        <li><a href=\"https://append/?utm_medium=Exinfluencer&utm_source=Exinfluencer&utm_content=000026UJ&utm_term=10006555&utm_id=NA-SkillsNetwork-Channel-SkillsNetworkCoursesIBMDeveloperSkillsNetworkPY0101ENSkillsNetwork19487395-2021-01-01\">Appending Files</a></li>\n",
        "        <li><a href=\"https://add/?utm_medium=Exinfluencer&utm_source=Exinfluencer&utm_content=000026UJ&utm_term=10006555&utm_id=NA-SkillsNetwork-Channel-SkillsNetworkCoursesIBMDeveloperSkillsNetworkPY0101ENSkillsNetwork19487395-2021-01-01\">Additional File modes</a></li>\n",
        "        <li><a href=\"https://copy/?utm_medium=Exinfluencer&utm_source=Exinfluencer&utm_content=000026UJ&utm_term=10006555&utm_id=NA-SkillsNetwork-Channel-SkillsNetworkCoursesIBMDeveloperSkillsNetworkPY0101ENSkillsNetwork19487395-2021-01-01\">Copy a File</a></li>\n",
        "    </ul>\n",
        "\n",
        "</div>\n",
        "\n",
        "<hr>\n"
      ]
    },
    {
      "cell_type": "markdown",
      "metadata": {
        "id": "-5HNtaLjWMrE"
      },
      "source": [
        "<h2 id=\"write\">Writing Files</h2>\n"
      ]
    },
    {
      "cell_type": "markdown",
      "metadata": {
        "id": "P11XFxUSWMrF"
      },
      "source": [
        "We can open a file object using the method <code>write()</code> to save the text file to a list. To write to a file, the mode argument must be set to **w**. Let’s write a file **Example2.txt** with the line: **“This is line A”**\n"
      ]
    },
    {
      "cell_type": "code",
      "metadata": {
        "colab": {
          "base_uri": "https://localhost:8080/"
        },
        "id": "GYDGUqujLL-Z",
        "outputId": "364fb418-8879-4273-8cd3-8cc6118bdc58"
      },
      "source": [
        "import urllib.request\n",
        "url = 'https://cf-courses-data.s3.us.cloud-object-storage.appdomain.cloud/IBMDeveloperSkillsNetwork-PY0101EN-SkillsNetwork/labs/Module%204/data/example1.txt'\n",
        "exmp21 = 'Example2.txt'\n",
        "urllib.request.urlretrieve(url, exmp21)"
      ],
      "execution_count": null,
      "outputs": [
        {
          "output_type": "execute_result",
          "data": {
            "text/plain": [
              "('Example2.txt', <http.client.HTTPMessage at 0x7f01fd134210>)"
            ]
          },
          "metadata": {},
          "execution_count": 3
        }
      ]
    },
    {
      "cell_type": "code",
      "metadata": {
        "colab": {
          "base_uri": "https://localhost:8080/"
        },
        "id": "4aBv5EpML5uP",
        "outputId": "130276e2-54a1-4cec-dac1-5644e34009fa"
      },
      "source": [
        "# Download example file\n",
        "\n",
        "!wget -O /resources/data/Example2.txt https://cf-courses-data.s3.us.cloud-object-storage.appdomain.cloud/IBMDeveloperSkillsNetwork-PY0101EN-SkillsNetwork/labs/Module%204/data/example1.txt"
      ],
      "execution_count": null,
      "outputs": [
        {
          "output_type": "stream",
          "name": "stdout",
          "text": [
            "/resources/data/Example2.txt: No such file or directory\n"
          ]
        }
      ]
    },
    {
      "cell_type": "code",
      "metadata": {
        "id": "1ev3R5w7NCU1"
      },
      "source": [
        "file2 = open(exmp21, 'r')"
      ],
      "execution_count": null,
      "outputs": []
    },
    {
      "cell_type": "code",
      "metadata": {
        "colab": {
          "base_uri": "https://localhost:8080/",
          "height": 36
        },
        "id": "QLYmW6ivNvTR",
        "outputId": "bb6669c7-bf3e-47f4-bb8d-57441b34b933"
      },
      "source": [
        "file2.name"
      ],
      "execution_count": null,
      "outputs": [
        {
          "output_type": "execute_result",
          "data": {
            "application/vnd.google.colaboratory.intrinsic+json": {
              "type": "string"
            },
            "text/plain": [
              "'Example2.txt'"
            ]
          },
          "metadata": {},
          "execution_count": 13
        }
      ]
    },
    {
      "cell_type": "code",
      "metadata": {
        "colab": {
          "base_uri": "https://localhost:8080/"
        },
        "id": "aseTbN-WN-on",
        "outputId": "360afba6-f7df-48b8-da4e-ded0e18343a3"
      },
      "source": [
        "file2.closed"
      ],
      "execution_count": null,
      "outputs": [
        {
          "output_type": "execute_result",
          "data": {
            "text/plain": [
              "False"
            ]
          },
          "metadata": {},
          "execution_count": 14
        }
      ]
    },
    {
      "cell_type": "code",
      "metadata": {
        "id": "2lI7zHk_OAvu"
      },
      "source": [
        "file2.close()"
      ],
      "execution_count": null,
      "outputs": []
    },
    {
      "cell_type": "code",
      "metadata": {
        "colab": {
          "base_uri": "https://localhost:8080/"
        },
        "id": "CQjNwAlaOCwd",
        "outputId": "b4bcab69-da99-4081-afd6-c8dbb4ae7145"
      },
      "source": [
        "file2.closed"
      ],
      "execution_count": null,
      "outputs": [
        {
          "output_type": "execute_result",
          "data": {
            "text/plain": [
              "True"
            ]
          },
          "metadata": {},
          "execution_count": 16
        }
      ]
    },
    {
      "cell_type": "code",
      "metadata": {
        "id": "MqT_NM1oOg0w"
      },
      "source": [
        "file2 = open(exmp21, 'r')"
      ],
      "execution_count": null,
      "outputs": []
    },
    {
      "cell_type": "code",
      "metadata": {
        "colab": {
          "base_uri": "https://localhost:8080/",
          "height": 36
        },
        "id": "Bz1NbuieOZct",
        "outputId": "15b2aa15-6a64-4158-a84b-21ca4b619af8"
      },
      "source": [
        "file2Content = file2.read()\n",
        "file2Content"
      ],
      "execution_count": null,
      "outputs": [
        {
          "output_type": "execute_result",
          "data": {
            "application/vnd.google.colaboratory.intrinsic+json": {
              "type": "string"
            },
            "text/plain": [
              "''"
            ]
          },
          "metadata": {},
          "execution_count": 22
        }
      ]
    },
    {
      "cell_type": "code",
      "metadata": {
        "id": "DPZEZ5SEM4_D"
      },
      "source": [
        "#with open(exp21, 'w') as writefile:\n",
        "  #writefile.write(\"This is line A\")"
      ],
      "execution_count": null,
      "outputs": []
    },
    {
      "cell_type": "code",
      "metadata": {
        "id": "im1Zgbd7WMrG"
      },
      "source": [
        "# Write line to file\n",
        "# exmp2 = '/resources/data/Example2.txt'\n",
        "exmp2 = 'Example2.txt'\n",
        "with open(exmp2, 'w') as writefile:\n",
        "    writefile.write(\"This is line A\")"
      ],
      "execution_count": null,
      "outputs": []
    },
    {
      "cell_type": "markdown",
      "metadata": {
        "id": "Xct_nf-6WMrI"
      },
      "source": [
        "We can read the file to see if it worked:\n"
      ]
    },
    {
      "cell_type": "code",
      "metadata": {
        "id": "6T_ogG23-iGv",
        "colab": {
          "base_uri": "https://localhost:8080/"
        },
        "outputId": "8e2bd408-9b36-4f57-a72e-cda3b8fe7855"
      },
      "source": [
        "exmp2 = 'Example2.txt'\n",
        "print(exmp2)"
      ],
      "execution_count": null,
      "outputs": [
        {
          "output_type": "stream",
          "name": "stdout",
          "text": [
            "Example2.txt\n"
          ]
        }
      ]
    },
    {
      "cell_type": "code",
      "metadata": {
        "id": "JOljccRA_0Fu"
      },
      "source": [
        "with open(exmp2, 'w') as writefile:\n",
        "  writefile.write(\"This is line A\")"
      ],
      "execution_count": null,
      "outputs": []
    },
    {
      "cell_type": "code",
      "metadata": {
        "colab": {
          "base_uri": "https://localhost:8080/"
        },
        "id": "Us10skDbAtj2",
        "outputId": "3a0e2c87-918f-4bc6-b82d-faeaa9d0eca5"
      },
      "source": [
        "print(writefile)\n",
        "print(writefile.closed)"
      ],
      "execution_count": null,
      "outputs": [
        {
          "output_type": "stream",
          "name": "stdout",
          "text": [
            "<_io.TextIOWrapper name='Example2.txt' mode='w' encoding='UTF-8'>\n",
            "True\n"
          ]
        }
      ]
    },
    {
      "cell_type": "code",
      "metadata": {
        "id": "1hWUQ1DYWMrI"
      },
      "source": [
        "# Read file\n",
        "\n",
        "with open(exmp2, 'r') as testwritefile:\n",
        "    print(testwritefile.read())"
      ],
      "execution_count": null,
      "outputs": []
    },
    {
      "cell_type": "code",
      "metadata": {
        "colab": {
          "base_uri": "https://localhost:8080/"
        },
        "id": "nagvLIbsA2gl",
        "outputId": "42dba2d1-1c6c-409d-8b26-c1476c271868"
      },
      "source": [
        "with open(exmp2, 'r') as testwritefile:\n",
        "  print(testwritefile.read())"
      ],
      "execution_count": null,
      "outputs": [
        {
          "output_type": "stream",
          "name": "stdout",
          "text": [
            "This is line A\n"
          ]
        }
      ]
    },
    {
      "cell_type": "markdown",
      "metadata": {
        "id": "vjTA5kbdWMrJ"
      },
      "source": [
        "We can write multiple lines:\n"
      ]
    },
    {
      "cell_type": "code",
      "metadata": {
        "id": "XSQ1QjtjWMrJ"
      },
      "source": [
        "# Write lines to file\n",
        "\n",
        "with open(exmp2, 'w') as writefile:\n",
        "    writefile.write(\"This is line A\\n\")\n",
        "    writefile.write(\"This is line B\\n\")"
      ],
      "execution_count": null,
      "outputs": []
    },
    {
      "cell_type": "code",
      "metadata": {
        "id": "b7N6g9hBBID-"
      },
      "source": [
        "with open(exmp2, 'w') as writefile:\n",
        "  writefile.write(\"This is line A\\n\")\n",
        "  writefile.write(\"This is line B\\n\")"
      ],
      "execution_count": null,
      "outputs": []
    },
    {
      "cell_type": "markdown",
      "metadata": {
        "id": "fDDMq-YvWMrK"
      },
      "source": [
        "The method <code>.write()</code> works similar to the method <code>.readline()</code>, except instead of reading a new line it writes a new line. The process is illustrated in the figure. The different colour coding of the grid represents a new line added to the file after each method call.\n"
      ]
    },
    {
      "cell_type": "markdown",
      "metadata": {
        "id": "zyOZ99MUWMrM"
      },
      "source": [
        "<img src=\"https://cf-courses-data.s3.us.cloud-object-storage.appdomain.cloud/IBMDeveloperSkillsNetwork-PY0101EN-SkillsNetwork/labs/Module%204/images/WriteLine.png\" width=\"500\" />\n"
      ]
    },
    {
      "cell_type": "markdown",
      "metadata": {
        "id": "eUmSFPYjWMrO"
      },
      "source": [
        "You can check the file to see if your results are correct\n"
      ]
    },
    {
      "cell_type": "code",
      "metadata": {
        "id": "9XsOsymZWMrO"
      },
      "source": [
        "# Check whether write to file\n",
        "\n",
        "with open(exmp2, 'r') as testwritefile:\n",
        "    print(testwritefile.read())"
      ],
      "execution_count": null,
      "outputs": []
    },
    {
      "cell_type": "code",
      "metadata": {
        "colab": {
          "base_uri": "https://localhost:8080/"
        },
        "id": "yPyrcxSsBvcz",
        "outputId": "75d020d3-e965-4215-e1e3-c01183ca9cfd"
      },
      "source": [
        "with open(exmp2, 'r') as testwritefile:\n",
        "  print(testwritefile.read())"
      ],
      "execution_count": null,
      "outputs": [
        {
          "output_type": "stream",
          "name": "stdout",
          "text": [
            "This is line A\n",
            "This is line B\n",
            "\n"
          ]
        }
      ]
    },
    {
      "cell_type": "markdown",
      "metadata": {
        "id": "h4yHYgLjWMrP"
      },
      "source": [
        "We write a list to a **.txt** file  as follows:\n"
      ]
    },
    {
      "cell_type": "code",
      "metadata": {
        "colab": {
          "base_uri": "https://localhost:8080/",
          "height": 209
        },
        "id": "DzZohiA0CTeS",
        "outputId": "7ee00f3d-716d-40e3-ca7b-92c854489981"
      },
      "source": [
        "print(\"dog\")\n",
        "\"dog\".remove(\"o\")"
      ],
      "execution_count": null,
      "outputs": [
        {
          "output_type": "stream",
          "name": "stdout",
          "text": [
            "dog\n"
          ]
        },
        {
          "output_type": "error",
          "ename": "AttributeError",
          "evalue": "ignored",
          "traceback": [
            "\u001b[0;31m---------------------------------------------------------------------------\u001b[0m",
            "\u001b[0;31mAttributeError\u001b[0m                            Traceback (most recent call last)",
            "\u001b[0;32m<ipython-input-128-982351de6f0a>\u001b[0m in \u001b[0;36m<module>\u001b[0;34m()\u001b[0m\n\u001b[1;32m      1\u001b[0m \u001b[0mprint\u001b[0m\u001b[0;34m(\u001b[0m\u001b[0;34m\"dog\"\u001b[0m\u001b[0;34m)\u001b[0m\u001b[0;34m\u001b[0m\u001b[0;34m\u001b[0m\u001b[0m\n\u001b[0;32m----> 2\u001b[0;31m \u001b[0;34m\"dog\"\u001b[0m\u001b[0;34m.\u001b[0m\u001b[0mremove\u001b[0m\u001b[0;34m(\u001b[0m\u001b[0;34m\"o\"\u001b[0m\u001b[0;34m)\u001b[0m\u001b[0;34m\u001b[0m\u001b[0;34m\u001b[0m\u001b[0m\n\u001b[0m",
            "\u001b[0;31mAttributeError\u001b[0m: 'str' object has no attribute 'remove'"
          ]
        }
      ]
    },
    {
      "cell_type": "code",
      "metadata": {
        "colab": {
          "base_uri": "https://localhost:8080/"
        },
        "id": "ZccywU0eDFrW",
        "outputId": "fb9aa800-2536-4946-b2c5-6c917003bdb1"
      },
      "source": [
        "xd = ['this is line a', ' this is line b', ' this is line c', '']\n",
        "print(\"type of xd:\", type(xd))\n",
        "xd[3]\n",
        "print(\"index of '':\", xd.index(\"\"))\n",
        "\n",
        "del(xd[3])\n",
        "print(\"list after deletion:\", xd)\n"
      ],
      "execution_count": null,
      "outputs": [
        {
          "output_type": "stream",
          "name": "stdout",
          "text": [
            "type of xd: <class 'list'>\n",
            "index of '': 3\n",
            "list after deletion: ['this is line a', ' this is line b', ' this is line c']\n"
          ]
        }
      ]
    },
    {
      "cell_type": "code",
      "metadata": {
        "colab": {
          "base_uri": "https://localhost:8080/"
        },
        "id": "aR4fneuuGwzQ",
        "outputId": "37108ce6-69d2-4d2f-b9a2-453d22bc7577"
      },
      "source": [
        "xd2 = ['this is line 1a', ' this is line 2b', ' this is line 3c', '']\n",
        "xd2copy = xd2[:]\n",
        "del(xd2[xd2.index('')])\n",
        "print(\"xd2 modified:\", xd2)\n",
        "print(\"copy of original xd2:\", xd2copy)"
      ],
      "execution_count": null,
      "outputs": [
        {
          "output_type": "stream",
          "name": "stdout",
          "text": [
            "xd2 modified: ['this is line 1a', ' this is line 2b', ' this is line 3c']\n",
            "copy of original xd2: ['this is line 1a', ' this is line 2b', ' this is line 3c', '']\n"
          ]
        }
      ]
    },
    {
      "cell_type": "code",
      "metadata": {
        "colab": {
          "base_uri": "https://localhost:8080/",
          "height": 36
        },
        "id": "ftY8HbxAztPw",
        "outputId": "3e0971f4-0942-4ee8-e124-f3dd732895ef"
      },
      "source": [
        "abcxd = \"hello\"\n",
        "abcrepl = abcxd.replace(\"h\", '')\n",
        "abcrepl"
      ],
      "execution_count": null,
      "outputs": [
        {
          "output_type": "execute_result",
          "data": {
            "application/vnd.google.colaboratory.intrinsic+json": {
              "type": "string"
            },
            "text/plain": [
              "'ello'"
            ]
          },
          "metadata": {},
          "execution_count": 13
        }
      ]
    },
    {
      "cell_type": "code",
      "metadata": {
        "colab": {
          "base_uri": "https://localhost:8080/"
        },
        "id": "NukYhX2FFjgc",
        "outputId": "51166124-9566-400a-c6a0-f075938a2943"
      },
      "source": [
        "cba = [\"hello\\n\", \"hi\\n\", \"bye\\n\"]\n",
        "#print(cba[0])\n",
        "#print(cba[0][0])\n",
        "#del(cba[cba[0]])\n",
        "#del(cba[cba.replace(\"h\",'')])\n",
        "#cba.index[cba.replace(\"h\",'')]\n",
        "\n",
        "for word in cba:\n",
        "  xba = word.replace(\"h\",'x')\n",
        "  print(xba)\n",
        "\n"
      ],
      "execution_count": null,
      "outputs": [
        {
          "output_type": "stream",
          "name": "stdout",
          "text": [
            "xello\n",
            "\n",
            "xi\n",
            "\n",
            "bye\n",
            "\n"
          ]
        }
      ]
    },
    {
      "cell_type": "code",
      "metadata": {
        "colab": {
          "base_uri": "https://localhost:8080/"
        },
        "id": "fhM2mWgWYc--",
        "outputId": "dd64a974-43e6-4f26-ee2a-4f2bd40b5515"
      },
      "source": [
        "cba = [\"hello\\n\", \"hi\\n\", \"bye\\n\"]\n",
        "print(cba)\n",
        "\n",
        "print(\"\")\n",
        "\n",
        "xnba = []\n",
        "\n",
        "for word in cba:\n",
        "  xnba = word.replace(\"\\n\",'')\n",
        "  print(xnba)\n",
        "\n",
        "print(xnba)"
      ],
      "execution_count": null,
      "outputs": [
        {
          "output_type": "stream",
          "name": "stdout",
          "text": [
            "['hello\\n', 'hi\\n', 'bye\\n']\n",
            "\n",
            "hello\n",
            "hi\n",
            "bye\n",
            "bye\n"
          ]
        }
      ]
    },
    {
      "cell_type": "code",
      "metadata": {
        "colab": {
          "base_uri": "https://localhost:8080/"
        },
        "id": "01-ddc6MdK6E",
        "outputId": "8e90ea31-e0dd-4893-ca96-d5d3ab95287e"
      },
      "source": [
        "Lines2 = (\"This is line A\\n. This is line B\\n, This is line C\\n\")\n",
        "\n",
        "class Calculations1(object):\n",
        "  \n",
        "  def __init__ (self, text):\n",
        "    formattedTxt = text.replace('.','').replace(',','')\n",
        "\n",
        "    formattedTxt = formattedTxt.lower()\n",
        "\n",
        "    self.formTxt = formattedTxt\n",
        "\n",
        "\n",
        "  def freqDict(self):\n",
        "    wordList = self.formTxt.split('\\n')\n",
        "    print(\"wordList after split of \\\\n:\", wordList)\n",
        "    print(\"length after split of \\\\n:\", len(wordList))\n",
        "    del(wordList[wordList.index('')])\n",
        "    print(\"after '' removal:\", wordList)\n",
        "    print(\"length after '' removal:\", len(wordList))\n",
        "    print(type(wordList))\n",
        "\n",
        "    freqMap = {}\n",
        "    for word in set(wordList):\n",
        "      freqMap[word] = wordList.count(word)\n",
        "      \n",
        "    return freqMap\n",
        "\n",
        "\n",
        "  def freqMapOf(self, word):\n",
        "    MapDict = self.freqDict()\n",
        "\n",
        "    if word in MapDict:\n",
        "      return MapDict[word]\n",
        "    else:\n",
        "      return 0, MapDict\n",
        "\n",
        "print(Lines2)\n",
        "print(\"Length of original string:\", len(Lines2), \"characters\")\n",
        "print(type(Lines2))\n",
        "sampleLines2 = Calculations1(Lines2)\n",
        "print(type(sampleLines2))\n",
        "print(sampleLines2.formTxt)\n",
        "print(type(sampleLines2.formTxt))\n",
        "print(sampleLines2.freqDict())\n",
        "#print(sampleLines2.freqMapOf(Lines2))\n"
      ],
      "execution_count": null,
      "outputs": [
        {
          "output_type": "stream",
          "name": "stdout",
          "text": [
            "This is line A\n",
            ". This is line B\n",
            ", This is line C\n",
            "\n",
            "Length of original string: 49 characters\n",
            "<class 'str'>\n",
            "<class '__main__.Calculations1'>\n",
            "this is line a\n",
            " this is line b\n",
            " this is line c\n",
            "\n",
            "<class 'str'>\n",
            "wordList after split of \\n: ['this is line a', ' this is line b', ' this is line c', '']\n",
            "length after split of \\n: 4\n",
            "after '' removal: ['this is line a', ' this is line b', ' this is line c']\n",
            "length after '' removal: 3\n",
            "<class 'list'>\n",
            "{' this is line c': 1, 'this is line a': 1, ' this is line b': 1}\n"
          ]
        }
      ]
    },
    {
      "cell_type": "code",
      "metadata": {
        "id": "epgMBgzpWMrQ",
        "colab": {
          "base_uri": "https://localhost:8080/"
        },
        "outputId": "c49826f1-3a95-4731-e251-b5bbabac870d"
      },
      "source": [
        "# Sample list of text\n",
        "\n",
        "Lines = [\"This is line A\\n\", \"This is line B\\n\", \"This is line C\\n\"]\n",
        "Lines"
      ],
      "execution_count": null,
      "outputs": [
        {
          "output_type": "execute_result",
          "data": {
            "text/plain": [
              "['This is line A\\n', 'This is line B\\n', 'This is line C\\n']"
            ]
          },
          "metadata": {},
          "execution_count": 25
        }
      ]
    },
    {
      "cell_type": "code",
      "metadata": {
        "id": "OhhSCMLOWMrQ"
      },
      "source": [
        "# Write the strings in the list to text file\n",
        "\n",
        "with open('Example2.txt', 'w') as writefile:\n",
        "    for line in Lines:\n",
        "        print(line)\n",
        "        writefile.write(line)"
      ],
      "execution_count": null,
      "outputs": []
    },
    {
      "cell_type": "code",
      "metadata": {
        "colab": {
          "base_uri": "https://localhost:8080/",
          "height": 36
        },
        "id": "QCfB5EtbEsc5",
        "outputId": "47136176-7196-4435-c8a1-e077bc016f73"
      },
      "source": [
        "exmp2"
      ],
      "execution_count": null,
      "outputs": [
        {
          "output_type": "execute_result",
          "data": {
            "application/vnd.google.colaboratory.intrinsic+json": {
              "type": "string"
            },
            "text/plain": [
              "'Example2.txt'"
            ]
          },
          "metadata": {},
          "execution_count": 28
        }
      ]
    },
    {
      "cell_type": "code",
      "metadata": {
        "colab": {
          "base_uri": "https://localhost:8080/"
        },
        "id": "B7ZIiPLnDsVl",
        "outputId": "6479b010-8cf7-4fd6-e25d-2d711f0801f9"
      },
      "source": [
        "with open('Example2.txt', 'w') as writefile:\n",
        "  for line in Lines:\n",
        "    print(line)\n",
        "    writefile.write(line)"
      ],
      "execution_count": null,
      "outputs": [
        {
          "output_type": "stream",
          "name": "stdout",
          "text": [
            "This is line A\n",
            "\n",
            "This is line B\n",
            "\n",
            "This is line C\n",
            "\n"
          ]
        }
      ]
    },
    {
      "cell_type": "markdown",
      "metadata": {
        "id": "wlhVXKNsWMrR"
      },
      "source": [
        "We can verify the file is written by reading it and printing out the values:\n"
      ]
    },
    {
      "cell_type": "code",
      "metadata": {
        "id": "yOcXIxCHWMrS"
      },
      "source": [
        "# Verify if writing to file is successfully executed\n",
        "\n",
        "with open('Example2.txt', 'r') as testwritefile:\n",
        "    print(testwritefile.read())"
      ],
      "execution_count": null,
      "outputs": []
    },
    {
      "cell_type": "code",
      "metadata": {
        "colab": {
          "base_uri": "https://localhost:8080/"
        },
        "id": "dObrg_ZsE-g3",
        "outputId": "e33bd299-4fc1-4a19-a2e7-5083a458eceb"
      },
      "source": [
        "with open('Example2.txt', 'r') as testwritefile:\n",
        "  print(testwritefile.read())"
      ],
      "execution_count": null,
      "outputs": [
        {
          "output_type": "stream",
          "name": "stdout",
          "text": [
            "This is line A\n",
            "This is line B\n",
            "This is line C\n",
            "\n"
          ]
        }
      ]
    },
    {
      "cell_type": "markdown",
      "metadata": {
        "id": "PZFTMtc9WMrS"
      },
      "source": [
        "However, note that setting the mode to **w** overwrites all the existing data in the file.\n"
      ]
    },
    {
      "cell_type": "code",
      "metadata": {
        "id": "neOYWzHDWMrS"
      },
      "source": [
        "with open('Example2.txt', 'w') as writefile:\n",
        "    writefile.write(\"Overwrite\\n\")\n",
        "with open('Example2.txt', 'r') as testwritefile:\n",
        "    print(testwritefile.read())"
      ],
      "execution_count": null,
      "outputs": []
    },
    {
      "cell_type": "code",
      "metadata": {
        "colab": {
          "base_uri": "https://localhost:8080/"
        },
        "id": "apD-bcJPFU_q",
        "outputId": "d46a3cad-610d-4dc3-cdcb-5134aa4261cb"
      },
      "source": [
        "with open('Example2.txt', 'w') as writefile:\n",
        "  writefile.write(\"Overwrite\\n\")\n",
        "with open('Example2.txt', 'r') as testwritefile:\n",
        "  print(testwritefile.read())"
      ],
      "execution_count": null,
      "outputs": [
        {
          "output_type": "stream",
          "name": "stdout",
          "text": [
            "Overwrite\n",
            "\n"
          ]
        }
      ]
    },
    {
      "cell_type": "markdown",
      "metadata": {
        "id": "EeLSJuYpWMrS"
      },
      "source": [
        "<hr>\n",
        "<h2 id=\"Append\">Appending Files</h2>\n"
      ]
    },
    {
      "cell_type": "markdown",
      "metadata": {
        "id": "y20qpyVXWMrT"
      },
      "source": [
        "We can write to files without losing any of the existing data as follows by setting the mode argument to append: **a**.  you can append a new line as follows:\n"
      ]
    },
    {
      "cell_type": "code",
      "metadata": {
        "id": "-UrESMrEWMrT"
      },
      "source": [
        "# Write a new line to text file\n",
        "\n",
        "with open('Example2.txt', 'a') as testwritefile:\n",
        "    testwritefile.write(\"This is line C\\n\")\n",
        "    testwritefile.write(\"This is line D\\n\")\n",
        "    testwritefile.write(\"This is line E\\n\")"
      ],
      "execution_count": null,
      "outputs": []
    },
    {
      "cell_type": "code",
      "metadata": {
        "id": "sNQFOZAjFnNT"
      },
      "source": [
        "with open('Example2.txt', 'a') as testwritefile:\n",
        "  testwritefile.write(\"This is line C\\n\")\n",
        "  testwritefile.write(\"This is line D\\n\")\n",
        "  testwritefile.write(\"This is line E\\n\")"
      ],
      "execution_count": null,
      "outputs": []
    },
    {
      "cell_type": "markdown",
      "metadata": {
        "id": "MJ_NOKhwWMrT"
      },
      "source": [
        "You can verify the file has changed by running the following cell:\n"
      ]
    },
    {
      "cell_type": "code",
      "metadata": {
        "id": "iZS9BT4hWMrU",
        "colab": {
          "base_uri": "https://localhost:8080/"
        },
        "outputId": "33d8144e-a09d-4777-bf7f-bd5ef864781e"
      },
      "source": [
        "# Verify if the new line is in the text file\n",
        "\n",
        "with open('Example2.txt', 'r') as testwritefile:\n",
        "    print(testwritefile.read())"
      ],
      "execution_count": null,
      "outputs": [
        {
          "output_type": "stream",
          "name": "stdout",
          "text": [
            "This is line 1 \n",
            "This is line 2\n",
            "This is line 3This is line E\n",
            "\n"
          ]
        }
      ]
    },
    {
      "cell_type": "code",
      "metadata": {
        "colab": {
          "base_uri": "https://localhost:8080/"
        },
        "id": "a5gsAJXUG69B",
        "outputId": "63487623-d359-45ad-d2a9-b958fc493231"
      },
      "source": [
        "with open('Example2.txt', 'r') as testwritefile:\n",
        "  print(testwritefile.read())"
      ],
      "execution_count": null,
      "outputs": [
        {
          "output_type": "stream",
          "name": "stdout",
          "text": [
            "This is line 1 \n",
            "This is line 2\n",
            "This is line 3This is line E\n",
            "\n"
          ]
        }
      ]
    },
    {
      "cell_type": "markdown",
      "metadata": {
        "id": "5UnpqjvYWMrU"
      },
      "source": [
        "<hr>\n",
        "<h2 id=\"add\">Additional modes</h2> \n"
      ]
    },
    {
      "cell_type": "markdown",
      "metadata": {
        "id": "dOLYu54DWMrU"
      },
      "source": [
        "It's fairly ineffecient to open the file in **a** or **w** and then reopening it in **r** to read any lines. Luckily we can access the file in the following modes:\n",
        "\n",
        "*   **r+** : Reading and writing. Cannot truncate the file.\n",
        "*   **w+** : Writing and reading. Truncates the file.\n",
        "*   **a+** : Appending and Reading. Creates a new file, if none exists.\n",
        "\n",
        "You dont have to dwell on the specifics of each mode for this lab.\n"
      ]
    },
    {
      "cell_type": "markdown",
      "metadata": {
        "id": "-sdt3DaXWMrV"
      },
      "source": [
        "Let's try out the **a+** mode:\n"
      ]
    },
    {
      "cell_type": "code",
      "metadata": {
        "id": "r8mWL1nvWMrV"
      },
      "source": [
        "with open('Example2.txt', 'a+') as testwritefile:\n",
        "    testwritefile.write(\"This is line E\\n\")\n",
        "    print(testwritefile.read())"
      ],
      "execution_count": null,
      "outputs": []
    },
    {
      "cell_type": "code",
      "metadata": {
        "colab": {
          "base_uri": "https://localhost:8080/"
        },
        "id": "-N09uveBIdRz",
        "outputId": "92dc943c-69c5-452d-c326-e204fad756a5"
      },
      "source": [
        "with open('Example2.txt', 'a+') as  testwritefile:\n",
        "  testwritefile.write(\"This is line E\\n\")\n",
        "  print(testwritefile.read())"
      ],
      "execution_count": null,
      "outputs": [
        {
          "output_type": "stream",
          "name": "stdout",
          "text": [
            "\n"
          ]
        }
      ]
    },
    {
      "cell_type": "markdown",
      "metadata": {
        "id": "7y4vqiRVWMrW"
      },
      "source": [
        "There were no errors but <code>read()</code> also did not output anything. This is because of our location in the file.\n"
      ]
    },
    {
      "cell_type": "markdown",
      "metadata": {
        "id": "yxR3yu77WMrW"
      },
      "source": [
        "Most of the file methods we've looked at work in a certain location in the file. <code>.write() </code> writes at a certain location in the file. <code>.read()</code> reads at a certain location in the file and so on. You can think of this as moving your pointer around in the notepad to make changes at specific location.\n"
      ]
    },
    {
      "cell_type": "markdown",
      "metadata": {
        "id": "0LDGarQ5WMrX"
      },
      "source": [
        "Opening the file in **w** is akin to opening the .txt file, moving your cursor to the beginning of the text file, writing new text and deleting everything that follows.\n",
        "Whereas opening the file in **a** is similiar to opening the .txt file, moving your cursor to the very end and then adding the new pieces of text. <br>\n",
        "It is often very useful to know where the 'cursor' is in a file and be able to control it. The following methods allow us to do precisely this -\n",
        "\n",
        "*   <code>.tell()</code> - returns the current position in bytes\n",
        "*   <code>.seek(offset,from)</code> - changes the position by 'offset' bytes with respect to 'from'. From can take the value of 0,1,2 corresponding to beginning, relative to current position and end\n"
      ]
    },
    {
      "cell_type": "markdown",
      "metadata": {
        "id": "dKJeMTtEWMrX"
      },
      "source": [
        "Now lets revisit **a+**\n"
      ]
    },
    {
      "cell_type": "code",
      "metadata": {
        "id": "HOOmEWXSWMrX"
      },
      "source": [
        "with open('Example2.txt', 'a+') as testwritefile:\n",
        "    print(\"Initial Location: {}\".format(testwritefile.tell()))\n",
        "    \n",
        "    data = testwritefile.read()\n",
        "    if (not data):  #empty strings return false in python\n",
        "            print('Read nothing') \n",
        "    else: \n",
        "            print(testwritefile.read())\n",
        "            \n",
        "    testwritefile.seek(0,0) # move 0 bytes from beginning.\n",
        "    \n",
        "    print(\"\\nNew Location : {}\".format(testwritefile.tell()))\n",
        "    data = testwritefile.read()\n",
        "    if (not data): \n",
        "            print('Read nothing') \n",
        "    else: \n",
        "            print(data)\n",
        "    \n",
        "    print(\"Location after read: {}\".format(testwritefile.tell()) )"
      ],
      "execution_count": null,
      "outputs": []
    },
    {
      "cell_type": "code",
      "metadata": {
        "colab": {
          "base_uri": "https://localhost:8080/"
        },
        "id": "cd3A302fKsZO",
        "outputId": "241fd291-fdb4-4650-e30f-699329453cb1"
      },
      "source": [
        "with open('Example2.txt', 'a+') as testwritefile:\n",
        "  print(\"Initial Location: {}\".format(testwritefile.tell()))\n",
        "\n",
        "  data = testwritefile.read()\n",
        "  if (not data):\n",
        "    print('Read nothing')\n",
        "  else:\n",
        "    print(data)\n",
        "\n",
        "  testwritefile.seek(0,0)\n",
        "\n",
        "  print(\"\\nNew Location: {}\".format(testwritefile.tell()))\n",
        "  data = testwritefile.read()\n",
        "  if (not data):\n",
        "    print('Read nothing')\n",
        "  else:\n",
        "    print(data)\n",
        "\n",
        "  print(\"Location after read: {}\".format(testwritefile.tell()))\n"
      ],
      "execution_count": null,
      "outputs": [
        {
          "output_type": "stream",
          "name": "stdout",
          "text": [
            "Initial Location: 150\n",
            "Read nothing\n",
            "\n",
            "New Location: 0\n",
            "This is line 1 \n",
            "This is line 2\n",
            "This is line 3This is line E\n",
            "This is line C\n",
            "This is line D\n",
            "This is line E\n",
            "This is line C\n",
            "This is line D\n",
            "This is line E\n",
            "\n",
            "Location after read: 150\n"
          ]
        }
      ]
    },
    {
      "cell_type": "markdown",
      "metadata": {
        "id": "mCC3TjOVWMrY"
      },
      "source": [
        "Finally, a note on the difference between **w+** and **r+**. Both of these modes allow access to read and write methods, however, opening a file in **w+** overwrites it and deletes all pre-existing data. <br>\n",
        "To work with a file on existing data, use **r+** and **a+**. While using **r+**, it can be useful to add a <code>.truncate()</code> method at the end of your data. This will reduce the file to your data and delete everything that follows. <br>\n",
        "In the following code block, Run the code as it is first and then run it with the <code>.truncate()</code>.\n"
      ]
    },
    {
      "cell_type": "code",
      "metadata": {
        "id": "MHBe3N8SWMrY"
      },
      "source": [
        "with open('Example2.txt', 'r+') as testwritefile:\n",
        "    data = testwritefile.readlines()\n",
        "    testwritefile.seek(0,0) #write at beginning of file\n",
        "   \n",
        "    testwritefile.write(\"Line 1\" + \"\\n\")\n",
        "    testwritefile.write(\"Line 2\" + \"\\n\")\n",
        "    testwritefile.write(\"Line 3\" + \"\\n\")\n",
        "    testwritefile.write(\"finished\\n\")\n",
        "    #Uncomment the line below\n",
        "    #testwritefile.truncate()\n",
        "    testwritefile.seek(0,0)\n",
        "    print(testwritefile.read())\n",
        "    "
      ],
      "execution_count": null,
      "outputs": []
    },
    {
      "cell_type": "code",
      "metadata": {
        "colab": {
          "base_uri": "https://localhost:8080/"
        },
        "id": "0xnkFlJvP6qj",
        "outputId": "f8cc1cc6-9e18-4e43-a406-c7bf0ce5c6d4"
      },
      "source": [
        "# without .truncate()\n",
        "\n",
        "with open('Example2.txt', 'r+') as testwritefile:\n",
        "  data = testwritefile.readlines()\n",
        "  testwritefile.seek(0,0)\n",
        "\n",
        "  testwritefile.write(\"Line 1\" + \"\\n\")\n",
        "  testwritefile.write(\"Line 2\" + \"\\n\")\n",
        "  testwritefile.write(\"Line 3\" + \"\\n\")\n",
        "  testwritefile.write(\"finished\\n\")\n",
        "  #Uncomment the line below\n",
        "  #testwritefile.truncate()\n",
        "  testwritefile.seek(0,0)\n",
        "  print(testwritefile.read())"
      ],
      "execution_count": null,
      "outputs": [
        {
          "output_type": "stream",
          "name": "stdout",
          "text": [
            "Line 1\n",
            "Line 2\n",
            "Line 3\n",
            "finished\n",
            "e 1.2\n",
            "Line 2.2\n",
            "Line 3.2\n",
            "finished1\n",
            "\n"
          ]
        }
      ]
    },
    {
      "cell_type": "code",
      "metadata": {
        "colab": {
          "base_uri": "https://localhost:8080/"
        },
        "id": "Tm5nd9B_SllR",
        "outputId": "7c8bac93-f8ce-4c6c-a02e-1deb867a2d2f"
      },
      "source": [
        "print(data)\n",
        "print(type(data))\n",
        "data"
      ],
      "execution_count": null,
      "outputs": [
        {
          "output_type": "stream",
          "name": "stdout",
          "text": [
            "['Line 1\\n', 'Line 2\\n', 'Line 3\\n', 'finished\\n', 'e 1.2\\n', 'Line 2.2\\n', 'Line 3.2\\n', 'finished1\\n']\n",
            "<class 'list'>\n"
          ]
        },
        {
          "output_type": "execute_result",
          "data": {
            "text/plain": [
              "['Line 1\\n',\n",
              " 'Line 2\\n',\n",
              " 'Line 3\\n',\n",
              " 'finished\\n',\n",
              " 'e 1.2\\n',\n",
              " 'Line 2.2\\n',\n",
              " 'Line 3.2\\n',\n",
              " 'finished1\\n']"
            ]
          },
          "metadata": {},
          "execution_count": 75
        }
      ]
    },
    {
      "cell_type": "code",
      "metadata": {
        "colab": {
          "base_uri": "https://localhost:8080/"
        },
        "id": "AfQXDF-nTC95",
        "outputId": "392a2bd2-2566-443a-f789-dd377bb709e6"
      },
      "source": [
        "# with .truncate()\n",
        "\n",
        "with open('Example2.txt', 'r+') as testwritefile:\n",
        "  data1 = testwritefile.readlines()\n",
        "  testwritefile.seek(0,0)\n",
        "\n",
        "  testwritefile.write(\"Line 1.1\" + \"\\n\")\n",
        "  testwritefile.write(\"Line 2.1\" + \"\\n\")\n",
        "  testwritefile.write(\"Line 3.1\" + \"\\n\")\n",
        "  testwritefile.write(\"Line 1.2\\n\")\n",
        "  testwritefile.write(\"Line 2.2\\n\")\n",
        "  testwritefile.write(\"Line 3.2\\n\") \n",
        "  testwritefile.write(\"finished1\\n\")\n",
        "  \n",
        "  testwritefile.truncate()\n",
        "  testwritefile.seek(0,0)\n",
        "  print(testwritefile.read())"
      ],
      "execution_count": null,
      "outputs": [
        {
          "output_type": "stream",
          "name": "stdout",
          "text": [
            "Line 1.1\n",
            "Line 2.1\n",
            "Line 3.1\n",
            "Line 1.2\n",
            "Line 2.2\n",
            "Line 3.2\n",
            "finished1\n",
            "\n"
          ]
        }
      ]
    },
    {
      "cell_type": "code",
      "metadata": {
        "colab": {
          "base_uri": "https://localhost:8080/"
        },
        "id": "ablpqWJhUYxn",
        "outputId": "27456aa0-d1cc-4f76-d677-50ead2295b16"
      },
      "source": [
        "print(data1)\n",
        "print(type(data1))\n",
        "data1"
      ],
      "execution_count": null,
      "outputs": [
        {
          "output_type": "stream",
          "name": "stdout",
          "text": [
            "['Line 1.1\\n', 'Line 2.1\\n', 'Line 3.1\\n', 'Line 1.2\\n', 'Line 2.2\\n', 'Line 3.2\\n', 'finished1\\n']\n",
            "<class 'list'>\n"
          ]
        },
        {
          "output_type": "execute_result",
          "data": {
            "text/plain": [
              "['Line 1.1\\n',\n",
              " 'Line 2.1\\n',\n",
              " 'Line 3.1\\n',\n",
              " 'Line 1.2\\n',\n",
              " 'Line 2.2\\n',\n",
              " 'Line 3.2\\n',\n",
              " 'finished1\\n']"
            ]
          },
          "metadata": {},
          "execution_count": 86
        }
      ]
    },
    {
      "cell_type": "markdown",
      "metadata": {
        "id": "fYJwaffLWMrY"
      },
      "source": [
        "<hr>\n"
      ]
    },
    {
      "cell_type": "markdown",
      "metadata": {
        "id": "IhJMhrGHWMrZ"
      },
      "source": [
        "<h2 id=\"copy\">Copy a File</h2> \n"
      ]
    },
    {
      "cell_type": "markdown",
      "metadata": {
        "id": "4qDb7mzyWMrZ"
      },
      "source": [
        "Let's copy the file **Example2.txt** to the file **Example3.txt**:\n"
      ]
    },
    {
      "cell_type": "code",
      "metadata": {
        "id": "PVt2fepwWMrZ"
      },
      "source": [
        "# Copy file to another\n",
        "\n",
        "with open('Example2.txt','r') as readfile:\n",
        "    with open('Example3.txt','w') as writefile:\n",
        "          for line in readfile:\n",
        "                writefile.write(line)"
      ],
      "execution_count": null,
      "outputs": []
    },
    {
      "cell_type": "code",
      "metadata": {
        "id": "_QveD137VAVO"
      },
      "source": [
        "with open('Example2.txt','r') as readfile:\n",
        "  with open('Example3.txt','w') as writefile:\n",
        "    for line in readfile:\n",
        "      writefile.write(line)"
      ],
      "execution_count": null,
      "outputs": []
    },
    {
      "cell_type": "markdown",
      "metadata": {
        "id": "2fmSVfpMWMrZ"
      },
      "source": [
        "We can read the file to see if everything works:\n"
      ]
    },
    {
      "cell_type": "code",
      "metadata": {
        "id": "Q_oa4jN4WMrZ"
      },
      "source": [
        "# Verify if the copy is successfully executed\n",
        "\n",
        "with open('Example3.txt','r') as testwritefile:\n",
        "    print(testwritefile.read())"
      ],
      "execution_count": null,
      "outputs": []
    },
    {
      "cell_type": "code",
      "metadata": {
        "colab": {
          "base_uri": "https://localhost:8080/"
        },
        "id": "LYnNeXUEVT9X",
        "outputId": "617e4f8a-c5ef-4b3f-9125-0a2c1702e4f2"
      },
      "source": [
        "with open('Example3.txt','r') as testwritefile:\n",
        "  print(testwritefile.read())"
      ],
      "execution_count": null,
      "outputs": [
        {
          "output_type": "stream",
          "name": "stdout",
          "text": [
            "Line 1.1\n",
            "Line 2.1\n",
            "Line 3.1\n",
            "Line 1.2\n",
            "Line 2.2\n",
            "Line 3.2\n",
            "finished1\n",
            "\n"
          ]
        }
      ]
    },
    {
      "cell_type": "markdown",
      "metadata": {
        "id": "zP8K80VkWMra"
      },
      "source": [
        "After reading files, we can also write data into files and save them in different file formats like **.txt, .csv, .xls (for excel files) etc**. You will come across these in further examples\n"
      ]
    },
    {
      "cell_type": "markdown",
      "metadata": {
        "id": "MlCpHtDlWMrb"
      },
      "source": [
        "Now go to the directory to ensure the **.txt** file exists and contains the summary data that we wrote.\n"
      ]
    },
    {
      "cell_type": "code",
      "metadata": {
        "colab": {
          "base_uri": "https://localhost:8080/"
        },
        "id": "G2KqzMnNW4zW",
        "outputId": "05fd9c3f-8582-40ad-f89f-b77014082078"
      },
      "source": [
        "!wget -O /resources/data/Example3.txt"
      ],
      "execution_count": null,
      "outputs": [
        {
          "output_type": "stream",
          "name": "stdout",
          "text": [
            "wget: missing URL\n",
            "Usage: wget [OPTION]... [URL]...\n",
            "\n",
            "Try `wget --help' for more options.\n"
          ]
        }
      ]
    },
    {
      "cell_type": "markdown",
      "metadata": {
        "id": "5Goi4BQoWMrb"
      },
      "source": [
        "<hr>\n"
      ]
    },
    {
      "cell_type": "markdown",
      "metadata": {
        "id": "7AfrknfOWMrb"
      },
      "source": [
        "<h2> Exercise </h2>\n"
      ]
    },
    {
      "cell_type": "markdown",
      "metadata": {
        "id": "WOT480d6WMrb"
      },
      "source": [
        "Your local university's Raptors fan club maintains a register of its active members on a .txt document. Every month they update the file by removing the members who are not active. You have been tasked with automating this with your Python skills. <br>\n",
        "Given the file currentMem, Remove each member with a 'no' in their Active coloumn. Keep track of each of the removed members and append them to the exMem file. Make sure the format of the original files in preserved.   (*Hint: Do this by reading/writing whole lines and ensuring the header remains* ) <br>\n",
        "Run the code block below prior to starting the exercise. The skeleton code has been provided for you, Edit only the cleanFiles function.\n"
      ]
    },
    {
      "cell_type": "code",
      "metadata": {
        "colab": {
          "base_uri": "https://localhost:8080/"
        },
        "id": "yhLkeGZ79Y4c",
        "outputId": "9f2eef07-dc3e-43d9-d969-5983f9897c7b"
      },
      "source": [
        "!python -V"
      ],
      "execution_count": null,
      "outputs": [
        {
          "output_type": "stream",
          "name": "stdout",
          "text": [
            "Python 3.7.12\n"
          ]
        }
      ]
    },
    {
      "cell_type": "code",
      "metadata": {
        "id": "yM4ZwZG5WMrb"
      },
      "source": [
        "#Run this prior to starting the exercise\n",
        "from random import randint as rnd\n",
        "\n",
        "memReg = 'members.txt'\n",
        "exReg = 'inactive.txt'\n",
        "fee =('yes','no')\n",
        "\n",
        "def genFiles(current,old):\n",
        "    with open(current,'w+') as writefile: \n",
        "        writefile.write('Membership No  Date Joined  Active  \\n')\n",
        "        data = \"{:^13}  {:<11}  {:<6}\\n\"\n",
        "\n",
        "        for rowno in range(20):\n",
        "            date = str(rnd(2015,2020))+ '-' + str(rnd(1,12))+'-'+str(rnd(1,25))\n",
        "            writefile.write(data.format(rnd(10000,99999),date,fee[rnd(0,1)]))\n",
        "\n",
        "\n",
        "    with open(old,'w+') as writefile: \n",
        "        writefile.write('Membership No  Date Joined  Active  \\n')\n",
        "        data = \"{:^13}  {:<11}  {:<6}\\n\" # number of characters of each header title \"Membership NO\" = 13; \"Date Joined\" = 11; \"Active\" = 6\n",
        "        for rowno in range(3):\n",
        "            date = str(rnd(2015,2020))+ '-' + str(rnd(1,12))+'-'+str(rnd(1,25))\n",
        "            writefile.write(data.format(rnd(10000,99999),date,fee[1]))\n",
        "\n",
        "\n",
        "genFiles(memReg,exReg)\n"
      ],
      "execution_count": 6,
      "outputs": []
    },
    {
      "cell_type": "code",
      "metadata": {
        "id": "u35alsFcFKXN"
      },
      "source": [
        "#my copied version\n",
        "\n",
        "from random import randint as rnd\n",
        "\n",
        "memReg = 'members.txt'\n",
        "exReg = 'inactive.txt'\n",
        "fee = ('yes', 'no')\n",
        "\n",
        "def genFiles(current, old):\n",
        "  with open(current, 'w+') as writefile:\n",
        "    writefile.write('Membership No  Date Joined  Active  \\n')\n",
        "    data = \"{:^13}  {:<11}  {:<6}\\n\"\n",
        "\n",
        "    for rowno in range(20):\n",
        "      date = str(rnd(2015,2020))+ '-' + str(rnd(1,12)) + '-' + str(rnd(1,25))\n",
        "      writefile.write(data.format(rnd(10000,99999),date,fee[rnd(0,1)]))\n",
        "\n",
        "  with open(old, 'w+') as writefile:\n",
        "    writefile.write('Membership No  Date Joined  Active  \\n')\n",
        "    data = \"{:^13}  {:<11}  {:<6}\\n\"\n",
        "\n",
        "    for rowno in range(3):\n",
        "      date = str(rnd(2015,2020)) + '-' + str(rnd(1,12)) + '-' + str(rnd(1,25))\n",
        "      writefile.write(data.format(rnd(10000,99999),date,fee[1]))\n",
        "\n",
        "genFiles(memReg,exReg)\n",
        "\n",
        "# these are basically copies of the memReg and exReg in order to later show the differences between the original data sets and the cleaned up data set\n",
        "memRegclean = 'membersClean.txt'\n",
        "exRegclean = 'inactiveClean.txt'\n",
        "\n",
        "genFiles(memRegclean,exRegclean)"
      ],
      "execution_count": 176,
      "outputs": []
    },
    {
      "cell_type": "markdown",
      "metadata": {
        "id": "WcJ7NGoxWMrb"
      },
      "source": [
        "Start your solution below:\n"
      ]
    },
    {
      "cell_type": "code",
      "metadata": {
        "colab": {
          "base_uri": "https://localhost:8080/",
          "height": 36
        },
        "id": "g0p23AUUdwIH",
        "outputId": "3abcaf86-5685-4176-df45-0771b25f02b7"
      },
      "source": [
        "memReg"
      ],
      "execution_count": 104,
      "outputs": [
        {
          "output_type": "execute_result",
          "data": {
            "application/vnd.google.colaboratory.intrinsic+json": {
              "type": "string"
            },
            "text/plain": [
              "'members.txt'"
            ]
          },
          "metadata": {},
          "execution_count": 104
        }
      ]
    },
    {
      "cell_type": "code",
      "metadata": {
        "colab": {
          "base_uri": "https://localhost:8080/",
          "height": 36
        },
        "id": "zrmTN1Htd0w-",
        "outputId": "99026258-c145-41a2-927a-8a2600c3f045"
      },
      "source": [
        "memRegclean"
      ],
      "execution_count": 106,
      "outputs": [
        {
          "output_type": "execute_result",
          "data": {
            "application/vnd.google.colaboratory.intrinsic+json": {
              "type": "string"
            },
            "text/plain": [
              "'membersClean.txt'"
            ]
          },
          "metadata": {},
          "execution_count": 106
        }
      ]
    },
    {
      "cell_type": "code",
      "metadata": {
        "colab": {
          "base_uri": "https://localhost:8080/"
        },
        "id": "1YXTVWxheEJr",
        "outputId": "6ed61721-4a4f-415a-b1d2-2922b2aecbfd"
      },
      "source": [
        "open(memRegclean, 'r')"
      ],
      "execution_count": 130,
      "outputs": [
        {
          "output_type": "execute_result",
          "data": {
            "text/plain": [
              "<_io.TextIOWrapper name='membersClean.txt' mode='r' encoding='UTF-8'>"
            ]
          },
          "metadata": {},
          "execution_count": 130
        }
      ]
    },
    {
      "cell_type": "code",
      "metadata": {
        "colab": {
          "base_uri": "https://localhost:8080/"
        },
        "id": "EBUFsoWifzGN",
        "outputId": "23deb376-50b8-43a5-c4e8-ea0d3a6db9ad"
      },
      "source": [
        "print(\"Name: \", open(memRegclean, 'r').name)\n",
        "print(\"Mode: \", open(memRegclean, 'r').mode)\n",
        "print(\"Closed?: \", open(memRegclean, 'r').closed)\n",
        "print(\"Close!: \", open(memRegclean, 'r').close())\n",
        "print(\"Closed?: \", open(memRegclean, 'r').closed)\n",
        "#print(open(memRegclean, 'r').close().closed) -->AttributeError: 'NoneType' object has no attribute 'closed'\n"
      ],
      "execution_count": 142,
      "outputs": [
        {
          "output_type": "stream",
          "name": "stdout",
          "text": [
            "Name:  membersClean.txt\n",
            "Mode:  r\n",
            "Closed?:  False\n",
            "Close!:  None\n",
            "Closed?:  False\n"
          ]
        }
      ]
    },
    {
      "cell_type": "code",
      "metadata": {
        "colab": {
          "base_uri": "https://localhost:8080/",
          "height": 227
        },
        "id": "w1WhKhhAeUHy",
        "outputId": "ee2c5c55-6358-49b2-beb6-bd0c5a1140a1"
      },
      "source": [
        "print(memRegclean.mode)\n",
        "print(memRegclean.name)\n",
        "print(memRegclean.closed)\n",
        "print(memRegclean.close())"
      ],
      "execution_count": 120,
      "outputs": [
        {
          "output_type": "error",
          "ename": "AttributeError",
          "evalue": "ignored",
          "traceback": [
            "\u001b[0;31m---------------------------------------------------------------------------\u001b[0m",
            "\u001b[0;31mAttributeError\u001b[0m                            Traceback (most recent call last)",
            "\u001b[0;32m<ipython-input-120-509a62ae1233>\u001b[0m in \u001b[0;36m<module>\u001b[0;34m()\u001b[0m\n\u001b[0;32m----> 1\u001b[0;31m \u001b[0mprint\u001b[0m\u001b[0;34m(\u001b[0m\u001b[0mmemRegclean\u001b[0m\u001b[0;34m.\u001b[0m\u001b[0mmode\u001b[0m\u001b[0;34m)\u001b[0m\u001b[0;34m\u001b[0m\u001b[0;34m\u001b[0m\u001b[0m\n\u001b[0m\u001b[1;32m      2\u001b[0m \u001b[0mprint\u001b[0m\u001b[0;34m(\u001b[0m\u001b[0mmemRegclean\u001b[0m\u001b[0;34m.\u001b[0m\u001b[0mname\u001b[0m\u001b[0;34m)\u001b[0m\u001b[0;34m\u001b[0m\u001b[0;34m\u001b[0m\u001b[0m\n\u001b[1;32m      3\u001b[0m \u001b[0mprint\u001b[0m\u001b[0;34m(\u001b[0m\u001b[0mmemRegclean\u001b[0m\u001b[0;34m.\u001b[0m\u001b[0mclosed\u001b[0m\u001b[0;34m)\u001b[0m\u001b[0;34m\u001b[0m\u001b[0;34m\u001b[0m\u001b[0m\n\u001b[1;32m      4\u001b[0m \u001b[0mprint\u001b[0m\u001b[0;34m(\u001b[0m\u001b[0mmemRegclean\u001b[0m\u001b[0;34m.\u001b[0m\u001b[0mclose\u001b[0m\u001b[0;34m(\u001b[0m\u001b[0;34m)\u001b[0m\u001b[0;34m)\u001b[0m\u001b[0;34m\u001b[0m\u001b[0;34m\u001b[0m\u001b[0m\n",
            "\u001b[0;31mAttributeError\u001b[0m: 'str' object has no attribute 'mode'"
          ]
        }
      ]
    },
    {
      "cell_type": "code",
      "metadata": {
        "colab": {
          "base_uri": "https://localhost:8080/"
        },
        "id": "eqtZ2phOe6e2",
        "outputId": "15a5dde3-dd18-457f-d1f8-d3b672483564"
      },
      "source": [
        "with open(memRegclean, 'r+') as readfile:\n",
        "  print(readfile.name)\n",
        "  print(readfile.mode)"
      ],
      "execution_count": 126,
      "outputs": [
        {
          "output_type": "stream",
          "name": "stdout",
          "text": [
            "membersClean.txt\n",
            "r+\n"
          ]
        }
      ]
    },
    {
      "cell_type": "code",
      "metadata": {
        "colab": {
          "base_uri": "https://localhost:8080/"
        },
        "id": "72IDmQvzd2vK",
        "outputId": "76b70529-b2af-46dc-fbf1-ac1481e1fdcb"
      },
      "source": [
        "memRegcleanREAD = open(memRegclean, 'r+')\n",
        "print(memRegcleanREAD.mode)\n",
        "print(memRegcleanREAD.name)\n",
        "print(memRegcleanREAD.closed)\n",
        "print(memRegcleanREAD.close())\n",
        "print(memRegcleanREAD.closed)"
      ],
      "execution_count": 123,
      "outputs": [
        {
          "output_type": "stream",
          "name": "stdout",
          "text": [
            "r+\n",
            "membersClean.txt\n",
            "False\n",
            "None\n",
            "True\n"
          ]
        }
      ]
    },
    {
      "cell_type": "code",
      "metadata": {
        "colab": {
          "base_uri": "https://localhost:8080/"
        },
        "id": "2Ovvn-K4cxem",
        "outputId": "10812d0c-5513-4875-d2ef-bd702d3129c4"
      },
      "source": [
        "with open(memReg,\"r\") as readfile:\n",
        "  print(readfile.name)\n",
        "  print(readfile.mode)"
      ],
      "execution_count": 128,
      "outputs": [
        {
          "output_type": "stream",
          "name": "stdout",
          "text": [
            "members.txt\n",
            "r\n"
          ]
        }
      ]
    },
    {
      "cell_type": "code",
      "metadata": {
        "colab": {
          "base_uri": "https://localhost:8080/"
        },
        "id": "unoW1Y4wAle5",
        "outputId": "6d9a64cc-8139-4166-92b8-ebc8b5b68865"
      },
      "source": [
        "type(memReg)"
      ],
      "execution_count": null,
      "outputs": [
        {
          "output_type": "execute_result",
          "data": {
            "text/plain": [
              "str"
            ]
          },
          "metadata": {},
          "execution_count": 7
        }
      ]
    },
    {
      "cell_type": "code",
      "metadata": {
        "colab": {
          "base_uri": "https://localhost:8080/",
          "height": 172
        },
        "id": "aYwRpWcAc91f",
        "outputId": "923c1b66-7212-4b7f-c3e1-1a0df48e7af2"
      },
      "source": [
        "memReg.name"
      ],
      "execution_count": 97,
      "outputs": [
        {
          "output_type": "error",
          "ename": "AttributeError",
          "evalue": "ignored",
          "traceback": [
            "\u001b[0;31m---------------------------------------------------------------------------\u001b[0m",
            "\u001b[0;31mAttributeError\u001b[0m                            Traceback (most recent call last)",
            "\u001b[0;32m<ipython-input-97-47767f9eaed2>\u001b[0m in \u001b[0;36m<module>\u001b[0;34m()\u001b[0m\n\u001b[0;32m----> 1\u001b[0;31m \u001b[0mmemReg\u001b[0m\u001b[0;34m.\u001b[0m\u001b[0mname\u001b[0m\u001b[0;34m\u001b[0m\u001b[0;34m\u001b[0m\u001b[0m\n\u001b[0m",
            "\u001b[0;31mAttributeError\u001b[0m: 'str' object has no attribute 'name'"
          ]
        }
      ]
    },
    {
      "cell_type": "code",
      "metadata": {
        "colab": {
          "base_uri": "https://localhost:8080/"
        },
        "id": "ciUSKkOPAy7-",
        "outputId": "70007b75-f214-486f-f319-150de8dee64b"
      },
      "source": [
        "memreg1 = open(memReg, \"r\")\n",
        "print(memreg1.closed)\n",
        "print(memreg1)\n",
        "print(memreg1.name)\n",
        "print(memreg1.mode)\n",
        "memreg1content = memreg1.read()\n",
        "print(\"Close the open file:\", memreg1.close())\n",
        "print(memreg1.closed)\n",
        "print(memreg1content)"
      ],
      "execution_count": null,
      "outputs": [
        {
          "output_type": "stream",
          "name": "stdout",
          "text": [
            "False\n",
            "<_io.TextIOWrapper name='members.txt' mode='r' encoding='UTF-8'>\n",
            "members.txt\n",
            "r\n",
            "Close the open file: None\n",
            "True\n",
            "Membership No  Date Joined  Active  \n",
            "    98996      2016-8-9     yes   \n",
            "    53739      2015-3-14    yes   \n",
            "    58485      2018-6-18    no    \n",
            "    38077      2017-7-5     yes   \n",
            "    75654      2018-9-18    no    \n",
            "    48452      2016-4-22    yes   \n",
            "    64245      2020-11-9    no    \n",
            "    37975      2019-11-12   no    \n",
            "    22530      2020-3-12    no    \n",
            "    88184      2018-1-9     yes   \n",
            "    94196      2017-8-14    no    \n",
            "    79451      2015-9-6     yes   \n",
            "    29012      2018-12-18   yes   \n",
            "    81471      2020-11-8    no    \n",
            "    71719      2017-8-18    no    \n",
            "    78539      2019-3-10    yes   \n",
            "    72514      2015-8-3     yes   \n",
            "    61069      2015-1-13    no    \n",
            "    21621      2019-7-2     yes   \n",
            "    29760      2020-11-14   yes   \n",
            "\n"
          ]
        }
      ]
    },
    {
      "cell_type": "code",
      "metadata": {
        "colab": {
          "base_uri": "https://localhost:8080/"
        },
        "id": "0P0s223h_DZS",
        "outputId": "45b01201-2f5c-4a34-ca7b-160750a36ceb"
      },
      "source": [
        "with open(memReg, 'r') as readfile:\n",
        "  memRegReadlines = readfile.readlines()\n",
        "\n",
        "print(memRegReadlines)\n",
        "print(type(memRegReadlines))\n",
        "print(len(memRegReadlines))\n",
        "print(memRegReadlines[0])\n",
        "print(memRegReadlines[0:2])\n",
        "print(memRegReadlines[0][9])\n",
        "print(memRegReadlines[0:20])\n",
        "print(memRegReadlines[0:21])"
      ],
      "execution_count": 42,
      "outputs": [
        {
          "output_type": "stream",
          "name": "stdout",
          "text": [
            "['Membership No  Date Joined  Active  \\n', '    56057      2018-7-6     no    \\n', '    34653      2020-2-22    yes   \\n', '    50687      2019-6-11    yes   \\n', '    38201      2018-2-4     no    \\n', '    73384      2018-5-20    no    \\n', '    68697      2017-6-11    yes   \\n', '    87114      2020-5-21    no    \\n', '    30778      2018-2-10    yes   \\n', '    38062      2015-7-16    yes   \\n', '    81605      2016-10-18   yes   \\n', '    19009      2016-4-5     no    \\n', '    81511      2016-8-17    no    \\n', '    38480      2016-2-25    yes   \\n', '    19009      2016-6-4     yes   \\n', '    27485      2016-7-11    yes   \\n', '    21543      2015-8-3     yes   \\n', '    14902      2019-4-22    yes   \\n', '    46290      2020-7-22    yes   \\n', '    22172      2017-8-3     no    \\n', '    70636      2019-4-25    no    \\n']\n",
            "<class 'list'>\n",
            "21\n",
            "Membership No  Date Joined  Active  \n",
            "\n",
            "['Membership No  Date Joined  Active  \\n', '    56057      2018-7-6     no    \\n']\n",
            "p\n",
            "['Membership No  Date Joined  Active  \\n', '    56057      2018-7-6     no    \\n', '    34653      2020-2-22    yes   \\n', '    50687      2019-6-11    yes   \\n', '    38201      2018-2-4     no    \\n', '    73384      2018-5-20    no    \\n', '    68697      2017-6-11    yes   \\n', '    87114      2020-5-21    no    \\n', '    30778      2018-2-10    yes   \\n', '    38062      2015-7-16    yes   \\n', '    81605      2016-10-18   yes   \\n', '    19009      2016-4-5     no    \\n', '    81511      2016-8-17    no    \\n', '    38480      2016-2-25    yes   \\n', '    19009      2016-6-4     yes   \\n', '    27485      2016-7-11    yes   \\n', '    21543      2015-8-3     yes   \\n', '    14902      2019-4-22    yes   \\n', '    46290      2020-7-22    yes   \\n', '    22172      2017-8-3     no    \\n']\n",
            "['Membership No  Date Joined  Active  \\n', '    56057      2018-7-6     no    \\n', '    34653      2020-2-22    yes   \\n', '    50687      2019-6-11    yes   \\n', '    38201      2018-2-4     no    \\n', '    73384      2018-5-20    no    \\n', '    68697      2017-6-11    yes   \\n', '    87114      2020-5-21    no    \\n', '    30778      2018-2-10    yes   \\n', '    38062      2015-7-16    yes   \\n', '    81605      2016-10-18   yes   \\n', '    19009      2016-4-5     no    \\n', '    81511      2016-8-17    no    \\n', '    38480      2016-2-25    yes   \\n', '    19009      2016-6-4     yes   \\n', '    27485      2016-7-11    yes   \\n', '    21543      2015-8-3     yes   \\n', '    14902      2019-4-22    yes   \\n', '    46290      2020-7-22    yes   \\n', '    22172      2017-8-3     no    \\n', '    70636      2019-4-25    no    \\n']\n"
          ]
        }
      ]
    },
    {
      "cell_type": "code",
      "metadata": {
        "colab": {
          "base_uri": "https://localhost:8080/"
        },
        "id": "j4_sXmo9LTIM",
        "outputId": "cbd236e6-fed1-43de-98ef-85afb1cbf434"
      },
      "source": [
        "print(\"Active\" in memRegReadlines)\n",
        "print(\"yes\" in memRegReadlines)\n",
        "print(\"no\" in memRegReadlines)"
      ],
      "execution_count": null,
      "outputs": [
        {
          "output_type": "stream",
          "name": "stdout",
          "text": [
            "False\n",
            "False\n",
            "False\n"
          ]
        }
      ]
    },
    {
      "cell_type": "code",
      "metadata": {
        "colab": {
          "base_uri": "https://localhost:8080/"
        },
        "id": "B1gqoSqRMAaO",
        "outputId": "d0cfbcae-e793-4d8b-9d3d-85fd77a1eecd"
      },
      "source": [
        "# trying to figure out how to look for a string inside an element of a list\n",
        "\n",
        "with open(memReg, \"r\") as readlinefile:\n",
        "  print(readlinefile.readline())\n",
        "  print(len(readlinefile.readline()))\n",
        "  print(len(readlinefile.readline())-7)\n",
        "  print(readlinefile.readline(28))\n",
        "  print(\"yes\" in readlinefile.readline())\n",
        "  print(\"no\" in readlinefile.readline())\n",
        "  print(readlinefile.readline())\n",
        "  print('yes' in readlinefile.readline())\n",
        "  print(readlinefile.readline())\n",
        "  print(readlinefile.readlines())\n",
        "  print('no' in readlinefile.readlines())  "
      ],
      "execution_count": null,
      "outputs": [
        {
          "output_type": "stream",
          "name": "stdout",
          "text": [
            "Membership No  Date Joined  Active  \n",
            "\n",
            "35\n",
            "28\n",
            "    58485      2018-6-18    \n",
            "False\n",
            "False\n",
            "    75654      2018-9-18    no    \n",
            "\n",
            "True\n",
            "    64245      2020-11-9    no    \n",
            "\n",
            "['    37975      2019-11-12   no    \\n', '    22530      2020-3-12    no    \\n', '    88184      2018-1-9     yes   \\n', '    94196      2017-8-14    no    \\n', '    79451      2015-9-6     yes   \\n', '    29012      2018-12-18   yes   \\n', '    81471      2020-11-8    no    \\n', '    71719      2017-8-18    no    \\n', '    78539      2019-3-10    yes   \\n', '    72514      2015-8-3     yes   \\n', '    61069      2015-1-13    no    \\n', '    21621      2019-7-2     yes   \\n', '    29760      2020-11-14   yes   \\n']\n",
            "False\n"
          ]
        }
      ]
    },
    {
      "cell_type": "code",
      "metadata": {
        "colab": {
          "base_uri": "https://localhost:8080/",
          "height": 209
        },
        "id": "kN2mu2b_RXZB",
        "outputId": "019fba27-9fff-4f24-d3cf-824b55312df5"
      },
      "source": [
        "if \"no\" in member:\n",
        "  for member in memRegReadlines:\n",
        "    print(member)"
      ],
      "execution_count": null,
      "outputs": [
        {
          "output_type": "error",
          "ename": "NameError",
          "evalue": "ignored",
          "traceback": [
            "\u001b[0;31m---------------------------------------------------------------------------\u001b[0m",
            "\u001b[0;31mNameError\u001b[0m                                 Traceback (most recent call last)",
            "\u001b[0;32m<ipython-input-123-54734b58b741>\u001b[0m in \u001b[0;36m<module>\u001b[0;34m()\u001b[0m\n\u001b[0;32m----> 1\u001b[0;31m \u001b[0;32mif\u001b[0m \u001b[0;34m\"no\"\u001b[0m \u001b[0;32min\u001b[0m \u001b[0mmember\u001b[0m\u001b[0;34m:\u001b[0m\u001b[0;34m\u001b[0m\u001b[0;34m\u001b[0m\u001b[0m\n\u001b[0m\u001b[1;32m      2\u001b[0m   \u001b[0;32mfor\u001b[0m \u001b[0mmember\u001b[0m \u001b[0;32min\u001b[0m \u001b[0mmemRegReadlines\u001b[0m\u001b[0;34m:\u001b[0m\u001b[0;34m\u001b[0m\u001b[0;34m\u001b[0m\u001b[0m\n\u001b[1;32m      3\u001b[0m     \u001b[0mprint\u001b[0m\u001b[0;34m(\u001b[0m\u001b[0mmember\u001b[0m\u001b[0;34m)\u001b[0m\u001b[0;34m\u001b[0m\u001b[0;34m\u001b[0m\u001b[0m\n",
            "\u001b[0;31mNameError\u001b[0m: name 'member' is not defined"
          ]
        }
      ]
    },
    {
      "cell_type": "code",
      "metadata": {
        "colab": {
          "base_uri": "https://localhost:8080/"
        },
        "id": "vGpgE09ISkoD",
        "outputId": "7c56977d-9280-435d-f76c-a8ecd7c4f2dd"
      },
      "source": [
        "for member in memRegReadlines:\n",
        "  if \"no\" in member:\n",
        "    print(member)"
      ],
      "execution_count": 48,
      "outputs": [
        {
          "output_type": "stream",
          "name": "stdout",
          "text": [
            "    56057      2018-7-6     no    \n",
            "\n",
            "    38201      2018-2-4     no    \n",
            "\n",
            "    73384      2018-5-20    no    \n",
            "\n",
            "    87114      2020-5-21    no    \n",
            "\n",
            "    19009      2016-4-5     no    \n",
            "\n",
            "    81511      2016-8-17    no    \n",
            "\n",
            "    22172      2017-8-3     no    \n",
            "\n",
            "    70636      2019-4-25    no    \n",
            "\n"
          ]
        }
      ]
    },
    {
      "cell_type": "code",
      "metadata": {
        "colab": {
          "base_uri": "https://localhost:8080/"
        },
        "id": "Vxjgg9CBTRDR",
        "outputId": "49d3c171-221d-4c14-a7f2-c99e85c11bc5"
      },
      "source": [
        "inactivus = []\n",
        "type(inactivus)\n",
        "print(inactivus)"
      ],
      "execution_count": 50,
      "outputs": [
        {
          "output_type": "stream",
          "name": "stdout",
          "text": [
            "[]\n"
          ]
        }
      ]
    },
    {
      "cell_type": "code",
      "metadata": {
        "colab": {
          "base_uri": "https://localhost:8080/"
        },
        "id": "-djju46ZTGi7",
        "outputId": "427181c5-55dd-4b13-c67f-cc02d7d02d44"
      },
      "source": [
        "for member in memRegReadlines:\n",
        "  if \"no\" in member:\n",
        "    inactivus.append(member)\n",
        "\n",
        "print(len(inactivus))\n",
        "print(inactivus)\n",
        "print(type(inactivus))\n",
        "print(inactivus[0])"
      ],
      "execution_count": 51,
      "outputs": [
        {
          "output_type": "stream",
          "name": "stdout",
          "text": [
            "8\n",
            "['    56057      2018-7-6     no    \\n', '    38201      2018-2-4     no    \\n', '    73384      2018-5-20    no    \\n', '    87114      2020-5-21    no    \\n', '    19009      2016-4-5     no    \\n', '    81511      2016-8-17    no    \\n', '    22172      2017-8-3     no    \\n', '    70636      2019-4-25    no    \\n']\n",
            "<class 'list'>\n",
            "    56057      2018-7-6     no    \n",
            "\n"
          ]
        }
      ]
    },
    {
      "cell_type": "code",
      "metadata": {
        "colab": {
          "base_uri": "https://localhost:8080/",
          "height": 209
        },
        "id": "lF_W0tKhIV-c",
        "outputId": "f7d4cc3a-6d89-41f7-a521-4ec70c5070fa"
      },
      "source": [
        "len(memRegReadlines)\n",
        "with len(memRegReadlines) yes or no"
      ],
      "execution_count": null,
      "outputs": [
        {
          "output_type": "error",
          "ename": "ValueError",
          "evalue": "ignored",
          "traceback": [
            "\u001b[0;31m---------------------------------------------------------------------------\u001b[0m",
            "\u001b[0;31mValueError\u001b[0m                                Traceback (most recent call last)",
            "\u001b[0;32m<ipython-input-68-e2b8db1cff50>\u001b[0m in \u001b[0;36m<module>\u001b[0;34m()\u001b[0m\n\u001b[1;32m      1\u001b[0m \u001b[0mlen\u001b[0m\u001b[0;34m(\u001b[0m\u001b[0mmemRegReadlines\u001b[0m\u001b[0;34m)\u001b[0m\u001b[0;34m\u001b[0m\u001b[0;34m\u001b[0m\u001b[0m\n\u001b[1;32m      2\u001b[0m \u001b[0mmemRegReadlines\u001b[0m\u001b[0;34m[\u001b[0m\u001b[0;36m0\u001b[0m\u001b[0;34m]\u001b[0m\u001b[0;34m\u001b[0m\u001b[0;34m\u001b[0m\u001b[0m\n\u001b[0;32m----> 3\u001b[0;31m \u001b[0mmemRegReadlines\u001b[0m\u001b[0;34m[\u001b[0m\u001b[0mmemRegReadlines\u001b[0m\u001b[0;34m[\u001b[0m\u001b[0;36m0\u001b[0m\u001b[0;34m]\u001b[0m\u001b[0;34m[\u001b[0m\u001b[0mmemRegReadlines\u001b[0m\u001b[0;34m.\u001b[0m\u001b[0mindex\u001b[0m\u001b[0;34m(\u001b[0m\u001b[0;34m\"Active\"\u001b[0m\u001b[0;34m)\u001b[0m\u001b[0;34m]\u001b[0m\u001b[0;34m]\u001b[0m\u001b[0;34m\u001b[0m\u001b[0;34m\u001b[0m\u001b[0m\n\u001b[0m",
            "\u001b[0;31mValueError\u001b[0m: 'Active' is not in list"
          ]
        }
      ]
    },
    {
      "cell_type": "code",
      "metadata": {
        "id": "qhCc93ymNtWu"
      },
      "source": [
        "if not \"yes\" or \"no\""
      ],
      "execution_count": null,
      "outputs": []
    },
    {
      "cell_type": "code",
      "metadata": {
        "colab": {
          "base_uri": "https://localhost:8080/"
        },
        "id": "VimSaF37Cn4C",
        "outputId": "90bcbc3a-185b-4a76-8490-afe8133ae2db"
      },
      "source": [
        "with open(memReg, 'r+') as iterread:\n",
        "  i = 0\n",
        "  for line in iterread:\n",
        "    print(\"Nr\", i, \":\", line)\n",
        "    i = i + 1"
      ],
      "execution_count": null,
      "outputs": [
        {
          "output_type": "stream",
          "name": "stdout",
          "text": [
            "Nr 0 : Membership No  Date Joined  Active  \n",
            "\n",
            "Nr 1 :     98996      2016-8-9     yes   \n",
            "\n",
            "Nr 2 :     53739      2015-3-14    yes   \n",
            "\n",
            "Nr 3 :     58485      2018-6-18    no    \n",
            "\n",
            "Nr 4 :     38077      2017-7-5     yes   \n",
            "\n",
            "Nr 5 :     75654      2018-9-18    no    \n",
            "\n",
            "Nr 6 :     48452      2016-4-22    yes   \n",
            "\n",
            "Nr 7 :     64245      2020-11-9    no    \n",
            "\n",
            "Nr 8 :     37975      2019-11-12   no    \n",
            "\n",
            "Nr 9 :     22530      2020-3-12    no    \n",
            "\n",
            "Nr 10 :     88184      2018-1-9     yes   \n",
            "\n",
            "Nr 11 :     94196      2017-8-14    no    \n",
            "\n",
            "Nr 12 :     79451      2015-9-6     yes   \n",
            "\n",
            "Nr 13 :     29012      2018-12-18   yes   \n",
            "\n",
            "Nr 14 :     81471      2020-11-8    no    \n",
            "\n",
            "Nr 15 :     71719      2017-8-18    no    \n",
            "\n",
            "Nr 16 :     78539      2019-3-10    yes   \n",
            "\n",
            "Nr 17 :     72514      2015-8-3     yes   \n",
            "\n",
            "Nr 18 :     61069      2015-1-13    no    \n",
            "\n",
            "Nr 19 :     21621      2019-7-2     yes   \n",
            "\n",
            "Nr 20 :     29760      2020-11-14   yes   \n",
            "\n"
          ]
        }
      ]
    },
    {
      "cell_type": "code",
      "metadata": {
        "colab": {
          "base_uri": "https://localhost:8080/"
        },
        "id": "D2AjXWhqEE1e",
        "outputId": "7cbc5e99-76fa-48a0-ebd5-53b8ad2eca69"
      },
      "source": [
        "with open(exReg, \"r+\") as exread:\n",
        "  exregContent = exread.read()\n",
        "\n",
        "print(exregContent)"
      ],
      "execution_count": null,
      "outputs": [
        {
          "output_type": "stream",
          "name": "stdout",
          "text": [
            "Membership No  Date Joined  Active  \n",
            "    11406      2015-8-24    no    \n",
            "    23285      2016-11-17   no    \n",
            "    38156      2020-9-4     no    \n",
            "\n"
          ]
        }
      ]
    },
    {
      "cell_type": "code",
      "metadata": {
        "colab": {
          "base_uri": "https://localhost:8080/"
        },
        "id": "Dh9SDLelFQhM",
        "outputId": "d08ee4a7-33a5-4a62-d7e3-8668b648abfe"
      },
      "source": [
        "with open(exReg, \"r+\") as exname:\n",
        "  print(exname.name)"
      ],
      "execution_count": null,
      "outputs": [
        {
          "output_type": "stream",
          "name": "stdout",
          "text": [
            "inactive.txt\n"
          ]
        }
      ]
    },
    {
      "cell_type": "code",
      "metadata": {
        "colab": {
          "base_uri": "https://localhost:8080/"
        },
        "id": "qdv0sUKPFz-g",
        "outputId": "a7258003-2805-497d-abd2-1ad9d7b43b7f"
      },
      "source": [
        "with open(exReg, \"r+\") as modecheck:\n",
        "  print(modecheck.mode)"
      ],
      "execution_count": null,
      "outputs": [
        {
          "output_type": "stream",
          "name": "stdout",
          "text": [
            "r+\n"
          ]
        }
      ]
    },
    {
      "cell_type": "code",
      "metadata": {
        "colab": {
          "base_uri": "https://localhost:8080/"
        },
        "id": "OWLDcjhTGYeK",
        "outputId": "77ddf94a-0706-436e-b5b2-02ecc80beae7"
      },
      "source": [
        "print(\"iterread:\", iterread.name)\n",
        "print(\"iterread:\", iterread.mode)\n",
        "print(\"exname:\", exname.name)\n",
        "print(\"exname:\", exname.mode)"
      ],
      "execution_count": null,
      "outputs": [
        {
          "output_type": "stream",
          "name": "stdout",
          "text": [
            "iterread: members.txt\n",
            "iterread: r+\n",
            "exname: inactive.txt\n",
            "exname: r+\n"
          ]
        }
      ]
    },
    {
      "cell_type": "code",
      "metadata": {
        "colab": {
          "base_uri": "https://localhost:8080/",
          "height": 172
        },
        "id": "hUyEj-ffgNZI",
        "outputId": "987ab0bd-a348-4c88-dea6-faa31a56ea73"
      },
      "source": [
        "memRegReadlines.seek(0)"
      ],
      "execution_count": null,
      "outputs": [
        {
          "output_type": "error",
          "ename": "AttributeError",
          "evalue": "ignored",
          "traceback": [
            "\u001b[0;31m---------------------------------------------------------------------------\u001b[0m",
            "\u001b[0;31mAttributeError\u001b[0m                            Traceback (most recent call last)",
            "\u001b[0;32m<ipython-input-183-0d010f95cefb>\u001b[0m in \u001b[0;36m<module>\u001b[0;34m()\u001b[0m\n\u001b[0;32m----> 1\u001b[0;31m \u001b[0mmemRegReadlines\u001b[0m\u001b[0;34m.\u001b[0m\u001b[0mseek\u001b[0m\u001b[0;34m(\u001b[0m\u001b[0;36m0\u001b[0m\u001b[0;34m)\u001b[0m\u001b[0;34m\u001b[0m\u001b[0;34m\u001b[0m\u001b[0m\n\u001b[0m",
            "\u001b[0;31mAttributeError\u001b[0m: 'list' object has no attribute 'seek'"
          ]
        }
      ]
    },
    {
      "cell_type": "code",
      "metadata": {
        "id": "MhwEcdpfWMrd"
      },
      "source": [
        "\n",
        "def cleanFiles(currentMem,exMem):\n",
        "    '''\n",
        "    currentMem: File containing list of current members\n",
        "    exMem: File containing list of old members\n",
        "    \n",
        "    Removes all rows from currentMem containing 'no' and appends them to exMem\n",
        "    '''\n",
        "    \n",
        "    pass \n",
        "\n",
        "\n",
        "# Code to help you see the files\n",
        "# Leave as is\n",
        "memReg = 'members.txt'\n",
        "exReg = 'inactive.txt'\n",
        "cleanFiles(memReg,exReg)\n",
        "\n",
        "\n",
        "headers = \"Membership No  Date Joined  Active  \\n\"\n",
        "with open(memReg,'r') as readFile:\n",
        "    print(\"Active Members: \\n\\n\")\n",
        "    print(readFile.read())\n",
        "    \n",
        "with open(exReg,'r') as readFile:\n",
        "    print(\"Inactive Members: \\n\\n\")\n",
        "    print(readFile.read())\n",
        "                \n",
        "    "
      ],
      "execution_count": null,
      "outputs": []
    },
    {
      "cell_type": "code",
      "metadata": {
        "colab": {
          "base_uri": "https://localhost:8080/"
        },
        "id": "eJlJO5SfIrC4",
        "outputId": "953d5041-8680-4d44-9b85-da72bdcc4cd8"
      },
      "source": [
        "#my copied version\n",
        "\n",
        "def cleanFiles(currentMem,exMem):\n",
        "  \n",
        "  with open(currentMem, 'r+') as writefile:\n",
        "    with open(exMem, 'a+') as appendfile:\n",
        "      #getting the data\n",
        "      writefile.seek(0)\n",
        "      members = writefile.readlines()\n",
        "      #seperating the header and the list as individual variables by removing the header from the members variable with list.pop(index)\n",
        "      header = members[0]\n",
        "      members.pop(0)\n",
        "\n",
        "      inactive = [member for member in members if 'no' in member] # a new list of inactive members, not integrated to the \"exMem as appendfile\" file yet--> happens below\n",
        "\n",
        "      '''\n",
        "      the same as:\n",
        "\n",
        "      for member in members:\n",
        "        if 'no' in member:\n",
        "          inactive.append(member)\n",
        "      '''\n",
        "\n",
        "      #go back to the beginning of the write file\n",
        "      writefile.seek(0)\n",
        "      writefile.write(header)\n",
        "      for member in members:\n",
        "        if (member in inactive):\n",
        "          appendfile.write(member)\n",
        "        else:\n",
        "          writefile.write(member)\n",
        "      writefile.truncate()\n",
        "\n",
        "\n",
        "\n",
        "# code to help me see the files\n",
        "#original non-cleaned data set\n",
        "memReg = 'members.txt'\n",
        "exReg = 'inactive.txt'\n",
        "#cleaned up data set\n",
        "memRegclean = 'membersClean.txt'\n",
        "exRegclean = 'inactiveClean.txt'\n",
        "\n",
        "\n",
        "headers = \"Membership No  Date Joined  Active  \\n\"\n",
        "\n",
        "with open(memReg, 'r') as readfile:\n",
        "  print(\"BEFORE CLEANING THE FILES \\n\")\n",
        "  print(\"Active Members: \\n\\n\")\n",
        "  print(readfile.read())\n",
        "\n",
        "with open(exReg, 'r') as readfile:\n",
        "  print(\"Inactive Members: \\n\\n\")\n",
        "  print(readfile.read())\n",
        "\n",
        "# NOT REALLY AFTER CLEANING FILES BECAUSE memRegclean and exRegclean HAVE BEEN RANDOMLY GENERATED AS WELL-->BRIEF: THESE ARE NON COPIES OF THE ORIGINALS\n",
        "print(\"\\n\\nAfter CLEANING THE FILES (not really copy of the original data set, since being randomly generated as well) \\n\")\n",
        "cleanFiles(memRegclean,exRegclean)\n",
        "\n",
        "with open(memRegclean, 'r') as readfile:\n",
        "  print(\"Active Members: \\n\\n\")\n",
        "  print(readfile.read())\n",
        "\n",
        "with open(exRegclean, 'r') as readfile:\n",
        "  print(\"Inactive Members: \\n\\n\")\n",
        "  print(readfile.read())"
      ],
      "execution_count": 179,
      "outputs": [
        {
          "output_type": "stream",
          "name": "stdout",
          "text": [
            "BEFORE CLEANING THE FILES \n",
            "\n",
            "Active Members: \n",
            "\n",
            "\n",
            "Membership No  Date Joined  Active  \n",
            "    65965      2015-5-13    no    \n",
            "    58337      2015-4-17    yes   \n",
            "    27917      2020-2-12    yes   \n",
            "    64020      2020-9-19    no    \n",
            "    95578      2019-11-22   no    \n",
            "    78124      2015-9-25    no    \n",
            "    23738      2016-2-7     yes   \n",
            "    12331      2015-12-25   no    \n",
            "    87957      2016-11-21   yes   \n",
            "    45150      2020-4-7     no    \n",
            "    23161      2017-12-2    yes   \n",
            "    96680      2017-5-17    yes   \n",
            "    59108      2018-1-9     yes   \n",
            "    30493      2015-11-15   yes   \n",
            "    56939      2020-10-14   yes   \n",
            "    65945      2018-3-16    yes   \n",
            "    11582      2015-12-4    no    \n",
            "    47938      2015-7-5     no    \n",
            "    40613      2015-10-19   no    \n",
            "    52394      2019-6-25    yes   \n",
            "\n",
            "Inactive Members: \n",
            "\n",
            "\n",
            "Membership No  Date Joined  Active  \n",
            "    78408      2015-8-12    no    \n",
            "    69682      2015-6-21    no    \n",
            "    11520      2020-12-25   no    \n",
            "\n",
            "\n",
            "\n",
            "After CLEANING THE FILES (not really copy of the original data set, since being randomly generated as well) \n",
            "\n",
            "Active Members: \n",
            "\n",
            "\n",
            "Membership No  Date Joined  Active  \n",
            "    69728      2018-12-20   yes   \n",
            "    73116      2020-6-12    yes   \n",
            "    93837      2018-8-18    yes   \n",
            "    69918      2017-1-13    yes   \n",
            "    32751      2018-5-16    yes   \n",
            "    88363      2019-4-9     yes   \n",
            "\n",
            "Inactive Members: \n",
            "\n",
            "\n",
            "Membership No  Date Joined  Active  \n",
            "    81820      2019-9-3     no    \n",
            "    82201      2018-8-3     no    \n",
            "    50838      2015-7-21    no    \n",
            "    78944      2018-3-18    no    \n",
            "    65821      2017-9-24    no    \n",
            "    83093      2015-10-12   no    \n",
            "    25412      2020-7-18    no    \n",
            "    27452      2019-6-7     no    \n",
            "    98475      2016-5-3     no    \n",
            "    76340      2019-8-15    no    \n",
            "    27383      2020-4-12    no    \n",
            "    27653      2020-3-21    no    \n",
            "    67177      2017-9-17    no    \n",
            "    92331      2016-9-2     no    \n",
            "    31198      2019-6-15    no    \n",
            "    94248      2015-2-15    no    \n",
            "    65967      2016-12-19   no    \n",
            "\n"
          ]
        }
      ]
    },
    {
      "cell_type": "code",
      "metadata": {
        "colab": {
          "base_uri": "https://localhost:8080/"
        },
        "id": "utCkXbgGZblr",
        "outputId": "f814a252-cd78-485d-a8e5-ed7d622a6385"
      },
      "source": [
        "with open(memReg, 'r') as readfile:\n",
        "  print(\"BEFORE CLEANING THE FILES \\n\")\n",
        "  print(\"Active Members: \\n\\n\")\n",
        "  print(readfile.read())"
      ],
      "execution_count": 144,
      "outputs": [
        {
          "output_type": "stream",
          "name": "stdout",
          "text": [
            "BEFORE CLEANING THE FILES \n",
            "\n",
            "Active Members: \n",
            "\n",
            "\n",
            "Membership No  Date Joined  Active  \n",
            "    90675      2020-2-12    yes   \n",
            "    79553      2020-1-12    yes   \n",
            "    46517      2020-9-21    no    \n",
            "    42500      2019-10-7    no    \n",
            "    75674      2020-2-25    no    \n",
            "    26353      2020-12-12   no    \n",
            "    46754      2015-12-20   no    \n",
            "    56866      2017-7-9     no    \n",
            "    42152      2016-5-10    yes   \n",
            "    21481      2020-4-22    no    \n",
            "    39606      2015-4-6     no    \n",
            "    82360      2015-11-7    yes   \n",
            "    45770      2017-5-3     yes   \n",
            "    31732      2016-2-19    no    \n",
            "    80702      2019-11-18   yes   \n",
            "    32706      2015-1-11    yes   \n",
            "    29224      2018-11-7    yes   \n",
            "    66518      2017-2-10    no    \n",
            "    83406      2017-3-23    yes   \n",
            "    41750      2017-5-6     yes   \n",
            "\n"
          ]
        }
      ]
    },
    {
      "cell_type": "markdown",
      "metadata": {
        "id": "6JmQcjT1WMre"
      },
      "source": [
        "Run the following to verify your code:\n"
      ]
    },
    {
      "cell_type": "code",
      "metadata": {
        "id": "QKbz9zIxWMre",
        "colab": {
          "base_uri": "https://localhost:8080/"
        },
        "outputId": "0a3395a0-0263-4352-e4b1-72b4b6bb96ae"
      },
      "source": [
        "def testMsg(passed):\n",
        "    if passed:\n",
        "       return 'Test Passed'\n",
        "    else :\n",
        "       return 'Test Failed'\n",
        "\n",
        "testWrite = \"testWrite.txt\"\n",
        "testAppend = \"testAppend.txt\" \n",
        "passed = True\n",
        "\n",
        "genFiles(testWrite,testAppend)\n",
        "\n",
        "with open(testWrite,'r') as file:\n",
        "    ogWrite = file.readlines()\n",
        "\n",
        "with open(testAppend,'r') as file:\n",
        "    ogAppend = file.readlines()\n",
        "\n",
        "try:\n",
        "    cleanFiles(testWrite,testAppend)\n",
        "except:\n",
        "    print('Error')\n",
        "\n",
        "with open(testWrite,'r') as file:\n",
        "    clWrite = file.readlines()\n",
        "\n",
        "with open(testAppend,'r') as file:\n",
        "    clAppend = file.readlines()\n",
        "        \n",
        "# checking if total no of rows is same, including headers\n",
        "\n",
        "if (len(ogWrite) + len(ogAppend) != len(clWrite) + len(clAppend)):\n",
        "    print(\"The number of rows do not add up. Make sure your final files have the same header and format.\")\n",
        "    passed = False\n",
        "    \n",
        "for line in clWrite:\n",
        "    if  'no' in line:\n",
        "        passed = False\n",
        "        print(\"Inactive members in file\")\n",
        "        break\n",
        "    else:\n",
        "        if line not in ogWrite:\n",
        "            print(\"Data in file does not match original file\")\n",
        "            passed = False\n",
        "print (\"{}\".format(testMsg(passed)))\n",
        "    \n",
        "\n"
      ],
      "execution_count": 145,
      "outputs": [
        {
          "output_type": "stream",
          "name": "stdout",
          "text": [
            "Test Passed\n"
          ]
        }
      ]
    },
    {
      "cell_type": "code",
      "metadata": {
        "colab": {
          "base_uri": "https://localhost:8080/"
        },
        "id": "YhU92RnmzmMT",
        "outputId": "488bce85-9029-4f1e-d2b4-cba4e44be87d"
      },
      "source": [
        "clWrite"
      ],
      "execution_count": 187,
      "outputs": [
        {
          "output_type": "execute_result",
          "data": {
            "text/plain": [
              "['Membership No  Date Joined  Active  \\n',\n",
              " '    53767      2016-3-16    yes   \\n',\n",
              " '    20376      2017-10-24   yes   \\n',\n",
              " '    21902      2016-7-13    yes   \\n',\n",
              " '    54663      2019-8-24    yes   \\n',\n",
              " '    52202      2020-5-8     yes   \\n',\n",
              " '    92137      2020-3-2     yes   \\n',\n",
              " '    42695      2018-2-12    yes   \\n',\n",
              " '    53061      2015-12-3    yes   \\n',\n",
              " '    43489      2020-9-11    yes   \\n',\n",
              " '    68012      2017-11-23   yes   \\n']"
            ]
          },
          "metadata": {},
          "execution_count": 187
        }
      ]
    },
    {
      "cell_type": "code",
      "metadata": {
        "colab": {
          "base_uri": "https://localhost:8080/"
        },
        "id": "ayZoryR4zcDP",
        "outputId": "66349206-7f3d-44b0-8a4d-b5b450a72418"
      },
      "source": [
        "clAppend"
      ],
      "execution_count": 184,
      "outputs": [
        {
          "output_type": "execute_result",
          "data": {
            "text/plain": [
              "['Membership No  Date Joined  Active  \\n',\n",
              " '    27078      2020-6-17    no    \\n',\n",
              " '    27090      2019-1-5     no    \\n',\n",
              " '    78089      2018-9-5     no    \\n',\n",
              " '    19324      2018-2-13    no    \\n',\n",
              " '    69740      2017-3-2     no    \\n',\n",
              " '    14890      2016-3-4     no    \\n',\n",
              " '    47394      2019-5-13    no    \\n',\n",
              " '    10349      2019-9-16    no    \\n',\n",
              " '    93796      2015-8-4     no    \\n',\n",
              " '    86246      2015-5-14    no    \\n',\n",
              " '    60888      2017-4-17    no    \\n',\n",
              " '    26495      2019-9-23    no    \\n',\n",
              " '    82148      2018-8-9     no    \\n',\n",
              " '    66141      2017-10-18   no    \\n',\n",
              " '    80701      2018-11-11   no    \\n',\n",
              " '    81611      2020-9-22    no    \\n',\n",
              " '    30368      2016-3-6     no    \\n',\n",
              " '    21911      2020-8-19    no    \\n',\n",
              " '    11960      2019-2-1     no    \\n',\n",
              " '    15965      2020-11-20   no    \\n',\n",
              " '    27255      2016-5-14    no    \\n',\n",
              " '    74815      2016-1-11    no    \\n',\n",
              " '    63001      2019-1-3     no    \\n']"
            ]
          },
          "metadata": {},
          "execution_count": 184
        }
      ]
    },
    {
      "cell_type": "code",
      "metadata": {
        "colab": {
          "base_uri": "https://localhost:8080/"
        },
        "id": "7AbUPViAnQ5Q",
        "outputId": "623bfb44-65a7-4219-9a4a-e7e316c7d297"
      },
      "source": [
        "# my copy of the test function and the verification of the code\n",
        "\n",
        "def testMsgOwn(passed):\n",
        "  if passed:\n",
        "    return \"Test Passed\"\n",
        "  else:\n",
        "    return \"Test Failed\"\n",
        "\n",
        "testWrite1 = \"testWrite1.txt\"\n",
        "testAppend1 = \"testAppend1.txt\"\n",
        "passed = True\n",
        "\n",
        "genFiles(testWrite1, testAppend1) # applying the randomly generated table data set to the new test variables \"testWrite1\" and \"testAppend1\"\n",
        "\n",
        "# applying the content of the memReg table to testWrite1\n",
        "with open(testWrite1, 'r') as file1:\n",
        "  ogWrite1 = file1.readlines()\n",
        "\n",
        "# applying the content of the exReg table to testAppend1\n",
        "with open(testAppend1, 'r') as file1:\n",
        "  ogAppend1 = file1.readlines()\n",
        "\n",
        "# applying the cleanFiles function to the new two test variables, to sort out between active and inactive members in the register\n",
        "try:\n",
        "  cleanFiles(testWrite1, testAppend1)\n",
        "except:\n",
        "  print(\"Error\")\n",
        "\n",
        "# copying the cleaned content of the original generated files to clWrite1 and clAppend1 to compare some stuff below\n",
        "with open(testWrite1, 'r') as file1:\n",
        "  clWrite1 = file1.readlines()\n",
        "\n",
        "with open(testAppend1, 'r') as file1:\n",
        "  clAppend1 = file1.readlines()\n",
        "\n",
        "# checking if total number of rows is same, including headers\n",
        "\n",
        "if (len(ogWrite1)+ len(ogAppend1) != len(clWrite1) + len(clAppend1)):\n",
        "  print(\"Number of rows do not add up. Make sure your final files have the same header and format.\")\n",
        "  passed = False\n",
        "\n",
        "for line in clWrite1:\n",
        "  if 'no' in line:\n",
        "    passed = False\n",
        "    print(\"Inactive members still in file\")\n",
        "    break\n",
        "  else:\n",
        "    if line not in ogWrite1:\n",
        "      print(\"Data in file does not match original file\")\n",
        "      passed = False\n",
        "\n",
        "print(\"{}\".format(testMsgOwn(passed)))"
      ],
      "execution_count": 188,
      "outputs": [
        {
          "output_type": "stream",
          "name": "stdout",
          "text": [
            "Test Passed\n"
          ]
        }
      ]
    },
    {
      "cell_type": "markdown",
      "metadata": {
        "id": "FE4p73kXWMrf"
      },
      "source": [
        "<details><summary>Click here for the solution</summary>\n",
        "\n",
        "```python\n",
        "def cleanFiles(currentMem,exMem):\n",
        "    with open(currentMem,'r+') as writeFile: \n",
        "        with open(exMem,'a+') as appendFile:\n",
        "            #get the data\n",
        "            writeFile.seek(0)\n",
        "            members = writeFile.readlines()\n",
        "            #remove header\n",
        "            header = members[0]\n",
        "            members.pop(0)\n",
        "                \n",
        "            inactive = [member for member in members if ('no' in member)]\n",
        "            '''\n",
        "            The above is the same as \n",
        "\n",
        "            for member in members:\n",
        "            if 'no' in member:\n",
        "                inactive.append(member)\n",
        "            '''\n",
        "            #go to the beginning of the write file\n",
        "            writeFile.seek(0) \n",
        "            writeFile.write(header)\n",
        "            for member in members:\n",
        "                if (member in inactive):\n",
        "                    appendFile.write(member)\n",
        "                else:\n",
        "                    writeFile.write(member)      \n",
        "            writeFile.truncate()\n",
        "                \n",
        "memReg = 'members.txt'\n",
        "exReg = 'inactive.txt'\n",
        "cleanFiles(memReg,exReg)\n",
        "\n",
        "# code to help you see the files\n",
        "\n",
        "headers = \"Membership No  Date Joined  Active  \\n\"\n",
        "\n",
        "with open(memReg,'r') as readFile:\n",
        "    print(\"Active Members: \\n\\n\")\n",
        "    print(readFile.read())\n",
        "    \n",
        "with open(exReg,'r') as readFile:\n",
        "    print(\"Inactive Members: \\n\\n\")\n",
        "    print(readFile.read())\n",
        "    \n",
        "```\n",
        "\n",
        "</details>\n"
      ]
    },
    {
      "cell_type": "markdown",
      "metadata": {
        "id": "UUuanGXAWMrf"
      },
      "source": [
        "<hr>\n",
        "<h2>The last exercise!</h2>\n",
        "<p>Congratulations, you have completed your first lesson and hands-on lab in Python. However, there is one more thing you need to do. The Data Science community encourages sharing work. The best way to share and showcase your work is to share it on GitHub. By sharing your notebook on GitHub you are not only building your reputation with fellow data scientists, but you can also show it off when applying for a job. Even though this was your first piece of work, it is never too early to start building good habits. So, please read and follow <a href=\"https://cognitiveclass.ai/blog/data-scientists-stand-out-by-sharing-your-notebooks/?utm_medium=Exinfluencer&utm_source=Exinfluencer&utm_content=000026UJ&utm_term=10006555&utm_id=NA-SkillsNetwork-Channel-SkillsNetworkCoursesIBMDeveloperSkillsNetworkPY0101ENSkillsNetwork19487395-2021-01-01\" target=\"_blank\">this article</a> to learn how to share your work.\n",
        "<hr>\n"
      ]
    },
    {
      "cell_type": "markdown",
      "metadata": {
        "id": "3mFbknZxWMrf"
      },
      "source": [
        "## Author\n",
        "\n",
        "<a href=\"https://www.linkedin.com/in/joseph-s-50398b136/?utm_medium=Exinfluencer&utm_source=Exinfluencer&utm_content=000026UJ&utm_term=10006555&utm_id=NA-SkillsNetwork-Channel-SkillsNetworkCoursesIBMDeveloperSkillsNetworkPY0101ENSkillsNetwork19487395-2021-01-01\" target=\"_blank\">Joseph Santarcangelo</a>\n",
        "\n",
        "### Other Contributors\n",
        "\n",
        "<a href=\"https://www.linkedin.com/in/jiahui-mavis-zhou-a4537814a?utm_medium=Exinfluencer&utm_source=Exinfluencer&utm_content=000026UJ&utm_term=10006555&utm_id=NA-SkillsNetwork-Channel-SkillsNetworkCoursesIBMDeveloperSkillsNetworkPY0101ENSkillsNetwork19487395-2021-01-01\">Mavis Zhou</a>\n",
        "\n",
        "## Change Log\n",
        "\n",
        "| Date (YYYY-MM-DD) | Version | Changed By  | Change Description                  |\n",
        "| ----------------- | ------- | ----------- | ----------------------------------- |\n",
        "| 2020-10-16        | 1.3     | Arjun Swani | Added exercise                      |\n",
        "| 2020-10-16        | 1.2     | Arjun Swani | Added section additional file modes |\n",
        "| 2020-10-16        | 1.1     | Arjun Swani | Made append a different section     |\n",
        "| 2020-08-28        | 0.2     | Lavanya     | Moved lab to course repo in GitLab  |\n",
        "\n",
        "<hr>\n",
        "\n",
        "## <h3 align=\"center\"> © IBM Corporation 2020. All rights reserved. <h3/>\n"
      ]
    },
    {
      "cell_type": "code",
      "metadata": {
        "id": "pzKaoejUWMrg"
      },
      "source": [
        ""
      ],
      "execution_count": null,
      "outputs": []
    }
  ]
}