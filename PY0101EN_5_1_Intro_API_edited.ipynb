{
  "cells": [
    {
      "cell_type": "markdown",
      "metadata": {
        "id": "view-in-github",
        "colab_type": "text"
      },
      "source": [
        "<a href=\"https://colab.research.google.com/github/GrayWrld7/testrepo/blob/master/PY0101EN_5_1_Intro_API_edited.ipynb\" target=\"_parent\"><img src=\"https://colab.research.google.com/assets/colab-badge.svg\" alt=\"Open In Colab\"/></a>"
      ]
    },
    {
      "cell_type": "markdown",
      "metadata": {
        "id": "6TcV7SeggHYS"
      },
      "source": [
        "<center>\n",
        "    <img src=\"https://cf-courses-data.s3.us.cloud-object-storage.appdomain.cloud/IBMDeveloperSkillsNetwork-PY0101EN-SkillsNetwork/IDSNlogo.png\" width=\"300\" alt=\"cognitiveclass.ai logo\"  />\n",
        "</center>\n",
        "\n",
        "# Application Programming Interface\n",
        "\n",
        "Estimated time needed: **15** minutes\n",
        "\n",
        "## Objectives\n",
        "\n",
        "After completing this lab you will be able to:\n",
        "\n",
        "*   Create and Use APIs in Python\n"
      ]
    },
    {
      "cell_type": "markdown",
      "metadata": {
        "id": "3krIvTf5gHYX"
      },
      "source": [
        "### Introduction\n",
        "\n",
        "An API lets two pieces of software talk to each other. Just like a function,  you don’t have to know how the API works only its inputs and outputs.  An essential type of API is a REST API that allows you to access resources via the internet. In this lab, we will review the Pandas Library  in the context of an API, we will also review a basic REST API\n"
      ]
    },
    {
      "cell_type": "markdown",
      "metadata": {
        "id": "11LMBUjIgHYa"
      },
      "source": [
        "## Table of Contents\n",
        "\n",
        "<div class=\"alert alert-block alert-info\" style=\"margin-top: 20px\">\n",
        "<li><a href=\"https://#ref0\">Pandas is an API</a></li>\n",
        "<li><a href=\"https://#ref1\">REST APIs Basics  </a></li>\n",
        "<li><a href=\"https://#ref2\">Quiz on Tuples</a></li>\n",
        "\n",
        "</div>\n",
        "\n",
        "<hr>\n"
      ]
    },
    {
      "cell_type": "code",
      "execution_count": null,
      "metadata": {
        "jupyter": {
          "outputs_hidden": false
        },
        "id": "7qDVwEydgHYb"
      },
      "outputs": [],
      "source": [
        "!pip install pycoingecko\n",
        "!pip install plotly\n",
        "!pip install mplfinance"
      ]
    },
    {
      "cell_type": "code",
      "execution_count": 2,
      "metadata": {
        "colab": {
          "base_uri": "https://localhost:8080/"
        },
        "id": "cletClRFgHYd",
        "outputId": "25e419e6-9f33-4725-9580-3c2a42be48f4"
      },
      "outputs": [
        {
          "output_type": "stream",
          "name": "stdout",
          "text": [
            "Collecting pycoingecko\n",
            "  Downloading pycoingecko-2.2.0-py3-none-any.whl (8.3 kB)\n",
            "Requirement already satisfied: requests in /usr/local/lib/python3.7/dist-packages (from pycoingecko) (2.23.0)\n",
            "Requirement already satisfied: idna<3,>=2.5 in /usr/local/lib/python3.7/dist-packages (from requests->pycoingecko) (2.10)\n",
            "Requirement already satisfied: chardet<4,>=3.0.2 in /usr/local/lib/python3.7/dist-packages (from requests->pycoingecko) (3.0.4)\n",
            "Requirement already satisfied: certifi>=2017.4.17 in /usr/local/lib/python3.7/dist-packages (from requests->pycoingecko) (2021.10.8)\n",
            "Requirement already satisfied: urllib3!=1.25.0,!=1.25.1,<1.26,>=1.21.1 in /usr/local/lib/python3.7/dist-packages (from requests->pycoingecko) (1.24.3)\n",
            "Installing collected packages: pycoingecko\n",
            "Successfully installed pycoingecko-2.2.0\n",
            "Requirement already satisfied: plotly in /usr/local/lib/python3.7/dist-packages (4.4.1)\n",
            "Requirement already satisfied: retrying>=1.3.3 in /usr/local/lib/python3.7/dist-packages (from plotly) (1.3.3)\n",
            "Requirement already satisfied: six in /usr/local/lib/python3.7/dist-packages (from plotly) (1.15.0)\n",
            "Collecting mplfinance\n",
            "  Downloading mplfinance-0.12.7a17-py3-none-any.whl (62 kB)\n",
            "\u001b[K     |████████████████████████████████| 62 kB 797 kB/s \n",
            "\u001b[?25hRequirement already satisfied: matplotlib in /usr/local/lib/python3.7/dist-packages (from mplfinance) (3.2.2)\n",
            "Requirement already satisfied: pandas in /usr/local/lib/python3.7/dist-packages (from mplfinance) (1.1.5)\n",
            "Requirement already satisfied: cycler>=0.10 in /usr/local/lib/python3.7/dist-packages (from matplotlib->mplfinance) (0.11.0)\n",
            "Requirement already satisfied: python-dateutil>=2.1 in /usr/local/lib/python3.7/dist-packages (from matplotlib->mplfinance) (2.8.2)\n",
            "Requirement already satisfied: numpy>=1.11 in /usr/local/lib/python3.7/dist-packages (from matplotlib->mplfinance) (1.19.5)\n",
            "Requirement already satisfied: pyparsing!=2.0.4,!=2.1.2,!=2.1.6,>=2.0.1 in /usr/local/lib/python3.7/dist-packages (from matplotlib->mplfinance) (3.0.6)\n",
            "Requirement already satisfied: kiwisolver>=1.0.1 in /usr/local/lib/python3.7/dist-packages (from matplotlib->mplfinance) (1.3.2)\n",
            "Requirement already satisfied: six>=1.5 in /usr/local/lib/python3.7/dist-packages (from python-dateutil>=2.1->matplotlib->mplfinance) (1.15.0)\n",
            "Requirement already satisfied: pytz>=2017.2 in /usr/local/lib/python3.7/dist-packages (from pandas->mplfinance) (2018.9)\n",
            "Installing collected packages: mplfinance\n",
            "Successfully installed mplfinance-0.12.7a17\n"
          ]
        }
      ],
      "source": [
        "!pip install pycoingecko\n",
        "!pip install plotly\n",
        "!pip install mplfinance"
      ]
    },
    {
      "cell_type": "markdown",
      "metadata": {
        "id": "A24qn54ogHYd"
      },
      "source": [
        "<h2 id=\"PandasAPI\">Pandas is an API </h2>\n"
      ]
    },
    {
      "cell_type": "markdown",
      "metadata": {
        "id": "e9bx8gzCgHYf"
      },
      "source": [
        "Pandas is actually set of software components , much of  which is not even written in Python.\n"
      ]
    },
    {
      "cell_type": "code",
      "execution_count": null,
      "metadata": {
        "jupyter": {
          "outputs_hidden": false
        },
        "id": "ZnaXylRAgHYg"
      },
      "outputs": [],
      "source": [
        "import pandas as pd\n",
        "import numpy as np\n",
        "import plotly.graph_objects as go\n",
        "from plotly.offline import plot\n",
        "import matplotlib.pyplot as plt\n",
        "import datetime\n",
        "from pycoingecko import CoinGeckoAPI\n",
        "from mplfinance.original_flavor import candlestick2_ohlc"
      ]
    },
    {
      "cell_type": "code",
      "execution_count": 3,
      "metadata": {
        "id": "aRK1k8LagHYh"
      },
      "outputs": [],
      "source": [
        "import pandas as pd\n",
        "import numpy as np\n",
        "import plotly.graph_objects as go\n",
        "from plotly.offline import plot\n",
        "import matplotlib.pyplot as plt\n",
        "import datetime\n",
        "from pycoingecko import CoinGeckoAPI\n",
        "from mplfinance.original_flavor import candlestick2_ohlc"
      ]
    },
    {
      "cell_type": "markdown",
      "metadata": {
        "id": "Ic0y_rAZgHYi"
      },
      "source": [
        "You create a dictionary, this is just data.\n"
      ]
    },
    {
      "cell_type": "code",
      "execution_count": null,
      "metadata": {
        "jupyter": {
          "outputs_hidden": false
        },
        "id": "ZUdWwzzbgHYj"
      },
      "outputs": [],
      "source": [
        "dict_={'a':[11,21,31],'b':[12,22,32]}"
      ]
    },
    {
      "cell_type": "code",
      "execution_count": 4,
      "metadata": {
        "colab": {
          "base_uri": "https://localhost:8080/"
        },
        "id": "T1ht6PeWgHYk",
        "outputId": "c260e9e6-33a5-4798-84db-942ffc7108e5"
      },
      "outputs": [
        {
          "output_type": "execute_result",
          "data": {
            "text/plain": [
              "{'a': [11, 21, 31], 'b': [12, 22, 32]}"
            ]
          },
          "metadata": {},
          "execution_count": 4
        }
      ],
      "source": [
        "dict_={'a':[11,21,31],'b':[12,22,32]}\n",
        "dict_"
      ]
    },
    {
      "cell_type": "markdown",
      "metadata": {
        "id": "Hv_IE-uIgHYm"
      },
      "source": [
        "When you create a Pandas object with the Dataframe constructor in API lingo, this is an \"instance\". The data in the dictionary is passed along to the pandas API. You then use the dataframe to communicate with the API.\n"
      ]
    },
    {
      "cell_type": "code",
      "execution_count": null,
      "metadata": {
        "jupyter": {
          "outputs_hidden": false
        },
        "id": "YIamZPFsgHYn"
      },
      "outputs": [],
      "source": [
        "df=pd.DataFrame(dict_)\n",
        "type(df)"
      ]
    },
    {
      "cell_type": "code",
      "execution_count": 5,
      "metadata": {
        "colab": {
          "base_uri": "https://localhost:8080/"
        },
        "id": "qbf_sf64gHYo",
        "outputId": "608c3fe4-8080-470d-ebe6-8e86f4cca4fd"
      },
      "outputs": [
        {
          "output_type": "execute_result",
          "data": {
            "text/plain": [
              "pandas.core.frame.DataFrame"
            ]
          },
          "metadata": {},
          "execution_count": 5
        }
      ],
      "source": [
        "df=pd.DataFrame(dict_)\n",
        "type(df)"
      ]
    },
    {
      "cell_type": "markdown",
      "metadata": {
        "id": "sR22meR0gHYp"
      },
      "source": [
        "<img src = \"https://cf-courses-data.s3.us.cloud-object-storage.appdomain.cloud/IBMDeveloperSkillsNetwork-PY0101EN-SkillsNetwork/labs/Module%205/images/pandas_api.png\" width = 800, align = \"center\" alt=\"logistic regression block diagram\" />\n"
      ]
    },
    {
      "cell_type": "markdown",
      "metadata": {
        "id": "bpHsbX9lgHYp"
      },
      "source": [
        "When you call the method head the dataframe communicates with the API displaying the first few rows of the dataframe.\n"
      ]
    },
    {
      "cell_type": "code",
      "execution_count": null,
      "metadata": {
        "jupyter": {
          "outputs_hidden": false
        },
        "id": "Ed8hz7UegHYq"
      },
      "outputs": [],
      "source": [
        "df.head()"
      ]
    },
    {
      "cell_type": "code",
      "execution_count": 6,
      "metadata": {
        "colab": {
          "base_uri": "https://localhost:8080/",
          "height": 143
        },
        "id": "MlgSeITTgHYr",
        "outputId": "7d260114-18c2-467e-c828-df558fa9ba20"
      },
      "outputs": [
        {
          "output_type": "execute_result",
          "data": {
            "text/html": [
              "<div>\n",
              "<style scoped>\n",
              "    .dataframe tbody tr th:only-of-type {\n",
              "        vertical-align: middle;\n",
              "    }\n",
              "\n",
              "    .dataframe tbody tr th {\n",
              "        vertical-align: top;\n",
              "    }\n",
              "\n",
              "    .dataframe thead th {\n",
              "        text-align: right;\n",
              "    }\n",
              "</style>\n",
              "<table border=\"1\" class=\"dataframe\">\n",
              "  <thead>\n",
              "    <tr style=\"text-align: right;\">\n",
              "      <th></th>\n",
              "      <th>a</th>\n",
              "      <th>b</th>\n",
              "    </tr>\n",
              "  </thead>\n",
              "  <tbody>\n",
              "    <tr>\n",
              "      <th>0</th>\n",
              "      <td>11</td>\n",
              "      <td>12</td>\n",
              "    </tr>\n",
              "    <tr>\n",
              "      <th>1</th>\n",
              "      <td>21</td>\n",
              "      <td>22</td>\n",
              "    </tr>\n",
              "    <tr>\n",
              "      <th>2</th>\n",
              "      <td>31</td>\n",
              "      <td>32</td>\n",
              "    </tr>\n",
              "  </tbody>\n",
              "</table>\n",
              "</div>"
            ],
            "text/plain": [
              "    a   b\n",
              "0  11  12\n",
              "1  21  22\n",
              "2  31  32"
            ]
          },
          "metadata": {},
          "execution_count": 6
        }
      ],
      "source": [
        "df.head()"
      ]
    },
    {
      "cell_type": "markdown",
      "metadata": {
        "id": "yWmeoJs2gHYr"
      },
      "source": [
        "When you call the method mean,the API will calculate the mean and return the value.\n"
      ]
    },
    {
      "cell_type": "code",
      "execution_count": null,
      "metadata": {
        "jupyter": {
          "outputs_hidden": false
        },
        "id": "s3MkKGWogHYr"
      },
      "outputs": [],
      "source": [
        "df.mean()"
      ]
    },
    {
      "cell_type": "code",
      "execution_count": 7,
      "metadata": {
        "colab": {
          "base_uri": "https://localhost:8080/"
        },
        "id": "ZmYU-LH_gHYs",
        "outputId": "9d67b019-ebbd-40f8-eb18-9f7dee23a28d"
      },
      "outputs": [
        {
          "output_type": "execute_result",
          "data": {
            "text/plain": [
              "a    21.0\n",
              "b    22.0\n",
              "dtype: float64"
            ]
          },
          "metadata": {},
          "execution_count": 7
        }
      ],
      "source": [
        "df.mean()"
      ]
    },
    {
      "cell_type": "markdown",
      "metadata": {
        "id": "NaM_gs2fgHYt"
      },
      "source": [
        "<h2 id=\"ref1\">REST APIs</h2>\n"
      ]
    },
    {
      "cell_type": "markdown",
      "metadata": {
        "id": "WE4AA7XVgHYu"
      },
      "source": [
        "Rest API’s function by sending a request,  the request is communicated via HTTP message. The HTTP message usually contains a JSON file. This contains instructions for what operation we would like the service or resource to perform. In a similar manner, API returns a response, via an HTTP message, this response is usually contained within a JSON.\n",
        "\n",
        "In cryptocurrency a popular method to display the movements of the price of a currency.\n",
        "\n",
        "![Example Candlestick Graph](https://cf-courses-data.s3.us.cloud-object-storage.appdomain.cloud/IBMDeveloperSkillsNetwork-PY0101EN-SkillsNetwork/labs/Module%205/candlestick.png)\n",
        "\n",
        "Here is a description of the candle sticks.\n",
        "\n",
        "<img src=\"https://cf-courses-data.s3.us.cloud-object-storage.appdomain.cloud/IBMDeveloperSkillsNetwork-PY0101EN-SkillsNetwork/labs/Module%205/explanation.png\" alt=\"Candle Stick Definition\" width=\"800\" height=\"600\">\n",
        "\n",
        "In this lab, we will be using the <a href=\"https://www.coingecko.com/en/api?utm_medium=Exinfluencer&utm_source=Exinfluencer&utm_content=000026UJ&utm_term=10006555&utm_id=NA-SkillsNetwork-Channel-SkillsNetworkCoursesIBMDeveloperSkillsNetworkPY0101ENSkillsNetwork19487395-2021-01-01\">CoinGecko API</a> to create one of these candlestick graphs for Bitcoin. We will use the API to get the price data for 30 days with 24 observation per day, 1 per hour. We will find the max, min, open, and close price per day meaning we will have 30 candlesticks and use that to generate the candlestick graph. Although we are using the CoinGecko API we will use a Python client/wrapper for the API called <a href=\"https://github.com/man-c/pycoingecko?utm_medium=Exinfluencer&utm_source=Exinfluencer&utm_content=000026UJ&utm_term=10006555&utm_id=NA-SkillsNetwork-Channel-SkillsNetworkCoursesIBMDeveloperSkillsNetworkPY0101ENSkillsNetwork19487395-2021-01-01\">PyCoinGecko</a>. PyCoinGecko will make performing the requests easy and it will deal with the enpoint targeting.\n"
      ]
    },
    {
      "cell_type": "markdown",
      "metadata": {
        "id": "PCAO4aEVgHYv"
      },
      "source": [
        "Lets start off by getting the data we need. Using the <code>get_coin_market_chart_by_id(id, vs_currency, days)</code>. <code>id</code> is the name of the coin you want, <code>vs_currency</code> is the currency you want the price in, and <code>days</code> is how many days back from today you want.\n"
      ]
    },
    {
      "cell_type": "code",
      "execution_count": null,
      "metadata": {
        "id": "M2MP3rGJgHYw"
      },
      "outputs": [],
      "source": [
        "cg = CoinGeckoAPI()\n",
        "\n",
        "bitcoin_data = cg.get_coin_market_chart_by_id(id='bitcoin', vs_currency='usd', days=30)"
      ]
    },
    {
      "cell_type": "code",
      "execution_count": 8,
      "metadata": {
        "id": "KgyJZB5rgHYw"
      },
      "outputs": [],
      "source": [
        "cg=CoinGeckoAPI()\n",
        "bitcoin_data = cg.get_coin_market_chart_by_id(id='bitcoin', vs_currency='usd', days=30)"
      ]
    },
    {
      "cell_type": "code",
      "execution_count": null,
      "metadata": {
        "id": "Jqb5AEYkgHYx"
      },
      "outputs": [],
      "source": [
        "type(bitcoin_data )"
      ]
    },
    {
      "cell_type": "code",
      "execution_count": 9,
      "metadata": {
        "colab": {
          "base_uri": "https://localhost:8080/"
        },
        "id": "NlbCzn28gHYx",
        "outputId": "e3e691e2-e6de-483c-90cc-4771d7ca91bb"
      },
      "outputs": [
        {
          "output_type": "execute_result",
          "data": {
            "text/plain": [
              "dict"
            ]
          },
          "metadata": {},
          "execution_count": 9
        }
      ],
      "source": [
        "type(bitcoin_data)"
      ]
    },
    {
      "cell_type": "code",
      "execution_count": 10,
      "metadata": {
        "colab": {
          "base_uri": "https://localhost:8080/"
        },
        "id": "wEDn5fX1gHYx",
        "outputId": "bd78b9ca-471c-41ac-a415-53b11d125d59"
      },
      "outputs": [
        {
          "output_type": "execute_result",
          "data": {
            "text/plain": [
              "[[1636751026948, 64313.115969074905], [1636754407154, 64341.15804940664]]"
            ]
          },
          "metadata": {},
          "execution_count": 10
        }
      ],
      "source": [
        "bitcoin_data[\"prices\"][0:2]"
      ]
    },
    {
      "cell_type": "code",
      "execution_count": 11,
      "metadata": {
        "colab": {
          "base_uri": "https://localhost:8080/"
        },
        "id": "Cym6-_EwgHYy",
        "outputId": "1c7a375f-dd33-490f-fdc4-21808202e591"
      },
      "outputs": [
        {
          "output_type": "execute_result",
          "data": {
            "text/plain": [
              "list"
            ]
          },
          "metadata": {},
          "execution_count": 11
        }
      ],
      "source": [
        "type(bitcoin_data[\"prices\"])"
      ]
    },
    {
      "cell_type": "code",
      "execution_count": 12,
      "metadata": {
        "colab": {
          "base_uri": "https://localhost:8080/",
          "height": 424
        },
        "id": "WSqe4h9JgHYy",
        "outputId": "a9ea0bff-2dc4-429a-85ed-eed615618fa7"
      },
      "outputs": [
        {
          "output_type": "execute_result",
          "data": {
            "text/html": [
              "<div>\n",
              "<style scoped>\n",
              "    .dataframe tbody tr th:only-of-type {\n",
              "        vertical-align: middle;\n",
              "    }\n",
              "\n",
              "    .dataframe tbody tr th {\n",
              "        vertical-align: top;\n",
              "    }\n",
              "\n",
              "    .dataframe thead th {\n",
              "        text-align: right;\n",
              "    }\n",
              "</style>\n",
              "<table border=\"1\" class=\"dataframe\">\n",
              "  <thead>\n",
              "    <tr style=\"text-align: right;\">\n",
              "      <th></th>\n",
              "      <th>prices</th>\n",
              "      <th>market_caps</th>\n",
              "      <th>total_volumes</th>\n",
              "    </tr>\n",
              "  </thead>\n",
              "  <tbody>\n",
              "    <tr>\n",
              "      <th>0</th>\n",
              "      <td>[1636751026948, 64313.115969074905]</td>\n",
              "      <td>[1636751026948, 1213513694204.1763]</td>\n",
              "      <td>[1636751026948, 38335979208.218254]</td>\n",
              "    </tr>\n",
              "    <tr>\n",
              "      <th>1</th>\n",
              "      <td>[1636754407154, 64341.15804940664]</td>\n",
              "      <td>[1636754407154, 1214857653812.3257]</td>\n",
              "      <td>[1636754407154, 37691293752.96494]</td>\n",
              "    </tr>\n",
              "    <tr>\n",
              "      <th>2</th>\n",
              "      <td>[1636758244387, 64111.22781164685]</td>\n",
              "      <td>[1636758244387, 1209872984088.2036]</td>\n",
              "      <td>[1636758244387, 37062548234.792244]</td>\n",
              "    </tr>\n",
              "    <tr>\n",
              "      <th>3</th>\n",
              "      <td>[1636761855050, 64432.04794734522]</td>\n",
              "      <td>[1636761855050, 1215930166022.9006]</td>\n",
              "      <td>[1636761855050, 36872626217.741356]</td>\n",
              "    </tr>\n",
              "    <tr>\n",
              "      <th>4</th>\n",
              "      <td>[1636765461425, 64528.481713868576]</td>\n",
              "      <td>[1636765461425, 1217750855875.3137]</td>\n",
              "      <td>[1636765461425, 35435518148.99625]</td>\n",
              "    </tr>\n",
              "    <tr>\n",
              "      <th>...</th>\n",
              "      <td>...</td>\n",
              "      <td>...</td>\n",
              "      <td>...</td>\n",
              "    </tr>\n",
              "    <tr>\n",
              "      <th>717</th>\n",
              "      <td>[1639328598238, 49874.614648465984]</td>\n",
              "      <td>[1639328598238, 941393067652.759]</td>\n",
              "      <td>[1639328598238, 18867625134.117165]</td>\n",
              "    </tr>\n",
              "    <tr>\n",
              "      <th>718</th>\n",
              "      <td>[1639332251359, 50281.73854518594]</td>\n",
              "      <td>[1639332251359, 950281465363.6498]</td>\n",
              "      <td>[1639332251359, 19597113868.497097]</td>\n",
              "    </tr>\n",
              "    <tr>\n",
              "      <th>719</th>\n",
              "      <td>[1639335697114, 50473.826329249794]</td>\n",
              "      <td>[1639335697114, 953914585244.9733]</td>\n",
              "      <td>[1639335697114, 20144513342.522938]</td>\n",
              "    </tr>\n",
              "    <tr>\n",
              "      <th>720</th>\n",
              "      <td>[1639339354699, 50257.31197197095]</td>\n",
              "      <td>[1639339354699, 949824548397.3445]</td>\n",
              "      <td>[1639339354699, 20344412994.529137]</td>\n",
              "    </tr>\n",
              "    <tr>\n",
              "      <th>721</th>\n",
              "      <td>[1639343569000, 50275.59695723346]</td>\n",
              "      <td>[1639343569000, 950194506429.5619]</td>\n",
              "      <td>[1639343569000, 20442079685.04356]</td>\n",
              "    </tr>\n",
              "  </tbody>\n",
              "</table>\n",
              "<p>722 rows × 3 columns</p>\n",
              "</div>"
            ],
            "text/plain": [
              "                                  prices  ...                        total_volumes\n",
              "0    [1636751026948, 64313.115969074905]  ...  [1636751026948, 38335979208.218254]\n",
              "1     [1636754407154, 64341.15804940664]  ...   [1636754407154, 37691293752.96494]\n",
              "2     [1636758244387, 64111.22781164685]  ...  [1636758244387, 37062548234.792244]\n",
              "3     [1636761855050, 64432.04794734522]  ...  [1636761855050, 36872626217.741356]\n",
              "4    [1636765461425, 64528.481713868576]  ...   [1636765461425, 35435518148.99625]\n",
              "..                                   ...  ...                                  ...\n",
              "717  [1639328598238, 49874.614648465984]  ...  [1639328598238, 18867625134.117165]\n",
              "718   [1639332251359, 50281.73854518594]  ...  [1639332251359, 19597113868.497097]\n",
              "719  [1639335697114, 50473.826329249794]  ...  [1639335697114, 20144513342.522938]\n",
              "720   [1639339354699, 50257.31197197095]  ...  [1639339354699, 20344412994.529137]\n",
              "721   [1639343569000, 50275.59695723346]  ...   [1639343569000, 20442079685.04356]\n",
              "\n",
              "[722 rows x 3 columns]"
            ]
          },
          "metadata": {},
          "execution_count": 12
        }
      ],
      "source": [
        "dfbc=pd.DataFrame(bitcoin_data)\n",
        "dfbc"
      ]
    },
    {
      "cell_type": "code",
      "execution_count": 13,
      "metadata": {
        "colab": {
          "base_uri": "https://localhost:8080/"
        },
        "id": "ZxYGejBugHYz",
        "outputId": "f68908a3-7d13-400a-c391-78ea1643b2ba"
      },
      "outputs": [
        {
          "output_type": "execute_result",
          "data": {
            "text/plain": [
              "pandas.core.frame.DataFrame"
            ]
          },
          "metadata": {},
          "execution_count": 13
        }
      ],
      "source": [
        "type(dfbc)"
      ]
    },
    {
      "cell_type": "code",
      "execution_count": 14,
      "metadata": {
        "colab": {
          "base_uri": "https://localhost:8080/",
          "height": 424
        },
        "id": "Kk5vLZaEgHY0",
        "outputId": "eee7af56-0af6-44cb-9ed8-f31f1c54c5c2"
      },
      "outputs": [
        {
          "output_type": "execute_result",
          "data": {
            "text/html": [
              "<div>\n",
              "<style scoped>\n",
              "    .dataframe tbody tr th:only-of-type {\n",
              "        vertical-align: middle;\n",
              "    }\n",
              "\n",
              "    .dataframe tbody tr th {\n",
              "        vertical-align: top;\n",
              "    }\n",
              "\n",
              "    .dataframe thead th {\n",
              "        text-align: right;\n",
              "    }\n",
              "</style>\n",
              "<table border=\"1\" class=\"dataframe\">\n",
              "  <thead>\n",
              "    <tr style=\"text-align: right;\">\n",
              "      <th></th>\n",
              "      <th>market_caps</th>\n",
              "    </tr>\n",
              "  </thead>\n",
              "  <tbody>\n",
              "    <tr>\n",
              "      <th>0</th>\n",
              "      <td>[1636751026948, 1213513694204.1763]</td>\n",
              "    </tr>\n",
              "    <tr>\n",
              "      <th>1</th>\n",
              "      <td>[1636754407154, 1214857653812.3257]</td>\n",
              "    </tr>\n",
              "    <tr>\n",
              "      <th>2</th>\n",
              "      <td>[1636758244387, 1209872984088.2036]</td>\n",
              "    </tr>\n",
              "    <tr>\n",
              "      <th>3</th>\n",
              "      <td>[1636761855050, 1215930166022.9006]</td>\n",
              "    </tr>\n",
              "    <tr>\n",
              "      <th>4</th>\n",
              "      <td>[1636765461425, 1217750855875.3137]</td>\n",
              "    </tr>\n",
              "    <tr>\n",
              "      <th>...</th>\n",
              "      <td>...</td>\n",
              "    </tr>\n",
              "    <tr>\n",
              "      <th>717</th>\n",
              "      <td>[1639328598238, 941393067652.759]</td>\n",
              "    </tr>\n",
              "    <tr>\n",
              "      <th>718</th>\n",
              "      <td>[1639332251359, 950281465363.6498]</td>\n",
              "    </tr>\n",
              "    <tr>\n",
              "      <th>719</th>\n",
              "      <td>[1639335697114, 953914585244.9733]</td>\n",
              "    </tr>\n",
              "    <tr>\n",
              "      <th>720</th>\n",
              "      <td>[1639339354699, 949824548397.3445]</td>\n",
              "    </tr>\n",
              "    <tr>\n",
              "      <th>721</th>\n",
              "      <td>[1639343569000, 950194506429.5619]</td>\n",
              "    </tr>\n",
              "  </tbody>\n",
              "</table>\n",
              "<p>722 rows × 1 columns</p>\n",
              "</div>"
            ],
            "text/plain": [
              "                             market_caps\n",
              "0    [1636751026948, 1213513694204.1763]\n",
              "1    [1636754407154, 1214857653812.3257]\n",
              "2    [1636758244387, 1209872984088.2036]\n",
              "3    [1636761855050, 1215930166022.9006]\n",
              "4    [1636765461425, 1217750855875.3137]\n",
              "..                                   ...\n",
              "717    [1639328598238, 941393067652.759]\n",
              "718   [1639332251359, 950281465363.6498]\n",
              "719   [1639335697114, 953914585244.9733]\n",
              "720   [1639339354699, 949824548397.3445]\n",
              "721   [1639343569000, 950194506429.5619]\n",
              "\n",
              "[722 rows x 1 columns]"
            ]
          },
          "metadata": {},
          "execution_count": 14
        }
      ],
      "source": [
        "dfbcMC=pd.DataFrame(bitcoin_data, columns=['market_caps'])\n",
        "dfbcMC"
      ]
    },
    {
      "cell_type": "markdown",
      "metadata": {
        "id": "ONlox-iVgHY1"
      },
      "source": [
        "The response we get is in the form of a JSON which includes the price, market caps, and total volumes along with timestamps for each observation. We are focused on the prices so we will select that data.\n"
      ]
    },
    {
      "cell_type": "code",
      "execution_count": null,
      "metadata": {
        "id": "EO3uRp4NgHY1"
      },
      "outputs": [],
      "source": [
        "bitcoin_price_data = bitcoin_data['prices']\n",
        "\n",
        "bitcoin_price_data[0:5]"
      ]
    },
    {
      "cell_type": "code",
      "execution_count": 15,
      "metadata": {
        "colab": {
          "base_uri": "https://localhost:8080/"
        },
        "id": "ekEvbu0-gHY1",
        "outputId": "3cefeddf-21d8-4b46-fb74-5b8569e20281"
      },
      "outputs": [
        {
          "output_type": "execute_result",
          "data": {
            "text/plain": [
              "[[1636751026948, 64313.115969074905],\n",
              " [1636754407154, 64341.15804940664],\n",
              " [1636758244387, 64111.22781164685],\n",
              " [1636761855050, 64432.04794734522],\n",
              " [1636765461425, 64528.481713868576]]"
            ]
          },
          "metadata": {},
          "execution_count": 15
        }
      ],
      "source": [
        "bitcoin_price_data=bitcoin_data['prices']\n",
        "bitcoin_price_data[0:5]"
      ]
    },
    {
      "cell_type": "code",
      "execution_count": 16,
      "metadata": {
        "colab": {
          "base_uri": "https://localhost:8080/"
        },
        "id": "tNYqtTwDgHY1",
        "outputId": "2dca6909-977a-479e-c0ec-0c3fb96d39fe"
      },
      "outputs": [
        {
          "output_type": "execute_result",
          "data": {
            "text/plain": [
              "list"
            ]
          },
          "metadata": {},
          "execution_count": 16
        }
      ],
      "source": [
        "type(bitcoin_price_data)"
      ]
    },
    {
      "cell_type": "markdown",
      "metadata": {
        "id": "tLaq_2LqgHY3"
      },
      "source": [
        "Finally lets turn this data into a Pandas DataFrame.\n"
      ]
    },
    {
      "cell_type": "code",
      "execution_count": null,
      "metadata": {
        "id": "TE76diYrgHY3"
      },
      "outputs": [],
      "source": [
        "data = pd.DataFrame(bitcoin_price_data, columns=['TimeStamp', 'Price'])"
      ]
    },
    {
      "cell_type": "code",
      "execution_count": 17,
      "metadata": {
        "id": "WJxti9FsgHY3"
      },
      "outputs": [],
      "source": [
        "data=pd.DataFrame(bitcoin_price_data, columns=[\"TimeStamp\", \"Price\"])"
      ]
    },
    {
      "cell_type": "code",
      "execution_count": 18,
      "metadata": {
        "colab": {
          "base_uri": "https://localhost:8080/",
          "height": 424
        },
        "id": "ScXiT0pEgHY3",
        "outputId": "011600a5-6407-4e30-892d-cb071873eb2c"
      },
      "outputs": [
        {
          "output_type": "execute_result",
          "data": {
            "text/html": [
              "<div>\n",
              "<style scoped>\n",
              "    .dataframe tbody tr th:only-of-type {\n",
              "        vertical-align: middle;\n",
              "    }\n",
              "\n",
              "    .dataframe tbody tr th {\n",
              "        vertical-align: top;\n",
              "    }\n",
              "\n",
              "    .dataframe thead th {\n",
              "        text-align: right;\n",
              "    }\n",
              "</style>\n",
              "<table border=\"1\" class=\"dataframe\">\n",
              "  <thead>\n",
              "    <tr style=\"text-align: right;\">\n",
              "      <th></th>\n",
              "      <th>TimeStamp</th>\n",
              "      <th>Price</th>\n",
              "    </tr>\n",
              "  </thead>\n",
              "  <tbody>\n",
              "    <tr>\n",
              "      <th>0</th>\n",
              "      <td>1636751026948</td>\n",
              "      <td>64313.115969</td>\n",
              "    </tr>\n",
              "    <tr>\n",
              "      <th>1</th>\n",
              "      <td>1636754407154</td>\n",
              "      <td>64341.158049</td>\n",
              "    </tr>\n",
              "    <tr>\n",
              "      <th>2</th>\n",
              "      <td>1636758244387</td>\n",
              "      <td>64111.227812</td>\n",
              "    </tr>\n",
              "    <tr>\n",
              "      <th>3</th>\n",
              "      <td>1636761855050</td>\n",
              "      <td>64432.047947</td>\n",
              "    </tr>\n",
              "    <tr>\n",
              "      <th>4</th>\n",
              "      <td>1636765461425</td>\n",
              "      <td>64528.481714</td>\n",
              "    </tr>\n",
              "    <tr>\n",
              "      <th>...</th>\n",
              "      <td>...</td>\n",
              "      <td>...</td>\n",
              "    </tr>\n",
              "    <tr>\n",
              "      <th>717</th>\n",
              "      <td>1639328598238</td>\n",
              "      <td>49874.614648</td>\n",
              "    </tr>\n",
              "    <tr>\n",
              "      <th>718</th>\n",
              "      <td>1639332251359</td>\n",
              "      <td>50281.738545</td>\n",
              "    </tr>\n",
              "    <tr>\n",
              "      <th>719</th>\n",
              "      <td>1639335697114</td>\n",
              "      <td>50473.826329</td>\n",
              "    </tr>\n",
              "    <tr>\n",
              "      <th>720</th>\n",
              "      <td>1639339354699</td>\n",
              "      <td>50257.311972</td>\n",
              "    </tr>\n",
              "    <tr>\n",
              "      <th>721</th>\n",
              "      <td>1639343569000</td>\n",
              "      <td>50275.596957</td>\n",
              "    </tr>\n",
              "  </tbody>\n",
              "</table>\n",
              "<p>722 rows × 2 columns</p>\n",
              "</div>"
            ],
            "text/plain": [
              "         TimeStamp         Price\n",
              "0    1636751026948  64313.115969\n",
              "1    1636754407154  64341.158049\n",
              "2    1636758244387  64111.227812\n",
              "3    1636761855050  64432.047947\n",
              "4    1636765461425  64528.481714\n",
              "..             ...           ...\n",
              "717  1639328598238  49874.614648\n",
              "718  1639332251359  50281.738545\n",
              "719  1639335697114  50473.826329\n",
              "720  1639339354699  50257.311972\n",
              "721  1639343569000  50275.596957\n",
              "\n",
              "[722 rows x 2 columns]"
            ]
          },
          "metadata": {},
          "execution_count": 18
        }
      ],
      "source": [
        "data"
      ]
    },
    {
      "cell_type": "code",
      "execution_count": 19,
      "metadata": {
        "colab": {
          "base_uri": "https://localhost:8080/"
        },
        "id": "8drR1DlGgHY4",
        "outputId": "960dae12-2098-435c-ba51-4ef564340864"
      },
      "outputs": [
        {
          "output_type": "execute_result",
          "data": {
            "text/plain": [
              "0      64313.115969\n",
              "1      64341.158049\n",
              "2      64111.227812\n",
              "3      64432.047947\n",
              "4      64528.481714\n",
              "           ...     \n",
              "717    49874.614648\n",
              "718    50281.738545\n",
              "719    50473.826329\n",
              "720    50257.311972\n",
              "721    50275.596957\n",
              "Name: Price, Length: 722, dtype: float64"
            ]
          },
          "metadata": {},
          "execution_count": 19
        }
      ],
      "source": [
        "data[\"Price\"]"
      ]
    },
    {
      "cell_type": "markdown",
      "metadata": {
        "id": "is5ggcsPgHY4"
      },
      "source": [
        "Now that we have the DataFrame we will convert the timestamp to datetime and save it as a column called <code>Date</code>. We will map our <code>unix_to_datetime</code> to each timestamp and convert it to a readable datetime.\n"
      ]
    },
    {
      "cell_type": "code",
      "execution_count": null,
      "metadata": {
        "id": "w4ttIrrpgHY4"
      },
      "outputs": [],
      "source": [
        "data['date'] = data['TimeStamp'].apply(lambda d: datetime.date.fromtimestamp(d/1000.0))"
      ]
    },
    {
      "cell_type": "code",
      "execution_count": 20,
      "metadata": {
        "colab": {
          "base_uri": "https://localhost:8080/",
          "height": 424
        },
        "id": "hzrhOnfngHY6",
        "outputId": "393b96b4-7410-48d6-a2d5-c7f796a4cd4b"
      },
      "outputs": [
        {
          "output_type": "execute_result",
          "data": {
            "text/html": [
              "<div>\n",
              "<style scoped>\n",
              "    .dataframe tbody tr th:only-of-type {\n",
              "        vertical-align: middle;\n",
              "    }\n",
              "\n",
              "    .dataframe tbody tr th {\n",
              "        vertical-align: top;\n",
              "    }\n",
              "\n",
              "    .dataframe thead th {\n",
              "        text-align: right;\n",
              "    }\n",
              "</style>\n",
              "<table border=\"1\" class=\"dataframe\">\n",
              "  <thead>\n",
              "    <tr style=\"text-align: right;\">\n",
              "      <th></th>\n",
              "      <th>TimeStamp</th>\n",
              "      <th>Price</th>\n",
              "      <th>Date</th>\n",
              "    </tr>\n",
              "  </thead>\n",
              "  <tbody>\n",
              "    <tr>\n",
              "      <th>0</th>\n",
              "      <td>1636751026948</td>\n",
              "      <td>64313.115969</td>\n",
              "      <td>2021-11-12</td>\n",
              "    </tr>\n",
              "    <tr>\n",
              "      <th>1</th>\n",
              "      <td>1636754407154</td>\n",
              "      <td>64341.158049</td>\n",
              "      <td>2021-11-12</td>\n",
              "    </tr>\n",
              "    <tr>\n",
              "      <th>2</th>\n",
              "      <td>1636758244387</td>\n",
              "      <td>64111.227812</td>\n",
              "      <td>2021-11-12</td>\n",
              "    </tr>\n",
              "    <tr>\n",
              "      <th>3</th>\n",
              "      <td>1636761855050</td>\n",
              "      <td>64432.047947</td>\n",
              "      <td>2021-11-13</td>\n",
              "    </tr>\n",
              "    <tr>\n",
              "      <th>4</th>\n",
              "      <td>1636765461425</td>\n",
              "      <td>64528.481714</td>\n",
              "      <td>2021-11-13</td>\n",
              "    </tr>\n",
              "    <tr>\n",
              "      <th>...</th>\n",
              "      <td>...</td>\n",
              "      <td>...</td>\n",
              "      <td>...</td>\n",
              "    </tr>\n",
              "    <tr>\n",
              "      <th>717</th>\n",
              "      <td>1639328598238</td>\n",
              "      <td>49874.614648</td>\n",
              "      <td>2021-12-12</td>\n",
              "    </tr>\n",
              "    <tr>\n",
              "      <th>718</th>\n",
              "      <td>1639332251359</td>\n",
              "      <td>50281.738545</td>\n",
              "      <td>2021-12-12</td>\n",
              "    </tr>\n",
              "    <tr>\n",
              "      <th>719</th>\n",
              "      <td>1639335697114</td>\n",
              "      <td>50473.826329</td>\n",
              "      <td>2021-12-12</td>\n",
              "    </tr>\n",
              "    <tr>\n",
              "      <th>720</th>\n",
              "      <td>1639339354699</td>\n",
              "      <td>50257.311972</td>\n",
              "      <td>2021-12-12</td>\n",
              "    </tr>\n",
              "    <tr>\n",
              "      <th>721</th>\n",
              "      <td>1639343569000</td>\n",
              "      <td>50275.596957</td>\n",
              "      <td>2021-12-12</td>\n",
              "    </tr>\n",
              "  </tbody>\n",
              "</table>\n",
              "<p>722 rows × 3 columns</p>\n",
              "</div>"
            ],
            "text/plain": [
              "         TimeStamp         Price        Date\n",
              "0    1636751026948  64313.115969  2021-11-12\n",
              "1    1636754407154  64341.158049  2021-11-12\n",
              "2    1636758244387  64111.227812  2021-11-12\n",
              "3    1636761855050  64432.047947  2021-11-13\n",
              "4    1636765461425  64528.481714  2021-11-13\n",
              "..             ...           ...         ...\n",
              "717  1639328598238  49874.614648  2021-12-12\n",
              "718  1639332251359  50281.738545  2021-12-12\n",
              "719  1639335697114  50473.826329  2021-12-12\n",
              "720  1639339354699  50257.311972  2021-12-12\n",
              "721  1639343569000  50275.596957  2021-12-12\n",
              "\n",
              "[722 rows x 3 columns]"
            ]
          },
          "metadata": {},
          "execution_count": 20
        }
      ],
      "source": [
        "data[\"Date\"]=data[\"TimeStamp\"].apply(lambda d: datetime.date.fromtimestamp(d/1000.0))\n",
        "data"
      ]
    },
    {
      "cell_type": "markdown",
      "metadata": {
        "id": "r_WADEp4gHY6"
      },
      "source": [
        "Using this modified dataset we can now group by the <code>Date</code> and find the min, max, open, and close for the candlesticks.\n"
      ]
    },
    {
      "cell_type": "code",
      "execution_count": null,
      "metadata": {
        "id": "futh1RnJgHY7"
      },
      "outputs": [],
      "source": [
        "candlestick_data = data.groupby(data.date, as_index=False).agg({\"Price\": ['min', 'max', 'first', 'last']})"
      ]
    },
    {
      "cell_type": "code",
      "execution_count": 21,
      "metadata": {
        "id": "zLgRyviigHY7"
      },
      "outputs": [],
      "source": [
        "candlestick_data=data.groupby(data.Date, as_index=False).agg({\"Price\":[\"min\", \"max\", \"first\", \"last\"]}) #first=open  last=close"
      ]
    },
    {
      "cell_type": "code",
      "execution_count": 22,
      "metadata": {
        "colab": {
          "base_uri": "https://localhost:8080/",
          "height": 1000
        },
        "id": "eWTFlTP6gHY7",
        "outputId": "8e6c159e-bb57-4381-dc5e-4ac8f5552f5f"
      },
      "outputs": [
        {
          "output_type": "execute_result",
          "data": {
            "text/html": [
              "<div>\n",
              "<style scoped>\n",
              "    .dataframe tbody tr th:only-of-type {\n",
              "        vertical-align: middle;\n",
              "    }\n",
              "\n",
              "    .dataframe tbody tr th {\n",
              "        vertical-align: top;\n",
              "    }\n",
              "\n",
              "    .dataframe thead tr th {\n",
              "        text-align: left;\n",
              "    }\n",
              "</style>\n",
              "<table border=\"1\" class=\"dataframe\">\n",
              "  <thead>\n",
              "    <tr>\n",
              "      <th></th>\n",
              "      <th>Date</th>\n",
              "      <th colspan=\"4\" halign=\"left\">Price</th>\n",
              "    </tr>\n",
              "    <tr>\n",
              "      <th></th>\n",
              "      <th></th>\n",
              "      <th>min</th>\n",
              "      <th>max</th>\n",
              "      <th>first</th>\n",
              "      <th>last</th>\n",
              "    </tr>\n",
              "  </thead>\n",
              "  <tbody>\n",
              "    <tr>\n",
              "      <th>0</th>\n",
              "      <td>2021-11-12</td>\n",
              "      <td>64111.227812</td>\n",
              "      <td>64341.158049</td>\n",
              "      <td>64313.115969</td>\n",
              "      <td>64111.227812</td>\n",
              "    </tr>\n",
              "    <tr>\n",
              "      <th>1</th>\n",
              "      <td>2021-11-13</td>\n",
              "      <td>63691.403147</td>\n",
              "      <td>64991.705536</td>\n",
              "      <td>64432.047947</td>\n",
              "      <td>64521.648875</td>\n",
              "    </tr>\n",
              "    <tr>\n",
              "      <th>2</th>\n",
              "      <td>2021-11-14</td>\n",
              "      <td>63874.891514</td>\n",
              "      <td>65219.483033</td>\n",
              "      <td>64660.335353</td>\n",
              "      <td>64763.012845</td>\n",
              "    </tr>\n",
              "    <tr>\n",
              "      <th>3</th>\n",
              "      <td>2021-11-15</td>\n",
              "      <td>63991.944474</td>\n",
              "      <td>66136.912461</td>\n",
              "      <td>65648.977791</td>\n",
              "      <td>64069.393251</td>\n",
              "    </tr>\n",
              "    <tr>\n",
              "      <th>4</th>\n",
              "      <td>2021-11-16</td>\n",
              "      <td>59490.626900</td>\n",
              "      <td>63933.835443</td>\n",
              "      <td>63933.835443</td>\n",
              "      <td>60885.079624</td>\n",
              "    </tr>\n",
              "    <tr>\n",
              "      <th>5</th>\n",
              "      <td>2021-11-17</td>\n",
              "      <td>59359.165190</td>\n",
              "      <td>60800.021957</td>\n",
              "      <td>60398.826069</td>\n",
              "      <td>60292.325614</td>\n",
              "    </tr>\n",
              "    <tr>\n",
              "      <th>6</th>\n",
              "      <td>2021-11-18</td>\n",
              "      <td>56956.384977</td>\n",
              "      <td>60982.715694</td>\n",
              "      <td>60613.390494</td>\n",
              "      <td>56956.384977</td>\n",
              "    </tr>\n",
              "    <tr>\n",
              "      <th>7</th>\n",
              "      <td>2021-11-19</td>\n",
              "      <td>55861.139307</td>\n",
              "      <td>58361.160585</td>\n",
              "      <td>56987.322339</td>\n",
              "      <td>58056.784094</td>\n",
              "    </tr>\n",
              "    <tr>\n",
              "      <th>8</th>\n",
              "      <td>2021-11-20</td>\n",
              "      <td>57833.006825</td>\n",
              "      <td>59959.646836</td>\n",
              "      <td>58459.255517</td>\n",
              "      <td>59943.632505</td>\n",
              "    </tr>\n",
              "    <tr>\n",
              "      <th>9</th>\n",
              "      <td>2021-11-21</td>\n",
              "      <td>58861.630427</td>\n",
              "      <td>60082.911668</td>\n",
              "      <td>60082.911668</td>\n",
              "      <td>59362.841309</td>\n",
              "    </tr>\n",
              "    <tr>\n",
              "      <th>10</th>\n",
              "      <td>2021-11-22</td>\n",
              "      <td>55921.075722</td>\n",
              "      <td>59216.860474</td>\n",
              "      <td>59139.779280</td>\n",
              "      <td>56898.609252</td>\n",
              "    </tr>\n",
              "    <tr>\n",
              "      <th>11</th>\n",
              "      <td>2021-11-23</td>\n",
              "      <td>56100.000067</td>\n",
              "      <td>57851.381350</td>\n",
              "      <td>56386.856853</td>\n",
              "      <td>57526.341288</td>\n",
              "    </tr>\n",
              "    <tr>\n",
              "      <th>12</th>\n",
              "      <td>2021-11-24</td>\n",
              "      <td>56054.279283</td>\n",
              "      <td>57748.793174</td>\n",
              "      <td>57748.793174</td>\n",
              "      <td>57032.781719</td>\n",
              "    </tr>\n",
              "    <tr>\n",
              "      <th>13</th>\n",
              "      <td>2021-11-25</td>\n",
              "      <td>57128.550240</td>\n",
              "      <td>59206.232837</td>\n",
              "      <td>57198.183846</td>\n",
              "      <td>58958.548352</td>\n",
              "    </tr>\n",
              "    <tr>\n",
              "      <th>14</th>\n",
              "      <td>2021-11-26</td>\n",
              "      <td>54031.997962</td>\n",
              "      <td>58897.846983</td>\n",
              "      <td>58897.846983</td>\n",
              "      <td>54185.035132</td>\n",
              "    </tr>\n",
              "    <tr>\n",
              "      <th>15</th>\n",
              "      <td>2021-11-27</td>\n",
              "      <td>53827.792865</td>\n",
              "      <td>55225.942781</td>\n",
              "      <td>53827.792865</td>\n",
              "      <td>55017.855454</td>\n",
              "    </tr>\n",
              "    <tr>\n",
              "      <th>16</th>\n",
              "      <td>2021-11-28</td>\n",
              "      <td>53917.311740</td>\n",
              "      <td>56303.970003</td>\n",
              "      <td>54706.458577</td>\n",
              "      <td>56262.552640</td>\n",
              "    </tr>\n",
              "    <tr>\n",
              "      <th>17</th>\n",
              "      <td>2021-11-29</td>\n",
              "      <td>56639.665527</td>\n",
              "      <td>58778.092449</td>\n",
              "      <td>57237.661137</td>\n",
              "      <td>58132.109111</td>\n",
              "    </tr>\n",
              "    <tr>\n",
              "      <th>18</th>\n",
              "      <td>2021-11-30</td>\n",
              "      <td>56454.038208</td>\n",
              "      <td>58287.480460</td>\n",
              "      <td>57848.773537</td>\n",
              "      <td>57284.798601</td>\n",
              "    </tr>\n",
              "    <tr>\n",
              "      <th>19</th>\n",
              "      <td>2021-12-01</td>\n",
              "      <td>56749.098100</td>\n",
              "      <td>58612.920116</td>\n",
              "      <td>57011.280474</td>\n",
              "      <td>57124.866358</td>\n",
              "    </tr>\n",
              "    <tr>\n",
              "      <th>20</th>\n",
              "      <td>2021-12-02</td>\n",
              "      <td>56225.080607</td>\n",
              "      <td>57224.482540</td>\n",
              "      <td>57169.371994</td>\n",
              "      <td>56902.247564</td>\n",
              "    </tr>\n",
              "    <tr>\n",
              "      <th>21</th>\n",
              "      <td>2021-12-03</td>\n",
              "      <td>53448.720326</td>\n",
              "      <td>57060.825202</td>\n",
              "      <td>56508.268054</td>\n",
              "      <td>53483.395160</td>\n",
              "    </tr>\n",
              "    <tr>\n",
              "      <th>22</th>\n",
              "      <td>2021-12-04</td>\n",
              "      <td>46633.332640</td>\n",
              "      <td>53785.967172</td>\n",
              "      <td>53785.967172</td>\n",
              "      <td>49049.778903</td>\n",
              "    </tr>\n",
              "    <tr>\n",
              "      <th>23</th>\n",
              "      <td>2021-12-05</td>\n",
              "      <td>47828.356015</td>\n",
              "      <td>49673.940889</td>\n",
              "      <td>49161.990710</td>\n",
              "      <td>49254.374734</td>\n",
              "    </tr>\n",
              "    <tr>\n",
              "      <th>24</th>\n",
              "      <td>2021-12-06</td>\n",
              "      <td>47373.065254</td>\n",
              "      <td>50979.271823</td>\n",
              "      <td>49268.469891</td>\n",
              "      <td>50979.271823</td>\n",
              "    </tr>\n",
              "    <tr>\n",
              "      <th>25</th>\n",
              "      <td>2021-12-07</td>\n",
              "      <td>50302.094231</td>\n",
              "      <td>51855.478472</td>\n",
              "      <td>50461.576837</td>\n",
              "      <td>50302.094231</td>\n",
              "    </tr>\n",
              "    <tr>\n",
              "      <th>26</th>\n",
              "      <td>2021-12-08</td>\n",
              "      <td>49113.378818</td>\n",
              "      <td>50878.678203</td>\n",
              "      <td>50647.663406</td>\n",
              "      <td>50345.016232</td>\n",
              "    </tr>\n",
              "    <tr>\n",
              "      <th>27</th>\n",
              "      <td>2021-12-09</td>\n",
              "      <td>47504.053366</td>\n",
              "      <td>50650.944941</td>\n",
              "      <td>50530.458065</td>\n",
              "      <td>47937.140247</td>\n",
              "    </tr>\n",
              "    <tr>\n",
              "      <th>28</th>\n",
              "      <td>2021-12-10</td>\n",
              "      <td>47654.188647</td>\n",
              "      <td>49818.209308</td>\n",
              "      <td>47885.871989</td>\n",
              "      <td>47794.906334</td>\n",
              "    </tr>\n",
              "    <tr>\n",
              "      <th>29</th>\n",
              "      <td>2021-12-11</td>\n",
              "      <td>47303.564152</td>\n",
              "      <td>49090.949507</td>\n",
              "      <td>47303.564152</td>\n",
              "      <td>49020.750484</td>\n",
              "    </tr>\n",
              "    <tr>\n",
              "      <th>30</th>\n",
              "      <td>2021-12-12</td>\n",
              "      <td>48901.686411</td>\n",
              "      <td>50473.826329</td>\n",
              "      <td>49242.302324</td>\n",
              "      <td>50275.596957</td>\n",
              "    </tr>\n",
              "  </tbody>\n",
              "</table>\n",
              "</div>"
            ],
            "text/plain": [
              "          Date         Price                                          \n",
              "                         min           max         first          last\n",
              "0   2021-11-12  64111.227812  64341.158049  64313.115969  64111.227812\n",
              "1   2021-11-13  63691.403147  64991.705536  64432.047947  64521.648875\n",
              "2   2021-11-14  63874.891514  65219.483033  64660.335353  64763.012845\n",
              "3   2021-11-15  63991.944474  66136.912461  65648.977791  64069.393251\n",
              "4   2021-11-16  59490.626900  63933.835443  63933.835443  60885.079624\n",
              "5   2021-11-17  59359.165190  60800.021957  60398.826069  60292.325614\n",
              "6   2021-11-18  56956.384977  60982.715694  60613.390494  56956.384977\n",
              "7   2021-11-19  55861.139307  58361.160585  56987.322339  58056.784094\n",
              "8   2021-11-20  57833.006825  59959.646836  58459.255517  59943.632505\n",
              "9   2021-11-21  58861.630427  60082.911668  60082.911668  59362.841309\n",
              "10  2021-11-22  55921.075722  59216.860474  59139.779280  56898.609252\n",
              "11  2021-11-23  56100.000067  57851.381350  56386.856853  57526.341288\n",
              "12  2021-11-24  56054.279283  57748.793174  57748.793174  57032.781719\n",
              "13  2021-11-25  57128.550240  59206.232837  57198.183846  58958.548352\n",
              "14  2021-11-26  54031.997962  58897.846983  58897.846983  54185.035132\n",
              "15  2021-11-27  53827.792865  55225.942781  53827.792865  55017.855454\n",
              "16  2021-11-28  53917.311740  56303.970003  54706.458577  56262.552640\n",
              "17  2021-11-29  56639.665527  58778.092449  57237.661137  58132.109111\n",
              "18  2021-11-30  56454.038208  58287.480460  57848.773537  57284.798601\n",
              "19  2021-12-01  56749.098100  58612.920116  57011.280474  57124.866358\n",
              "20  2021-12-02  56225.080607  57224.482540  57169.371994  56902.247564\n",
              "21  2021-12-03  53448.720326  57060.825202  56508.268054  53483.395160\n",
              "22  2021-12-04  46633.332640  53785.967172  53785.967172  49049.778903\n",
              "23  2021-12-05  47828.356015  49673.940889  49161.990710  49254.374734\n",
              "24  2021-12-06  47373.065254  50979.271823  49268.469891  50979.271823\n",
              "25  2021-12-07  50302.094231  51855.478472  50461.576837  50302.094231\n",
              "26  2021-12-08  49113.378818  50878.678203  50647.663406  50345.016232\n",
              "27  2021-12-09  47504.053366  50650.944941  50530.458065  47937.140247\n",
              "28  2021-12-10  47654.188647  49818.209308  47885.871989  47794.906334\n",
              "29  2021-12-11  47303.564152  49090.949507  47303.564152  49020.750484\n",
              "30  2021-12-12  48901.686411  50473.826329  49242.302324  50275.596957"
            ]
          },
          "metadata": {},
          "execution_count": 22
        }
      ],
      "source": [
        "candlestick_data"
      ]
    },
    {
      "cell_type": "markdown",
      "metadata": {
        "id": "o6xem_MSgHY9"
      },
      "source": [
        "Finally we are now ready to use plotly to create our Candlestick Chart.\n"
      ]
    },
    {
      "cell_type": "code",
      "execution_count": null,
      "metadata": {
        "id": "X_W4-1V5gHY9"
      },
      "outputs": [],
      "source": [
        "fig = go.Figure(data=[go.Candlestick(x=candlestick_data['date'],\n",
        "                open=candlestick_data['Price']['first'], \n",
        "                high=candlestick_data['Price']['max'],\n",
        "                low=candlestick_data['Price']['min'], \n",
        "                close=candlestick_data['Price']['last'])\n",
        "                ])\n",
        "\n",
        "fig.update_layout(xaxis_rangeslider_visible=False)\n",
        "\n",
        "fig.show()"
      ]
    },
    {
      "cell_type": "code",
      "execution_count": 23,
      "metadata": {
        "colab": {
          "base_uri": "https://localhost:8080/"
        },
        "id": "g7B8ogwpgHY-",
        "outputId": "7b6bf7d8-bba1-4769-d471-c37e180d4a80"
      },
      "outputs": [
        {
          "output_type": "execute_result",
          "data": {
            "text/plain": [
              "<module 'plotly.graph_objects' from '/usr/local/lib/python3.7/dist-packages/plotly/graph_objects.py'>"
            ]
          },
          "metadata": {},
          "execution_count": 23
        }
      ],
      "source": [
        "go"
      ]
    },
    {
      "cell_type": "code",
      "execution_count": 24,
      "metadata": {
        "colab": {
          "base_uri": "https://localhost:8080/",
          "height": 542
        },
        "id": "r2t4iTPsgHY-",
        "outputId": "1c3e079b-3d3e-404d-a09a-4f95744a2ece"
      },
      "outputs": [
        {
          "output_type": "display_data",
          "data": {
            "text/html": [
              "<html>\n",
              "<head><meta charset=\"utf-8\" /></head>\n",
              "<body>\n",
              "    <div>\n",
              "            <script src=\"https://cdnjs.cloudflare.com/ajax/libs/mathjax/2.7.5/MathJax.js?config=TeX-AMS-MML_SVG\"></script><script type=\"text/javascript\">if (window.MathJax) {MathJax.Hub.Config({SVG: {font: \"STIX-Web\"}});}</script>\n",
              "                <script type=\"text/javascript\">window.PlotlyConfig = {MathJaxConfig: 'local'};</script>\n",
              "        <script src=\"https://cdn.plot.ly/plotly-latest.min.js\"></script>    \n",
              "            <div id=\"be38cb3d-bdf2-4d99-b3c9-5ae219fe1542\" class=\"plotly-graph-div\" style=\"height:525px; width:100%;\"></div>\n",
              "            <script type=\"text/javascript\">\n",
              "                \n",
              "                    window.PLOTLYENV=window.PLOTLYENV || {};\n",
              "                    \n",
              "                if (document.getElementById(\"be38cb3d-bdf2-4d99-b3c9-5ae219fe1542\")) {\n",
              "                    Plotly.newPlot(\n",
              "                        'be38cb3d-bdf2-4d99-b3c9-5ae219fe1542',\n",
              "                        [{\"close\": [64111.22781164685, 64521.64887531047, 64763.01284481214, 64069.39325069164, 60885.079624209946, 60292.32561401822, 56956.38497721393, 58056.78409425871, 59943.63250536302, 59362.84130868206, 56898.60925172479, 57526.34128830179, 57032.78171923511, 58958.54835174954, 54185.035132238896, 55017.85545386132, 56262.55264026281, 58132.109111220765, 57284.79860083988, 57124.866357580555, 56902.24756447096, 53483.39515984511, 49049.778902712904, 49254.37473418169, 50979.271822674025, 50302.094231482864, 50345.01623218133, 47937.14024700763, 47794.90633433799, 49020.75048402078, 50275.59695723346], \"high\": [64341.15804940664, 64991.705536404064, 65219.4830332113, 66136.91246118222, 63933.835442599324, 60800.02195741346, 60982.71569369057, 58361.160584988764, 59959.64683605392, 60082.91166841709, 59216.86047376352, 57851.38135007115, 57748.79317378856, 59206.23283719067, 58897.84698299794, 55225.94278116193, 56303.970003446266, 58778.0924486182, 58287.480460405925, 58612.92011647459, 57224.482540373145, 57060.825202394226, 53785.96717237922, 49673.940888627665, 50979.271822674025, 51855.47847189325, 50878.67820316333, 50650.94494090439, 49818.20930772838, 49090.94950688698, 50473.826329249794], \"low\": [64111.22781164685, 63691.40314718218, 63874.891513550705, 63991.944473539064, 59490.626899509116, 59359.16519044653, 56956.38497721393, 55861.13930660329, 57833.006825172895, 58861.630426763644, 55921.075722104535, 56100.00006715358, 56054.27928347995, 57128.55023957304, 54031.99796233907, 53827.792865034724, 53917.31173974184, 56639.66552691411, 56454.03820834856, 56749.09809986786, 56225.08060672014, 53448.7203263092, 46633.33263973072, 47828.356015249934, 47373.06525356347, 50302.094231482864, 49113.378817634984, 47504.05336600318, 47654.188646770155, 47303.56415217411, 48901.686410926435], \"open\": [64313.115969074905, 64432.04794734522, 64660.33535267343, 65648.97779110243, 63933.835442599324, 60398.826068911396, 60613.39049373961, 56987.32233855049, 58459.25551667463, 60082.91166841709, 59139.779279527174, 56386.856853152145, 57748.79317378856, 57198.18384629529, 58897.84698299794, 53827.792865034724, 54706.458576843426, 57237.66113709043, 57848.77353712989, 57011.28047424234, 57169.37199381056, 56508.26805402271, 53785.96717237922, 49161.99070957517, 49268.46989053938, 50461.57683653979, 50647.66340635755, 50530.4580645934, 47885.871989417064, 47303.56415217411, 49242.302324071476], \"type\": \"candlestick\", \"x\": [\"2021-11-12\", \"2021-11-13\", \"2021-11-14\", \"2021-11-15\", \"2021-11-16\", \"2021-11-17\", \"2021-11-18\", \"2021-11-19\", \"2021-11-20\", \"2021-11-21\", \"2021-11-22\", \"2021-11-23\", \"2021-11-24\", \"2021-11-25\", \"2021-11-26\", \"2021-11-27\", \"2021-11-28\", \"2021-11-29\", \"2021-11-30\", \"2021-12-01\", \"2021-12-02\", \"2021-12-03\", \"2021-12-04\", \"2021-12-05\", \"2021-12-06\", \"2021-12-07\", \"2021-12-08\", \"2021-12-09\", \"2021-12-10\", \"2021-12-11\", \"2021-12-12\"]}],\n",
              "                        {\"template\": {\"data\": {\"bar\": [{\"error_x\": {\"color\": \"#2a3f5f\"}, \"error_y\": {\"color\": \"#2a3f5f\"}, \"marker\": {\"line\": {\"color\": \"#E5ECF6\", \"width\": 0.5}}, \"type\": \"bar\"}], \"barpolar\": [{\"marker\": {\"line\": {\"color\": \"#E5ECF6\", \"width\": 0.5}}, \"type\": \"barpolar\"}], \"carpet\": [{\"aaxis\": {\"endlinecolor\": \"#2a3f5f\", \"gridcolor\": \"white\", \"linecolor\": \"white\", \"minorgridcolor\": \"white\", \"startlinecolor\": \"#2a3f5f\"}, \"baxis\": {\"endlinecolor\": \"#2a3f5f\", \"gridcolor\": \"white\", \"linecolor\": \"white\", \"minorgridcolor\": \"white\", \"startlinecolor\": \"#2a3f5f\"}, \"type\": \"carpet\"}], \"choropleth\": [{\"colorbar\": {\"outlinewidth\": 0, \"ticks\": \"\"}, \"type\": \"choropleth\"}], \"contour\": [{\"colorbar\": {\"outlinewidth\": 0, \"ticks\": \"\"}, \"colorscale\": [[0.0, \"#0d0887\"], [0.1111111111111111, \"#46039f\"], [0.2222222222222222, \"#7201a8\"], [0.3333333333333333, \"#9c179e\"], [0.4444444444444444, \"#bd3786\"], [0.5555555555555556, \"#d8576b\"], [0.6666666666666666, \"#ed7953\"], [0.7777777777777778, \"#fb9f3a\"], [0.8888888888888888, \"#fdca26\"], [1.0, \"#f0f921\"]], \"type\": \"contour\"}], \"contourcarpet\": [{\"colorbar\": {\"outlinewidth\": 0, \"ticks\": \"\"}, \"type\": \"contourcarpet\"}], \"heatmap\": [{\"colorbar\": {\"outlinewidth\": 0, \"ticks\": \"\"}, \"colorscale\": [[0.0, \"#0d0887\"], [0.1111111111111111, \"#46039f\"], [0.2222222222222222, \"#7201a8\"], [0.3333333333333333, \"#9c179e\"], [0.4444444444444444, \"#bd3786\"], [0.5555555555555556, \"#d8576b\"], [0.6666666666666666, \"#ed7953\"], [0.7777777777777778, \"#fb9f3a\"], [0.8888888888888888, \"#fdca26\"], [1.0, \"#f0f921\"]], \"type\": \"heatmap\"}], \"heatmapgl\": [{\"colorbar\": {\"outlinewidth\": 0, \"ticks\": \"\"}, \"colorscale\": [[0.0, \"#0d0887\"], [0.1111111111111111, \"#46039f\"], [0.2222222222222222, \"#7201a8\"], [0.3333333333333333, \"#9c179e\"], [0.4444444444444444, \"#bd3786\"], [0.5555555555555556, \"#d8576b\"], [0.6666666666666666, \"#ed7953\"], [0.7777777777777778, \"#fb9f3a\"], [0.8888888888888888, \"#fdca26\"], [1.0, \"#f0f921\"]], \"type\": \"heatmapgl\"}], \"histogram\": [{\"marker\": {\"colorbar\": {\"outlinewidth\": 0, \"ticks\": \"\"}}, \"type\": \"histogram\"}], \"histogram2d\": [{\"colorbar\": {\"outlinewidth\": 0, \"ticks\": \"\"}, \"colorscale\": [[0.0, \"#0d0887\"], [0.1111111111111111, \"#46039f\"], [0.2222222222222222, \"#7201a8\"], [0.3333333333333333, \"#9c179e\"], [0.4444444444444444, \"#bd3786\"], [0.5555555555555556, \"#d8576b\"], [0.6666666666666666, \"#ed7953\"], [0.7777777777777778, \"#fb9f3a\"], [0.8888888888888888, \"#fdca26\"], [1.0, \"#f0f921\"]], \"type\": \"histogram2d\"}], \"histogram2dcontour\": [{\"colorbar\": {\"outlinewidth\": 0, \"ticks\": \"\"}, \"colorscale\": [[0.0, \"#0d0887\"], [0.1111111111111111, \"#46039f\"], [0.2222222222222222, \"#7201a8\"], [0.3333333333333333, \"#9c179e\"], [0.4444444444444444, \"#bd3786\"], [0.5555555555555556, \"#d8576b\"], [0.6666666666666666, \"#ed7953\"], [0.7777777777777778, \"#fb9f3a\"], [0.8888888888888888, \"#fdca26\"], [1.0, \"#f0f921\"]], \"type\": \"histogram2dcontour\"}], \"mesh3d\": [{\"colorbar\": {\"outlinewidth\": 0, \"ticks\": \"\"}, \"type\": \"mesh3d\"}], \"parcoords\": [{\"line\": {\"colorbar\": {\"outlinewidth\": 0, \"ticks\": \"\"}}, \"type\": \"parcoords\"}], \"pie\": [{\"automargin\": true, \"type\": \"pie\"}], \"scatter\": [{\"marker\": {\"colorbar\": {\"outlinewidth\": 0, \"ticks\": \"\"}}, \"type\": \"scatter\"}], \"scatter3d\": [{\"line\": {\"colorbar\": {\"outlinewidth\": 0, \"ticks\": \"\"}}, \"marker\": {\"colorbar\": {\"outlinewidth\": 0, \"ticks\": \"\"}}, \"type\": \"scatter3d\"}], \"scattercarpet\": [{\"marker\": {\"colorbar\": {\"outlinewidth\": 0, \"ticks\": \"\"}}, \"type\": \"scattercarpet\"}], \"scattergeo\": [{\"marker\": {\"colorbar\": {\"outlinewidth\": 0, \"ticks\": \"\"}}, \"type\": \"scattergeo\"}], \"scattergl\": [{\"marker\": {\"colorbar\": {\"outlinewidth\": 0, \"ticks\": \"\"}}, \"type\": \"scattergl\"}], \"scattermapbox\": [{\"marker\": {\"colorbar\": {\"outlinewidth\": 0, \"ticks\": \"\"}}, \"type\": \"scattermapbox\"}], \"scatterpolar\": [{\"marker\": {\"colorbar\": {\"outlinewidth\": 0, \"ticks\": \"\"}}, \"type\": \"scatterpolar\"}], \"scatterpolargl\": [{\"marker\": {\"colorbar\": {\"outlinewidth\": 0, \"ticks\": \"\"}}, \"type\": \"scatterpolargl\"}], \"scatterternary\": [{\"marker\": {\"colorbar\": {\"outlinewidth\": 0, \"ticks\": \"\"}}, \"type\": \"scatterternary\"}], \"surface\": [{\"colorbar\": {\"outlinewidth\": 0, \"ticks\": \"\"}, \"colorscale\": [[0.0, \"#0d0887\"], [0.1111111111111111, \"#46039f\"], [0.2222222222222222, \"#7201a8\"], [0.3333333333333333, \"#9c179e\"], [0.4444444444444444, \"#bd3786\"], [0.5555555555555556, \"#d8576b\"], [0.6666666666666666, \"#ed7953\"], [0.7777777777777778, \"#fb9f3a\"], [0.8888888888888888, \"#fdca26\"], [1.0, \"#f0f921\"]], \"type\": \"surface\"}], \"table\": [{\"cells\": {\"fill\": {\"color\": \"#EBF0F8\"}, \"line\": {\"color\": \"white\"}}, \"header\": {\"fill\": {\"color\": \"#C8D4E3\"}, \"line\": {\"color\": \"white\"}}, \"type\": \"table\"}]}, \"layout\": {\"annotationdefaults\": {\"arrowcolor\": \"#2a3f5f\", \"arrowhead\": 0, \"arrowwidth\": 1}, \"coloraxis\": {\"colorbar\": {\"outlinewidth\": 0, \"ticks\": \"\"}}, \"colorscale\": {\"diverging\": [[0, \"#8e0152\"], [0.1, \"#c51b7d\"], [0.2, \"#de77ae\"], [0.3, \"#f1b6da\"], [0.4, \"#fde0ef\"], [0.5, \"#f7f7f7\"], [0.6, \"#e6f5d0\"], [0.7, \"#b8e186\"], [0.8, \"#7fbc41\"], [0.9, \"#4d9221\"], [1, \"#276419\"]], \"sequential\": [[0.0, \"#0d0887\"], [0.1111111111111111, \"#46039f\"], [0.2222222222222222, \"#7201a8\"], [0.3333333333333333, \"#9c179e\"], [0.4444444444444444, \"#bd3786\"], [0.5555555555555556, \"#d8576b\"], [0.6666666666666666, \"#ed7953\"], [0.7777777777777778, \"#fb9f3a\"], [0.8888888888888888, \"#fdca26\"], [1.0, \"#f0f921\"]], \"sequentialminus\": [[0.0, \"#0d0887\"], [0.1111111111111111, \"#46039f\"], [0.2222222222222222, \"#7201a8\"], [0.3333333333333333, \"#9c179e\"], [0.4444444444444444, \"#bd3786\"], [0.5555555555555556, \"#d8576b\"], [0.6666666666666666, \"#ed7953\"], [0.7777777777777778, \"#fb9f3a\"], [0.8888888888888888, \"#fdca26\"], [1.0, \"#f0f921\"]]}, \"colorway\": [\"#636efa\", \"#EF553B\", \"#00cc96\", \"#ab63fa\", \"#FFA15A\", \"#19d3f3\", \"#FF6692\", \"#B6E880\", \"#FF97FF\", \"#FECB52\"], \"font\": {\"color\": \"#2a3f5f\"}, \"geo\": {\"bgcolor\": \"white\", \"lakecolor\": \"white\", \"landcolor\": \"#E5ECF6\", \"showlakes\": true, \"showland\": true, \"subunitcolor\": \"white\"}, \"hoverlabel\": {\"align\": \"left\"}, \"hovermode\": \"closest\", \"mapbox\": {\"style\": \"light\"}, \"paper_bgcolor\": \"white\", \"plot_bgcolor\": \"#E5ECF6\", \"polar\": {\"angularaxis\": {\"gridcolor\": \"white\", \"linecolor\": \"white\", \"ticks\": \"\"}, \"bgcolor\": \"#E5ECF6\", \"radialaxis\": {\"gridcolor\": \"white\", \"linecolor\": \"white\", \"ticks\": \"\"}}, \"scene\": {\"xaxis\": {\"backgroundcolor\": \"#E5ECF6\", \"gridcolor\": \"white\", \"gridwidth\": 2, \"linecolor\": \"white\", \"showbackground\": true, \"ticks\": \"\", \"zerolinecolor\": \"white\"}, \"yaxis\": {\"backgroundcolor\": \"#E5ECF6\", \"gridcolor\": \"white\", \"gridwidth\": 2, \"linecolor\": \"white\", \"showbackground\": true, \"ticks\": \"\", \"zerolinecolor\": \"white\"}, \"zaxis\": {\"backgroundcolor\": \"#E5ECF6\", \"gridcolor\": \"white\", \"gridwidth\": 2, \"linecolor\": \"white\", \"showbackground\": true, \"ticks\": \"\", \"zerolinecolor\": \"white\"}}, \"shapedefaults\": {\"line\": {\"color\": \"#2a3f5f\"}}, \"ternary\": {\"aaxis\": {\"gridcolor\": \"white\", \"linecolor\": \"white\", \"ticks\": \"\"}, \"baxis\": {\"gridcolor\": \"white\", \"linecolor\": \"white\", \"ticks\": \"\"}, \"bgcolor\": \"#E5ECF6\", \"caxis\": {\"gridcolor\": \"white\", \"linecolor\": \"white\", \"ticks\": \"\"}}, \"title\": {\"x\": 0.05}, \"xaxis\": {\"automargin\": true, \"gridcolor\": \"white\", \"linecolor\": \"white\", \"ticks\": \"\", \"title\": {\"standoff\": 15}, \"zerolinecolor\": \"white\", \"zerolinewidth\": 2}, \"yaxis\": {\"automargin\": true, \"gridcolor\": \"white\", \"linecolor\": \"white\", \"ticks\": \"\", \"title\": {\"standoff\": 15}, \"zerolinecolor\": \"white\", \"zerolinewidth\": 2}}}, \"xaxis\": {\"rangeslider\": {\"visible\": false}}},\n",
              "                        {\"responsive\": true}\n",
              "                    ).then(function(){\n",
              "                            \n",
              "var gd = document.getElementById('be38cb3d-bdf2-4d99-b3c9-5ae219fe1542');\n",
              "var x = new MutationObserver(function (mutations, observer) {{\n",
              "        var display = window.getComputedStyle(gd).display;\n",
              "        if (!display || display === 'none') {{\n",
              "            console.log([gd, 'removed!']);\n",
              "            Plotly.purge(gd);\n",
              "            observer.disconnect();\n",
              "        }}\n",
              "}});\n",
              "\n",
              "// Listen for the removal of the full notebook cells\n",
              "var notebookContainer = gd.closest('#notebook-container');\n",
              "if (notebookContainer) {{\n",
              "    x.observe(notebookContainer, {childList: true});\n",
              "}}\n",
              "\n",
              "// Listen for the clearing of the current output cell\n",
              "var outputEl = gd.closest('.output');\n",
              "if (outputEl) {{\n",
              "    x.observe(outputEl, {childList: true});\n",
              "}}\n",
              "\n",
              "                        })\n",
              "                };\n",
              "                \n",
              "            </script>\n",
              "        </div>\n",
              "</body>\n",
              "</html>"
            ]
          },
          "metadata": {}
        }
      ],
      "source": [
        "fig = go.Figure(data=[go.Candlestick(x=candlestick_data[\"Date\"],\n",
        "                open=candlestick_data[\"Price\"][\"first\"],\n",
        "                high=candlestick_data[\"Price\"][\"max\"],\n",
        "                low=candlestick_data[\"Price\"][\"min\"],\n",
        "                close=candlestick_data[\"Price\"][\"last\"])\n",
        "                ])\n",
        "\n",
        "fig.update_layout(xaxis_rangeslider_visible=False)\n",
        "\n",
        "fig.show()"
      ]
    },
    {
      "cell_type": "markdown",
      "metadata": {
        "id": "GLNYZn4rgHY_"
      },
      "source": [
        "## Authors:\n",
        "\n",
        "## Change Log\n",
        "\n",
        "| Date (YYYY-MM-DD) | Version | Changed By    | Change Description                 |\n",
        "| ----------------- | ------- | ------------- | ---------------------------------- |\n",
        "| 2020-11-23        | 3.0     | Azim Hirjani  | New API                            |\n",
        "| 2020-09-09        | 2.1     | Malika Singla | Spell Check                        |\n",
        "| 2020-08-26        | 2.0     | Lavanya       | Moved lab to course repo in GitLab |\n",
        "|                   |         |               |                                    |\n",
        "\n",
        "<hr/>\n",
        "\n",
        "## <h3 align=\"center\"> © IBM Corporation 2020. All rights reserved. <h3/>\n"
      ]
    },
    {
      "cell_type": "code",
      "execution_count": 24,
      "metadata": {
        "id": "C4Q43SXJgHZA"
      },
      "outputs": [],
      "source": [
        ""
      ]
    }
  ],
  "metadata": {
    "kernelspec": {
      "display_name": "Python",
      "language": "python",
      "name": "conda-env-python-py"
    },
    "language_info": {
      "codemirror_mode": {
        "name": "ipython",
        "version": 3
      },
      "file_extension": ".py",
      "mimetype": "text/x-python",
      "name": "python",
      "nbconvert_exporter": "python",
      "pygments_lexer": "ipython3",
      "version": "3.7.12"
    },
    "colab": {
      "name": "PY0101EN-5.1_Intro_API-edited.ipynb",
      "provenance": [],
      "collapsed_sections": [
        "GLNYZn4rgHY_"
      ],
      "include_colab_link": true
    }
  },
  "nbformat": 4,
  "nbformat_minor": 0
}