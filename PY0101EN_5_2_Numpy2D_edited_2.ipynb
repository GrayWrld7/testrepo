{
  "cells": [
    {
      "cell_type": "markdown",
      "metadata": {
        "id": "view-in-github",
        "colab_type": "text"
      },
      "source": [
        "<a href=\"https://colab.research.google.com/github/GrayWrld7/testrepo/blob/master/PY0101EN_5_2_Numpy2D_edited_2.ipynb\" target=\"_parent\"><img src=\"https://colab.research.google.com/assets/colab-badge.svg\" alt=\"Open In Colab\"/></a>"
      ]
    },
    {
      "cell_type": "markdown",
      "metadata": {
        "id": "FdDx5gtXLtiE"
      },
      "source": [
        "<center>\n",
        "    <img src=\"https://cf-courses-data.s3.us.cloud-object-storage.appdomain.cloud/IBMDeveloperSkillsNetwork-PY0101EN-SkillsNetwork/IDSNlogo.png\" width=\"300\" alt=\"cognitiveclass.ai logo\"  />\n",
        "</center>\n",
        "\n",
        "# 2D Numpy in Python\n",
        "\n",
        "Estimated time needed: **20** minutes\n",
        "\n",
        "## Objectives\n",
        "\n",
        "After completing this lab you will be able to:\n",
        "\n",
        "*   Operate comfortably with `numpy`\n",
        "*   Perform complex operations with `numpy`\n"
      ]
    },
    {
      "cell_type": "markdown",
      "metadata": {
        "id": "qdMzvaCnLtiM"
      },
      "source": [
        "<h2>Table of Contents</h2>\n",
        "<div class=\"alert alert-block alert-info\" style=\"margin-thttps://op/?utm_medium=Exinfluencer&utm_source=Exinfluencer&utm_content=000026UJ&utm_term=10006555&utm_id=NA-SkillsNetwork-Channel-SkillsNetworkCoursesIBMDeveloperSkillsNetworkPY0101ENSkillsNetwork19487395-2021-01-01: 20px\">\n",
        "    <ul>\n",
        "        <li><a href=\"https://create/?utm_medium=Exinfluencer&utm_source=Exinfluencer&utm_content=000026UJ&utm_term=10006555&utm_id=NA-SkillsNetwork-Channel-SkillsNetworkCoursesIBMDeveloperSkillsNetworkPY0101ENSkillsNetwork19487395-2021-01-01\">Create a 2D Numpy Array</a></li>\n",
        "        <li><a href=\"https://access/?utm_medium=Exinfluencer&utm_source=Exinfluencer&utm_content=000026UJ&utm_term=10006555&utm_id=NA-SkillsNetwork-Channel-SkillsNetworkCoursesIBMDeveloperSkillsNetworkPY0101ENSkillsNetwork19487395-2021-01-01\">Accessing different elements of a Numpy Array</a></li>\n",
        "        <li><a href=\"op\">Basic Operations</a></li>\n",
        "    </ul>\n",
        "\n",
        "</div>\n",
        "\n",
        "<hr>\n"
      ]
    },
    {
      "cell_type": "markdown",
      "metadata": {
        "id": "FmJ4YmQGLtiO"
      },
      "source": [
        "<h2 id=\"create\">Create a 2D Numpy Array</h2>\n"
      ]
    },
    {
      "cell_type": "code",
      "execution_count": null,
      "metadata": {
        "id": "13SHh8foLtiP"
      },
      "outputs": [],
      "source": [
        "# Import the libraries\n",
        "\n",
        "import numpy as np \n",
        "import matplotlib.pyplot as plt"
      ]
    },
    {
      "cell_type": "code",
      "execution_count": null,
      "metadata": {
        "id": "GqbkCcHaLurI"
      },
      "outputs": [],
      "source": [
        "import numpy as np\n",
        "import matplotlib.pyplot as plt"
      ]
    },
    {
      "cell_type": "code",
      "execution_count": null,
      "metadata": {
        "id": "3QH_pVKCL9tS"
      },
      "outputs": [],
      "source": [
        "X=np.array([[1,0,1],[2,2,2]])"
      ]
    },
    {
      "cell_type": "code",
      "execution_count": null,
      "metadata": {
        "colab": {
          "base_uri": "https://localhost:8080/"
        },
        "id": "fArgWFw-MAti",
        "outputId": "2765a22c-e83d-42d4-c665-f77c12b456f8"
      },
      "outputs": [
        {
          "data": {
            "text/plain": [
              "array([[1, 0, 1],\n",
              "       [2, 2, 2]])"
            ]
          },
          "execution_count": 4,
          "metadata": {},
          "output_type": "execute_result"
        }
      ],
      "source": [
        "X"
      ]
    },
    {
      "cell_type": "code",
      "execution_count": null,
      "metadata": {
        "colab": {
          "base_uri": "https://localhost:8080/"
        },
        "id": "0xqPnqVzMEN6",
        "outputId": "2a97dd1f-faeb-4bb2-b475-8164040f559d"
      },
      "outputs": [
        {
          "data": {
            "text/plain": [
              "array([1, 2])"
            ]
          },
          "execution_count": 5,
          "metadata": {},
          "output_type": "execute_result"
        }
      ],
      "source": [
        "out=X[0:2,2]\n",
        "out"
      ]
    },
    {
      "cell_type": "code",
      "execution_count": null,
      "metadata": {
        "colab": {
          "base_uri": "https://localhost:8080/"
        },
        "id": "PPl3lEQ7NkPA",
        "outputId": "1938fb42-e7e8-4a71-e0f9-a8d21bbfbd20"
      },
      "outputs": [
        {
          "data": {
            "text/plain": [
              "array([1, 0])"
            ]
          },
          "execution_count": 6,
          "metadata": {},
          "output_type": "execute_result"
        }
      ],
      "source": [
        "out2=X[0,0:2]\n",
        "out2"
      ]
    },
    {
      "cell_type": "code",
      "execution_count": null,
      "metadata": {
        "colab": {
          "base_uri": "https://localhost:8080/"
        },
        "id": "38k-nf3MOLul",
        "outputId": "dd91926d-7faf-4da1-fc2c-86261239bc8f"
      },
      "outputs": [
        {
          "data": {
            "text/plain": [
              "array([[2, 2],\n",
              "       [2, 2]])"
            ]
          },
          "execution_count": 7,
          "metadata": {},
          "output_type": "execute_result"
        }
      ],
      "source": [
        "X1=np.array([[1,0],[0,1]])\n",
        "Y1=np.array([[2,2],[2,2]])\n",
        "Z1=np.dot(X1,Y1)\n",
        "Z1"
      ]
    },
    {
      "cell_type": "code",
      "execution_count": null,
      "metadata": {
        "colab": {
          "base_uri": "https://localhost:8080/"
        },
        "id": "7eFPiSbUWvdj",
        "outputId": "910fd36b-89b9-49d8-d2f2-4803af4f29ce"
      },
      "outputs": [
        {
          "data": {
            "text/plain": [
              "array([[19, 22],\n",
              "       [43, 50]])"
            ]
          },
          "execution_count": 8,
          "metadata": {},
          "output_type": "execute_result"
        }
      ],
      "source": [
        "X2=np.array([[1,2],[3,4]])\n",
        "Y2=np.array([[5,6],[7,8]])\n",
        "Z2=np.dot(X2,Y2)\n",
        "Z2"
      ]
    },
    {
      "cell_type": "code",
      "execution_count": null,
      "metadata": {
        "colab": {
          "base_uri": "https://localhost:8080/"
        },
        "id": "XCa4zSschUZR",
        "outputId": "8618fcad-ca51-4ae3-afc2-9b47c5dbdb1e"
      },
      "outputs": [
        {
          "data": {
            "text/plain": [
              "array([[ 5, 12],\n",
              "       [21, 32]])"
            ]
          },
          "execution_count": 9,
          "metadata": {},
          "output_type": "execute_result"
        }
      ],
      "source": [
        "X2*Y2"
      ]
    },
    {
      "cell_type": "code",
      "execution_count": null,
      "metadata": {
        "colab": {
          "base_uri": "https://localhost:8080/"
        },
        "id": "HmOBxWWYSoTv",
        "outputId": "f9b19697-f1a3-40f4-9823-5cde0c25c867"
      },
      "outputs": [
        {
          "name": "stdout",
          "output_type": "stream",
          "text": [
            "[[1 2 3]\n",
            " [4 5 6]]\n",
            "[[ 7  8  9]\n",
            " [10 11 12]]\n"
          ]
        }
      ],
      "source": [
        "X3=np.array([[1,2,3],[4,5,6]])\n",
        "Y3=np.array([[7,8,9],[10,11,12]])\n",
        "#Z3=np.dot(X3,Y3)\n",
        "print(X3)\n",
        "print(Y3)"
      ]
    },
    {
      "cell_type": "code",
      "execution_count": null,
      "metadata": {
        "colab": {
          "base_uri": "https://localhost:8080/"
        },
        "id": "6pTO1heEVctg",
        "outputId": "ca70eab8-820e-4de4-c641-692440d0a2f0"
      },
      "outputs": [
        {
          "data": {
            "text/plain": [
              "array([[1, 2, 3],\n",
              "       [4, 5, 6]])"
            ]
          },
          "execution_count": 11,
          "metadata": {},
          "output_type": "execute_result"
        }
      ],
      "source": [
        "X3"
      ]
    },
    {
      "cell_type": "code",
      "execution_count": null,
      "metadata": {
        "colab": {
          "base_uri": "https://localhost:8080/"
        },
        "id": "5azY0jItVduc",
        "outputId": "742b731e-8f6d-455e-8070-74fe1bd8e1ea"
      },
      "outputs": [
        {
          "data": {
            "text/plain": [
              "array([[ 7,  8,  9],\n",
              "       [10, 11, 12]])"
            ]
          },
          "execution_count": 12,
          "metadata": {},
          "output_type": "execute_result"
        }
      ],
      "source": [
        "Y3"
      ]
    },
    {
      "cell_type": "code",
      "execution_count": null,
      "metadata": {
        "colab": {
          "base_uri": "https://localhost:8080/"
        },
        "id": "RrDMoF1xUx1U",
        "outputId": "6c56592b-56ca-47db-9b8b-eed28db4c4c5"
      },
      "outputs": [
        {
          "name": "stdout",
          "output_type": "stream",
          "text": [
            "X3 ndim: 2\n",
            "Y3 ndim: 2\n",
            "X3 shape: (2, 3)\n",
            "Y3 shape: (2, 3)\n",
            "X3 size: 6\n",
            "Y3 size: 6\n"
          ]
        }
      ],
      "source": [
        "print(\"X3 ndim:\", X3.ndim)\n",
        "print(\"Y3 ndim:\", Y3.ndim)\n",
        "print(\"X3 shape:\", X3.shape)\n",
        "print(\"Y3 shape:\", Y3.shape)\n",
        "print(\"X3 size:\", X3.size)\n",
        "print(\"Y3 size:\", Y3.size)"
      ]
    },
    {
      "cell_type": "code",
      "execution_count": null,
      "metadata": {
        "colab": {
          "base_uri": "https://localhost:8080/"
        },
        "id": "Cb8VoPs8VgL7",
        "outputId": "7d861017-3473-49a8-e37b-1a86bcd9e86c"
      },
      "outputs": [
        {
          "name": "stdout",
          "output_type": "stream",
          "text": [
            "Hadamard product:\n",
            " [[ 7 16 27]\n",
            " [40 55 72]] \n",
            "\n",
            "Addition:\n",
            " [[ 8 10 12]\n",
            " [14 16 18]] \n",
            "\n",
            "Subtraction:\n",
            " [[-6 -6 -6]\n",
            " [-6 -6 -6]]\n"
          ]
        }
      ],
      "source": [
        "print(\"Hadamard product:\\n\", X3*Y3,\"\\n\")\n",
        "print(\"Addition:\\n\", X3+Y3,\"\\n\")\n",
        "print(\"Subtraction:\\n\", X3-Y3)"
      ]
    },
    {
      "cell_type": "code",
      "execution_count": null,
      "metadata": {
        "colab": {
          "base_uri": "https://localhost:8080/"
        },
        "id": "jUQJI3h2WEfV",
        "outputId": "b55da702-51b8-4ea0-df96-fefdedf157b5"
      },
      "outputs": [
        {
          "data": {
            "text/plain": [
              "array([[ 7,  8,  9],\n",
              "       [10, 11, 12]])"
            ]
          },
          "execution_count": 15,
          "metadata": {},
          "output_type": "execute_result"
        }
      ],
      "source": [
        "Y3copy = Y3[:]\n",
        "Y3copy"
      ]
    },
    {
      "cell_type": "code",
      "execution_count": null,
      "metadata": {
        "colab": {
          "base_uri": "https://localhost:8080/"
        },
        "id": "-Jgbdc7DYIBx",
        "outputId": "9d811da3-440c-4dd3-fdcf-e8b141e4fff5"
      },
      "outputs": [
        {
          "name": "stdout",
          "output_type": "stream",
          "text": [
            "First index, first element of Y3 changed to: 100\n",
            "[[100   8   9]\n",
            " [ 10  11  12]]\n"
          ]
        }
      ],
      "source": [
        "Y3[0,0]=100\n",
        "print(\"First index, first element of Y3 changed to:\", Y3[0,0])\n",
        "print(Y3)"
      ]
    },
    {
      "cell_type": "code",
      "execution_count": null,
      "metadata": {
        "colab": {
          "base_uri": "https://localhost:8080/"
        },
        "id": "ivWj3YTVYg3K",
        "outputId": "6234da02-c41b-496a-dde9-95a925295193"
      },
      "outputs": [
        {
          "name": "stdout",
          "output_type": "stream",
          "text": [
            "Y3 original:\n",
            " [[100   8   9]\n",
            " [ 10  11  12]] \n",
            "\n",
            "Y3[0,0] original before change: 100 \n",
            "\n",
            "\n",
            "Y3copy:\n",
            " [[100   8   9]\n",
            " [ 10  11  12]] \n",
            "\n",
            "Y3copy[0,0] before change: 100\n",
            "Y3copy[0,0] after change: 200 \n",
            "\n",
            "Y3copy after change:\n",
            " [[200   8   9]\n",
            " [ 10  11  12]] \n",
            "\n",
            "\n",
            "Y3[0,0] after change: 200 \n",
            "\n",
            "Y3 original after change:\n",
            " [[200   8   9]\n",
            " [ 10  11  12]] \n",
            "\n"
          ]
        }
      ],
      "source": [
        "print(\"Y3 original:\\n\", Y3,\"\\n\")\n",
        "print(\"Y3[0,0] original before change:\", Y3[0,0],\"\\n\\n\")\n",
        "print(\"Y3copy:\\n\", Y3copy,\"\\n\")\n",
        "print(\"Y3copy[0,0] before change:\", Y3copy[0,0])\n",
        "Y3copy[0,0]=200\n",
        "print(\"Y3copy[0,0] after change:\", Y3copy[0,0],\"\\n\")\n",
        "print(\"Y3copy after change:\\n\", Y3copy,\"\\n\\n\")\n",
        "print(\"Y3[0,0] after change:\", Y3[0,0],\"\\n\")\n",
        "print(\"Y3 original after change:\\n\", Y3,\"\\n\")"
      ]
    },
    {
      "cell_type": "code",
      "execution_count": null,
      "metadata": {
        "colab": {
          "base_uri": "https://localhost:8080/"
        },
        "id": "iAwjyk5gcEP2",
        "outputId": "c75328e2-6d77-462b-bf44-c332f47b2087"
      },
      "outputs": [
        {
          "name": "stdout",
          "output_type": "stream",
          "text": [
            "Y3[0,0]: 350\n",
            "Original Y3:\n",
            " [[350   8   9]\n",
            " [ 10  11  12]] \n",
            "\n",
            "\n",
            "Y3copy[0,0] 350 \n",
            "\n",
            "Y3copy:\n",
            " [[350   8   9]\n",
            " [ 10  11  12]]\n"
          ]
        }
      ],
      "source": [
        "Y3[0,0]=350\n",
        "print(\"Y3[0,0]:\", Y3[0,0])\n",
        "print(\"Original Y3:\\n\", Y3,\"\\n\\n\")\n",
        "print(\"Y3copy[0,0]\", Y3copy[0,0],\"\\n\")\n",
        "print(\"Y3copy:\\n\", Y3copy)"
      ]
    },
    {
      "cell_type": "code",
      "execution_count": null,
      "metadata": {
        "colab": {
          "base_uri": "https://localhost:8080/"
        },
        "id": "sNoD7QDqdAgL",
        "outputId": "e874fe98-b121-438a-debe-54e324511f63"
      },
      "outputs": [
        {
          "name": "stdout",
          "output_type": "stream",
          "text": [
            "Y3copy[0,1] before change: 8 \n",
            "\n",
            "Y3[0,1] original before change: 8 \n",
            "\n",
            "Y3copy[0,1] after change: 900 \n",
            "\n",
            "Y3copy after change:\n",
            " [[350 900   9]\n",
            " [ 10  11  12]] \n",
            "\n",
            "\n",
            "Y3[0,1] original after change: 900 \n",
            "\n",
            "Y3 orignal after change:\n",
            " [[350 900   9]\n",
            " [ 10  11  12]]\n"
          ]
        }
      ],
      "source": [
        "print(\"Y3copy[0,1] before change:\", Y3copy[0,1],\"\\n\")\n",
        "print(\"Y3[0,1] original before change:\", Y3[0,1],\"\\n\")\n",
        "Y3copy[0,1]=900\n",
        "print(\"Y3copy[0,1] after change:\", Y3copy[0,1],\"\\n\")\n",
        "print(\"Y3copy after change:\\n\", Y3copy,\"\\n\\n\")\n",
        "print(\"Y3[0,1] original after change:\", Y3[0,1],\"\\n\")\n",
        "print(\"Y3 orignal after change:\\n\", Y3)\n"
      ]
    },
    {
      "cell_type": "code",
      "execution_count": null,
      "metadata": {
        "colab": {
          "base_uri": "https://localhost:8080/"
        },
        "id": "aMjWHSWGeIzn",
        "outputId": "e485e8f7-7863-4778-be96-c21bc3228dfc"
      },
      "outputs": [
        {
          "data": {
            "text/plain": [
              "array([[350,  10],\n",
              "       [900,  11],\n",
              "       [  9,  12]])"
            ]
          },
          "execution_count": 20,
          "metadata": {},
          "output_type": "execute_result"
        }
      ],
      "source": [
        "Y3.T"
      ]
    },
    {
      "cell_type": "code",
      "execution_count": null,
      "metadata": {
        "colab": {
          "base_uri": "https://localhost:8080/"
        },
        "id": "ZoSBGoxEeUbP",
        "outputId": "6d6b802f-bab1-4dcc-c7a6-09a5f3ab8364"
      },
      "outputs": [
        {
          "data": {
            "text/plain": [
              "array([[350, 900,   9],\n",
              "       [ 10,  11,  12]])"
            ]
          },
          "execution_count": 21,
          "metadata": {},
          "output_type": "execute_result"
        }
      ],
      "source": [
        "Y3"
      ]
    },
    {
      "cell_type": "code",
      "execution_count": null,
      "metadata": {
        "colab": {
          "base_uri": "https://localhost:8080/"
        },
        "id": "I-OycIe-gIDO",
        "outputId": "74806478-48b4-4f1c-e23c-c00b27ccde6f"
      },
      "outputs": [
        {
          "data": {
            "text/plain": [
              "array([[  7, 900,   9],\n",
              "       [ 10,  11,  12]])"
            ]
          },
          "execution_count": 22,
          "metadata": {},
          "output_type": "execute_result"
        }
      ],
      "source": [
        "Y3[0,0]=7\n",
        "Y3"
      ]
    },
    {
      "cell_type": "code",
      "execution_count": null,
      "metadata": {
        "colab": {
          "base_uri": "https://localhost:8080/"
        },
        "id": "Ry--et0mgTgh",
        "outputId": "ed72d1b6-99ff-4670-d4a8-f3205cedd259"
      },
      "outputs": [
        {
          "data": {
            "text/plain": [
              "array([[  7,  10],\n",
              "       [900,  11],\n",
              "       [  9,  12]])"
            ]
          },
          "execution_count": 23,
          "metadata": {},
          "output_type": "execute_result"
        }
      ],
      "source": [
        "Y3T=Y3.T\n",
        "Y3T"
      ]
    },
    {
      "cell_type": "code",
      "execution_count": null,
      "metadata": {
        "colab": {
          "base_uri": "https://localhost:8080/"
        },
        "id": "lpyvMSJfiM7w",
        "outputId": "7e290e15-eb59-42a3-ee0d-e87f8e28221f"
      },
      "outputs": [
        {
          "data": {
            "text/plain": [
              "array([[1, 4],\n",
              "       [2, 5],\n",
              "       [3, 6]])"
            ]
          },
          "execution_count": 24,
          "metadata": {},
          "output_type": "execute_result"
        }
      ],
      "source": [
        "X3T=X3.T\n",
        "X3T"
      ]
    },
    {
      "cell_type": "code",
      "execution_count": null,
      "metadata": {
        "id": "_UI7y6MafRFp"
      },
      "outputs": [],
      "source": [
        "def dotProduct(a,b):\n",
        " return np.dot(a,b)"
      ]
    },
    {
      "cell_type": "code",
      "execution_count": null,
      "metadata": {
        "colab": {
          "base_uri": "https://localhost:8080/"
        },
        "id": "RgwwN5FtfaUe",
        "outputId": "97e14f27-627d-4131-d729-8a3dede0d2bd"
      },
      "outputs": [
        {
          "data": {
            "text/plain": [
              "array([[1834,   68],\n",
              "       [4582,  167]])"
            ]
          },
          "execution_count": 26,
          "metadata": {},
          "output_type": "execute_result"
        }
      ],
      "source": [
        "dotProduct(X3,Y3T)"
      ]
    },
    {
      "cell_type": "code",
      "execution_count": null,
      "metadata": {
        "colab": {
          "base_uri": "https://localhost:8080/"
        },
        "id": "f7Yc-Q3vsR-c",
        "outputId": "af7661c4-8104-4c12-e26d-afad68aa8280"
      },
      "outputs": [
        {
          "name": "stdout",
          "output_type": "stream",
          "text": [
            "Y3T is the transponed version of Y3\n",
            "\n",
            "New 'ndim' of matrix multiplication/dot between X3 and Y3T: 2\n",
            "New 'size' of matrix multiplication/dot between X3 and Y3T: 4\n",
            "New 'shape' of matrix multiplication between X3 and Y3T: (2, 2)\n"
          ]
        }
      ],
      "source": [
        "print(\"Y3T is the transponed version of Y3\\n\")\n",
        "print(\"New 'ndim' of matrix multiplication/dot between X3 and Y3T:\", dotProduct(X3,Y3T).ndim)\n",
        "print(\"New 'size' of matrix multiplication/dot between X3 and Y3T:\", dotProduct(X3,Y3T).size)\n",
        "print(\"New 'shape' of matrix multiplication between X3 and Y3T:\", dotProduct(X3,Y3T).shape)"
      ]
    },
    {
      "cell_type": "code",
      "execution_count": null,
      "metadata": {
        "colab": {
          "base_uri": "https://localhost:8080/"
        },
        "id": "_Q2qXuUbivlx",
        "outputId": "2ee199d5-4467-4e0e-a06e-1d9e5ff381fb"
      },
      "outputs": [
        {
          "data": {
            "text/plain": [
              "array([[  47,  944,   57],\n",
              "       [  64, 1855,   78],\n",
              "       [  81, 2766,   99]])"
            ]
          },
          "execution_count": 28,
          "metadata": {},
          "output_type": "execute_result"
        }
      ],
      "source": [
        "dotProduct(X3T,Y3)"
      ]
    },
    {
      "cell_type": "code",
      "execution_count": null,
      "metadata": {
        "colab": {
          "base_uri": "https://localhost:8080/"
        },
        "id": "J_3vBAtLs2i9",
        "outputId": "46852bc7-6af6-4cbf-fda5-f01d8730bb9c"
      },
      "outputs": [
        {
          "name": "stdout",
          "output_type": "stream",
          "text": [
            "Note: X3T is the transponed version of X3\n",
            "\n",
            "New 'ndim' of matrix multiplication/dot between X3T and Y3: 2\n",
            "New 'size' of matrix multiplication/dot between X3T and Y3: 9\n",
            "New 'shape' of matrix multiplication between X3T and Y3: (3, 3)\n"
          ]
        }
      ],
      "source": [
        "print(\"Note: X3T is the transponed version of X3\\n\")\n",
        "print(\"New 'ndim' of matrix multiplication/dot between X3T and Y3:\", dotProduct(X3T,Y3).ndim)\n",
        "print(\"New 'size' of matrix multiplication/dot between X3T and Y3:\", dotProduct(X3T,Y3).size)\n",
        "print(\"New 'shape' of matrix multiplication between X3T and Y3:\", dotProduct(X3T,Y3).shape)"
      ]
    },
    {
      "cell_type": "code",
      "execution_count": null,
      "metadata": {
        "colab": {
          "base_uri": "https://localhost:8080/"
        },
        "id": "z586OWAtuMYG",
        "outputId": "49bd8d28-081b-4ebc-dd7d-7d6a477c3eea"
      },
      "outputs": [
        {
          "name": "stdout",
          "output_type": "stream",
          "text": [
            "X4 numpy array:\n",
            " [[1 2 3]\n",
            " [4 5 6]\n",
            " [7 8 9]] \n",
            "\n",
            "X4 ndim: 2\n",
            "X4 size: 9\n",
            "X4 shape: (3, 3)\n"
          ]
        }
      ],
      "source": [
        "X4=np.array([[1,2,3],[4,5,6],[7,8,9]])\n",
        "print(\"X4 numpy array:\\n\", X4,\"\\n\")\n",
        "print(\"X4 ndim:\", X4.ndim)\n",
        "print(\"X4 size:\", X4.size)\n",
        "print(\"X4 shape:\", X4.shape)"
      ]
    },
    {
      "cell_type": "code",
      "execution_count": null,
      "metadata": {
        "colab": {
          "base_uri": "https://localhost:8080/"
        },
        "id": "UiLb1CqYveiU",
        "outputId": "5424ef8a-789c-4791-fb14-d766246e37ec"
      },
      "outputs": [
        {
          "name": "stdout",
          "output_type": "stream",
          "text": [
            "Y4 numpy array:\n",
            " [[10 11 12]\n",
            " [13 14 15]\n",
            " [16 17 18]] \n",
            "\n",
            "Y4 ndim: 2\n",
            "Y4 size: 9\n",
            "Y4 shape: (3, 3)\n"
          ]
        }
      ],
      "source": [
        "Y4=np.array([[10,11,12],[13,14,15],[16,17,18]])\n",
        "print(\"Y4 numpy array:\\n\", Y4,\"\\n\")\n",
        "print(\"Y4 ndim:\", Y4.ndim)\n",
        "print(\"Y4 size:\", Y4.size)\n",
        "print(\"Y4 shape:\", Y4.shape)"
      ]
    },
    {
      "cell_type": "code",
      "execution_count": null,
      "metadata": {
        "colab": {
          "base_uri": "https://localhost:8080/"
        },
        "id": "UUkWjxlUKmq8",
        "outputId": "d12f1824-a4e3-4565-9bb0-ebc9c6c3110d"
      },
      "outputs": [
        {
          "data": {
            "text/plain": [
              "array([[ 84,  90,  96],\n",
              "       [201, 216, 231],\n",
              "       [318, 342, 366]])"
            ]
          },
          "execution_count": 32,
          "metadata": {},
          "output_type": "execute_result"
        }
      ],
      "source": [
        "Z4=dotProduct(X4,Y4)\n",
        "Z4"
      ]
    },
    {
      "cell_type": "code",
      "execution_count": null,
      "metadata": {
        "colab": {
          "base_uri": "https://localhost:8080/"
        },
        "id": "RD5jkLilKusO",
        "outputId": "5e2e500b-8719-48bd-f69c-58d133b6c0c3"
      },
      "outputs": [
        {
          "name": "stdout",
          "output_type": "stream",
          "text": [
            "Z4 numpy array:\n",
            " [[ 84  90  96]\n",
            " [201 216 231]\n",
            " [318 342 366]] \n",
            "\n",
            "Z4 ndim: 2\n",
            "Z4 size: 9\n",
            "Z4 shape: (3, 3)\n"
          ]
        }
      ],
      "source": [
        "print(\"Z4 numpy array:\\n\", Z4,\"\\n\")\n",
        "print(\"Z4 ndim:\", Z4.ndim)\n",
        "print(\"Z4 size:\", Z4.size)\n",
        "print(\"Z4 shape:\", Z4.shape)"
      ]
    },
    {
      "cell_type": "code",
      "execution_count": null,
      "metadata": {
        "colab": {
          "base_uri": "https://localhost:8080/"
        },
        "id": "Ltb-W6YuNQm9",
        "outputId": "66db9943-05b4-44a2-ed98-ae1bf00ea785"
      },
      "outputs": [
        {
          "name": "stdout",
          "output_type": "stream",
          "text": [
            "sine (Sinus) applied to Z4:\n",
            "\n"
          ]
        },
        {
          "data": {
            "text/plain": [
              "array([[ 0.73319032,  0.89399666,  0.98358775],\n",
              "       [-0.06189025,  0.69605849, -0.99568419],\n",
              "       [-0.64356121,  0.42013968,  0.99999007]])"
            ]
          },
          "execution_count": 34,
          "metadata": {},
          "output_type": "execute_result"
        }
      ],
      "source": [
        "print(\"sine (Sinus) applied to Z4:\\n\")\n",
        "np.sin(Z4)"
      ]
    },
    {
      "cell_type": "code",
      "execution_count": null,
      "metadata": {
        "id": "rTGcqAlzbBfT",
        "outputId": "c77cc37c-47c5-4c28-e0d8-63b381ab9dc6"
      },
      "outputs": [
        {
          "data": {
            "text/plain": [
              "array([[ 0.73319032,  0.89399666,  0.98358775],\n",
              "       [-0.06189025,  0.69605849, -0.99568419],\n",
              "       [-0.64356121,  0.42013968,  0.99999007]])"
            ]
          },
          "execution_count": 74,
          "metadata": {},
          "output_type": "execute_result"
        }
      ],
      "source": [
        "Z4sin=np.sin(Z4)\n",
        "Z4sin"
      ]
    },
    {
      "cell_type": "code",
      "execution_count": null,
      "metadata": {
        "id": "hj1W3uKbbBfU",
        "outputId": "121ee197-d128-4bd7-a3da-b5d49b018413"
      },
      "outputs": [
        {
          "data": {
            "text/plain": [
              "[<matplotlib.lines.Line2D at 0x7f496f4550d0>,\n",
              " <matplotlib.lines.Line2D at 0x7f496f472fd0>,\n",
              " <matplotlib.lines.Line2D at 0x7f496f464350>]"
            ]
          },
          "execution_count": 70,
          "metadata": {},
          "output_type": "execute_result"
        },
        {
          "data": {
            "image/png": "[encoded data removed]",
            "text/plain": [
              "<Figure size 432x288 with 1 Axes>"
            ]
          },
          "metadata": {
            "needs_background": "light"
          },
          "output_type": "display_data"
        }
      ],
      "source": [
        "plt.plot(X4,Y4)"
      ]
    },
    {
      "cell_type": "code",
      "execution_count": null,
      "metadata": {
        "id": "zORh-oEFbBfU",
        "outputId": "35e71606-2fed-4c89-b124-7ab728fa9249"
      },
      "outputs": [
        {
          "data": {
            "text/plain": [
              "[<matplotlib.lines.Line2D at 0x7f496f5b9610>,\n",
              " <matplotlib.lines.Line2D at 0x7f496f5b0910>,\n",
              " <matplotlib.lines.Line2D at 0x7f496f5a2810>]"
            ]
          },
          "execution_count": 71,
          "metadata": {},
          "output_type": "execute_result"
        },
        {
          "data": {
            "image/png": "[encoded data removed]",
            "text/plain": [
              "<Figure size 432x288 with 1 Axes>"
            ]
          },
          "metadata": {
            "needs_background": "light"
          },
          "output_type": "display_data"
        }
      ],
      "source": [
        "plt.plot(X4)"
      ]
    },
    {
      "cell_type": "code",
      "execution_count": null,
      "metadata": {
        "id": "QOxFABYDbBfU",
        "outputId": "25658fe7-6b8b-4a28-d2ab-ab9a6047ce46"
      },
      "outputs": [
        {
          "data": {
            "text/plain": [
              "[<matplotlib.lines.Line2D at 0x7f496f7a2710>,\n",
              " <matplotlib.lines.Line2D at 0x7f496f79f4d0>,\n",
              " <matplotlib.lines.Line2D at 0x7f496f7a2d50>]"
            ]
          },
          "execution_count": 72,
          "metadata": {},
          "output_type": "execute_result"
        },
        {
          "data": {
            "image/png": "[encoded data removed]",
            "text/plain": [
              "<Figure size 432x288 with 1 Axes>"
            ]
          },
          "metadata": {
            "needs_background": "light"
          },
          "output_type": "display_data"
        }
      ],
      "source": [
        "plt.plot(Y4)"
      ]
    },
    {
      "cell_type": "code",
      "execution_count": null,
      "metadata": {
        "id": "h65-sD4IbBfV",
        "outputId": "b2ed92c0-b39e-4839-f92b-ce4508ab8b4b"
      },
      "outputs": [
        {
          "data": {
            "text/plain": [
              "[<matplotlib.lines.Line2D at 0x7f496f9a8850>,\n",
              " <matplotlib.lines.Line2D at 0x7f496f9a5610>,\n",
              " <matplotlib.lines.Line2D at 0x7f496f9a8e90>]"
            ]
          },
          "execution_count": 73,
          "metadata": {},
          "output_type": "execute_result"
        },
        {
          "data": {
            "image/png": "[encoded data removed]",
            "text/plain": [
              "<Figure size 432x288 with 1 Axes>"
            ]
          },
          "metadata": {
            "needs_background": "light"
          },
          "output_type": "display_data"
        }
      ],
      "source": [
        "plt.plot(Z4)"
      ]
    },
    {
      "cell_type": "code",
      "execution_count": null,
      "metadata": {
        "id": "5ipawQe4bBfV",
        "outputId": "24895377-1d44-467f-f7f7-d84653f5bc13"
      },
      "outputs": [
        {
          "data": {
            "text/plain": [
              "[<matplotlib.lines.Line2D at 0x7f496e2cb3d0>,\n",
              " <matplotlib.lines.Line2D at 0x7f496e2c8190>,\n",
              " <matplotlib.lines.Line2D at 0x7f496e2cb8d0>]"
            ]
          },
          "execution_count": 75,
          "metadata": {},
          "output_type": "execute_result"
        },
        {
          "data": {
            "image/png": "[encoded data removed]",
            "text/plain": [
              "<Figure size 432x288 with 1 Axes>"
            ]
          },
          "metadata": {
            "needs_background": "light"
          },
          "output_type": "display_data"
        }
      ],
      "source": [
        "plt.plot(Z4sin)"
      ]
    },
    {
      "cell_type": "markdown",
      "metadata": {
        "id": "L3yOJaMWLtiQ"
      },
      "source": [
        "Consider the list <code>a</code>, which contains three nested lists **each of equal size**.\n"
      ]
    },
    {
      "cell_type": "code",
      "execution_count": null,
      "metadata": {
        "colab": {
          "base_uri": "https://localhost:8080/"
        },
        "id": "FE5VWvmBLtiR",
        "outputId": "eaadf88c-3d64-4309-f397-83ee05a017f6"
      },
      "outputs": [
        {
          "data": {
            "text/plain": [
              "[[11, 12, 13], [21, 22, 23], [31, 32, 33]]"
            ]
          },
          "execution_count": 35,
          "metadata": {},
          "output_type": "execute_result"
        }
      ],
      "source": [
        "# Create a list\n",
        "\n",
        "a = [[11, 12, 13], [21, 22, 23], [31, 32, 33]]\n",
        "a"
      ]
    },
    {
      "cell_type": "markdown",
      "metadata": {
        "id": "bVsnh5xGLtiR"
      },
      "source": [
        "We can cast the list to a Numpy Array as follows:\n"
      ]
    },
    {
      "cell_type": "code",
      "execution_count": null,
      "metadata": {
        "colab": {
          "base_uri": "https://localhost:8080/"
        },
        "id": "8fdGVRpzLtiS",
        "outputId": "3f5258ae-a6a1-4edf-c773-56f3909cac3a"
      },
      "outputs": [
        {
          "data": {
            "text/plain": [
              "array([[11, 12, 13],\n",
              "       [21, 22, 23],\n",
              "       [31, 32, 33]])"
            ]
          },
          "execution_count": 36,
          "metadata": {},
          "output_type": "execute_result"
        }
      ],
      "source": [
        "# Convert list to Numpy Array\n",
        "# Every element is the same type\n",
        "\n",
        "A = np.array(a)\n",
        "A"
      ]
    },
    {
      "cell_type": "markdown",
      "metadata": {
        "id": "nE7UqM05LtiT"
      },
      "source": [
        "We can use the attribute <code>ndim</code> to obtain the number of axes or dimensions, referred to as the rank.\n"
      ]
    },
    {
      "cell_type": "code",
      "execution_count": null,
      "metadata": {
        "colab": {
          "base_uri": "https://localhost:8080/"
        },
        "id": "nvJSnOMILtiU",
        "outputId": "1a1761fd-c745-41d8-c175-39cc6b9c746e"
      },
      "outputs": [
        {
          "data": {
            "text/plain": [
              "2"
            ]
          },
          "execution_count": 37,
          "metadata": {},
          "output_type": "execute_result"
        }
      ],
      "source": [
        "# Show the numpy array dimensions\n",
        "\n",
        "A.ndim"
      ]
    },
    {
      "cell_type": "markdown",
      "metadata": {
        "id": "x2Up8j26LtiW"
      },
      "source": [
        "Attribute <code>shape</code> returns a tuple corresponding to the size or number of each dimension.\n"
      ]
    },
    {
      "cell_type": "code",
      "execution_count": null,
      "metadata": {
        "colab": {
          "base_uri": "https://localhost:8080/"
        },
        "id": "X4j4_8ChLtiW",
        "outputId": "94da4dc2-bdac-4a3f-a6d2-3e3648cec41a"
      },
      "outputs": [
        {
          "data": {
            "text/plain": [
              "(3, 3)"
            ]
          },
          "execution_count": 38,
          "metadata": {},
          "output_type": "execute_result"
        }
      ],
      "source": [
        "# Show the numpy array shape\n",
        "\n",
        "A.shape"
      ]
    },
    {
      "cell_type": "markdown",
      "metadata": {
        "id": "lR1XN9x0LtiX"
      },
      "source": [
        "The total number of elements in the array is given by the attribute <code>size</code>.\n"
      ]
    },
    {
      "cell_type": "code",
      "execution_count": null,
      "metadata": {
        "colab": {
          "base_uri": "https://localhost:8080/"
        },
        "id": "kDg6J1TdLtiX",
        "outputId": "643bbaa9-286f-480c-8c76-c02fda701ea6"
      },
      "outputs": [
        {
          "data": {
            "text/plain": [
              "9"
            ]
          },
          "execution_count": 39,
          "metadata": {},
          "output_type": "execute_result"
        }
      ],
      "source": [
        "# Show the numpy array size\n",
        "\n",
        "A.size"
      ]
    },
    {
      "cell_type": "markdown",
      "metadata": {
        "id": "qtqZXR5GLtiY"
      },
      "source": [
        "<hr>\n"
      ]
    },
    {
      "cell_type": "markdown",
      "metadata": {
        "id": "Wqdk3NjnLtiY"
      },
      "source": [
        "<h2 id=\"access\">Accessing different elements of a Numpy Array</h2>\n"
      ]
    },
    {
      "cell_type": "markdown",
      "metadata": {
        "id": "JABCzdqFLtiZ"
      },
      "source": [
        "We can use rectangular brackets to access the different elements of the array. The correspondence between the rectangular brackets and the list and the rectangular representation is shown in the following figure for a 3x3 array:\n"
      ]
    },
    {
      "cell_type": "markdown",
      "metadata": {
        "id": "z2rFOAOiLtia"
      },
      "source": [
        "<img src=\"https://cf-courses-data.s3.us.cloud-object-storage.appdomain.cloud/IBMDeveloperSkillsNetwork-PY0101EN-SkillsNetwork/labs/Module%205/images/NumTwoEg.png\" width=\"500\" />\n"
      ]
    },
    {
      "cell_type": "markdown",
      "metadata": {
        "id": "5IrxvLVKLtib"
      },
      "source": [
        "We can access the 2nd-row, 3rd column as shown in the following figure:\n"
      ]
    },
    {
      "cell_type": "markdown",
      "metadata": {
        "id": "KEpFhzx4Ltib"
      },
      "source": [
        "<img src=\"https://cf-courses-data.s3.us.cloud-object-storage.appdomain.cloud/IBMDeveloperSkillsNetwork-PY0101EN-SkillsNetwork/labs/Module%205/images/NumTwoFT.png\" width=\"400\" />\n"
      ]
    },
    {
      "cell_type": "markdown",
      "metadata": {
        "id": "kzYsFGz6Ltic"
      },
      "source": [
        "We simply use the square brackets and the indices corresponding to the element we would like:\n"
      ]
    },
    {
      "cell_type": "code",
      "execution_count": null,
      "metadata": {
        "colab": {
          "base_uri": "https://localhost:8080/"
        },
        "id": "EEU7YEzZLtid",
        "outputId": "478c3fde-a32a-40b6-f79e-db3ce40ba78d"
      },
      "outputs": [
        {
          "data": {
            "text/plain": [
              "23"
            ]
          },
          "execution_count": 40,
          "metadata": {},
          "output_type": "execute_result"
        }
      ],
      "source": [
        "# Access the element on the second row and third column\n",
        "\n",
        "A[1, 2]"
      ]
    },
    {
      "cell_type": "markdown",
      "metadata": {
        "id": "K5fUaR8ZLtid"
      },
      "source": [
        "We can also use the following notation to obtain the elements:\n"
      ]
    },
    {
      "cell_type": "code",
      "execution_count": null,
      "metadata": {
        "colab": {
          "base_uri": "https://localhost:8080/"
        },
        "id": "GjLMTRCmLtid",
        "outputId": "6c71335f-7f48-4a7d-f257-ecc491755cb4"
      },
      "outputs": [
        {
          "data": {
            "text/plain": [
              "23"
            ]
          },
          "execution_count": 41,
          "metadata": {},
          "output_type": "execute_result"
        }
      ],
      "source": [
        "# Access the element on the second row and third column\n",
        "\n",
        "A[1][2]"
      ]
    },
    {
      "cell_type": "markdown",
      "metadata": {
        "id": "jk8byq6WLtid"
      },
      "source": [
        "Consider the elements shown in the following figure\n"
      ]
    },
    {
      "cell_type": "markdown",
      "metadata": {
        "id": "zxtagLxBLtid"
      },
      "source": [
        "<img src=\"https://cf-courses-data.s3.us.cloud-object-storage.appdomain.cloud/IBMDeveloperSkillsNetwork-PY0101EN-SkillsNetwork/labs/Module%205/images/NumTwoFF.png\" width=\"400\" />\n"
      ]
    },
    {
      "cell_type": "markdown",
      "metadata": {
        "id": "7grnhuV2Ltie"
      },
      "source": [
        "We can access the element as follows:\n"
      ]
    },
    {
      "cell_type": "code",
      "execution_count": null,
      "metadata": {
        "colab": {
          "base_uri": "https://localhost:8080/"
        },
        "id": "vZINAiieLtie",
        "outputId": "7b2cccb4-73ee-46fc-bfe0-0d8c52494f3c"
      },
      "outputs": [
        {
          "data": {
            "text/plain": [
              "11"
            ]
          },
          "execution_count": 42,
          "metadata": {},
          "output_type": "execute_result"
        }
      ],
      "source": [
        "# Access the element on the first row and first column\n",
        "\n",
        "A[0][0]"
      ]
    },
    {
      "cell_type": "markdown",
      "metadata": {
        "id": "VB6BDeUgLtie"
      },
      "source": [
        "We can also use slicing in numpy arrays. Consider the following figure. We would like to obtain the first two columns in the first row\n"
      ]
    },
    {
      "cell_type": "markdown",
      "metadata": {
        "id": "JFJeN_XLLtie"
      },
      "source": [
        "<img src=\"https://cf-courses-data.s3.us.cloud-object-storage.appdomain.cloud/IBMDeveloperSkillsNetwork-PY0101EN-SkillsNetwork/labs/Module%205/images/NumTwoFSF.png\" width=\"400\" />\n"
      ]
    },
    {
      "cell_type": "markdown",
      "metadata": {
        "id": "9SOOJijgLtif"
      },
      "source": [
        "This can be done with the following syntax:\n"
      ]
    },
    {
      "cell_type": "code",
      "execution_count": null,
      "metadata": {
        "colab": {
          "base_uri": "https://localhost:8080/"
        },
        "id": "KCQ4crmgLtif",
        "outputId": "bb0be6f0-55d8-4d76-b9e0-234b521681f2"
      },
      "outputs": [
        {
          "data": {
            "text/plain": [
              "array([11, 12])"
            ]
          },
          "execution_count": 43,
          "metadata": {},
          "output_type": "execute_result"
        }
      ],
      "source": [
        "# Access the element on the first row and first and second columns\n",
        "\n",
        "A[0][0:2]"
      ]
    },
    {
      "cell_type": "markdown",
      "metadata": {
        "id": "yE9GOVJjLtif"
      },
      "source": [
        "Similarly, we can obtain the first two rows of the 3rd column as follows:\n"
      ]
    },
    {
      "cell_type": "code",
      "execution_count": null,
      "metadata": {
        "colab": {
          "base_uri": "https://localhost:8080/"
        },
        "id": "nqOm_fHQLtih",
        "outputId": "1df18f6d-bd5a-4649-a2cb-e9f23e26522e"
      },
      "outputs": [
        {
          "data": {
            "text/plain": [
              "array([13, 23])"
            ]
          },
          "execution_count": 44,
          "metadata": {},
          "output_type": "execute_result"
        }
      ],
      "source": [
        "# Access the element on the first and second rows and third column\n",
        "\n",
        "A[0:2, 2]"
      ]
    },
    {
      "cell_type": "markdown",
      "metadata": {
        "id": "BErKfx8hLtih"
      },
      "source": [
        "Corresponding to the following figure:\n"
      ]
    },
    {
      "cell_type": "markdown",
      "metadata": {
        "id": "GfCCFY9VLtih"
      },
      "source": [
        "<img src=\"https://cf-courses-data.s3.us.cloud-object-storage.appdomain.cloud/IBMDeveloperSkillsNetwork-PY0101EN-SkillsNetwork/labs/Module%205/images/2D_numpy.png\" width=\"550\"><br />\n"
      ]
    },
    {
      "cell_type": "markdown",
      "metadata": {
        "id": "LumNaClNLtih"
      },
      "source": [
        "<h2 id=\"op\">Basic Operations</h2>\n"
      ]
    },
    {
      "cell_type": "markdown",
      "metadata": {
        "id": "UBy_kXBnLtii"
      },
      "source": [
        "We can also add arrays. The process is identical to matrix addition. Matrix addition of <code>X</code> and <code>Y</code> is shown in the following figure:\n"
      ]
    },
    {
      "cell_type": "markdown",
      "metadata": {
        "id": "ydljC-9yLtii"
      },
      "source": [
        "<img src=\"https://cf-courses-data.s3.us.cloud-object-storage.appdomain.cloud/IBMDeveloperSkillsNetwork-PY0101EN-SkillsNetwork/labs/Module%205/images/NumTwoAdd.png\" width=\"500\" />\n"
      ]
    },
    {
      "cell_type": "markdown",
      "metadata": {
        "id": "lyFcK1tbLtii"
      },
      "source": [
        "The numpy array is given by <code>X</code> and <code>Y</code>\n"
      ]
    },
    {
      "cell_type": "code",
      "execution_count": null,
      "metadata": {
        "colab": {
          "base_uri": "https://localhost:8080/"
        },
        "id": "MT8Ijea2Ltij",
        "outputId": "80ed6eb4-feb8-44c4-942a-ef9ade7a2015"
      },
      "outputs": [
        {
          "data": {
            "text/plain": [
              "array([[1, 0],\n",
              "       [0, 1]])"
            ]
          },
          "execution_count": 45,
          "metadata": {},
          "output_type": "execute_result"
        }
      ],
      "source": [
        "# Create a numpy array X\n",
        "\n",
        "X = np.array([[1, 0], [0, 1]]) \n",
        "X"
      ]
    },
    {
      "cell_type": "code",
      "execution_count": null,
      "metadata": {
        "colab": {
          "base_uri": "https://localhost:8080/"
        },
        "id": "KsctcaWmLtij",
        "outputId": "c05be211-56a4-4a8b-f238-3b544647c866"
      },
      "outputs": [
        {
          "data": {
            "text/plain": [
              "array([[2, 1],\n",
              "       [1, 2]])"
            ]
          },
          "execution_count": 46,
          "metadata": {},
          "output_type": "execute_result"
        }
      ],
      "source": [
        "# Create a numpy array Y\n",
        "\n",
        "Y = np.array([[2, 1], [1, 2]]) \n",
        "Y"
      ]
    },
    {
      "cell_type": "markdown",
      "metadata": {
        "id": "oKhoXM1XLtij"
      },
      "source": [
        "We can add the numpy arrays as follows.\n"
      ]
    },
    {
      "cell_type": "code",
      "execution_count": null,
      "metadata": {
        "colab": {
          "base_uri": "https://localhost:8080/"
        },
        "id": "5q7LBjlwLtij",
        "outputId": "af29f4a2-1b66-4f68-e548-e50db7f536f6"
      },
      "outputs": [
        {
          "data": {
            "text/plain": [
              "array([[3, 1],\n",
              "       [1, 3]])"
            ]
          },
          "execution_count": 47,
          "metadata": {},
          "output_type": "execute_result"
        }
      ],
      "source": [
        "# Add X and Y\n",
        "\n",
        "Z = X + Y\n",
        "Z"
      ]
    },
    {
      "cell_type": "markdown",
      "metadata": {
        "id": "lnlKRyT6Ltik"
      },
      "source": [
        "Multiplying a numpy array by a scaler is identical to multiplying a matrix by a scaler. If we multiply the matrix <code>Y</code> by the scaler 2, we simply multiply every element in the matrix by 2, as shown in the figure.\n"
      ]
    },
    {
      "cell_type": "markdown",
      "metadata": {
        "id": "DX6NeH51Ltik"
      },
      "source": [
        "<img src=\"https://cf-courses-data.s3.us.cloud-object-storage.appdomain.cloud/IBMDeveloperSkillsNetwork-PY0101EN-SkillsNetwork/labs/Module%205/images/NumTwoDb.png\" width=\"500\" />\n"
      ]
    },
    {
      "cell_type": "markdown",
      "metadata": {
        "id": "nvBj_NSeLtik"
      },
      "source": [
        "We can perform the same operation in numpy as follows\n"
      ]
    },
    {
      "cell_type": "code",
      "execution_count": null,
      "metadata": {
        "colab": {
          "base_uri": "https://localhost:8080/"
        },
        "id": "BNvo2jOlLtik",
        "outputId": "1d255993-41c4-4852-e2dc-67910d90ed0b"
      },
      "outputs": [
        {
          "data": {
            "text/plain": [
              "array([[2, 1],\n",
              "       [1, 2]])"
            ]
          },
          "execution_count": 48,
          "metadata": {},
          "output_type": "execute_result"
        }
      ],
      "source": [
        "# Create a numpy array Y\n",
        "\n",
        "Y = np.array([[2, 1], [1, 2]]) \n",
        "Y"
      ]
    },
    {
      "cell_type": "code",
      "execution_count": null,
      "metadata": {
        "colab": {
          "base_uri": "https://localhost:8080/"
        },
        "id": "DVu3rP31Ltil",
        "outputId": "f5412811-3ede-47ee-a51a-06c5e2d4d6ff"
      },
      "outputs": [
        {
          "data": {
            "text/plain": [
              "array([[4, 2],\n",
              "       [2, 4]])"
            ]
          },
          "execution_count": 49,
          "metadata": {},
          "output_type": "execute_result"
        }
      ],
      "source": [
        "# Multiply Y with 2\n",
        "\n",
        "Z = 2 * Y\n",
        "Z"
      ]
    },
    {
      "cell_type": "markdown",
      "metadata": {
        "id": "_IWE9eDsLtim"
      },
      "source": [
        "Multiplication of two arrays corresponds to an element-wise product or <em>Hadamard product</em>. Consider matrix <code>X</code> and <code>Y</code>. The Hadamard product corresponds to multiplying each of the elements in the same position, i.e. multiplying elements contained in the same color boxes together. The result is a new matrix that is the same size as matrix <code>Y</code> or <code>X</code>, as shown in the following figure.\n"
      ]
    },
    {
      "cell_type": "markdown",
      "metadata": {
        "id": "Y0jtjsoQLtin"
      },
      "source": [
        "<img src=\"https://cf-courses-data.s3.us.cloud-object-storage.appdomain.cloud/IBMDeveloperSkillsNetwork-PY0101EN-SkillsNetwork/labs/Module%205/images/NumTwoMul.png\" width=\"500\" />\n"
      ]
    },
    {
      "cell_type": "markdown",
      "metadata": {
        "id": "ag-u9PdPLtin"
      },
      "source": [
        "We can perform element-wise product of the array <code>X</code> and <code>Y</code> as follows:\n"
      ]
    },
    {
      "cell_type": "code",
      "execution_count": null,
      "metadata": {
        "colab": {
          "base_uri": "https://localhost:8080/"
        },
        "id": "q3aRABgrLtio",
        "outputId": "e1619955-3390-4a69-eecd-9667f0934268"
      },
      "outputs": [
        {
          "data": {
            "text/plain": [
              "array([[2, 1],\n",
              "       [1, 2]])"
            ]
          },
          "execution_count": 50,
          "metadata": {},
          "output_type": "execute_result"
        }
      ],
      "source": [
        "# Create a numpy array Y\n",
        "\n",
        "Y = np.array([[2, 1], [1, 2]]) \n",
        "Y"
      ]
    },
    {
      "cell_type": "code",
      "execution_count": null,
      "metadata": {
        "colab": {
          "base_uri": "https://localhost:8080/"
        },
        "id": "lxZpbHWJLtio",
        "outputId": "f6111548-1171-403b-e72a-b79419204fbc"
      },
      "outputs": [
        {
          "data": {
            "text/plain": [
              "array([[1, 0],\n",
              "       [0, 1]])"
            ]
          },
          "execution_count": 51,
          "metadata": {},
          "output_type": "execute_result"
        }
      ],
      "source": [
        "# Create a numpy array X\n",
        "\n",
        "X = np.array([[1, 0], [0, 1]]) \n",
        "X"
      ]
    },
    {
      "cell_type": "code",
      "execution_count": null,
      "metadata": {
        "colab": {
          "base_uri": "https://localhost:8080/"
        },
        "id": "rIJaWug6Ltio",
        "outputId": "b51570aa-8089-4552-fef8-f104ac105dbc"
      },
      "outputs": [
        {
          "data": {
            "text/plain": [
              "array([[2, 0],\n",
              "       [0, 2]])"
            ]
          },
          "execution_count": 52,
          "metadata": {},
          "output_type": "execute_result"
        }
      ],
      "source": [
        "# Multiply X with Y\n",
        "\n",
        "Z = X * Y\n",
        "Z"
      ]
    },
    {
      "cell_type": "markdown",
      "metadata": {
        "id": "FivK62QHLtip"
      },
      "source": [
        "We can also perform matrix multiplication with the numpy arrays <code>A</code> and <code>B</code> as follows:\n"
      ]
    },
    {
      "cell_type": "markdown",
      "metadata": {
        "id": "DTuPmzq-Ltip"
      },
      "source": [
        "First, we define matrix <code>A</code> and <code>B</code>:\n"
      ]
    },
    {
      "cell_type": "code",
      "execution_count": null,
      "metadata": {
        "colab": {
          "base_uri": "https://localhost:8080/"
        },
        "id": "whC-0qRfLtip",
        "outputId": "d4545114-d611-4c3d-edc9-d0412836453d"
      },
      "outputs": [
        {
          "data": {
            "text/plain": [
              "array([[0, 1, 1],\n",
              "       [1, 0, 1]])"
            ]
          },
          "execution_count": 53,
          "metadata": {},
          "output_type": "execute_result"
        }
      ],
      "source": [
        "# Create a matrix A\n",
        "\n",
        "A = np.array([[0, 1, 1], [1, 0, 1]])\n",
        "A"
      ]
    },
    {
      "cell_type": "code",
      "execution_count": null,
      "metadata": {
        "colab": {
          "base_uri": "https://localhost:8080/"
        },
        "id": "yseKeYqkLtiq",
        "outputId": "9c2a7d1f-4f95-429b-e278-8f989c31cdf4"
      },
      "outputs": [
        {
          "data": {
            "text/plain": [
              "array([[ 1,  1],\n",
              "       [ 1,  1],\n",
              "       [-1,  1]])"
            ]
          },
          "execution_count": 54,
          "metadata": {},
          "output_type": "execute_result"
        }
      ],
      "source": [
        "# Create a matrix B\n",
        "\n",
        "B = np.array([[1, 1], [1, 1], [-1, 1]])\n",
        "B"
      ]
    },
    {
      "cell_type": "markdown",
      "metadata": {
        "id": "v3gtZ3yLLtiq"
      },
      "source": [
        "We use the numpy function <code>dot</code> to multiply the arrays together.\n"
      ]
    },
    {
      "cell_type": "code",
      "execution_count": null,
      "metadata": {
        "colab": {
          "base_uri": "https://localhost:8080/"
        },
        "id": "HZFSguVyLtiq",
        "outputId": "faebaa8f-e364-496b-be67-02a5666c426f"
      },
      "outputs": [
        {
          "data": {
            "text/plain": [
              "array([[0, 2],\n",
              "       [0, 2]])"
            ]
          },
          "execution_count": 55,
          "metadata": {},
          "output_type": "execute_result"
        }
      ],
      "source": [
        "# Calculate the dot product\n",
        "\n",
        "Z = np.dot(A,B)\n",
        "Z"
      ]
    },
    {
      "cell_type": "code",
      "execution_count": null,
      "metadata": {
        "colab": {
          "base_uri": "https://localhost:8080/"
        },
        "id": "Dw47Zx2TLtiq",
        "outputId": "31a7b69b-b95d-4449-e3da-1b46bdd3565c"
      },
      "outputs": [
        {
          "data": {
            "text/plain": [
              "array([[0.        , 0.90929743],\n",
              "       [0.        , 0.90929743]])"
            ]
          },
          "execution_count": 56,
          "metadata": {},
          "output_type": "execute_result"
        }
      ],
      "source": [
        "# Calculate the sine of Z\n",
        "\n",
        "np.sin(Z)"
      ]
    },
    {
      "cell_type": "markdown",
      "metadata": {
        "id": "07mzfQXvLtir"
      },
      "source": [
        "We use the numpy attribute <code>T</code> to calculate the transposed matrix\n"
      ]
    },
    {
      "cell_type": "code",
      "execution_count": null,
      "metadata": {
        "colab": {
          "base_uri": "https://localhost:8080/"
        },
        "id": "CD5cjRSYLtir",
        "outputId": "73bc59cb-bf70-407a-bece-d306b09bb81e"
      },
      "outputs": [
        {
          "data": {
            "text/plain": [
              "array([[1, 1],\n",
              "       [2, 2],\n",
              "       [3, 3]])"
            ]
          },
          "execution_count": 57,
          "metadata": {},
          "output_type": "execute_result"
        }
      ],
      "source": [
        "# Create a matrix C\n",
        "\n",
        "C = np.array([[1,1],[2,2],[3,3]])\n",
        "C"
      ]
    },
    {
      "cell_type": "code",
      "execution_count": null,
      "metadata": {
        "colab": {
          "base_uri": "https://localhost:8080/"
        },
        "id": "qvDyzCRhLtir",
        "outputId": "14e754ba-8a98-4b16-9bc5-07984a8eeec4"
      },
      "outputs": [
        {
          "data": {
            "text/plain": [
              "array([[1, 2, 3],\n",
              "       [1, 2, 3]])"
            ]
          },
          "execution_count": 58,
          "metadata": {},
          "output_type": "execute_result"
        }
      ],
      "source": [
        "# Get the transposed of C\n",
        "\n",
        "C.T"
      ]
    },
    {
      "cell_type": "markdown",
      "metadata": {
        "id": "9h3uuEqoLtir"
      },
      "source": [
        "<h2>Quiz on 2D Numpy Array</h2>\n"
      ]
    },
    {
      "cell_type": "markdown",
      "metadata": {
        "id": "RxElWv-1Ltis"
      },
      "source": [
        "Consider the following list <code>a</code>, convert it to Numpy Array.\n"
      ]
    },
    {
      "cell_type": "code",
      "execution_count": null,
      "metadata": {
        "id": "T4khf7CrLtis"
      },
      "outputs": [],
      "source": [
        "# Write your code below and press Shift+Enter to execute\n",
        "\n",
        "a = [[1, 2, 3, 4], [5, 6, 7, 8], [9, 10, 11, 12]]"
      ]
    },
    {
      "cell_type": "code",
      "execution_count": null,
      "metadata": {
        "colab": {
          "base_uri": "https://localhost:8080/"
        },
        "id": "Ezlp_RFAQu62",
        "outputId": "7d271268-b480-4234-8880-cf03efffc711"
      },
      "outputs": [
        {
          "data": {
            "text/plain": [
              "array([[ 1,  2,  3,  4],\n",
              "       [ 5,  6,  7,  8],\n",
              "       [ 9, 10, 11, 12]])"
            ]
          },
          "execution_count": 60,
          "metadata": {},
          "output_type": "execute_result"
        }
      ],
      "source": [
        "A=np.array(a)\n",
        "A"
      ]
    },
    {
      "cell_type": "markdown",
      "metadata": {
        "id": "b1xgddzGLtis"
      },
      "source": [
        "<details><summary>Click here for the solution</summary>\n",
        "\n",
        "```python\n",
        "A = np.array(a)\n",
        "A\n",
        "```\n",
        "\n",
        "</details>\n"
      ]
    },
    {
      "cell_type": "markdown",
      "metadata": {
        "id": "7A0ZzZ84Ltis"
      },
      "source": [
        "Calculate the numpy array size.\n"
      ]
    },
    {
      "cell_type": "code",
      "execution_count": null,
      "metadata": {
        "colab": {
          "base_uri": "https://localhost:8080/"
        },
        "id": "IH-DAXL9Ltis",
        "outputId": "9fb38336-6815-4d38-cb9a-bd589e64bc50"
      },
      "outputs": [
        {
          "name": "stdout",
          "output_type": "stream",
          "text": [
            "A.Size: 12\n",
            "A.shape: (3, 4)\n",
            "A.ndim: 2\n"
          ]
        }
      ],
      "source": [
        "# Write your code below and press Shift+Enter to execute\n",
        "print(\"A.Size:\", A.size)\n",
        "print(\"A.shape:\", A.shape)\n",
        "print(\"A.ndim:\", A.ndim)"
      ]
    },
    {
      "cell_type": "markdown",
      "metadata": {
        "id": "CqWK-TXpLtit"
      },
      "source": [
        "<details><summary>Click here for the solution</summary>\n",
        "\n",
        "```python\n",
        "A.size\n",
        "```\n",
        "\n",
        "</details>\n"
      ]
    },
    {
      "cell_type": "markdown",
      "metadata": {
        "id": "xd6rtEjZLtit"
      },
      "source": [
        "Access the element on the first row and first and second columns.\n"
      ]
    },
    {
      "cell_type": "code",
      "execution_count": null,
      "metadata": {
        "colab": {
          "base_uri": "https://localhost:8080/"
        },
        "id": "SrqRXFPXLtit",
        "outputId": "679cd77a-737b-43a3-f0a0-140fa6272620"
      },
      "outputs": [
        {
          "data": {
            "text/plain": [
              "array([1, 2])"
            ]
          },
          "execution_count": 62,
          "metadata": {},
          "output_type": "execute_result"
        }
      ],
      "source": [
        "# Write your code below and press Shift+Enter to execute\n",
        "A[0,0:2]"
      ]
    },
    {
      "cell_type": "markdown",
      "metadata": {
        "id": "t4Rcelp7Ltiu"
      },
      "source": [
        "<details><summary>Click here for the solution</summary>\n",
        "\n",
        "```python\n",
        "A[0][0:2]\n",
        "```\n",
        "\n",
        "</details>\n"
      ]
    },
    {
      "cell_type": "markdown",
      "metadata": {
        "id": "jSYf9HVkLtiu"
      },
      "source": [
        "Perform matrix multiplication with the numpy arrays <code>A</code> and <code>B</code>.\n"
      ]
    },
    {
      "cell_type": "code",
      "execution_count": null,
      "metadata": {
        "id": "waG9lilgLtiu"
      },
      "outputs": [],
      "source": [
        "# Write your code below and press Shift+Enter to execute\n",
        "\n",
        "B = np.array([[0, 1], [1, 0], [1, 1], [-1, 0]])"
      ]
    },
    {
      "cell_type": "code",
      "execution_count": null,
      "metadata": {
        "colab": {
          "base_uri": "https://localhost:8080/"
        },
        "id": "QubfvnUTRyUW",
        "outputId": "7055d311-9ce0-4189-b525-da1bf89edc6c"
      },
      "outputs": [
        {
          "name": "stdout",
          "output_type": "stream",
          "text": [
            "Array B:\n",
            "\n",
            "[[ 0  1]\n",
            " [ 1  0]\n",
            " [ 1  1]\n",
            " [-1  0]] \n",
            "\n",
            "B.size: 8\n",
            "B.shape: (4, 2)\n",
            "B.ndim: 2\n"
          ]
        }
      ],
      "source": [
        "print(\"Array B:\\n\")\n",
        "print(B,\"\\n\")\n",
        "print(\"B.size:\", B.size)\n",
        "print(\"B.shape:\", B.shape)\n",
        "print(\"B.ndim:\", B.ndim)"
      ]
    },
    {
      "cell_type": "code",
      "execution_count": null,
      "metadata": {
        "colab": {
          "base_uri": "https://localhost:8080/"
        },
        "id": "U2FFqd4USgX6",
        "outputId": "dfbd8cd0-1169-454a-e50a-e20809cd6a80"
      },
      "outputs": [
        {
          "name": "stdout",
          "output_type": "stream",
          "text": [
            "Array A:\n",
            "\n",
            "[[ 1  2  3  4]\n",
            " [ 5  6  7  8]\n",
            " [ 9 10 11 12]] \n",
            "\n",
            "Array B:\n",
            "\n",
            "[[ 0  1]\n",
            " [ 1  0]\n",
            " [ 1  1]\n",
            " [-1  0]]\n"
          ]
        }
      ],
      "source": [
        "print(\"Array A:\\n\")\n",
        "print(A,\"\\n\")\n",
        "print(\"Array B:\\n\")\n",
        "print(B)"
      ]
    },
    {
      "cell_type": "code",
      "execution_count": null,
      "metadata": {
        "colab": {
          "base_uri": "https://localhost:8080/"
        },
        "id": "nPkGg9B8Rl0s",
        "outputId": "8add7a8d-62a0-465c-ed65-d0acf3ae553d"
      },
      "outputs": [
        {
          "data": {
            "text/plain": [
              "array([[ 1,  4],\n",
              "       [ 5, 12],\n",
              "       [ 9, 20]])"
            ]
          },
          "execution_count": 66,
          "metadata": {},
          "output_type": "execute_result"
        }
      ],
      "source": [
        "C = np.dot(A,B)\n",
        "C"
      ]
    },
    {
      "cell_type": "code",
      "execution_count": null,
      "metadata": {
        "colab": {
          "base_uri": "https://localhost:8080/"
        },
        "id": "Ab_sGC7SWcfR",
        "outputId": "51eca321-83e6-4efe-eda9-3d3e7f7fb507"
      },
      "outputs": [
        {
          "name": "stdout",
          "output_type": "stream",
          "text": [
            "C.size: 6\n",
            "C.shape: (3, 2)\n",
            "C.ndim: 2\n"
          ]
        }
      ],
      "source": [
        "print(\"C.size:\", C.size)\n",
        "print(\"C.shape:\", C.shape)\n",
        "print(\"C.ndim:\", C.ndim)"
      ]
    },
    {
      "cell_type": "markdown",
      "metadata": {
        "id": "cg4kzSVFLtiu"
      },
      "source": [
        "<details><summary>Click here for the solution</summary>\n",
        "\n",
        "```python\n",
        "X = np.dot(A,B)\n",
        "X\n",
        "```\n",
        "\n",
        "</details>\n"
      ]
    },
    {
      "cell_type": "markdown",
      "metadata": {
        "id": "UAcMU8bMLtiv"
      },
      "source": [
        "<hr>\n",
        "<h2>The last exercise!</h2>\n",
        "<p>Congratulations, you have completed your first lesson and hands-on lab in Python. However, there is one more thing you need to do. The Data Science community encourages sharing work. The best way to share and showcase your work is to share it on GitHub. By sharing your notebook on GitHub you are not only building your reputation with fellow data scientists, but you can also show it off when applying for a job. Even though this was your first piece of work, it is never too early to start building good habits. So, please read and follow <a href=\"https://cognitiveclass.ai/blog/data-scientists-stand-out-by-sharing-your-notebooks/?utm_medium=Exinfluencer&utm_source=Exinfluencer&utm_content=000026UJ&utm_term=10006555&utm_id=NA-SkillsNetwork-Channel-SkillsNetworkCoursesIBMDeveloperSkillsNetworkPY0101ENSkillsNetwork19487395-2021-01-01\" target=\"_blank\">this article</a> to learn how to share your work.\n",
        "<hr>\n"
      ]
    },
    {
      "cell_type": "markdown",
      "metadata": {
        "id": "SDQDMbctLtiv"
      },
      "source": [
        "## Author\n",
        "\n",
        "<a href=\"https://www.linkedin.com/in/joseph-s-50398b136/?utm_medium=Exinfluencer&utm_source=Exinfluencer&utm_content=000026UJ&utm_term=10006555&utm_id=NA-SkillsNetwork-Channel-SkillsNetworkCoursesIBMDeveloperSkillsNetworkPY0101ENSkillsNetwork19487395-2021-01-01\" target=\"_blank\">Joseph Santarcangelo</a>\n",
        "\n",
        "## Other contributors\n",
        "\n",
        "<a href=\"https://www.linkedin.com/in/jiahui-mavis-zhou-a4537814a?utm_medium=Exinfluencer&utm_source=Exinfluencer&utm_content=000026UJ&utm_term=10006555&utm_id=NA-SkillsNetwork-Channel-SkillsNetworkCoursesIBMDeveloperSkillsNetworkPY0101ENSkillsNetwork19487395-2021-01-01\">Mavis Zhou</a>\n",
        "\n",
        "## Change Log\n",
        "\n",
        "| Date (YYYY-MM-DD) | Version | Changed By | Change Description                                          |\n",
        "| ----------------- | ------- | ---------- | ----------------------------------------------------------- |\n",
        "| 2021-01-05        | 2.2     | Malika     | Updated the solution for dot multiplication                 |\n",
        "| 2020-09-09        | 2.1     | Malika     | Updated the screenshot for first two rows of the 3rd column |\n",
        "| 2020-08-26        | 2.0     | Lavanya    | Moved lab to course repo in GitLab                          |\n",
        "|                   |         |            |                                                             |\n",
        "|                   |         |            |                                                             |\n",
        "\n",
        "<hr/>\n",
        "\n",
        "## <h3 align=\"center\"> © IBM Corporation 2020. All rights reserved. <h3/>\n"
      ]
    }
  ],
  "metadata": {
    "colab": {
      "name": "PY0101EN_5_2_Numpy2D-edited-2.ipynb",
      "provenance": [],
      "include_colab_link": true
    },
    "kernelspec": {
      "display_name": "Python",
      "language": "python",
      "name": "conda-env-python-py"
    },
    "language_info": {
      "codemirror_mode": {
        "name": "ipython",
        "version": 3
      },
      "file_extension": ".py",
      "mimetype": "text/x-python",
      "name": "python",
      "nbconvert_exporter": "python",
      "pygments_lexer": "ipython3",
      "version": "3.7.12"
    }
  },
  "nbformat": 4,
  "nbformat_minor": 0
}