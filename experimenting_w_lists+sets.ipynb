{
  "nbformat": 4,
  "nbformat_minor": 0,
  "metadata": {
    "colab": {
      "name": "experimenting w/ lists+sets.ipynb",
      "provenance": [],
      "collapsed_sections": [],
      "authorship_tag": "ABX9TyPVvsZ8Hf4Ljc9s8uyOiZBL",
      "include_colab_link": true
    },
    "kernelspec": {
      "name": "python3",
      "display_name": "Python 3"
    },
    "language_info": {
      "name": "python"
    }
  },
  "cells": [
    {
      "cell_type": "markdown",
      "metadata": {
        "id": "view-in-github",
        "colab_type": "text"
      },
      "source": [
        "<a href=\"https://colab.research.google.com/github/GrayWrld7/testrepo/blob/master/experimenting_w_lists%2Bsets.ipynb\" target=\"_parent\"><img src=\"https://colab.research.google.com/assets/colab-badge.svg\" alt=\"Open In Colab\"/></a>"
      ]
    },
    {
      "cell_type": "code",
      "metadata": {
        "colab": {
          "base_uri": "https://localhost:8080/"
        },
        "id": "0jsWNnHSiRos",
        "outputId": "2a3d47bb-18d5-4415-d9bf-89254c8bbcac"
      },
      "source": [
        "LoLlist = [\"Testosrox\", \"Reizuki\", \"Evil Karabasan\", \"Lil Victim\", \"Bob The Ross\", \"Testosrox\", \"Reizuki,\" \"Lil Victim\", \"Evil Karabasan\", \"mpuig4\"]\n",
        "print(LoLlist)\n",
        "print(len(LoLlist))\n",
        "LoLset = set(LoLlist)\n",
        "print(LoLset)\n",
        "print(len(LoLset))"
      ],
      "execution_count": 40,
      "outputs": [
        {
          "output_type": "stream",
          "name": "stdout",
          "text": [
            "['Testosrox', 'Reizuki', 'Evil Karabasan', 'Lil Victim', 'Bob The Ross', 'Testosrox', 'Reizuki,Lil Victim', 'Evil Karabasan', 'mpuig4']\n",
            "9\n",
            "{'Testosrox', 'Evil Karabasan', 'Reizuki', 'Reizuki,Lil Victim', 'Lil Victim', 'mpuig4', 'Bob The Ross'}\n",
            "7\n"
          ]
        }
      ]
    },
    {
      "cell_type": "code",
      "metadata": {
        "colab": {
          "base_uri": "https://localhost:8080/"
        },
        "id": "_4Vy_8Vjt8Jg",
        "outputId": "da376b45-e446-4d15-f3d7-dc41e008e6c1"
      },
      "source": [
        "LoLlist=\"Reizuki,\" \"Lil Victim\".split(',\"')\n",
        "LoLlist"
      ],
      "execution_count": 18,
      "outputs": [
        {
          "output_type": "execute_result",
          "data": {
            "text/plain": [
              "['Reizuki,Lil Victim']"
            ]
          },
          "metadata": {},
          "execution_count": 18
        }
      ]
    },
    {
      "cell_type": "code",
      "metadata": {
        "colab": {
          "base_uri": "https://localhost:8080/"
        },
        "id": "F_022jLuu4Qv",
        "outputId": "67539487-a758-40f6-da14-6cb700d6fdee"
      },
      "source": [
        "'Reizuki,Lil Victim'.split(\",\")"
      ],
      "execution_count": 21,
      "outputs": [
        {
          "output_type": "execute_result",
          "data": {
            "text/plain": [
              "['Reizuki', 'Lil Victim']"
            ]
          },
          "metadata": {},
          "execution_count": 21
        }
      ]
    },
    {
      "cell_type": "code",
      "metadata": {
        "colab": {
          "base_uri": "https://localhost:8080/"
        },
        "id": "VO-CzIsivNFs",
        "outputId": "ed92aa00-0456-4468-dddd-6c03a13bc439"
      },
      "source": [
        "print(LoLlist)\n",
        "print(LoLlist[6])\n",
        "print(LoLlist.index(\"Reizuki\"))\n",
        "print(len(LoLlist))"
      ],
      "execution_count": 63,
      "outputs": [
        {
          "output_type": "stream",
          "name": "stdout",
          "text": [
            "['Testosrox', 'Reizuki', 'Evil Karabasan', 'Lil Victim', 'Bob The Ross', 'Testosrox', 'Evil Karabasan', 'mpuig4', 'Testosrox', 'Reizuki', 'Evil Karabasan', 'Lil Victim', 'Bob The Ross', 'Testosrox', 'Evil Karabasan', 'mpuig4']\n",
            "Evil Karabasan\n",
            "1\n",
            "16\n"
          ]
        }
      ]
    },
    {
      "cell_type": "code",
      "metadata": {
        "colab": {
          "base_uri": "https://localhost:8080/"
        },
        "id": "4RnsVnOd0gc2",
        "outputId": "b6260d19-7fcb-410c-a82f-bda310ce7750"
      },
      "source": [
        "type(LoLlist)\n",
        "LoLset = set(LoLlist)\n",
        "LoLset"
      ],
      "execution_count": 66,
      "outputs": [
        {
          "output_type": "execute_result",
          "data": {
            "text/plain": [
              "{'Bob The Ross',\n",
              " 'Evil Karabasan',\n",
              " 'Lil Victim',\n",
              " 'Reizuki',\n",
              " 'Testosrox',\n",
              " 'mpuig4'}"
            ]
          },
          "metadata": {},
          "execution_count": 66
        }
      ]
    },
    {
      "cell_type": "code",
      "metadata": {
        "id": "GfN8JTdX3x7n"
      },
      "source": [
        ""
      ],
      "execution_count": null,
      "outputs": []
    },
    {
      "cell_type": "code",
      "metadata": {
        "colab": {
          "base_uri": "https://localhost:8080/"
        },
        "id": "akyijRY4jKte",
        "outputId": "0298acbc-ca20-4e62-858e-bf28144b52e6"
      },
      "source": [
        "LoLset.add('Erdnussapfel')\n",
        "LoLset"
      ],
      "execution_count": 68,
      "outputs": [
        {
          "output_type": "execute_result",
          "data": {
            "text/plain": [
              "{'Bob The Ross',\n",
              " 'Erdnussapfel',\n",
              " 'Evil Karabasan',\n",
              " 'Lil Victim',\n",
              " 'Reizuki',\n",
              " 'Testosrox',\n",
              " 'mpuig4'}"
            ]
          },
          "metadata": {},
          "execution_count": 68
        }
      ]
    },
    {
      "cell_type": "code",
      "metadata": {
        "colab": {
          "base_uri": "https://localhost:8080/"
        },
        "id": "_IDABeYRr-Hi",
        "outputId": "69667992-8b26-4448-a96a-83b4724d051f"
      },
      "source": [
        "LoLlistCopy = LoLlist[:]\n",
        "LoLlistCopy"
      ],
      "execution_count": 69,
      "outputs": [
        {
          "output_type": "execute_result",
          "data": {
            "text/plain": [
              "['Testosrox',\n",
              " 'Reizuki',\n",
              " 'Evil Karabasan',\n",
              " 'Lil Victim',\n",
              " 'Bob The Ross',\n",
              " 'Testosrox',\n",
              " 'Evil Karabasan',\n",
              " 'mpuig4',\n",
              " 'Testosrox',\n",
              " 'Reizuki',\n",
              " 'Evil Karabasan',\n",
              " 'Lil Victim',\n",
              " 'Bob The Ross',\n",
              " 'Testosrox',\n",
              " 'Evil Karabasan',\n",
              " 'mpuig4']"
            ]
          },
          "metadata": {},
          "execution_count": 69
        }
      ]
    },
    {
      "cell_type": "code",
      "metadata": {
        "colab": {
          "base_uri": "https://localhost:8080/",
          "height": 36
        },
        "id": "eHc554HZsl2V",
        "outputId": "f938a210-b377-42a0-fcb4-a20423421a9a"
      },
      "source": [
        "LoLlist[7]"
      ],
      "execution_count": 75,
      "outputs": [
        {
          "output_type": "execute_result",
          "data": {
            "application/vnd.google.colaboratory.intrinsic+json": {
              "type": "string"
            },
            "text/plain": [
              "'mpuig4'"
            ]
          },
          "metadata": {},
          "execution_count": 75
        }
      ]
    },
    {
      "cell_type": "code",
      "metadata": {
        "colab": {
          "base_uri": "https://localhost:8080/"
        },
        "id": "CtKCbJmE4URn",
        "outputId": "311265a6-1da1-4c6e-df81-7a2a208771c6"
      },
      "source": [
        "#print(LoLlist.index(\"Evil Karabasan\"))\n",
        "print(LoLlist[5])\n",
        "#del(LoLlist[8])\n",
        "print(LoLlist)"
      ],
      "execution_count": 97,
      "outputs": [
        {
          "output_type": "stream",
          "name": "stdout",
          "text": [
            "Testosrox\n",
            "['Testosrox', 'Reizuki', 'Lil Victim', 'Bob The Ross', 'Testosrox', 'Testosrox', 'Reizuki', 'Testosrox']\n"
          ]
        }
      ]
    },
    {
      "cell_type": "code",
      "metadata": {
        "colab": {
          "base_uri": "https://localhost:8080/",
          "height": 36
        },
        "id": "tGwy4H2U40Bs",
        "outputId": "bb979929-9058-400f-f5fd-0de7307f3401"
      },
      "source": [
        "LoLlist[5]"
      ],
      "execution_count": 85,
      "outputs": [
        {
          "output_type": "execute_result",
          "data": {
            "application/vnd.google.colaboratory.intrinsic+json": {
              "type": "string"
            },
            "text/plain": [
              "'Evil Karabasan'"
            ]
          },
          "metadata": {},
          "execution_count": 85
        }
      ]
    },
    {
      "cell_type": "code",
      "metadata": {
        "colab": {
          "base_uri": "https://localhost:8080/"
        },
        "id": "CmeJyBVW753T",
        "outputId": "be53a05e-f2bc-43d3-c30c-dceb0cae5112"
      },
      "source": [
        "LoLset"
      ],
      "execution_count": 99,
      "outputs": [
        {
          "output_type": "execute_result",
          "data": {
            "text/plain": [
              "{'Bob The Ross',\n",
              " 'Erdnussapfel',\n",
              " 'Evil Karabasan',\n",
              " 'Lil Victim',\n",
              " 'Reizuki',\n",
              " 'Testosrox',\n",
              " 'mpuig4'}"
            ]
          },
          "metadata": {},
          "execution_count": 99
        }
      ]
    },
    {
      "cell_type": "code",
      "metadata": {
        "colab": {
          "base_uri": "https://localhost:8080/"
        },
        "id": "HdlGK9pu-VqE",
        "outputId": "daee8d77-d43f-41c7-dd83-dc854b27c26f"
      },
      "source": [
        "LoLlist"
      ],
      "execution_count": 100,
      "outputs": [
        {
          "output_type": "execute_result",
          "data": {
            "text/plain": [
              "['Testosrox',\n",
              " 'Reizuki',\n",
              " 'Lil Victim',\n",
              " 'Bob The Ross',\n",
              " 'Testosrox',\n",
              " 'Testosrox',\n",
              " 'Reizuki',\n",
              " 'Testosrox']"
            ]
          },
          "metadata": {},
          "execution_count": 100
        }
      ]
    },
    {
      "cell_type": "code",
      "metadata": {
        "colab": {
          "base_uri": "https://localhost:8080/"
        },
        "id": "zTA837HQ-_E6",
        "outputId": "d0e40b6a-fbf1-4012-c6c9-a1f717d0bd31"
      },
      "source": [
        "Lolset2= LoLlist\n",
        "Lolset2"
      ],
      "execution_count": 101,
      "outputs": [
        {
          "output_type": "execute_result",
          "data": {
            "text/plain": [
              "['Testosrox',\n",
              " 'Reizuki',\n",
              " 'Lil Victim',\n",
              " 'Bob The Ross',\n",
              " 'Testosrox',\n",
              " 'Testosrox',\n",
              " 'Reizuki',\n",
              " 'Testosrox']"
            ]
          },
          "metadata": {},
          "execution_count": 101
        }
      ]
    },
    {
      "cell_type": "code",
      "metadata": {
        "colab": {
          "base_uri": "https://localhost:8080/"
        },
        "id": "fX9_gLre_Ftd",
        "outputId": "510d4aaa-bd66-4179-a1ce-837942c8682b"
      },
      "source": [
        "type(set(Lolset2))"
      ],
      "execution_count": 102,
      "outputs": [
        {
          "output_type": "execute_result",
          "data": {
            "text/plain": [
              "set"
            ]
          },
          "metadata": {},
          "execution_count": 102
        }
      ]
    },
    {
      "cell_type": "code",
      "metadata": {
        "colab": {
          "base_uri": "https://localhost:8080/"
        },
        "id": "2__jO9kD_Np6",
        "outputId": "731caa84-7a6b-4f6a-c347-e05be7b51b01"
      },
      "source": [
        "Lolset2"
      ],
      "execution_count": 103,
      "outputs": [
        {
          "output_type": "execute_result",
          "data": {
            "text/plain": [
              "['Testosrox',\n",
              " 'Reizuki',\n",
              " 'Lil Victim',\n",
              " 'Bob The Ross',\n",
              " 'Testosrox',\n",
              " 'Testosrox',\n",
              " 'Reizuki',\n",
              " 'Testosrox']"
            ]
          },
          "metadata": {},
          "execution_count": 103
        }
      ]
    },
    {
      "cell_type": "code",
      "metadata": {
        "colab": {
          "base_uri": "https://localhost:8080/"
        },
        "id": "lff3Evz1_Pi-",
        "outputId": "fc4075f6-2da9-4f31-efe3-6954eb23d598"
      },
      "source": [
        "type(Lolset2)"
      ],
      "execution_count": 104,
      "outputs": [
        {
          "output_type": "execute_result",
          "data": {
            "text/plain": [
              "list"
            ]
          },
          "metadata": {},
          "execution_count": 104
        }
      ]
    },
    {
      "cell_type": "code",
      "metadata": {
        "colab": {
          "base_uri": "https://localhost:8080/"
        },
        "id": "DqZLGGJb_Uce",
        "outputId": "bbb61103-4338-429b-87c0-6426364a87eb"
      },
      "source": [
        "Lolset2 = set(Lolset2)\n",
        "Lolset2"
      ],
      "execution_count": 106,
      "outputs": [
        {
          "output_type": "execute_result",
          "data": {
            "text/plain": [
              "{'Bob The Ross', 'Lil Victim', 'Reizuki', 'Testosrox'}"
            ]
          },
          "metadata": {},
          "execution_count": 106
        }
      ]
    },
    {
      "cell_type": "code",
      "metadata": {
        "colab": {
          "base_uri": "https://localhost:8080/"
        },
        "id": "NKzp221C_Z1N",
        "outputId": "26792b69-f82e-4b22-cfbe-08a839ef53ba"
      },
      "source": [
        "type(Lolset2)"
      ],
      "execution_count": 107,
      "outputs": [
        {
          "output_type": "execute_result",
          "data": {
            "text/plain": [
              "set"
            ]
          },
          "metadata": {},
          "execution_count": 107
        }
      ]
    },
    {
      "cell_type": "code",
      "metadata": {
        "colab": {
          "base_uri": "https://localhost:8080/"
        },
        "id": "uxNDC5wq_dgf",
        "outputId": "4b72d3c8-2512-4c91-fdfc-bb047fe49a1a"
      },
      "source": [
        "print(LoLset)\n",
        "print(Lolset2)"
      ],
      "execution_count": 108,
      "outputs": [
        {
          "output_type": "stream",
          "name": "stdout",
          "text": [
            "{'Testosrox', 'Evil Karabasan', 'Reizuki', 'Lil Victim', 'mpuig4', 'Bob The Ross', 'Erdnussapfel'}\n",
            "{'Lil Victim', 'Reizuki', 'Bob The Ross', 'Testosrox'}\n"
          ]
        }
      ]
    },
    {
      "cell_type": "code",
      "metadata": {
        "colab": {
          "base_uri": "https://localhost:8080/"
        },
        "id": "sop1acCd_hlQ",
        "outputId": "bf1fc7bf-b543-48fb-ba86-d152599e2358"
      },
      "source": [
        "LoLset.difference(Lolset2)"
      ],
      "execution_count": 109,
      "outputs": [
        {
          "output_type": "execute_result",
          "data": {
            "text/plain": [
              "{'Erdnussapfel', 'Evil Karabasan', 'mpuig4'}"
            ]
          },
          "metadata": {},
          "execution_count": 109
        }
      ]
    },
    {
      "cell_type": "code",
      "metadata": {
        "colab": {
          "base_uri": "https://localhost:8080/"
        },
        "id": "e64QF-6Q_l9u",
        "outputId": "a24848c5-9196-4339-ad57-ca3cc386383a"
      },
      "source": [
        "Lolset2.add(\"mpuig4\")\n",
        "Lolset2"
      ],
      "execution_count": 110,
      "outputs": [
        {
          "output_type": "execute_result",
          "data": {
            "text/plain": [
              "{'Bob The Ross', 'Lil Victim', 'Reizuki', 'Testosrox', 'mpuig4'}"
            ]
          },
          "metadata": {},
          "execution_count": 110
        }
      ]
    },
    {
      "cell_type": "code",
      "metadata": {
        "colab": {
          "base_uri": "https://localhost:8080/"
        },
        "id": "l0T9GhZC_1DL",
        "outputId": "8b67e547-cd29-496f-9577-88d4425a1e14"
      },
      "source": [
        "LoLset.difference(Lolset2)"
      ],
      "execution_count": 112,
      "outputs": [
        {
          "output_type": "execute_result",
          "data": {
            "text/plain": [
              "{'Erdnussapfel', 'Evil Karabasan'}"
            ]
          },
          "metadata": {},
          "execution_count": 112
        }
      ]
    },
    {
      "cell_type": "code",
      "metadata": {
        "colab": {
          "base_uri": "https://localhost:8080/"
        },
        "id": "2U-WZ2lz_3pz",
        "outputId": "583a4704-45d1-4cd9-fd77-b0fe60649a08"
      },
      "source": [
        "Lolset2.difference(LoLset)"
      ],
      "execution_count": 113,
      "outputs": [
        {
          "output_type": "execute_result",
          "data": {
            "text/plain": [
              "set()"
            ]
          },
          "metadata": {},
          "execution_count": 113
        }
      ]
    },
    {
      "cell_type": "code",
      "metadata": {
        "colab": {
          "base_uri": "https://localhost:8080/"
        },
        "id": "uP9oLcZqAH0l",
        "outputId": "76fb463f-a409-475c-94a1-09420abeda89"
      },
      "source": [
        "Lolset2.intersection(LoLset)"
      ],
      "execution_count": 114,
      "outputs": [
        {
          "output_type": "execute_result",
          "data": {
            "text/plain": [
              "{'Bob The Ross', 'Lil Victim', 'Reizuki', 'Testosrox', 'mpuig4'}"
            ]
          },
          "metadata": {},
          "execution_count": 114
        }
      ]
    },
    {
      "cell_type": "code",
      "metadata": {
        "colab": {
          "base_uri": "https://localhost:8080/"
        },
        "id": "FtRJVeavALag",
        "outputId": "0cb9084d-74d6-4747-9df0-bdd61917f292"
      },
      "source": [
        "LoLset.intersection(Lolset2)"
      ],
      "execution_count": 115,
      "outputs": [
        {
          "output_type": "execute_result",
          "data": {
            "text/plain": [
              "{'Bob The Ross', 'Lil Victim', 'Reizuki', 'Testosrox', 'mpuig4'}"
            ]
          },
          "metadata": {},
          "execution_count": 115
        }
      ]
    },
    {
      "cell_type": "code",
      "metadata": {
        "colab": {
          "base_uri": "https://localhost:8080/"
        },
        "id": "0STiyyoCAcaA",
        "outputId": "d519c60c-396b-4243-9d7f-2a42cadb74ab"
      },
      "source": [
        "Lolset2.remove(\"Lil Victim\")\n",
        "Lolset2"
      ],
      "execution_count": 116,
      "outputs": [
        {
          "output_type": "execute_result",
          "data": {
            "text/plain": [
              "{'Bob The Ross', 'Reizuki', 'Testosrox', 'mpuig4'}"
            ]
          },
          "metadata": {},
          "execution_count": 116
        }
      ]
    },
    {
      "cell_type": "code",
      "metadata": {
        "colab": {
          "base_uri": "https://localhost:8080/"
        },
        "id": "zNCfdmewAq_D",
        "outputId": "87c5bd26-eee7-4558-d29a-b24d3eeb1286"
      },
      "source": [
        "print(\"Lolset2:\", len(Lolset2))\n",
        "print(\"Lolset:\", len(LoLset))"
      ],
      "execution_count": 118,
      "outputs": [
        {
          "output_type": "stream",
          "name": "stdout",
          "text": [
            "Lolset2: 4\n",
            "Lolset: 7\n"
          ]
        }
      ]
    },
    {
      "cell_type": "code",
      "metadata": {
        "colab": {
          "base_uri": "https://localhost:8080/"
        },
        "id": "xtoL2JedAvml",
        "outputId": "9261d130-dca0-4dbf-e8e8-75974bb7115e"
      },
      "source": [
        "Lolset2.issubset(LoLset)"
      ],
      "execution_count": 119,
      "outputs": [
        {
          "output_type": "execute_result",
          "data": {
            "text/plain": [
              "True"
            ]
          },
          "metadata": {},
          "execution_count": 119
        }
      ]
    },
    {
      "cell_type": "code",
      "metadata": {
        "colab": {
          "base_uri": "https://localhost:8080/"
        },
        "id": "wvML5ZMlA8p4",
        "outputId": "e08ffabd-d5ae-467c-d108-47b0fd75ab7d"
      },
      "source": [
        "Lolset2.issuperset(LoLset)"
      ],
      "execution_count": 121,
      "outputs": [
        {
          "output_type": "execute_result",
          "data": {
            "text/plain": [
              "False"
            ]
          },
          "metadata": {},
          "execution_count": 121
        }
      ]
    },
    {
      "cell_type": "code",
      "metadata": {
        "colab": {
          "base_uri": "https://localhost:8080/"
        },
        "id": "FjPCLFtCBAeL",
        "outputId": "cf26269b-589d-411e-bcfc-58841d05867f"
      },
      "source": [
        "LoLset.issubset(Lolset2)"
      ],
      "execution_count": 122,
      "outputs": [
        {
          "output_type": "execute_result",
          "data": {
            "text/plain": [
              "False"
            ]
          },
          "metadata": {},
          "execution_count": 122
        }
      ]
    },
    {
      "cell_type": "code",
      "metadata": {
        "colab": {
          "base_uri": "https://localhost:8080/"
        },
        "id": "uYXZwDQVBG_F",
        "outputId": "4ac4ffa1-abdf-4be4-a633-3b31e76f8920"
      },
      "source": [
        "LoLset.issuperset(Lolset2)"
      ],
      "execution_count": 123,
      "outputs": [
        {
          "output_type": "execute_result",
          "data": {
            "text/plain": [
              "True"
            ]
          },
          "metadata": {},
          "execution_count": 123
        }
      ]
    },
    {
      "cell_type": "code",
      "metadata": {
        "colab": {
          "base_uri": "https://localhost:8080/"
        },
        "id": "sXAUTUBJBJz9",
        "outputId": "b693119f-3286-4f41-b811-b0580451c54e"
      },
      "source": [
        "Lolset2.difference(LoLset)"
      ],
      "execution_count": 124,
      "outputs": [
        {
          "output_type": "execute_result",
          "data": {
            "text/plain": [
              "set()"
            ]
          },
          "metadata": {},
          "execution_count": 124
        }
      ]
    },
    {
      "cell_type": "code",
      "metadata": {
        "colab": {
          "base_uri": "https://localhost:8080/"
        },
        "id": "ncWqAraXFfx-",
        "outputId": "7c375113-457c-4da7-b5f0-e1fc8a85afde"
      },
      "source": [
        "Lolset2.difference(LoLlist)"
      ],
      "execution_count": 125,
      "outputs": [
        {
          "output_type": "execute_result",
          "data": {
            "text/plain": [
              "{'mpuig4'}"
            ]
          },
          "metadata": {},
          "execution_count": 125
        }
      ]
    },
    {
      "cell_type": "code",
      "metadata": {
        "colab": {
          "base_uri": "https://localhost:8080/"
        },
        "id": "Sq69kl92FiMV",
        "outputId": "1c87150e-ae25-40d9-f4a2-c1da6d562622"
      },
      "source": [
        "type(LoLlistCopy)"
      ],
      "execution_count": 126,
      "outputs": [
        {
          "output_type": "execute_result",
          "data": {
            "text/plain": [
              "list"
            ]
          },
          "metadata": {},
          "execution_count": 126
        }
      ]
    },
    {
      "cell_type": "code",
      "metadata": {
        "colab": {
          "base_uri": "https://localhost:8080/"
        },
        "id": "0PV-3VVQFlgF",
        "outputId": "0a46605a-b632-4e15-b35d-837b3e094ab2"
      },
      "source": [
        "type(LoLlist)"
      ],
      "execution_count": 127,
      "outputs": [
        {
          "output_type": "execute_result",
          "data": {
            "text/plain": [
              "list"
            ]
          },
          "metadata": {},
          "execution_count": 127
        }
      ]
    },
    {
      "cell_type": "code",
      "metadata": {
        "colab": {
          "base_uri": "https://localhost:8080/"
        },
        "id": "1zksrNZ7Fm-G",
        "outputId": "9b829683-a82a-4d03-c6ad-21894f1d04a1"
      },
      "source": [
        "print(Lolset2.issubset(LoLlist))\n",
        "print(Lolset2.issuperset(LoLlist))\n",
        "print(LoLset.issubset(LoLlist))\n",
        "print(LoLset.issuperset(LoLlist))\n",
        "print(LoLset)\n",
        "print(Lolset2)\n",
        "print(LoLlist)\n",
        "print(set(LoLlist))\n",
        "print(len(LoLset))\n",
        "print(len(LoLlist))\n",
        "print(len(Lolset2))"
      ],
      "execution_count": 140,
      "outputs": [
        {
          "output_type": "stream",
          "name": "stdout",
          "text": [
            "False\n",
            "False\n",
            "False\n",
            "True\n",
            "{'Testosrox', 'Evil Karabasan', 'Reizuki', 'Lil Victim', 'mpuig4', 'Bob The Ross', 'Erdnussapfel'}\n",
            "{'Testosrox', 'Reizuki', 'mpuig4', 'Bob The Ross'}\n",
            "['Testosrox', 'Reizuki', 'Lil Victim', 'Bob The Ross', 'Testosrox', 'Testosrox', 'Reizuki', 'Testosrox']\n",
            "{'Lil Victim', 'Reizuki', 'Bob The Ross', 'Testosrox'}\n",
            "7\n",
            "8\n",
            "4\n"
          ]
        }
      ]
    },
    {
      "cell_type": "code",
      "metadata": {
        "colab": {
          "base_uri": "https://localhost:8080/"
        },
        "id": "aPqVvU7CGOgx",
        "outputId": "948103a7-fbf4-476d-d2e1-9e049cb13082"
      },
      "source": [
        "print(Lolset2.difference(LoLset))\n",
        "print(Lolset2.difference(LoLlist))\n",
        "print(set(LoLlist).difference(Lolset2))\n",
        "print(Lolset2.intersection(LoLlist))\n",
        "print(set(LoLlist).intersection(Lolset2))"
      ],
      "execution_count": 143,
      "outputs": [
        {
          "output_type": "stream",
          "name": "stdout",
          "text": [
            "set()\n",
            "{'mpuig4'}\n",
            "{'Lil Victim'}\n",
            "{'Reizuki', 'Bob The Ross', 'Testosrox'}\n",
            "{'Reizuki', 'Bob The Ross', 'Testosrox'}\n"
          ]
        }
      ]
    },
    {
      "cell_type": "code",
      "metadata": {
        "id": "60516jOCOljS"
      },
      "source": [
        ""
      ],
      "execution_count": null,
      "outputs": []
    }
  ]
}